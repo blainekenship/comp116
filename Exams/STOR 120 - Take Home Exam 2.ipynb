{
 "cells": [
  {
   "cell_type": "markdown",
   "id": "de5da13b-fd70-4383-afc6-5195f815bb53",
   "metadata": {},
   "source": [
    "# STOR 120 Take Home Midterm 2"
   ]
  },
  {
   "cell_type": "markdown",
   "id": "a5b63587-7fc0-41ff-aee4-41b440d5cd87",
   "metadata": {},
   "source": [
    "Due: Wednesday, October 18th, at 10:10am\n",
    "\n",
    "Directions: The exam is open book, notes, course materials, and internet, BUT if you are found to be submitting the work of other students as your exam submission, an honor code violation will be reported. This could be by communication with others and the sharing of answers and code: during the exam time, with students in other sections of the course, by using the solutions to exams from previous semesters, or online answer tools such as Chegg, CourseHero, ChatGPT, etc. This is a zero tolerance policy and all suspected honor code violations will be reported. Just as with all course assignments, you should submit this exam to Gradescope as a Jupyter Notebook with the ipynb file extension. To receive full credit, you should show and run all of your code used to answer each question.\n",
    "\n",
    "**Check your file on Gradescope to ensure that it is the file that you intended to submit!**"
   ]
  },
  {
   "cell_type": "markdown",
   "id": "bdf50191-d285-4653-948d-9fd99efc428c",
   "metadata": {},
   "source": [
    "## New York City Yellow Taxi Cabs\n",
    "\n",
    "Taxicabs are the only vehicles that have the right to pick up street-hailing and prearranged passengers anywhere in New York City. Taxis painted yellow (medallion taxis) are able to pick up passengers anywhere in the five boroughs. By law, there are 13,587 taxis in New York City and each taxi must have a medallion affixed to it. Medallions are auctioned by the City and are transferrable on the open market by licensed brokers. The `TaxiNYC` table contains data from a random sample of taxi rides, with the variables listed below:\n",
    "\n",
    "Variable               | Description\n",
    "-----------------------|------------------------------------------------------------------------------\n",
    "trip_duration          | Length in seconds of the taxi ride\n",
    "distance_traveled      | Length in kilometers of the taxi ride\n",
    "num_of_passengers      | number of passengers in the taxi ride\n",
    "fare                   | base cost in dollars of the taxi ride, not including tip or other fees\n",
    "tip                    | tip in dollars of the taxi ride.\n",
    "miscellaneous_fees     | additional cost in dollars of fees in addition to the fare and tip\n",
    "total_fare             | total cost of the taxi ride, including fare, tip, and miscellaneous fees\n",
    "surge_applied          | 1 = additional charges were applied due to taxi ride during rush hour or to and from specific locations. 0 = no additional charges due to surge pricing\n"
   ]
  },
  {
   "cell_type": "code",
   "execution_count": 73,
   "id": "e0385083-6cb7-4e2f-ab95-4407ea59d22c",
   "metadata": {
    "tags": []
   },
   "outputs": [
    {
     "data": {
      "text/html": [
       "<table border=\"1\" class=\"dataframe\">\n",
       "    <thead>\n",
       "        <tr>\n",
       "            <th>trip_duration</th> <th>distance_traveled</th> <th>num_of_passengers</th> <th>fare</th> <th>tip</th> <th>miscellaneous_fees</th> <th>total_fare</th> <th>surge_applied</th>\n",
       "        </tr>\n",
       "    </thead>\n",
       "    <tbody>\n",
       "        <tr>\n",
       "            <td>509          </td> <td>3.99             </td> <td>1                </td> <td>8.78 </td> <td>1.04</td> <td>3.49              </td> <td>13.31     </td> <td>1            </td>\n",
       "        </tr>\n",
       "        <tr>\n",
       "            <td>1409         </td> <td>5.13             </td> <td>1                </td> <td>16.09</td> <td>3.9 </td> <td>3.47              </td> <td>23.46     </td> <td>1            </td>\n",
       "        </tr>\n",
       "        <tr>\n",
       "            <td>752          </td> <td>2.17             </td> <td>1                </td> <td>9.26 </td> <td>0   </td> <td>0.78              </td> <td>10.04     </td> <td>0            </td>\n",
       "        </tr>\n",
       "    </tbody>\n",
       "</table>\n",
       "<p>... (824 rows omitted)</p>"
      ],
      "text/plain": [
       "<IPython.core.display.HTML object>"
      ]
     },
     "metadata": {},
     "output_type": "display_data"
    }
   ],
   "source": [
    "# Run this cell to set up your notebook\n",
    "\n",
    "from datascience import *\n",
    "import numpy as np\n",
    "\n",
    "%matplotlib inline\n",
    "import matplotlib.pyplot as plots\n",
    "plots.style.use('fivethirtyeight')\n",
    "\n",
    "TaxiNYC = Table.read_table('https://raw.githubusercontent.com/JA-McLean/STOR120/master/data/TaxiNYC_120.csv')\n",
    "TaxiNYC.show(3)"
   ]
  },
  {
   "cell_type": "markdown",
   "id": "d52ce481-ef6c-400e-89ce-c19781f7130d",
   "metadata": {},
   "source": [
    "**Question 1.** Construct a new table named `TaxiNYC1` that contains all of the columns and rows of the `TaxiNYC` table, as well as an additional column `Nonzero_tip` which is equal to the int `1` for taxi rides with a tip above 0 dollars and the int `0` for taxi rides with no tip (a tip of 0 dollars)."
   ]
  },
  {
   "cell_type": "code",
   "execution_count": 74,
   "id": "9d9422b3-6c66-4944-9a1e-c3ab6fa26019",
   "metadata": {
    "tags": []
   },
   "outputs": [
    {
     "data": {
      "text/html": [
       "<table border=\"1\" class=\"dataframe\">\n",
       "    <thead>\n",
       "        <tr>\n",
       "            <th>trip_duration</th> <th>distance_traveled</th> <th>num_of_passengers</th> <th>fare</th> <th>tip</th> <th>miscellaneous_fees</th> <th>total_fare</th> <th>surge_applied</th> <th>Nonzero_tip</th>\n",
       "        </tr>\n",
       "    </thead>\n",
       "    <tbody>\n",
       "        <tr>\n",
       "            <td>509          </td> <td>3.99             </td> <td>1                </td> <td>8.78 </td> <td>1.04</td> <td>3.49              </td> <td>13.31     </td> <td>1            </td> <td>1          </td>\n",
       "        </tr>\n",
       "        <tr>\n",
       "            <td>1409         </td> <td>5.13             </td> <td>1                </td> <td>16.09</td> <td>3.9 </td> <td>3.47              </td> <td>23.46     </td> <td>1            </td> <td>1          </td>\n",
       "        </tr>\n",
       "        <tr>\n",
       "            <td>752          </td> <td>2.17             </td> <td>1                </td> <td>9.26 </td> <td>0   </td> <td>0.78              </td> <td>10.04     </td> <td>0            </td> <td>0          </td>\n",
       "        </tr>\n",
       "        <tr>\n",
       "            <td>135          </td> <td>0.77             </td> <td>1                </td> <td>3.9  </td> <td>0   </td> <td>1.27              </td> <td>5.17      </td> <td>0            </td> <td>0          </td>\n",
       "        </tr>\n",
       "        <tr>\n",
       "            <td>1737         </td> <td>9.38             </td> <td>1                </td> <td>23.4 </td> <td>5.46</td> <td>3.96              </td> <td>32.82     </td> <td>1            </td> <td>1          </td>\n",
       "        </tr>\n",
       "        <tr>\n",
       "            <td>1752         </td> <td>9.7              </td> <td>1                </td> <td>23.4 </td> <td>2.86</td> <td>4.5               </td> <td>30.76     </td> <td>1            </td> <td>1          </td>\n",
       "        </tr>\n",
       "        <tr>\n",
       "            <td>1205         </td> <td>11.86            </td> <td>1                </td> <td>21.45</td> <td>0   </td> <td>1.27              </td> <td>22.72     </td> <td>0            </td> <td>0          </td>\n",
       "        </tr>\n",
       "        <tr>\n",
       "            <td>39           </td> <td>0.23             </td> <td>1                </td> <td>2.44 </td> <td>0   </td> <td>1.27              </td> <td>3.71      </td> <td>0            </td> <td>0          </td>\n",
       "        </tr>\n",
       "        <tr>\n",
       "            <td>657          </td> <td>2.83             </td> <td>1                </td> <td>9.26 </td> <td>2.47</td> <td>0.83              </td> <td>12.56     </td> <td>0            </td> <td>1          </td>\n",
       "        </tr>\n",
       "        <tr>\n",
       "            <td>1117         </td> <td>4.14             </td> <td>1                </td> <td>12.68</td> <td>0   </td> <td>0.78              </td> <td>13.46     </td> <td>0            </td> <td>0          </td>\n",
       "        </tr>\n",
       "    </tbody>\n",
       "</table>\n",
       "<p>... (817 rows omitted)</p>"
      ],
      "text/plain": [
       "trip_duration | distance_traveled | num_of_passengers | fare  | tip  | miscellaneous_fees | total_fare | surge_applied | Nonzero_tip\n",
       "509           | 3.99              | 1                 | 8.78  | 1.04 | 3.49               | 13.31      | 1             | 1\n",
       "1409          | 5.13              | 1                 | 16.09 | 3.9  | 3.47               | 23.46      | 1             | 1\n",
       "752           | 2.17              | 1                 | 9.26  | 0    | 0.78               | 10.04      | 0             | 0\n",
       "135           | 0.77              | 1                 | 3.9   | 0    | 1.27               | 5.17       | 0             | 0\n",
       "1737          | 9.38              | 1                 | 23.4  | 5.46 | 3.96               | 32.82      | 1             | 1\n",
       "1752          | 9.7               | 1                 | 23.4  | 2.86 | 4.5                | 30.76      | 1             | 1\n",
       "1205          | 11.86             | 1                 | 21.45 | 0    | 1.27               | 22.72      | 0             | 0\n",
       "39            | 0.23              | 1                 | 2.44  | 0    | 1.27               | 3.71       | 0             | 0\n",
       "657           | 2.83              | 1                 | 9.26  | 2.47 | 0.83               | 12.56      | 0             | 1\n",
       "1117          | 4.14              | 1                 | 12.68 | 0    | 0.78               | 13.46      | 0             | 0\n",
       "... (817 rows omitted)"
      ]
     },
     "execution_count": 74,
     "metadata": {},
     "output_type": "execute_result"
    }
   ],
   "source": [
    "TaxiNYC1 = TaxiNYC.with_column(\n",
    "    'Nonzero_tip',\n",
    "    (TaxiNYC.column('tip') > 0)*1\n",
    ")\n",
    "\n",
    "TaxiNYC1"
   ]
  },
  {
   "cell_type": "markdown",
   "id": "7b141774-1557-428d-b9a3-19fa70793805",
   "metadata": {},
   "source": [
    "**Question 2.** Construct a new table named `TaxiNYC2` that contains all of the columns and rows of the `TaxiNYC1` table, as well as an additional column `tip_percentage`, which is equal to the *percentage* of the `fare` left as a tip for each taxi ride. The values in this column should be `float` values. \n",
    "\n",
    "*Note:* If a 15.4% tip is left for a given taxi ride, then the value for this taxi ride in this column should be 15.4"
   ]
  },
  {
   "cell_type": "code",
   "execution_count": 75,
   "id": "cfe744e6-ae78-49b8-9c7d-5cffc9d397be",
   "metadata": {
    "tags": []
   },
   "outputs": [
    {
     "data": {
      "text/html": [
       "<table border=\"1\" class=\"dataframe\">\n",
       "    <thead>\n",
       "        <tr>\n",
       "            <th>trip_duration</th> <th>distance_traveled</th> <th>num_of_passengers</th> <th>fare</th> <th>tip</th> <th>miscellaneous_fees</th> <th>total_fare</th> <th>surge_applied</th> <th>Nonzero_tip</th> <th>tip_percentage</th>\n",
       "        </tr>\n",
       "    </thead>\n",
       "    <tbody>\n",
       "        <tr>\n",
       "            <td>509          </td> <td>3.99             </td> <td>1                </td> <td>8.78 </td> <td>1.04</td> <td>3.49              </td> <td>13.31     </td> <td>1            </td> <td>1          </td> <td>11.8451       </td>\n",
       "        </tr>\n",
       "        <tr>\n",
       "            <td>1409         </td> <td>5.13             </td> <td>1                </td> <td>16.09</td> <td>3.9 </td> <td>3.47              </td> <td>23.46     </td> <td>1            </td> <td>1          </td> <td>24.2387       </td>\n",
       "        </tr>\n",
       "        <tr>\n",
       "            <td>752          </td> <td>2.17             </td> <td>1                </td> <td>9.26 </td> <td>0   </td> <td>0.78              </td> <td>10.04     </td> <td>0            </td> <td>0          </td> <td>0             </td>\n",
       "        </tr>\n",
       "        <tr>\n",
       "            <td>135          </td> <td>0.77             </td> <td>1                </td> <td>3.9  </td> <td>0   </td> <td>1.27              </td> <td>5.17      </td> <td>0            </td> <td>0          </td> <td>0             </td>\n",
       "        </tr>\n",
       "        <tr>\n",
       "            <td>1737         </td> <td>9.38             </td> <td>1                </td> <td>23.4 </td> <td>5.46</td> <td>3.96              </td> <td>32.82     </td> <td>1            </td> <td>1          </td> <td>23.3333       </td>\n",
       "        </tr>\n",
       "        <tr>\n",
       "            <td>1752         </td> <td>9.7              </td> <td>1                </td> <td>23.4 </td> <td>2.86</td> <td>4.5               </td> <td>30.76     </td> <td>1            </td> <td>1          </td> <td>12.2222       </td>\n",
       "        </tr>\n",
       "        <tr>\n",
       "            <td>1205         </td> <td>11.86            </td> <td>1                </td> <td>21.45</td> <td>0   </td> <td>1.27              </td> <td>22.72     </td> <td>0            </td> <td>0          </td> <td>0             </td>\n",
       "        </tr>\n",
       "        <tr>\n",
       "            <td>39           </td> <td>0.23             </td> <td>1                </td> <td>2.44 </td> <td>0   </td> <td>1.27              </td> <td>3.71      </td> <td>0            </td> <td>0          </td> <td>0             </td>\n",
       "        </tr>\n",
       "        <tr>\n",
       "            <td>657          </td> <td>2.83             </td> <td>1                </td> <td>9.26 </td> <td>2.47</td> <td>0.83              </td> <td>12.56     </td> <td>0            </td> <td>1          </td> <td>26.6739       </td>\n",
       "        </tr>\n",
       "        <tr>\n",
       "            <td>1117         </td> <td>4.14             </td> <td>1                </td> <td>12.68</td> <td>0   </td> <td>0.78              </td> <td>13.46     </td> <td>0            </td> <td>0          </td> <td>0             </td>\n",
       "        </tr>\n",
       "    </tbody>\n",
       "</table>\n",
       "<p>... (817 rows omitted)</p>"
      ],
      "text/plain": [
       "trip_duration | distance_traveled | num_of_passengers | fare  | tip  | miscellaneous_fees | total_fare | surge_applied | Nonzero_tip | tip_percentage\n",
       "509           | 3.99              | 1                 | 8.78  | 1.04 | 3.49               | 13.31      | 1             | 1           | 11.8451\n",
       "1409          | 5.13              | 1                 | 16.09 | 3.9  | 3.47               | 23.46      | 1             | 1           | 24.2387\n",
       "752           | 2.17              | 1                 | 9.26  | 0    | 0.78               | 10.04      | 0             | 0           | 0\n",
       "135           | 0.77              | 1                 | 3.9   | 0    | 1.27               | 5.17       | 0             | 0           | 0\n",
       "1737          | 9.38              | 1                 | 23.4  | 5.46 | 3.96               | 32.82      | 1             | 1           | 23.3333\n",
       "1752          | 9.7               | 1                 | 23.4  | 2.86 | 4.5                | 30.76      | 1             | 1           | 12.2222\n",
       "1205          | 11.86             | 1                 | 21.45 | 0    | 1.27               | 22.72      | 0             | 0           | 0\n",
       "39            | 0.23              | 1                 | 2.44  | 0    | 1.27               | 3.71       | 0             | 0           | 0\n",
       "657           | 2.83              | 1                 | 9.26  | 2.47 | 0.83               | 12.56      | 0             | 1           | 26.6739\n",
       "1117          | 4.14              | 1                 | 12.68 | 0    | 0.78               | 13.46      | 0             | 0           | 0\n",
       "... (817 rows omitted)"
      ]
     },
     "execution_count": 75,
     "metadata": {},
     "output_type": "execute_result"
    }
   ],
   "source": [
    "TaxiNYC2 = TaxiNYC1.with_column(\n",
    "    'tip_percentage',\n",
    "    TaxiNYC.column('tip') / TaxiNYC.column('fare') *100\n",
    ")\n",
    "\n",
    "TaxiNYC2"
   ]
  },
  {
   "cell_type": "markdown",
   "id": "76efc9d1-4d65-42d6-93ad-d7d8daca8494",
   "metadata": {},
   "source": [
    "**Question 3.1.** Suppose that you were to randomly choose three taxi rides from  `TaxiNYC2`, such that it is *not* possible to choose the same ride more than once. What is the probability that all of these randomly chosen rides will each have two or fewer passengers? Assign this probability to `q31_prob`.\n",
    "\n",
    "*Note:* You should calculate this exact theoretical probability and not determine the answer by running a simulation."
   ]
  },
  {
   "cell_type": "code",
   "execution_count": 76,
   "id": "8537869d-4e0b-439f-b1d7-551b0aa68770",
   "metadata": {
    "tags": []
   },
   "outputs": [
    {
     "data": {
      "text/plain": [
       "0.7820138862087502"
      ]
     },
     "execution_count": 76,
     "metadata": {},
     "output_type": "execute_result"
    }
   ],
   "source": [
    "num_few_pass = TaxiNYC2.where('num_of_passengers', are.below_or_equal_to(2)).num_rows\n",
    "q31_prob = (num_few_pass / TaxiNYC2.num_rows) * (num_few_pass / (TaxiNYC2.num_rows -1)) * (num_few_pass / (TaxiNYC2.num_rows -2))\n",
    "q31_prob"
   ]
  },
  {
   "cell_type": "markdown",
   "id": "36ba7022-a623-4ac3-8f91-357c0a34dddb",
   "metadata": {},
   "source": [
    "**Question 3.2.** Suppose that you were to randomly choose 10 taxi rides from `TaxiNYC2`, such that it is possible to choose the same ride more than once. What is the probability that at least one of the ten randomly chosen rides has no tip left?  Assign this probability to `q32_prob`.\n",
    "\n",
    "*Note:* You should calculate this exact theoretical probability and not determine the answer by running a simulation."
   ]
  },
  {
   "cell_type": "code",
   "execution_count": 77,
   "id": "09a6ad12-35ba-4845-9ac2-9ff063fd3383",
   "metadata": {
    "tags": []
   },
   "outputs": [
    {
     "data": {
      "text/plain": [
       "0.9974022740598893"
      ]
     },
     "execution_count": 77,
     "metadata": {},
     "output_type": "execute_result"
    }
   ],
   "source": [
    "num_tip = TaxiNYC2.where('Nonzero_tip', 1).num_rows\n",
    "q32_prob = 1 - (num_tip / TaxiNYC2.num_rows) ** 10\n",
    "q32_prob"
   ]
  },
  {
   "cell_type": "markdown",
   "id": "3e1e180e-acd3-458a-9cf7-63dd40b595f1",
   "metadata": {},
   "source": [
    "**Question 3.3.** Of the taxi rides from `TaxiNYC2` with only one passenger, suppose that you randomly choose five taxi rides, such that it is possible to choose the same ride more than once. What is the probability that for all five rides the fares were either 10 or more dollars in fare with at least a 10% tip percentage, or between 5-10 dollars in fare (not including 10 dollars), with at least a 15% tip percentage?  Assign this probability to `q33_prob`.\n",
    "\n",
    "*Note:* You should calculate this exact theoretical probability and not determine the answer by running a simulation."
   ]
  },
  {
   "cell_type": "code",
   "execution_count": 78,
   "id": "74b4ab23-01a9-4cbf-9365-80b096f88d06",
   "metadata": {
    "tags": []
   },
   "outputs": [
    {
     "data": {
      "text/plain": [
       "0.4949640287769784"
      ]
     },
     "execution_count": 78,
     "metadata": {},
     "output_type": "execute_result"
    }
   ],
   "source": [
    "one_pass = TaxiNYC2.where('num_of_passengers', 1)\n",
    "one_tens = one_pass.where('fare', are.above_or_equal_to(10)).where('tip_percentage', are.above_or_equal_to(10.0))\n",
    "one_fifteens = one_pass.where('fare', are.between(5, 10)).where('tip_percentage', are.above_or_equal_to(15.0))\n",
    "q33_prob = (one_tens.num_rows / one_pass.num_rows) + (one_fifteens.num_rows / one_pass.num_rows)\n",
    "q33_prob "
   ]
  },
  {
   "cell_type": "markdown",
   "id": "5c974e7c-2b46-4f30-a162-d1d42fb143de",
   "metadata": {},
   "source": [
    "**Question 4.1** Write a function named `q33_simulation`, with one argument, `sample_size`. The function should take a sample from the `TaxiNYC2` of size `sample_size`, only sampling from those taxi rides with only one passenger, such that it is possible to choose the same ride more than once. The function should return an array of two values. The first value should be the number (int or float) of taxi rides in the sample where the fare was 10 dollars or more with at least a 10% tip percentage. The second value should be the number of taxi rides in the sample where the fare was between 5-10 dollars (not including 10 dollars), with at least a 15% tip percentage. "
   ]
  },
  {
   "cell_type": "code",
   "execution_count": 79,
   "id": "987b28eb-d6c3-49fc-95fc-622ff3d71e9d",
   "metadata": {
    "tags": []
   },
   "outputs": [],
   "source": [
    "def q33_simulation(sample_size):\n",
    "    one_sample = one_pass.sample(sample_size)\n",
    "    num_one_tens = one_sample.where(\n",
    "        'fare', are.above_or_equal_to(10)).where(\n",
    "        'tip_percentage', are.above_or_equal_to(10.0)).num_rows\n",
    "    num_one_fifteens = one_sample.where(\n",
    "        'fare', are.between(5, 10)).where(\n",
    "        'tip_percentage', are.above_or_equal_to(15.0)).num_rows\n",
    "    \n",
    "    return make_array(num_one_tens, num_one_fifteens)\n",
    "    "
   ]
  },
  {
   "cell_type": "code",
   "execution_count": 80,
   "id": "a5566316-d8a7-424e-a1f9-daec1ffd6856",
   "metadata": {
    "tags": []
   },
   "outputs": [
    {
     "data": {
      "text/plain": [
       "array([295, 215], dtype=int64)"
      ]
     },
     "execution_count": 80,
     "metadata": {},
     "output_type": "execute_result"
    }
   ],
   "source": [
    "# Run this cell  \n",
    "q33_simulation(1000)"
   ]
  },
  {
   "cell_type": "markdown",
   "id": "c2210116-c846-4114-954e-917e58752b9e",
   "metadata": {},
   "source": [
    "**Question 4.2** Use the function written in question 4.1 to perform a simulation. You should take 2000 samples of `TaxiNYC2` of size five, only sampling from those taxi rides with only one passenger, such that it is possible to choose the same taxi ride more than once. For each of these simulated samples you should determine the number of taxi rides that had fares that were either 10 or more dollars in fare with at least a 10% tip percentage, or between 5-10 dollars in fare (not including 10 dollars), with at least a 15% tip percentage. Display the specified results of this simualtion in a histogram."
   ]
  },
  {
   "cell_type": "code",
   "execution_count": 81,
   "id": "92cef95a-7e0d-43a8-aadf-d95ea0792a3f",
   "metadata": {
    "tags": []
   },
   "outputs": [
    {
     "data": {
      "text/plain": [
       "array([ 3.,  2.,  3., ...,  4.,  3.,  0.])"
      ]
     },
     "execution_count": 81,
     "metadata": {},
     "output_type": "execute_result"
    }
   ],
   "source": [
    "tens_or_fifteens = make_array()\n",
    "\n",
    "for i in np.arange(2000):\n",
    "    simulated_counts = q33_simulation(5)\n",
    "    tens_or_fifteens = np.append(tens_or_fifteens, simulated_counts.item(0) + simulated_counts.item(1))\n",
    "    \n",
    "tens_or_fifteens"
   ]
  },
  {
   "cell_type": "code",
   "execution_count": 82,
   "id": "e508f02f-7e5c-43f2-8def-e1c86bd3f6e8",
   "metadata": {
    "tags": []
   },
   "outputs": [
    {
     "data": {
      "image/png": "[encoded data removed]",
      "text/plain": [
       "<Figure size 600x400 with 1 Axes>"
      ]
     },
     "metadata": {},
     "output_type": "display_data"
    }
   ],
   "source": [
    "q42 = Table().with_column(\n",
    "    'Taxi Rides with 1 Rider, 2 Possible Tip & Fare Combos',\n",
    "    tens_or_fifteens).hist()"
   ]
  },
  {
   "cell_type": "markdown",
   "id": "4c2c5acf-8a3b-43c7-8500-01cbd030ae8c",
   "metadata": {},
   "source": [
    "**Question 4.3** For what proportion of your simulated values from question 4.3, did all five taxi rides have fares were either 10 or more dollars in fare with at least a 10% tip percentage, or between 5-10 dollars in fare (not including 10 dollars), with at least a 15% tip percentage? Assign this value to `q43_prop`."
   ]
  },
  {
   "cell_type": "code",
   "execution_count": 83,
   "id": "862715e1-1e85-4633-9488-1f15363e858a",
   "metadata": {
    "tags": []
   },
   "outputs": [
    {
     "data": {
      "text/plain": [
       "0.029999999999999999"
      ]
     },
     "execution_count": 83,
     "metadata": {},
     "output_type": "execute_result"
    }
   ],
   "source": [
    "q43_prop = sum(tens_or_fifteens == 5) / len(tens_or_fifteens)\n",
    "q43_prop"
   ]
  },
  {
   "cell_type": "markdown",
   "id": "648e76a2-9629-4ea4-b872-bf9f31b141f8",
   "metadata": {},
   "source": [
    "**Question 5.** There are times when so many people are requesting rides that there aren’t enough cars on the road to help take them all. In these cases of very high demand, prices may increase. This system is called surge pricing. Does surge pricing impact the tips given for taxi rides? Conduct a hypothesis test at the 5% significance level to investigate the claim that there is a difference in the average percentage of the fare left as a tip depending on if there is surge pricing or not during the taxi ride. To receive full credit you should use A/B testing simulation methods as done in class and include all parts of the hypothesis test, including your hypotheses, a plot of the simulated values and observed value, p-value (assign this to `p_value`), and your conclusions. You should use a lower number of simulations (less than 1000) since this test may take some time to run if you do not."
   ]
  },
  {
   "cell_type": "markdown",
   "id": "240d5486-8cc5-4e62-87d4-a65aa67292ea",
   "metadata": {},
   "source": [
    "*The null hypothesis is there is no difference in the means of the tips given depending on if the surge is applied or not. The alternative is that there is a difference. Our test statistic will be the difference of means.*"
   ]
  },
  {
   "cell_type": "code",
   "execution_count": 93,
   "id": "49fa41a7-4f08-4ffc-8eef-b20028847fae",
   "metadata": {
    "tags": []
   },
   "outputs": [],
   "source": [
    "surge_means = TaxiNYC2.select('surge_applied', 'tip_percentage').group('surge_applied', np.mean)\n",
    "observed = surge_means.column(1).item(1) - surge_means.column(1).item(0)\n",
    "\n",
    "def difference_of_means(table, label, group_label):\n",
    "    reduced = table.select(label, group_label)  \n",
    "    means_table = reduced.group(group_label, np.average)\n",
    "    means = means_table.column(1)\n",
    "    \n",
    "    return means.item(1) - means.item(0)\n",
    "\n",
    "def one_simulated_difference(table, label, group_label):\n",
    "    shuffled_labels = table.sample(with_replacement = False).column(group_label)\n",
    "    shuffled_table = table.select(label).with_column('Shuffled Label', shuffled_labels)\n",
    "    \n",
    "    return difference_of_means(shuffled_table, label, 'Shuffled Label') \n",
    "\n",
    "differences = make_array()\n",
    "\n",
    "for i in np.arange(500):\n",
    "    new_diff = one_simulated_difference(TaxiNYC2, 'tip_percentage', 'surge_applied')\n",
    "    differences = np.append(differences, new_diff)\n",
    "    \n"
   ]
  },
  {
   "cell_type": "code",
   "execution_count": 94,
   "id": "3a2a0a92-a3a3-4fc7-86bf-0c2a67a284d5",
   "metadata": {
    "tags": []
   },
   "outputs": [
    {
     "data": {
      "image/png": "[encoded data removed]",
      "text/plain": [
       "<Figure size 600x400 with 1 Axes>"
      ]
     },
     "metadata": {},
     "output_type": "display_data"
    }
   ],
   "source": [
    "Table().with_column('Differences Between Means', differences).hist()\n",
    "plots.plot([observed, observed], [0, .4], color = 'red', lw=2);"
   ]
  },
  {
   "cell_type": "code",
   "execution_count": 95,
   "id": "41697a09-32ef-4142-84ac-3f0f2c62da7d",
   "metadata": {
    "tags": []
   },
   "outputs": [
    {
     "data": {
      "text/plain": [
       "0.0"
      ]
     },
     "execution_count": 95,
     "metadata": {},
     "output_type": "execute_result"
    }
   ],
   "source": [
    "p_value = sum(differences >= observed) / 500\n",
    "p_value"
   ]
  },
  {
   "cell_type": "markdown",
   "id": "78418541-c83c-4be4-b1f9-a61c753b900e",
   "metadata": {},
   "source": [
    "*The P-value is low, so we reject the null hypothesis. Therefore, there is a difference in mean tips given depending on the application of the surge.*"
   ]
  },
  {
   "cell_type": "markdown",
   "id": "6a1eb856-2e69-45fc-9f6f-1e563643a2de",
   "metadata": {},
   "source": [
    "**Question 6.** Construct a 90% confidence interval for the proportion of taxi rides where a passenger is traveling alone. To receive full credit you should use bootstrapping methods as done in class, determine the upper and lower bounds of the confidence interval (assign these values to `upper_bound` and `lower_bound`), and a plot of the bootstrapped statistics and confidence interval."
   ]
  },
  {
   "cell_type": "code",
   "execution_count": 64,
   "id": "b1be2a3a-fe7e-4a87-bfc1-5c68312b0d43",
   "metadata": {
    "tags": []
   },
   "outputs": [],
   "source": [
    "sample_prop = one_pass.num_rows / TaxiNYC2.num_rows\n",
    "\n",
    "sample_prop_array = make_array(sample_prop, 1 - sample_prop)\n",
    "\n",
    "bootstrap_alone = make_array()\n",
    "\n",
    "for i in np.arange(500):\n",
    "    new_boot = sample_proportions(100, sample_prop_array).item(0) * 100\n",
    "    bootstrap_alone = np.append(bootstrap_alone, new_boot)   \n"
   ]
  },
  {
   "cell_type": "code",
   "execution_count": 65,
   "id": "c15a2b70-3a7c-4c1d-a924-cf228ff93ba7",
   "metadata": {
    "tags": []
   },
   "outputs": [
    {
     "data": {
      "text/plain": [
       "(89.0, 78.0)"
      ]
     },
     "execution_count": 65,
     "metadata": {},
     "output_type": "execute_result"
    }
   ],
   "source": [
    "upper_bound = percentile(5, bootstrap_alone)\n",
    "lower_bound = percentile(95, bootstrap_alone)\n",
    "\n",
    "lower_bound, upper_bound"
   ]
  },
  {
   "cell_type": "code",
   "execution_count": 72,
   "id": "4bf34c53-9b9f-409d-8302-51553ed21cb9",
   "metadata": {
    "tags": []
   },
   "outputs": [
    {
     "data": {
      "image/png": "[encoded data removed]",
      "text/plain": [
       "<Figure size 600x400 with 1 Axes>"
      ]
     },
     "metadata": {},
     "output_type": "display_data"
    }
   ],
   "source": [
    "Table().with_column('Bootstrap # Alone Passengers in Taxi Rides', bootstrap_alone).hist()\n",
    "plots.plot([lower_bound, upper_bound], [0,0], color = 'gold', lw=10);\n",
    "plots.plot([sample_prop*100, sample_prop*100], [0, .12], color = 'red', lw=2);"
   ]
  },
  {
   "cell_type": "code",
   "execution_count": null,
   "id": "5103ff9b-6daa-4077-a475-9cc3afae0e90",
   "metadata": {},
   "outputs": [],
   "source": []
  }
 ],
 "metadata": {
  "kernelspec": {
   "display_name": "Python 3",
   "language": "python",
   "name": "python3"
  },
  "language_info": {
   "codemirror_mode": {
    "name": "ipython",
    "version": 3
   },
   "file_extension": ".py",
   "mimetype": "text/x-python",
   "name": "python",
   "nbconvert_exporter": "python",
   "pygments_lexer": "ipython3",
   "version": "3.11.4"
  }
 },
 "nbformat": 4,
 "nbformat_minor": 5
}
