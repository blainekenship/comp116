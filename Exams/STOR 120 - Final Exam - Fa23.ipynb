{
 "cells": [
  {
   "cell_type": "markdown",
   "id": "de5da13b-fd70-4383-afc6-5195f815bb53",
   "metadata": {},
   "source": [
    "# STOR 120 Final Exam (100 pts)"
   ]
  },
  {
   "cell_type": "markdown",
   "id": "a5b63587-7fc0-41ff-aee4-41b440d5cd87",
   "metadata": {},
   "source": [
    "Due: Thursday, December 14th, at 11:00am\n",
    "\n",
    "Directions: The final exam is open book, notes, course materials, and internet, BUT if you are found to be submitting the work of other students as your exam submission, an honor code violation will be reported. This could be by communication with others and the sharing of answers and code during the exam time, by using the solutions to exams from previous semesters, or online answer tools such as Chegg, CourseHero, ChatGPT, etc. This is a zero tolerance policy and all suspected honor code violations will be reported. Just as with all course assignments, you should submit this exam to Gradescope as a Jupyter Notebook with the ipynb file extension. To receive full credit, you should show and run all of your code used to answer each question. You can and SHOULD use or adapt functions that we have written in class or from the textbook.\n",
    "\n",
    "**Check your file on Gradescope to ensure that it is the file that you intended to submit!**"
   ]
  },
  {
   "cell_type": "markdown",
   "id": "a1abc56c-0f88-4675-a1e3-52a3d8bf36f1",
   "metadata": {},
   "source": [
    "This (old) dataset contains data on 159 automobiles. For each automobile there are values for various features represented as numerical values as well the automobile's price."
   ]
  },
  {
   "cell_type": "code",
   "execution_count": 4,
   "id": "fe6da500-9e42-4755-bc47-4c146417a048",
   "metadata": {
    "tags": []
   },
   "outputs": [
    {
     "data": {
      "text/html": [
       "<table border=\"1\" class=\"dataframe\">\n",
       "    <thead>\n",
       "        <tr>\n",
       "            <th>wheel-base</th> <th>length</th> <th>width</th> <th>height</th> <th>curb-weight</th> <th>engine-size</th> <th>bore</th> <th>stroke</th> <th>compression-ratio</th> <th>horsepower</th> <th>peak-rpm</th> <th>city-mpg</th> <th>highway-mpg</th> <th>price</th>\n",
       "        </tr>\n",
       "    </thead>\n",
       "    <tbody>\n",
       "        <tr>\n",
       "            <td>99.8      </td> <td>176.6 </td> <td>66.2 </td> <td>54.3  </td> <td>2337       </td> <td>109        </td> <td>3.19</td> <td>3.4   </td> <td>10               </td> <td>102       </td> <td>5500    </td> <td>24      </td> <td>30         </td> <td>13950</td>\n",
       "        </tr>\n",
       "        <tr>\n",
       "            <td>99.4      </td> <td>176.6 </td> <td>66.4 </td> <td>54.3  </td> <td>2824       </td> <td>136        </td> <td>3.19</td> <td>3.4   </td> <td>8                </td> <td>115       </td> <td>5500    </td> <td>18      </td> <td>22         </td> <td>17450</td>\n",
       "        </tr>\n",
       "        <tr>\n",
       "            <td>105.8     </td> <td>192.7 </td> <td>71.4 </td> <td>55.7  </td> <td>2844       </td> <td>136        </td> <td>3.19</td> <td>3.4   </td> <td>8.5              </td> <td>110       </td> <td>5500    </td> <td>19      </td> <td>25         </td> <td>17710</td>\n",
       "        </tr>\n",
       "    </tbody>\n",
       "</table>\n",
       "<p>... (156 rows omitted)</p>"
      ],
      "text/plain": [
       "<IPython.core.display.HTML object>"
      ]
     },
     "metadata": {},
     "output_type": "display_data"
    }
   ],
   "source": [
    "# Run this cell to set up your notebook\n",
    "\n",
    "from datascience import *\n",
    "import numpy as np\n",
    "\n",
    "%matplotlib inline\n",
    "import matplotlib.pyplot as plots\n",
    "plots.style.use('fivethirtyeight')\n",
    "\n",
    "from scipy import stats\n",
    "from scipy.stats import norm\n",
    "from scipy.stats import t\n",
    "\n",
    "Autos = Table.read_table('Autos.csv').drop('symboling', 'normalized-losses')\n",
    "Autos.show(3)"
   ]
  },
  {
   "cell_type": "markdown",
   "id": "3ed5bbf3-2402-48c3-8397-5bad9a0dce37",
   "metadata": {},
   "source": [
    "## 1. Exploratory Data Analysis (36 pts)"
   ]
  },
  {
   "cell_type": "markdown",
   "id": "7c2966fe-7c75-4310-b845-cfad097ceac4",
   "metadata": {},
   "source": [
    "Run the code below to add a new column to the `Autos` table named `Class` which is the value 1 if the automobile's price is greater than 10,000 dollars and 0 otherwise."
   ]
  },
  {
   "cell_type": "code",
   "execution_count": 5,
   "id": "6a4911e5-ab8a-47fe-89fa-7ebf5bd6f027",
   "metadata": {
    "tags": []
   },
   "outputs": [
    {
     "data": {
      "text/html": [
       "<table border=\"1\" class=\"dataframe\">\n",
       "    <thead>\n",
       "        <tr>\n",
       "            <th>wheel-base</th> <th>length</th> <th>width</th> <th>height</th> <th>curb-weight</th> <th>engine-size</th> <th>bore</th> <th>stroke</th> <th>compression-ratio</th> <th>horsepower</th> <th>peak-rpm</th> <th>city-mpg</th> <th>highway-mpg</th> <th>price</th> <th>Class</th>\n",
       "        </tr>\n",
       "    </thead>\n",
       "    <tbody>\n",
       "        <tr>\n",
       "            <td>99.8      </td> <td>176.6 </td> <td>66.2 </td> <td>54.3  </td> <td>2337       </td> <td>109        </td> <td>3.19</td> <td>3.4   </td> <td>10               </td> <td>102       </td> <td>5500    </td> <td>24      </td> <td>30         </td> <td>13950</td> <td>1    </td>\n",
       "        </tr>\n",
       "        <tr>\n",
       "            <td>99.4      </td> <td>176.6 </td> <td>66.4 </td> <td>54.3  </td> <td>2824       </td> <td>136        </td> <td>3.19</td> <td>3.4   </td> <td>8                </td> <td>115       </td> <td>5500    </td> <td>18      </td> <td>22         </td> <td>17450</td> <td>1    </td>\n",
       "        </tr>\n",
       "        <tr>\n",
       "            <td>105.8     </td> <td>192.7 </td> <td>71.4 </td> <td>55.7  </td> <td>2844       </td> <td>136        </td> <td>3.19</td> <td>3.4   </td> <td>8.5              </td> <td>110       </td> <td>5500    </td> <td>19      </td> <td>25         </td> <td>17710</td> <td>1    </td>\n",
       "        </tr>\n",
       "    </tbody>\n",
       "</table>\n",
       "<p>... (156 rows omitted)</p>"
      ],
      "text/plain": [
       "<IPython.core.display.HTML object>"
      ]
     },
     "metadata": {},
     "output_type": "display_data"
    }
   ],
   "source": [
    "Autos = Autos.with_column('Class', 1*(Autos.column('price') > 10000))\n",
    "Autos.show(3)"
   ]
  },
  {
   "cell_type": "markdown",
   "id": "c557de7d-0dc5-4d51-98a5-bffa9f6ddbf5",
   "metadata": {},
   "source": [
    "**Question 1.1.** Construct a new table named `means_by_price_class` with two rows. The table should report separately for automobiles in `Class` 1 and in `Class` 0, the mean values for all of the features reported in the `Autos` table. *(4 pts)*"
   ]
  },
  {
   "cell_type": "code",
   "execution_count": 6,
   "id": "92148157-b0ec-4818-8fcd-577e0658bb76",
   "metadata": {
    "tags": []
   },
   "outputs": [
    {
     "data": {
      "text/html": [
       "<table border=\"1\" class=\"dataframe\">\n",
       "    <thead>\n",
       "        <tr>\n",
       "            <th>Class</th> <th>wheel-base mean</th> <th>length mean</th> <th>width mean</th> <th>height mean</th> <th>curb-weight mean</th> <th>engine-size mean</th> <th>bore mean</th> <th>stroke mean</th> <th>compression-ratio mean</th> <th>horsepower mean</th> <th>peak-rpm mean</th> <th>city-mpg mean</th> <th>highway-mpg mean</th> <th>price mean</th>\n",
       "        </tr>\n",
       "    </thead>\n",
       "    <tbody>\n",
       "        <tr>\n",
       "            <td>0    </td> <td>95.3979        </td> <td>165.345    </td> <td>64.4415   </td> <td>53.3628    </td> <td>2148.15         </td> <td>101.894         </td> <td>3.175    </td> <td>3.22543    </td> <td>9.89053               </td> <td>77.6383        </td> <td>5159.04      </td> <td>29.9149      </td> <td>35.7447         </td> <td>7658.99   </td>\n",
       "        </tr>\n",
       "        <tr>\n",
       "            <td>1    </td> <td>102.409        </td> <td>182.637    </td> <td>67.2938   </td> <td>54.6754    </td> <td>2913.77         </td> <td>144.292         </td> <td>3.48108  </td> <td>3.25215    </td> <td>10.5525               </td> <td>122.154        </td> <td>5048.46      </td> <td>21.6154      </td> <td>26.7846         </td> <td>16921.9   </td>\n",
       "        </tr>\n",
       "    </tbody>\n",
       "</table>"
      ],
      "text/plain": [
       "Class | wheel-base mean | length mean | width mean | height mean | curb-weight mean | engine-size mean | bore mean | stroke mean | compression-ratio mean | horsepower mean | peak-rpm mean | city-mpg mean | highway-mpg mean | price mean\n",
       "0     | 95.3979         | 165.345     | 64.4415    | 53.3628     | 2148.15          | 101.894          | 3.175     | 3.22543     | 9.89053                | 77.6383         | 5159.04       | 29.9149       | 35.7447          | 7658.99\n",
       "1     | 102.409         | 182.637     | 67.2938    | 54.6754     | 2913.77          | 144.292          | 3.48108   | 3.25215     | 10.5525                | 122.154         | 5048.46       | 21.6154       | 26.7846          | 16921.9"
      ]
     },
     "execution_count": 6,
     "metadata": {},
     "output_type": "execute_result"
    }
   ],
   "source": [
    "means_by_price_class = Autos.group(\"Class\", np.mean)\n",
    "means_by_price_class"
   ]
  },
  {
   "cell_type": "markdown",
   "id": "341fe583-f843-4155-9cf8-913640b7b8c9",
   "metadata": {},
   "source": [
    "**Question 1.2.** Construct a table named `Autos_small_SU`. This table should contain the columns `horsepower`, `highway-mpg`, and `stroke` all in standard units as well as `Class` but not in standard units. *(6 pts)*"
   ]
  },
  {
   "cell_type": "code",
   "execution_count": 7,
   "id": "11b0098f-7c6a-46d7-87a5-10e6ebe2bcfa",
   "metadata": {
    "tags": []
   },
   "outputs": [
    {
     "data": {
      "text/html": [
       "<table border=\"1\" class=\"dataframe\">\n",
       "    <thead>\n",
       "        <tr>\n",
       "            <th>horsepower</th> <th>highway-mpg</th> <th>stroke</th> <th>Class</th>\n",
       "        </tr>\n",
       "    </thead>\n",
       "    <tbody>\n",
       "        <tr>\n",
       "            <td>0.201279  </td> <td>-0.323313  </td> <td>0.556703 </td> <td>1    </td>\n",
       "        </tr>\n",
       "        <tr>\n",
       "            <td>0.625812  </td> <td>-1.56577   </td> <td>0.556703 </td> <td>1    </td>\n",
       "        </tr>\n",
       "        <tr>\n",
       "            <td>0.46253   </td> <td>-1.09985   </td> <td>0.556703 </td> <td>1    </td>\n",
       "        </tr>\n",
       "        <tr>\n",
       "            <td>1.44222   </td> <td>-1.87639   </td> <td>0.556703 </td> <td>1    </td>\n",
       "        </tr>\n",
       "        <tr>\n",
       "            <td>0.168622  </td> <td>-0.47862   </td> <td>-1.4844  </td> <td>1    </td>\n",
       "        </tr>\n",
       "        <tr>\n",
       "            <td>0.168622  </td> <td>-0.47862   </td> <td>-1.4844  </td> <td>1    </td>\n",
       "        </tr>\n",
       "        <tr>\n",
       "            <td>0.821751  </td> <td>-0.633928  </td> <td>-0.157683</td> <td>1    </td>\n",
       "        </tr>\n",
       "        <tr>\n",
       "            <td>0.821751  </td> <td>-0.633928  </td> <td>-0.157683</td> <td>1    </td>\n",
       "        </tr>\n",
       "        <tr>\n",
       "            <td>-1.56217  </td> <td>3.24876    </td> <td>-0.701976</td> <td>0    </td>\n",
       "        </tr>\n",
       "        <tr>\n",
       "            <td>-0.843727 </td> <td>1.69568    </td> <td>-0.429829</td> <td>0    </td>\n",
       "        </tr>\n",
       "    </tbody>\n",
       "</table>\n",
       "<p>... (149 rows omitted)</p>"
      ],
      "text/plain": [
       "horsepower | highway-mpg | stroke    | Class\n",
       "0.201279   | -0.323313   | 0.556703  | 1\n",
       "0.625812   | -1.56577    | 0.556703  | 1\n",
       "0.46253    | -1.09985    | 0.556703  | 1\n",
       "1.44222    | -1.87639    | 0.556703  | 1\n",
       "0.168622   | -0.47862    | -1.4844   | 1\n",
       "0.168622   | -0.47862    | -1.4844   | 1\n",
       "0.821751   | -0.633928   | -0.157683 | 1\n",
       "0.821751   | -0.633928   | -0.157683 | 1\n",
       "-1.56217   | 3.24876     | -0.701976 | 0\n",
       "-0.843727  | 1.69568     | -0.429829 | 0\n",
       "... (149 rows omitted)"
      ]
     },
     "execution_count": 7,
     "metadata": {},
     "output_type": "execute_result"
    }
   ],
   "source": [
    "def standard_units(any_numbers):\n",
    "    \"Convert any array of numbers to standard units.\"\n",
    "    return (any_numbers - np.mean(any_numbers))/np.std(any_numbers)  \n",
    "\n",
    "Autos_small_SU = Table().with_columns(\n",
    "    'horsepower', standard_units(Autos.column('horsepower')),\n",
    "    'highway-mpg', standard_units(Autos.column('highway-mpg')),\n",
    "    'stroke', standard_units(Autos.column('stroke')),\n",
    "    'Class', Autos.column('Class'))\n",
    "Autos_small_SU"
   ]
  },
  {
   "cell_type": "markdown",
   "id": "442de3f9-0e2c-443a-9860-41d4f53d6077",
   "metadata": {},
   "source": [
    "**Question 1.3.** What proportion of the automobiles in the data set are in `Class` 0? Assign this value to `Class0_proportion`. *(4 pts)*"
   ]
  },
  {
   "cell_type": "code",
   "execution_count": 8,
   "id": "a13e78bf-e497-4cda-82cf-795175264992",
   "metadata": {
    "tags": []
   },
   "outputs": [
    {
     "data": {
      "text/plain": [
       "0.5911949685534591"
      ]
     },
     "execution_count": 8,
     "metadata": {},
     "output_type": "execute_result"
    }
   ],
   "source": [
    "Class0_proportion = Autos.where('Class', 0).num_rows / Autos.num_rows\n",
    "Class0_proportion"
   ]
  },
  {
   "cell_type": "markdown",
   "id": "5c442861-af36-48fe-b850-4114a843b991",
   "metadata": {},
   "source": [
    "**Question 1.4.** Now consider the automobiles with `horsepower` values that are below the mean. What proportion of these automobiles are in `Class` 0? Assign this float value to `low_horsepower_Class0_proportion`. Also find the proportion of automobiles that are `Class` 0 within the subset of automobiles with `highway-mpg` values that are at least half of a standard deviation below the mean. Assign that float value to `low_mpg_Class0_proportion`. *(10 pts)*"
   ]
  },
  {
   "cell_type": "code",
   "execution_count": 9,
   "id": "3b88689e-c8cd-443d-b527-a66219f7ddef",
   "metadata": {
    "tags": []
   },
   "outputs": [
    {
     "data": {
      "text/plain": [
       "0.8695652173913043"
      ]
     },
     "execution_count": 9,
     "metadata": {},
     "output_type": "execute_result"
    }
   ],
   "source": [
    "low_horsepower_Class0_proportion = Autos.where('horsepower', are.below(np.mean(Autos.column('horsepower')))).where('Class', 0).num_rows / Autos.where('horsepower', are.below(np.mean(Autos.column('horsepower')))).num_rows\n",
    "low_horsepower_Class0_proportion"
   ]
  },
  {
   "cell_type": "code",
   "execution_count": 10,
   "id": "c6df2d97-c429-4305-a4c8-9e3da9e76a16",
   "metadata": {
    "tags": []
   },
   "outputs": [
    {
     "data": {
      "text/plain": [
       "0.02127659574468085"
      ]
     },
     "execution_count": 10,
     "metadata": {},
     "output_type": "execute_result"
    }
   ],
   "source": [
    "low_mpg = Autos.where('highway-mpg', are.below(np.mean(Autos.column('highway-mpg')) - .5 * np.std(Autos.column('highway-mpg'))))\n",
    "low_mpg_Class0_proportion = low_mpg.where('Class', 0).num_rows / low_mpg.num_rows\n",
    "low_mpg_Class0_proportion"
   ]
  },
  {
   "cell_type": "markdown",
   "id": "451a7943-68a9-4c5c-84cc-7ed0724c4eaf",
   "metadata": {},
   "source": [
    "**Question 1.5.** Interpret your answers to Questions 1.3 and 1.4. What do they suggest regarding the relationship between the price of an automobile and its horsepower and highway mileage? *(4 pts)*"
   ]
  },
  {
   "cell_type": "markdown",
   "id": "180de191-5fa7-4855-a8cb-03c25caca30b",
   "metadata": {},
   "source": [
    "*The majority of the horsepower values are below the mean, meaning there are a few outliers with high values pulling up the mean. The highway mpg values are more on the higher end because with only 20% of the values under half a std below the mean, there isn't room for 60% to be centered around the mean, and some values must be higher. Horsepower and highway mpg are likely inversely related.*"
   ]
  },
  {
   "cell_type": "markdown",
   "id": "1b5e42bb-6a3b-47d8-b2b5-7570bd93ce28",
   "metadata": {},
   "source": [
    "**Question 1.6.** Construct a scatter plot with horsepower on the horizontal axis and price on the vertical axis. Include the best fit line in this plot. *(4 pts)*"
   ]
  },
  {
   "cell_type": "code",
   "execution_count": 11,
   "id": "41a5d8b7-2454-4205-8e75-687af03356f8",
   "metadata": {
    "tags": []
   },
   "outputs": [
    {
     "data": {
      "image/png": "[encoded data removed]",
      "text/plain": [
       "<Figure size 500x500 with 1 Axes>"
      ]
     },
     "metadata": {},
     "output_type": "display_data"
    }
   ],
   "source": [
    "Autos.scatter('horsepower', 'price', fit_line = True)"
   ]
  },
  {
   "cell_type": "markdown",
   "id": "2235aeeb-7ab8-4a46-823b-1126e2e94938",
   "metadata": {},
   "source": [
    "**Question 1.7.** Calculate the correlation coefficient between horsepower and price. Assign this value to `hp_price_corr`. *(4 pts)*"
   ]
  },
  {
   "cell_type": "code",
   "execution_count": 12,
   "id": "769f6d01-ed74-416e-b2f4-bfe2a5ca9eff",
   "metadata": {
    "tags": []
   },
   "outputs": [
    {
     "data": {
      "text/plain": [
       "0.75987394538009989"
      ]
     },
     "execution_count": 12,
     "metadata": {},
     "output_type": "execute_result"
    }
   ],
   "source": [
    "def correlation(t, x, y):\n",
    "    return np.mean(standard_units(t.column(x))*standard_units(t.column(y)))\n",
    "\n",
    "hp_price_corr = correlation(Autos, 'horsepower', 'price')\n",
    "hp_price_corr"
   ]
  },
  {
   "cell_type": "markdown",
   "id": "946599dd-bf6c-4825-87fe-2d864fa144db",
   "metadata": {},
   "source": [
    "## 2. Testing: Peak RPM and Price (28 pts)"
   ]
  },
  {
   "cell_type": "markdown",
   "id": "98d4f181-3eed-4b65-923b-c05f56f077fe",
   "metadata": {
    "tags": []
   },
   "source": [
    "**Question 2.1.** Find the difference between the mean `peak_rpm` for automobiles in `Class` 0 and the mean `peak-rpm` for automobiles in `Class` 1. Assign `observed_diff` to this difference. *(4 pts)*"
   ]
  },
  {
   "cell_type": "code",
   "execution_count": 13,
   "id": "e509accd-7b4f-4d5d-abeb-90f8b39dc576",
   "metadata": {
    "tags": []
   },
   "outputs": [
    {
     "data": {
      "text/plain": [
       "-110.58101472995168"
      ]
     },
     "execution_count": 13,
     "metadata": {},
     "output_type": "execute_result"
    }
   ],
   "source": [
    "prpm_mean = means_by_price_class.column('peak-rpm mean')\n",
    "observed_diff = prpm_mean.item(1) - prpm_mean.item(0)\n",
    "observed_diff"
   ]
  },
  {
   "cell_type": "markdown",
   "id": "46570ae4-2e08-44a0-b3c5-f56d9f732452",
   "metadata": {
    "tags": []
   },
   "source": [
    "**Question 2.2.** Using the A/B testing simulation methods from class, perform a hypothesis test at the 1% significance level to investigate whether the mean `peak_rpm` values for automobiles costing more than 10k dollars is less than the mean `peak_rpm` for automobiles costing 10k dollars or less. State your hypotheses first. Then perform the test, including supporting plots, and describe your conclusions using simple non-technical language. When performing the test, repeat your simulation **2000** times! Assign the p-value of your hypothesis test to `p_value`. *(10 pts)*"
   ]
  },
  {
   "cell_type": "markdown",
   "id": "a324a727-17cb-4823-8230-d7241e66cfd1",
   "metadata": {},
   "source": [
    "*The null hypothesis: The difference in mean `peak-rpm` values for costing more than 10k dollars and costing 10k dollars or less is 0.\n",
    "The alternative hypothesis: The difference in mean `peak-rpm` values for costing more than 10k dollars and costing 10k dollars or less is less than 0.*"
   ]
  },
  {
   "cell_type": "code",
   "execution_count": 14,
   "id": "73a20046-ebc4-487a-86ff-6a3d2006875c",
   "metadata": {
    "tags": []
   },
   "outputs": [
    {
     "data": {
      "text/plain": [
       "0.92149999999999999"
      ]
     },
     "execution_count": 14,
     "metadata": {},
     "output_type": "execute_result"
    },
    {
     "data": {
      "image/png": "[encoded data removed]",
      "text/plain": [
       "<Figure size 600x400 with 1 Axes>"
      ]
     },
     "metadata": {},
     "output_type": "display_data"
    }
   ],
   "source": [
    "def difference_of_means(table, label, group_label):\n",
    "    reduced = table.select(label, group_label)  \n",
    "    means_table = reduced.group(group_label, np.average)\n",
    "    means = means_table.column(1)\n",
    "    \n",
    "    return means.item(1) - means.item(0)\n",
    "\n",
    "def one_simulated_difference(table, label, group_label):\n",
    "    shuffled_labels = table.sample(with_replacement = False).column(group_label)\n",
    "    shuffled_table = table.select(label).with_column(\n",
    "        'Shuffled Label', shuffled_labels)\n",
    "    \n",
    "    return difference_of_means(shuffled_table, label, 'Shuffled Label')   \n",
    "\n",
    "differences = make_array()\n",
    "\n",
    "for i in np.arange(2000):\n",
    "    new_difference = one_simulated_difference(Autos, 'peak-rpm', 'Class')\n",
    "    differences = np.append(differences, new_difference)\n",
    "\n",
    "Table().with_column('Difference Between Group Means', differences).hist()\n",
    "plots.title('Prediction Under the Null Hypothesis');\n",
    "plots.plot([observed_diff, observed_diff], [0, .01], color='red', lw=2);\n",
    "\n",
    "p_value = sum(differences > observed_diff)/2000\n",
    "p_value"
   ]
  },
  {
   "cell_type": "markdown",
   "id": "9c5720b6-553d-409c-8094-a51ac64642e5",
   "metadata": {},
   "source": [
    "*The p-value is greater than 0.01, so we fail to reject the null. There is no evidence to support the difference in mean `peak-rpm` values for costing more than 10k dollars and costing 10k dollars or less is less than 0.  "
   ]
  },
  {
   "cell_type": "markdown",
   "id": "f5718270-80fa-4ab4-96fe-d01a15681167",
   "metadata": {},
   "source": [
    "**Question 2.3.** Recalculate the p-value from the previous question, but rather than using simulation methods, perform the calculation with the Normal or t-distribution (whichever is most appropriate for this situtation). You should do this with the methods performed in class. Assign this value to `p_value2`. *(8 pts)*"
   ]
  },
  {
   "cell_type": "code",
   "execution_count": 15,
   "id": "1f65eb43-9d93-4780-98d3-44853b82611d",
   "metadata": {
    "tags": []
   },
   "outputs": [
    {
     "data": {
      "text/plain": [
       "0.92917847367374085"
      ]
     },
     "execution_count": 15,
     "metadata": {},
     "output_type": "execute_result"
    }
   ],
   "source": [
    "sd_c1 = np.std(Autos.where('Class', 1).column('peak-rpm'))\n",
    "sd_c0 = np.std(Autos.where('Class', 0).column('peak-rpm'))\n",
    "\n",
    "n_c1 = Autos.where('Class', 1).num_rows\n",
    "n_c0 = Autos.where('Class', 0).num_rows\n",
    "\n",
    "sd_diff = np.sqrt(sd_c1**2 / n_c1 + sd_c0**2 / n_c0)\n",
    "t_score = observed_diff / sd_diff\n",
    "\n",
    "p_value2 = 1 - t.cdf(t_score, min(n_c1, n_c0)-1)\n",
    "p_value2"
   ]
  },
  {
   "cell_type": "markdown",
   "id": "3fdb6add-414f-491c-8f19-c00cb3532b47",
   "metadata": {},
   "source": [
    "**Question 2.4.** For the methods used to calculate the p-value in the previous question (2.3), what is the smallest magnitude of the `observed_diff` that would lead you to reject the null hypothesis at the 1% significance level? Assign this value to `min_reject_observed_diff`. *(6 pts)*"
   ]
  },
  {
   "cell_type": "code",
   "execution_count": 18,
   "id": "4b48f952-de67-40b2-bc63-06e600fb534d",
   "metadata": {},
   "outputs": [
    {
     "data": {
      "text/plain": [
       "2.587928961545842"
      ]
     },
     "execution_count": 18,
     "metadata": {},
     "output_type": "execute_result"
    }
   ],
   "source": [
    "def p_val(observed_diff):\n",
    "     return 1 - t.cdf(t_score, min(n_c1, n_c0)-1)\n",
    "\n",
    "min_reject_observed_diff = minimize(p_val)\n",
    "min_reject_observed_diff"
   ]
  },
  {
   "cell_type": "markdown",
   "id": "773ca606-5d67-45ee-929a-c55882fbbffe",
   "metadata": {},
   "source": [
    "## 3. Prediction: Horsepower vs. Price (18 pts)"
   ]
  },
  {
   "cell_type": "markdown",
   "id": "f8d1683e-97ae-4dea-80d2-c241bba54fed",
   "metadata": {},
   "source": [
    "**Question 3.1** In questions 1.6 & 1.7 you analyzed the relationship between horsepower and price. Determine the slope and the intercept for the linear regression model using `horsepower` as the predictor and `price` as the response. Assign the value of the slope of this model to `price_slope` and the intercept of this model to `price_intercept`. *(6 pts)*"
   ]
  },
  {
   "cell_type": "code",
   "execution_count": 42,
   "id": "19cb1250-46ee-41d6-9f59-7a0e6c860b2e",
   "metadata": {
    "tags": []
   },
   "outputs": [
    {
     "data": {
      "text/plain": [
       "14959.064648277945"
      ]
     },
     "execution_count": 42,
     "metadata": {},
     "output_type": "execute_result"
    }
   ],
   "source": [
    "def slope(t, label_x, label_y):\n",
    "    r = correlation(t, label_x, label_y)\n",
    "    return r*np.std(t.column(label_y))/np.std(t.column(label_x))\n",
    "\n",
    "def intercept(t, label_x, label_y):\n",
    "    return np.mean(t.column(label_y)) - slope(t, label_x, label_y)*np.mean(t.column(label_x))\n",
    "\n",
    "price_slope = slope(Autos, 'horsepower', 'price')\n",
    "price_intercept = intercept(Autos, 'horsepower', 'price')\n",
    "\n",
    "# Do not change the below code\n",
    "120 * price_slope + price_intercept"
   ]
  },
  {
   "cell_type": "markdown",
   "id": "512465c3-4fdf-4fa8-8fdd-2aa0e4261a86",
   "metadata": {},
   "source": [
    "**Question 3.2** Use the linear regression model from the previous question and simulation methods from class to construct a **70%** confidence interval for the mean price for automobiles with a horsepower of 120. Perform your simulation only **2000** times! Assign the upper and lower bounds of your confidence interval to `lower_bound` and `upper_bound`. *(12 pts)*"
   ]
  },
  {
   "cell_type": "code",
   "execution_count": 48,
   "id": "379c10d5-73ab-4058-855e-78827e2067ff",
   "metadata": {
    "tags": []
   },
   "outputs": [
    {
     "data": {
      "text/plain": [
       "(14959.064648277945, 14959.064648277945)"
      ]
     },
     "execution_count": 48,
     "metadata": {},
     "output_type": "execute_result"
    }
   ],
   "source": [
    "def prediction_at(t, x, y, x_value):\n",
    "    return slope(t, x, y) * x_value + intercept(t, x, y)\n",
    "\n",
    "price_pred = make_array()\n",
    "\n",
    "for i in np.arange(2000):\n",
    "    bootstrap = Autos.sample()\n",
    "    pred_mean = prediction_at(Autos, 'horsepower', 'price', 120)\n",
    "    price_pred = np.append(price_pred, pred_mean)\n",
    "\n",
    "lower_bound = percentile(15, price_pred)\n",
    "upper_bound = percentile(85, price_pred)\n",
    "\n",
    "# do not change the below code\n",
    "lower_bound, upper_bound"
   ]
  },
  {
   "cell_type": "markdown",
   "id": "0d7039d2-21dc-4a0d-9806-7230414a8daa",
   "metadata": {
    "tags": []
   },
   "source": [
    "## 4. Classification (18 pts)"
   ]
  },
  {
   "cell_type": "markdown",
   "id": "914790aa-c3f9-4985-9b98-2793a78f6f80",
   "metadata": {},
   "source": [
    "**Question 4.1** Construct two new tables (`Autos_train` and `Autos_test`). Use the `sample()` function to randomly assign roughly 75% of the data in `Autos_small_SU` to the training set and the remaining 25% of the data to the testing set. *(6 pts)*"
   ]
  },
  {
   "cell_type": "code",
   "execution_count": 49,
   "id": "3fb84190-ab11-46b9-b8ff-92b0c5492a4d",
   "metadata": {
    "tags": []
   },
   "outputs": [],
   "source": [
    "np.random.seed(12142023) #Do not change\n",
    "\n",
    "train_size = int(np.round(Autos_small_SU.num_rows * 0.75))\n",
    "\n",
    "shuffled_Autos_SU = Autos_small_SU.sample(with_replacement=False) \n",
    "Autos_train = shuffled_Autos_SU.take(np.arange(train_size))\n",
    "Autos_test  = shuffled_Autos_SU.take(np.arange(train_size, Autos_small_SU.num_rows))"
   ]
  },
  {
   "cell_type": "markdown",
   "id": "fd4dbe1e-7853-4a36-b6c1-0d0926809170",
   "metadata": {},
   "source": [
    "**Question 4.2** Use the training data set to classify the automobiles in your testing data set as either 1 (predicted price class to be 1) or 0 (predicted price class to be 0). To answer this question, you should implement a k-Nearest Neighbors algorithm (with k=7) with methods used during class. Then evaluate the accuracy of this classification model and assign `price_class_accuracy` to the proportion of your testing data that was correctly classified. *(4 pts)*"
   ]
  },
  {
   "cell_type": "code",
   "execution_count": 51,
   "id": "7d78ab11-9ec5-4eec-a1e0-a15947324e99",
   "metadata": {
    "tags": []
   },
   "outputs": [],
   "source": [
    "def distance(pt1, pt2):\n",
    "    \"\"\"Return the distance between two points, represented as arrays\"\"\"\n",
    "    return np.sqrt(sum((pt1 - pt2)**2))\n",
    "\n",
    "def row_distance(row1, row2):\n",
    "    \"\"\"Return the distance between two numerical rows of a table\"\"\"\n",
    "    return distance(np.array(row1), np.array(row2))\n",
    "\n",
    "def distances(training, example):\n",
    "    \"\"\"\n",
    "    Compute distance between example and every row in training.\n",
    "    Return training augmented with Distance column\n",
    "    \"\"\"\n",
    "    distances = make_array()\n",
    "    attributes_only = training.drop('Class')\n",
    "    \n",
    "    for i in np.arange(attributes_only.num_rows):\n",
    "        row = attributes_only.row(i)\n",
    "        distances = np.append(distances, row_distance(row, example))\n",
    "        \n",
    "    return training.with_column('Distance_to_ex', distances)\n",
    "\n",
    "def closest(training, example, k):\n",
    "    \"\"\"\n",
    "    Return a table of the k closest neighbors to example\n",
    "    \"\"\"\n",
    "    return distances(training, example).sort('Distance_to_ex').take(np.arange(k))\n",
    "\n",
    "def majority_class(topk):\n",
    "    \"\"\"\n",
    "    Return the class with the highest count\n",
    "    \"\"\"\n",
    "    return topk.group('Class').sort('count', descending=True).column(0).item(0)\n",
    "\n",
    "def classify(training, example, k):\n",
    "    \"\"\"\n",
    "    Return the majority class among the \n",
    "    k nearest neighbors of example\n",
    "    \"\"\"\n",
    "    return majority_class(closest(training, example, k))\n",
    "\n",
    "def evaluate_accuracy(training, test, k):\n",
    "    \"\"\"Return the proportion of correctly classified examples \n",
    "    in the test set\"\"\"\n",
    "    test_attributes = test.drop('Class')\n",
    "    num_correct = 0\n",
    "    for i in np.arange(test.num_rows):\n",
    "        c = classify(training, test_attributes.row(i), k)\n",
    "        num_correct = num_correct + (c == test.column('Class').item(i))\n",
    "    return num_correct / test.num_rows"
   ]
  },
  {
   "cell_type": "code",
   "execution_count": 53,
   "id": "80e43ea3-2c76-4b74-a4cb-38f7e46cb5d6",
   "metadata": {
    "tags": []
   },
   "outputs": [
    {
     "data": {
      "text/plain": [
       "0.875"
      ]
     },
     "execution_count": 53,
     "metadata": {},
     "output_type": "execute_result"
    }
   ],
   "source": [
    "price_class_accuracy = evaluate_accuracy(Autos_train, Autos_test, 7)\n",
    "price_class_accuracy"
   ]
  },
  {
   "cell_type": "markdown",
   "id": "ed3aca5d-d730-4811-8788-cb34d9e66f27",
   "metadata": {},
   "source": [
    "**Question 4.3** Construct a confusion matrix for this classification. Assign `confusion_matrix` to a table with two rows and two columns. The values in the first row should represent the percentage of `Class` 1 automobiles in the testing data that are classified correctly, then incorrectly (respectively). The values in the second row should represent the percentage of `Class` 0 automobiles in the testing data that are classified *incorrectly* then *correctly* (respectively). Name the columns `Class 1 Predictions` and `Class 0 Predictions` respectively and round all values to the nearest percentage. *(8 pts)*"
   ]
  },
  {
   "cell_type": "code",
   "execution_count": 56,
   "id": "0ff8a137-4927-41e2-b7bb-34f78121e3c2",
   "metadata": {
    "tags": []
   },
   "outputs": [
    {
     "data": {
      "text/html": [
       "<table border=\"1\" class=\"dataframe\">\n",
       "    <thead>\n",
       "        <tr>\n",
       "            <th>Class 1 Predictions</th> <th>Class 0 Predictions</th>\n",
       "        </tr>\n",
       "    </thead>\n",
       "    <tbody>\n",
       "        <tr>\n",
       "            <td>0.833333           </td> <td>0.0909091          </td>\n",
       "        </tr>\n",
       "        <tr>\n",
       "            <td>0.166667           </td> <td>0.909091           </td>\n",
       "        </tr>\n",
       "    </tbody>\n",
       "</table>"
      ],
      "text/plain": [
       "Class 1 Predictions | Class 0 Predictions\n",
       "0.833333            | 0.0909091\n",
       "0.166667            | 0.909091"
      ]
     },
     "execution_count": 56,
     "metadata": {},
     "output_type": "execute_result"
    }
   ],
   "source": [
    "def evaluate_accuracy_by_class(training, test, k):\n",
    "    \"\"\"Return the proportion of correctly classified examples in the test set for each class\"\"\"\n",
    "    \n",
    "    test_attributes = test.drop('Class')\n",
    "    \n",
    "    num_c0_correct = 0\n",
    "    num_c1_correct = 0\n",
    "    \n",
    "    for i in np.arange(test.num_rows):\n",
    "        c = classify(training, test_attributes.row(i), k)\n",
    "        if test.column('Class').item(i) == 0:\n",
    "            num_c0_correct = num_c0_correct + (c == test.column('Class').item(i))\n",
    "        if test.column('Class').item(i) == 1:\n",
    "            num_c1_correct = num_c1_correct + (c == test.column('Class').item(i))\n",
    "    \n",
    "    prop_c0_correct = num_c0_correct / test.where('Class', 0).num_rows\n",
    "    prop_c1_correct = num_c1_correct / test.where('Class', 1).num_rows\n",
    "    \n",
    "    return Table().with_columns(\n",
    "        'Class 1 Predictions', make_array(prop_c1_correct, 1 - prop_c1_correct), \n",
    "        'Class 0 Predictions', make_array(1 - prop_c0_correct, prop_c0_correct)\n",
    "    )\n",
    "\n",
    "confusion_matrix = evaluate_accuracy_by_class(Autos_train, Autos_test, 7)\n",
    "confusion_matrix"
   ]
  }
 ],
 "metadata": {
  "kernelspec": {
   "display_name": "Python 3",
   "language": "python",
   "name": "python3"
  },
  "language_info": {
   "codemirror_mode": {
    "name": "ipython",
    "version": 3
   },
   "file_extension": ".py",
   "mimetype": "text/x-python",
   "name": "python",
   "nbconvert_exporter": "python",
   "pygments_lexer": "ipython3",
   "version": "3.11.4"
  }
 },
 "nbformat": 4,
 "nbformat_minor": 5
}
