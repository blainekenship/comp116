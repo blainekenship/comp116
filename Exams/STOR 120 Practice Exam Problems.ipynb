{
 "cells": [
  {
   "cell_type": "markdown",
   "metadata": {},
   "source": [
    "# STOR 120: Practice Problems\n",
    "\n",
    "**Directions:** For each question you may use as many lines of code as needed, and may add cells as well. Throughout the semester we have written many functions that you can reuse for this exam. There is no need to start from scratch!\n",
    "\n",
    "Run the cell below."
   ]
  },
  {
   "cell_type": "code",
   "execution_count": 1,
   "metadata": {
    "tags": []
   },
   "outputs": [],
   "source": [
    "from datascience import *\n",
    "import numpy as np\n",
    "\n",
    "%matplotlib inline\n",
    "import matplotlib.pyplot as plots\n",
    "plots.style.use('fivethirtyeight')\n",
    "\n",
    "from scipy import stats\n",
    "from scipy.stats import norm\n",
    "from scipy.stats import t"
   ]
  },
  {
   "cell_type": "markdown",
   "metadata": {},
   "source": [
    "# Wine!\n",
    "\n",
    "(i.e. I miss living in Sonoma County...)\n",
    "\n",
    "![Kunde Winery](https://winecountry-media.s3.amazonaws.com/20605-media-Kunde-SlideshowImage-1600x800.jpg \"Kunde Winery\")\n",
    "\n",
    "You have been retained as a statistical consultant for a wine co-operative, and have been asked to analyze their data. Each row in the *wine* data set represents data on a particular wine, and the columns are the wines’ attributes. The first 11 columns of the data contain measurements for various aspects of the wine, such as its *fixed acidity* level, *density*, and percentage of *alcohol*. The *quality* variable is an expert’s ranking of the quality of the wine on a 1-10 scale, with 1 being the lowest rating, and 10 the highest. The *Class* variable has values of 1 for all wines with a quality score of 7 or higher, and 0 for quality scores below 7. The color variable has values of ‘red’ for red wines and ‘white’ for white wines.\n",
    "\n",
    "A not so random sample of wines was taken for from data discussed in the following paper:\n",
    "\n",
    "Cortez, P., Cerdeira, A., Almeida, F., Matos, T., & Reis, J. (2009). Modeling wine preferences by data mining from physicochemical properties.\n",
    "*Decision Support Systems, 47*(4), pp 547-553"
   ]
  },
  {
   "cell_type": "markdown",
   "metadata": {},
   "source": [
    "Variables              | Descriptions\n",
    "---------------------- | -----------------------------------------------------\n",
    "_fixed acidity_        | fixed or nonvolatile acids (do not evaporate readily)\n",
    "_volatile acidity_     | acetic acid (at high levels can lead to an unpleasant, vinegar taste)\n",
    "_citric acid_          | citric acid (can add ‘freshness’ and flavor to wines)\n",
    "_residual sugar_       | sugar remaining after fermentation stops\n",
    "_chlorides_            | salt in the wine\n",
    "_free sulfur dioxide_  | free form of SO2  (prevents microbial growth and the oxidation of wine)\n",
    "_total sulfur dioxide_ | free and bound forms of S02 (in higher concentrations becomes evident in the nose and taste of wine)\n",
    "_density_              | density of the wine in grams per mililiter\n",
    "_pH_                   | describes how acidic or basic a wine is on a scale from 0 (very acidic) to 14 (very basic); most wines are between 3-4 on the pH scale\n",
    "_sulphates_            | wine additive which can contribute to sulfur dioxide gas (S02) levels, which acts as an antimicrobial and antioxidant\n",
    "_alcohol_              | percentage alcohol content of the wine\n",
    "_quality_              | expert’s ranking of the quality of the wine on a 1-10 scale\n",
    "_Class_                | 1 for all wines with a quality score of 7 or higher, and 0 for quality scores below 7\n",
    "_color_                | red or white wine"
   ]
  },
  {
   "cell_type": "markdown",
   "metadata": {},
   "source": [
    "Run the cell below to load the dataset."
   ]
  },
  {
   "cell_type": "code",
   "execution_count": 2,
   "metadata": {
    "tags": []
   },
   "outputs": [
    {
     "data": {
      "text/html": [
       "<table border=\"1\" class=\"dataframe\">\n",
       "    <thead>\n",
       "        <tr>\n",
       "            <th>fixed acidity</th> <th>volatile acidity</th> <th>citric acid</th> <th>residual sugar</th> <th>chlorides</th> <th>free sulfur dioxide</th> <th>total sulfur dioxide</th> <th>density</th> <th>pH</th> <th>sulphites</th> <th>alcohol</th> <th>quality</th> <th>Class</th> <th>color</th>\n",
       "        </tr>\n",
       "    </thead>\n",
       "    <tbody>\n",
       "        <tr>\n",
       "            <td>7.4          </td> <td>0.7             </td> <td>0          </td> <td>1.9           </td> <td>0.076    </td> <td>11                 </td> <td>34                  </td> <td>0.9978 </td> <td>3.51</td> <td>0.56     </td> <td>9.4    </td> <td>5      </td> <td>0    </td> <td>white</td>\n",
       "        </tr>\n",
       "        <tr>\n",
       "            <td>7.8          </td> <td>0.88            </td> <td>0          </td> <td>2.6           </td> <td>0.098    </td> <td>25                 </td> <td>67                  </td> <td>0.9968 </td> <td>3.2 </td> <td>0.68     </td> <td>9.8    </td> <td>5      </td> <td>0    </td> <td>white</td>\n",
       "        </tr>\n",
       "        <tr>\n",
       "            <td>7.8          </td> <td>0.76            </td> <td>0.04       </td> <td>2.3           </td> <td>0.092    </td> <td>15                 </td> <td>54                  </td> <td>0.997  </td> <td>3.26</td> <td>0.65     </td> <td>9.8    </td> <td>5      </td> <td>0    </td> <td>white</td>\n",
       "        </tr>\n",
       "        <tr>\n",
       "            <td>11.2         </td> <td>0.28            </td> <td>0.56       </td> <td>1.9           </td> <td>0.075    </td> <td>17                 </td> <td>60                  </td> <td>0.998  </td> <td>3.16</td> <td>0.58     </td> <td>9.8    </td> <td>6      </td> <td>0    </td> <td>white</td>\n",
       "        </tr>\n",
       "        <tr>\n",
       "            <td>7.4          </td> <td>0.7             </td> <td>0          </td> <td>1.9           </td> <td>0.076    </td> <td>11                 </td> <td>34                  </td> <td>0.9978 </td> <td>3.51</td> <td>0.56     </td> <td>9.4    </td> <td>5      </td> <td>0    </td> <td>white</td>\n",
       "        </tr>\n",
       "        <tr>\n",
       "            <td>7.4          </td> <td>0.66            </td> <td>0          </td> <td>1.8           </td> <td>0.075    </td> <td>13                 </td> <td>40                  </td> <td>0.9978 </td> <td>3.51</td> <td>0.56     </td> <td>9.4    </td> <td>5      </td> <td>0    </td> <td>white</td>\n",
       "        </tr>\n",
       "        <tr>\n",
       "            <td>7.9          </td> <td>0.6             </td> <td>0.06       </td> <td>1.6           </td> <td>0.069    </td> <td>15                 </td> <td>59                  </td> <td>0.9964 </td> <td>3.3 </td> <td>0.46     </td> <td>9.4    </td> <td>5      </td> <td>0    </td> <td>white</td>\n",
       "        </tr>\n",
       "        <tr>\n",
       "            <td>7.3          </td> <td>0.65            </td> <td>0          </td> <td>1.2           </td> <td>0.065    </td> <td>15                 </td> <td>21                  </td> <td>0.9946 </td> <td>3.39</td> <td>0.47     </td> <td>10     </td> <td>7      </td> <td>1    </td> <td>white</td>\n",
       "        </tr>\n",
       "        <tr>\n",
       "            <td>7.8          </td> <td>0.58            </td> <td>0.02       </td> <td>2             </td> <td>0.073    </td> <td>9                  </td> <td>18                  </td> <td>0.9968 </td> <td>3.36</td> <td>0.57     </td> <td>9.5    </td> <td>7      </td> <td>1    </td> <td>white</td>\n",
       "        </tr>\n",
       "        <tr>\n",
       "            <td>7.5          </td> <td>0.5             </td> <td>0.36       </td> <td>6.1           </td> <td>0.071    </td> <td>17                 </td> <td>102                 </td> <td>0.9978 </td> <td>3.35</td> <td>0.8      </td> <td>10.5   </td> <td>5      </td> <td>0    </td> <td>white</td>\n",
       "        </tr>\n",
       "    </tbody>\n",
       "</table>\n",
       "<p>... (90 rows omitted)</p>"
      ],
      "text/plain": [
       "fixed acidity | volatile acidity | citric acid | residual sugar | chlorides | free sulfur dioxide | total sulfur dioxide | density | pH   | sulphites | alcohol | quality | Class | color\n",
       "7.4           | 0.7              | 0           | 1.9            | 0.076     | 11                  | 34                   | 0.9978  | 3.51 | 0.56      | 9.4     | 5       | 0     | white\n",
       "7.8           | 0.88             | 0           | 2.6            | 0.098     | 25                  | 67                   | 0.9968  | 3.2  | 0.68      | 9.8     | 5       | 0     | white\n",
       "7.8           | 0.76             | 0.04        | 2.3            | 0.092     | 15                  | 54                   | 0.997   | 3.26 | 0.65      | 9.8     | 5       | 0     | white\n",
       "11.2          | 0.28             | 0.56        | 1.9            | 0.075     | 17                  | 60                   | 0.998   | 3.16 | 0.58      | 9.8     | 6       | 0     | white\n",
       "7.4           | 0.7              | 0           | 1.9            | 0.076     | 11                  | 34                   | 0.9978  | 3.51 | 0.56      | 9.4     | 5       | 0     | white\n",
       "7.4           | 0.66             | 0           | 1.8            | 0.075     | 13                  | 40                   | 0.9978  | 3.51 | 0.56      | 9.4     | 5       | 0     | white\n",
       "7.9           | 0.6              | 0.06        | 1.6            | 0.069     | 15                  | 59                   | 0.9964  | 3.3  | 0.46      | 9.4     | 5       | 0     | white\n",
       "7.3           | 0.65             | 0           | 1.2            | 0.065     | 15                  | 21                   | 0.9946  | 3.39 | 0.47      | 10      | 7       | 1     | white\n",
       "7.8           | 0.58             | 0.02        | 2              | 0.073     | 9                   | 18                   | 0.9968  | 3.36 | 0.57      | 9.5     | 7       | 1     | white\n",
       "7.5           | 0.5              | 0.36        | 6.1            | 0.071     | 17                  | 102                  | 0.9978  | 3.35 | 0.8       | 10.5    | 5       | 0     | white\n",
       "... (90 rows omitted)"
      ]
     },
     "execution_count": 2,
     "metadata": {},
     "output_type": "execute_result"
    }
   ],
   "source": [
    "wine = Table.read_table('https://raw.githubusercontent.com/JA-McLean/STOR120/24d8a773175576d6a6e570989e79006f1e9abeb8/data/wine.csv')\n",
    "wine"
   ]
  },
  {
   "cell_type": "markdown",
   "metadata": {},
   "source": [
    "## Question 1\n",
    "\n",
    "As temperatures creep up across the winemaking world, many winemakers, especially in traditionally cooler climates, such as those in Oregon and Washington, are having to figure out how to keep alcohol levels in check. In Oregon in 2009, for example, cumulative growing degree day values for many areas were up 4 to 14 percent over 2008. Because alcohol is a product of fermentation, the riper the grape at the moment when yeast converts grape sugar into alcohol, the higher the wine’s alcohol level is likely to be. The data used for this final exam comes from the Minho region of Portugal, which may be experiencing similar changes in temperatures."
   ]
  },
  {
   "cell_type": "markdown",
   "metadata": {},
   "source": [
    "1. Determine the mean alcohol percentage of the wines in the data set. "
   ]
  },
  {
   "cell_type": "code",
   "execution_count": null,
   "metadata": {},
   "outputs": [],
   "source": []
  },
  {
   "cell_type": "markdown",
   "metadata": {},
   "source": [
    "2. Construct a 90% confidence interval for the mean alcohol percentage for all wines in this region at the given time. To receive full credit you should: \n",
    "   \n",
    "   * take bootstrap samples from the original sample, \n",
    "   * find your bootstrap statistic, repeat 5000 times, and \n",
    "   * determine the upper and lower bounds of the confidence interval. "
   ]
  },
  {
   "cell_type": "code",
   "execution_count": null,
   "metadata": {},
   "outputs": [],
   "source": []
  },
  {
   "cell_type": "markdown",
   "metadata": {},
   "source": [
    "3. Does this confidence interval provide evidence at the 0.05 significance level that the mean alcohol percentage for all wines in this region at the given time is greater than 9.75%? Why? "
   ]
  },
  {
   "cell_type": "markdown",
   "metadata": {},
   "source": [
    "*Write your answer to question 1.3 here, replacing this text.*"
   ]
  },
  {
   "cell_type": "markdown",
   "metadata": {},
   "source": [
    "## Question 2"
   ]
  },
  {
   "cell_type": "markdown",
   "metadata": {},
   "source": [
    "Next you will investigate the relationship between the *density* and percentage of the *alcohol* in the wine. The percentage of alcohol in the wine is dependent on the difference in the density before and after fermentation. The *density* variable in this data set is the density of the wine after fermentation."
   ]
  },
  {
   "cell_type": "markdown",
   "metadata": {},
   "source": [
    "1. Produce a scatter plot with *density* on the horizontal axis, *alcohol* on the vertical axis, and the best fit line for this relationship."
   ]
  },
  {
   "cell_type": "code",
   "execution_count": null,
   "metadata": {},
   "outputs": [],
   "source": []
  },
  {
   "cell_type": "markdown",
   "metadata": {},
   "source": [
    "2. Determine the slope and intercept for this best fit line"
   ]
  },
  {
   "cell_type": "code",
   "execution_count": null,
   "metadata": {},
   "outputs": [],
   "source": []
  },
  {
   "cell_type": "markdown",
   "metadata": {},
   "source": [
    "3. For a 0.001 change in wines' density, what does this model predict will be the change in the percentage of alcohol? You should have a numerical answer and do *not* need to construct a confidence interval."
   ]
  },
  {
   "cell_type": "code",
   "execution_count": null,
   "metadata": {},
   "outputs": [],
   "source": []
  },
  {
   "cell_type": "markdown",
   "metadata": {},
   "source": [
    "4. You constructed a model to predict *alcohol* from *density* using all wines in the data set, which included both red and white wines. A possible issue is that the relationship between   *density* and *alcohol* could be different for red and white wines. Construct a function that:\n",
    "    \n",
    "   * takes in a wine's *density* and *color* ('red' or 'white') as its arguments. \n",
    "   * if the wine is red, then the function should predict the *alcohol* percentage of the wine from a regression line constructed using **only the red** wines in the dataset. \n",
    "   * if the wine is white, then the function should predict the *alcohol* percentage of the wine from a regression line constructed using **only the white** wines in the dataset. "
   ]
  },
  {
   "cell_type": "code",
   "execution_count": null,
   "metadata": {},
   "outputs": [],
   "source": []
  },
  {
   "cell_type": "markdown",
   "metadata": {},
   "source": [
    "5. Run the function for a red wine with a density of 0.998 and then a white wine with a density of 0.998"
   ]
  },
  {
   "cell_type": "code",
   "execution_count": null,
   "metadata": {},
   "outputs": [],
   "source": []
  },
  {
   "cell_type": "markdown",
   "metadata": {},
   "source": [
    "## Question 3"
   ]
  },
  {
   "cell_type": "markdown",
   "metadata": {},
   "source": [
    "Can a wine's *fixed acidity*, *volatile acidity*, and *residual sugar* be used to predict if it will be considered high quality (*Class* = 1)? To answer this question, you should implement a k-Nearest Neighbors algorithm (with k=7) using these three variables as your features.\n",
    "\n",
    "**To receive full credit you should:**"
   ]
  },
  {
   "cell_type": "markdown",
   "metadata": {},
   "source": [
    "1. Construct a table that includes the three predictor variables in standard units and the Class for each wine"
   ]
  },
  {
   "cell_type": "code",
   "execution_count": null,
   "metadata": {},
   "outputs": [],
   "source": []
  },
  {
   "cell_type": "markdown",
   "metadata": {},
   "source": [
    "2. Randomly assign training and testing datasets, with 70% of the data in the training set."
   ]
  },
  {
   "cell_type": "code",
   "execution_count": null,
   "metadata": {},
   "outputs": [],
   "source": []
  },
  {
   "cell_type": "markdown",
   "metadata": {},
   "source": [
    "3. Use the training data to classify a wine with a *fixed acidity* of 6.6, *volatile acidity* of 0.92, and a residual sugar of 1. "
   ]
  },
  {
   "cell_type": "code",
   "execution_count": null,
   "metadata": {},
   "outputs": [],
   "source": []
  },
  {
   "cell_type": "markdown",
   "metadata": {},
   "source": [
    "4. Evaluate the accuracy of your classifier with the testing data."
   ]
  },
  {
   "cell_type": "code",
   "execution_count": null,
   "metadata": {},
   "outputs": [],
   "source": []
  },
  {
   "cell_type": "markdown",
   "metadata": {},
   "source": [
    "## Question 4"
   ]
  },
  {
   "cell_type": "markdown",
   "metadata": {},
   "source": [
    "Are red wines of higher quality than white wines? A better question might be: do experts rate red wines more highly than white wines? One expert method of rating wines involves a 1-50 point scale (which has been simplified in this dataset to a 1-10 scale). The wine gets up to 5 points on color, up to 15 on bouquet and aroma, and up to 20 points on flavor, harmony and length. The balance of 10 points are awarded to wines that have the ability to improve in the bottle. Because of that 10-point cushion, points are assigned to the overall quality but also to the potential period of time that wine can provide pleasure. White Burgundies today have a lifespan of, at most, a decade with rare exceptions. Most top red wines can last 15 years and most top Bordeaux can last 20, 25 years. \n",
    "\n",
    "Does this data suggest that the proportion of high quality red wines is greater than that of white wines? The *Class* variable can be used to denote high quality, having values of 1 for all wines with a quality score of 7 or higher, and 0 for quality scores below 7. Perform a hypothesis test (at the 0.05 significance level) to examine this claim.\n",
    "\n",
    "For the test statistic, use the proportion of red wines that are high quality (Class = 1) minus the proportion of white wines that are of high quality (Class = 1)\n",
    "\n",
    "**To receive full credit you should:**"
   ]
  },
  {
   "cell_type": "markdown",
   "metadata": {},
   "source": [
    "1. Determine the value of the observed test statistic"
   ]
  },
  {
   "cell_type": "code",
   "execution_count": null,
   "metadata": {},
   "outputs": [],
   "source": []
  },
  {
   "cell_type": "markdown",
   "metadata": {},
   "source": [
    "2. Shuffle the labels of the original sample, find your simulated test statistic, and repeat 5000 times"
   ]
  },
  {
   "cell_type": "code",
   "execution_count": null,
   "metadata": {},
   "outputs": [],
   "source": []
  },
  {
   "cell_type": "markdown",
   "metadata": {},
   "source": [
    "3. Plot your simulated statistics in a histogram (as well as the observed test statistic)"
   ]
  },
  {
   "cell_type": "code",
   "execution_count": null,
   "metadata": {},
   "outputs": [],
   "source": []
  },
  {
   "cell_type": "markdown",
   "metadata": {},
   "source": [
    "4. Calculate the p-value based off of your observed and simulated test statistics"
   ]
  },
  {
   "cell_type": "code",
   "execution_count": null,
   "metadata": {},
   "outputs": [],
   "source": []
  },
  {
   "cell_type": "markdown",
   "metadata": {},
   "source": [
    "5. Use the p-value to draw a conclusion"
   ]
  },
  {
   "cell_type": "markdown",
   "metadata": {},
   "source": []
  }
 ],
 "metadata": {
  "kernelspec": {
   "display_name": "Python 3",
   "language": "python",
   "name": "python3"
  },
  "language_info": {
   "codemirror_mode": {
    "name": "ipython",
    "version": 3
   },
   "file_extension": ".py",
   "mimetype": "text/x-python",
   "name": "python",
   "nbconvert_exporter": "python",
   "pygments_lexer": "ipython3",
   "version": "3.11.4"
  }
 },
 "nbformat": 4,
 "nbformat_minor": 4
}
