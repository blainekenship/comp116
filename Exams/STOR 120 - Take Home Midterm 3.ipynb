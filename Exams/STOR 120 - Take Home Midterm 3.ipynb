{
 "cells": [
  {
   "cell_type": "markdown",
   "id": "de5da13b-fd70-4383-afc6-5195f815bb53",
   "metadata": {},
   "source": [
    "# STOR 120 Take Home Midterm 3"
   ]
  },
  {
   "cell_type": "markdown",
   "id": "a5b63587-7fc0-41ff-aee4-41b440d5cd87",
   "metadata": {},
   "source": [
    "Due: Tuesday, November 21st, at 11:59pm\n",
    "\n",
    "Directions: The exam is open book, notes, course materials, and internet, BUT if you are found to be submitting the work of other students as your exam submission, an honor code violation will be reported. This could be by communication with others and the sharing of answers and code: during the exam time, with students in other sections of the course, by using the solutions to exams from previous semesters, or online answer tools such as Chegg, CourseHero, ChatGPT, etc. This is a zero tolerance policy and all suspected honor code violations will be reported. Just as with all course assignments, you should submit this exam to Gradescope as a Jupyter Notebook with the ipynb file extension. To receive full credit, you should show and run all of your code used to answer each question. You can and SHOULD use or adapt functions that we have written in class or from the textbook.\n",
    "\n",
    "**Check your file on Gradescope to ensure that it is the file that you intended to submit!**"
   ]
  },
  {
   "cell_type": "markdown",
   "id": "bdf50191-d285-4653-948d-9fd99efc428c",
   "metadata": {},
   "source": [
    "## Delhi Weather\n",
    "\n",
    "The `delhi` table imported below contains daily weather time series data from the city of Delhi from 2013 through 2016. This data was found on [Kaggle](https://www.kaggle.com/sumanthvrao/daily-climate-time-series-data) and was originally collected from Weather Underground API.\n",
    "\n",
    "Variable        | Description\n",
    "----------------|------------------------------------------------------------------------------\n",
    "date            | Date in format YYYY/MM/DD\n",
    "year            | Year of reading\n",
    "month           | Month of reading\n",
    "day             | Day of reading\n",
    "mean_temp       | Mean temperature averaged out from multiple 3-hour intervals in a day (Celsius)\n",
    "humidity        | Humidity value for the day (units are grams of water vapor per cubic meter volume of air)\n",
    "wind_speed      | Wind speed measured in kmph.\n",
    "mean_pressure   | Pressure reading of weather (measure in atm)\n"
   ]
  },
  {
   "cell_type": "code",
   "execution_count": 35,
   "id": "e0385083-6cb7-4e2f-ab95-4407ea59d22c",
   "metadata": {
    "tags": []
   },
   "outputs": [
    {
     "data": {
      "text/html": [
       "<table border=\"1\" class=\"dataframe\">\n",
       "    <thead>\n",
       "        <tr>\n",
       "            <th>date</th> <th>year</th> <th>month</th> <th>day</th> <th>mean_temp</th> <th>humidity</th> <th>wind_speed</th> <th>mean_pressure</th> <th>month_name</th>\n",
       "        </tr>\n",
       "    </thead>\n",
       "    <tbody>\n",
       "        <tr>\n",
       "            <td>2016-01-01</td> <td>2016</td> <td>1    </td> <td>1   </td> <td>14.7143  </td> <td>72.2857 </td> <td>1.05714   </td> <td>1021.14      </td> <td>January   </td>\n",
       "        </tr>\n",
       "        <tr>\n",
       "            <td>2016-01-02</td> <td>2016</td> <td>1    </td> <td>2   </td> <td>14       </td> <td>75.875  </td> <td>2.0875    </td> <td>1021         </td> <td>January   </td>\n",
       "        </tr>\n",
       "        <tr>\n",
       "            <td>2016-01-03</td> <td>2016</td> <td>1    </td> <td>3   </td> <td>14.375   </td> <td>74.75   </td> <td>5.1125    </td> <td>1018.5       </td> <td>January   </td>\n",
       "        </tr>\n",
       "    </tbody>\n",
       "</table>\n",
       "<p>... (1458 rows omitted)</p>"
      ],
      "text/plain": [
       "<IPython.core.display.HTML object>"
      ]
     },
     "metadata": {},
     "output_type": "display_data"
    }
   ],
   "source": [
    "# Run this cell to set up your notebook\n",
    "\n",
    "from datascience import *\n",
    "import numpy as np\n",
    "\n",
    "%matplotlib inline\n",
    "import matplotlib.pyplot as plots\n",
    "plots.style.use('fivethirtyeight')\n",
    "\n",
    "from scipy import stats\n",
    "from scipy.stats import norm\n",
    "from scipy.stats import t\n",
    "\n",
    "delhi = Table.read_table('delhi_weather.csv')\n",
    "delhi.show(3)"
   ]
  },
  {
   "cell_type": "markdown",
   "id": "3e540b92-a392-4346-86a8-622e15d7cbe7",
   "metadata": {},
   "source": [
    "**Question 1.** The [Delhi Tourism](https://www.delhitourism.gov.in/delhitourism/aboutus/seasons_of_delhi.jsp) webpage cites that autumn season in Delhi is from end-September to November. Construct a new table `delhi_autumn` that contains data from the `delhi` table for dates ranging from September 16 through the end of November. Note that the `delhi` data contains data ranging over multiple years."
   ]
  },
  {
   "cell_type": "code",
   "execution_count": 37,
   "id": "be9309b9-8b90-4ca7-84d0-1d6054d54956",
   "metadata": {
    "tags": []
   },
   "outputs": [
    {
     "data": {
      "text/html": [
       "<table border=\"1\" class=\"dataframe\">\n",
       "    <thead>\n",
       "        <tr>\n",
       "            <th>date</th> <th>year</th> <th>month</th> <th>day</th> <th>mean_temp</th> <th>humidity</th> <th>wind_speed</th> <th>mean_pressure</th> <th>month_name</th>\n",
       "        </tr>\n",
       "    </thead>\n",
       "    <tbody>\n",
       "        <tr>\n",
       "            <td>2013-09-16</td> <td>2013</td> <td>9    </td> <td>16  </td> <td>29.6667  </td> <td>60      </td> <td>7.1       </td> <td>1002.33      </td> <td>September </td>\n",
       "        </tr>\n",
       "        <tr>\n",
       "            <td>2013-09-17</td> <td>2013</td> <td>9    </td> <td>17  </td> <td>29.25    </td> <td>56.5    </td> <td>3.475     </td> <td>1002.88      </td> <td>September </td>\n",
       "        </tr>\n",
       "        <tr>\n",
       "            <td>2013-09-18</td> <td>2013</td> <td>9    </td> <td>18  </td> <td>29.1429  </td> <td>58.5714 </td> <td>5.55714   </td> <td>1003.14      </td> <td>September </td>\n",
       "        </tr>\n",
       "        <tr>\n",
       "            <td>2013-09-19</td> <td>2013</td> <td>9    </td> <td>19  </td> <td>29.8     </td> <td>61.6    </td> <td>2.96      </td> <td>1001.8       </td> <td>September </td>\n",
       "        </tr>\n",
       "        <tr>\n",
       "            <td>2013-09-20</td> <td>2013</td> <td>9    </td> <td>20  </td> <td>28.6667  </td> <td>70      </td> <td>9.58333   </td> <td>1003         </td> <td>September </td>\n",
       "        </tr>\n",
       "        <tr>\n",
       "            <td>2013-09-21</td> <td>2013</td> <td>9    </td> <td>21  </td> <td>25.2     </td> <td>89      </td> <td>5.18      </td> <td>1003         </td> <td>September </td>\n",
       "        </tr>\n",
       "        <tr>\n",
       "            <td>2013-09-22</td> <td>2013</td> <td>9    </td> <td>22  </td> <td>28.3333  </td> <td>79.6667 </td> <td>3.08333   </td> <td>1001.67      </td> <td>September </td>\n",
       "        </tr>\n",
       "        <tr>\n",
       "            <td>2013-09-23</td> <td>2013</td> <td>9    </td> <td>23  </td> <td>30.2857  </td> <td>68      </td> <td>4.5       </td> <td>1001         </td> <td>September </td>\n",
       "        </tr>\n",
       "        <tr>\n",
       "            <td>2013-09-24</td> <td>2013</td> <td>9    </td> <td>24  </td> <td>30.75    </td> <td>65.75   </td> <td>5.7875    </td> <td>1002.75      </td> <td>September </td>\n",
       "        </tr>\n",
       "        <tr>\n",
       "            <td>2013-09-25</td> <td>2013</td> <td>9    </td> <td>25  </td> <td>28.5714  </td> <td>75      </td> <td>6.61429   </td> <td>1005.43      </td> <td>September </td>\n",
       "        </tr>\n",
       "    </tbody>\n",
       "</table>\n",
       "<p>... (294 rows omitted)</p>"
      ],
      "text/plain": [
       "date       | year | month | day  | mean_temp | humidity | wind_speed | mean_pressure | month_name\n",
       "2013-09-16 | 2013 | 9     | 16   | 29.6667   | 60       | 7.1        | 1002.33       | September\n",
       "2013-09-17 | 2013 | 9     | 17   | 29.25     | 56.5     | 3.475      | 1002.88       | September\n",
       "2013-09-18 | 2013 | 9     | 18   | 29.1429   | 58.5714  | 5.55714    | 1003.14       | September\n",
       "2013-09-19 | 2013 | 9     | 19   | 29.8      | 61.6     | 2.96       | 1001.8        | September\n",
       "2013-09-20 | 2013 | 9     | 20   | 28.6667   | 70       | 9.58333    | 1003          | September\n",
       "2013-09-21 | 2013 | 9     | 21   | 25.2      | 89       | 5.18       | 1003          | September\n",
       "2013-09-22 | 2013 | 9     | 22   | 28.3333   | 79.6667  | 3.08333    | 1001.67       | September\n",
       "2013-09-23 | 2013 | 9     | 23   | 30.2857   | 68       | 4.5        | 1001          | September\n",
       "2013-09-24 | 2013 | 9     | 24   | 30.75     | 65.75    | 5.7875     | 1002.75       | September\n",
       "2013-09-25 | 2013 | 9     | 25   | 28.5714   | 75       | 6.61429    | 1005.43       | September\n",
       "... (294 rows omitted)"
      ]
     },
     "execution_count": 37,
     "metadata": {},
     "output_type": "execute_result"
    }
   ],
   "source": [
    "delhi_autumn = delhi.where('month', are.between(9, 12)).where(\n",
    "    'date', are.not_between('2013-09-01', '2013-09-16')).where(\n",
    "    'date', are.not_between('2014-09-01', '2014-09-16')).where(\n",
    "    'date', are.not_between('2015-09-01', '2015-09-16')).where(\n",
    "    'date', are.not_between('2016-09-01', '2016-09-16'))\n",
    "delhi_autumn"
   ]
  },
  {
   "cell_type": "markdown",
   "id": "417e72aa-2b51-429e-a259-2a38651ff6c3",
   "metadata": {},
   "source": [
    "**Question 2.1.** Construct a scatter plot for the relationship between humidty and mean temperature during the autumn season in Delhi. Include the fit line on this plot, using mean temperature to preduct humidity. "
   ]
  },
  {
   "cell_type": "code",
   "execution_count": 38,
   "id": "17a1ad09-7e06-4cc4-9a17-f422db44ec53",
   "metadata": {
    "tags": []
   },
   "outputs": [
    {
     "data": {
      "image/png": "[encoded data removed]",
      "text/plain": [
       "<Figure size 500x500 with 1 Axes>"
      ]
     },
     "metadata": {},
     "output_type": "display_data"
    }
   ],
   "source": [
    "delhi_autumn.scatter('mean_temp', 'humidity', fit_line = True)"
   ]
  },
  {
   "cell_type": "markdown",
   "id": "c427538b-8034-46e4-9c45-e054c1ac2adb",
   "metadata": {},
   "source": [
    "**Question 2.2.** Using a least squares regression line (as we have done in class) to predict humidity with mean temperature, what would your model predict would be the average change in humidity for each 3 degree Celsius increase in mean temperature during the autumn season? Assign this value to `change_in_humidity`."
   ]
  },
  {
   "cell_type": "code",
   "execution_count": 52,
   "id": "eb9139fe-b15a-48fb-a94b-22b7e63b0981",
   "metadata": {
    "tags": []
   },
   "outputs": [
    {
     "data": {
      "text/plain": [
       "2.7359834041545068"
      ]
     },
     "execution_count": 52,
     "metadata": {},
     "output_type": "execute_result"
    }
   ],
   "source": [
    "def standard_units(arr):\n",
    "    return (arr - np.average(arr))/np.std(arr)\n",
    "\n",
    "def correlation(t, x, y):\n",
    "    x_standard = standard_units(t.column(x))\n",
    "    y_standard = standard_units(t.column(y))\n",
    "    return np.average(x_standard * y_standard)\n",
    "\n",
    "def slope(t, x, y):\n",
    "    r = correlation(t, x, y)\n",
    "    y_sd = np.std(t.column(y))\n",
    "    x_sd = np.std(t.column(x))\n",
    "    return r * y_sd / x_sd\n",
    "\n",
    "def intercept(t, x, y):\n",
    "    x_mean = np.mean(t.column(x))\n",
    "    y_mean = np.mean(t.column(y))\n",
    "    return y_mean - slope(t, x, y)*x_mean\n",
    "\n",
    "def delhi_rmse (any_slope, any_intercept):\n",
    "    x = delhi_autumn.column('mean_temp')\n",
    "    y = delhi_autumn.column('humidity')\n",
    "    estimate = any_slope*x + any_intercept\n",
    "    return (np.mean((y - estimate) ** 2)) ** 0.5\n",
    "\n",
    "def fitted_value(x):\n",
    "    a = slope(delhi_autumn, 'mean_temp', 'humidity')\n",
    "    b = intercept(delhi_autumn, 'mean_temp', 'humidity')\n",
    "    return b + a * x\n",
    "\n",
    "humidity = make_array()\n",
    "h_diff = make_array()\n",
    "\n",
    "for i in np.arange(16, 35, 3):\n",
    "    n = 0\n",
    "    prediction = fitted_value(i)\n",
    "    humidity = np.append(humidity, prediction)\n",
    "    diff = humidity.item(n) - humidity.item(n - 1)\n",
    "    h_diff = np.append(h_diff, diff)\n",
    "    n += 1\n",
    "\n",
    "change_in_humidity = np.mean(h_diff)\n",
    "change_in_humidity"
   ]
  },
  {
   "cell_type": "markdown",
   "id": "a90c6559-a8a9-4920-8341-863e24b3fbbc",
   "metadata": {},
   "source": [
    "**Question 2.3.** Using a least squares regression line (as we have done in class) to predict humidity with mean temperature in autumn, construct a residual plot with the values fitted by the regression model on the horizontal axis and the residuals on the vertical axis. Comment on how the plot shows that the model meets or does not meet the two conditions that we have discussed with residual plots."
   ]
  },
  {
   "cell_type": "code",
   "execution_count": 54,
   "id": "2cea9df8-e6a0-4d42-b1ac-e4c19fd9d4b9",
   "metadata": {
    "tags": []
   },
   "outputs": [
    {
     "data": {
      "image/png": "[encoded data removed]",
      "text/plain": [
       "<Figure size 500x500 with 1 Axes>"
      ]
     },
     "metadata": {},
     "output_type": "display_data"
    }
   ],
   "source": [
    "def fitted_values(table, x, y):\n",
    "    a = slope(table, x, y)\n",
    "    b = intercept(table, x, y)\n",
    "    return a * table.column(x) + b\n",
    "\n",
    "def residual(table, x, y):\n",
    "    return table.column(y) - fitted_values(table, x, y)\n",
    "\n",
    "def residual_plot(table, x, y):\n",
    "    fit = fitted_values(table, x, y)\n",
    "    t = Table().with_columns(\n",
    "            'fitted values', fit,\n",
    "            'residuals', residual(table, x, y)\n",
    "        )\n",
    "    t.scatter('fitted values', 'residuals', color='r')\n",
    "    xlims = make_array(min(fit), max(fit))\n",
    "    plots.plot(xlims, make_array(0, 0), color='darkblue', lw=4)\n",
    "    plots.title('Residual Plot')\n",
    "\n",
    "residual_plot(delhi_autumn, 'mean_temp', 'humidity')"
   ]
  },
  {
   "cell_type": "markdown",
   "id": "93a164ef-f085-46bc-93d2-c9ac12173f8a",
   "metadata": {},
   "source": [
    "*The spread is pretty even, barring some outliers near the -30 mark. I would still say a linear model is appropriate because it is centered around because there is no overall pattern in the curve of the plot.*"
   ]
  },
  {
   "cell_type": "markdown",
   "id": "d2028dfa-444a-4dbb-9b31-b2658d12a0cc",
   "metadata": {},
   "source": [
    "**Question 2.4.** Using a least squares regression line (as we have done in class) to predict humidity with mean temperature, construct a 99% prediction interval for the average humidity during autumn for temperatures of 19 degrees Celsius. Assign `interval_bounds` to an array containing the lower and upper bounds of this prediction interval. You should *not* hard code these values and do *not* need to include a plot."
   ]
  },
  {
   "cell_type": "code",
   "execution_count": 56,
   "id": "dbc44fbf-0f2a-4326-bc70-6ceae75f0f55",
   "metadata": {
    "tags": []
   },
   "outputs": [
    {
     "data": {
      "text/plain": [
       "array([ 61.03790968,  64.60294665])"
      ]
     },
     "execution_count": 56,
     "metadata": {},
     "output_type": "execute_result"
    }
   ],
   "source": [
    "def predict(t, x, y, x_value):\n",
    "    return slope(t, x, y) * x_value + intercept(t, x, y)\n",
    "\n",
    "def bootstrap_prediction(t, x, y, new_x, repetitions=1000):\n",
    "\n",
    "    # Bootstrap the scatter, predict, collect\n",
    "    predictions = make_array()\n",
    "    for i in np.arange(repetitions):\n",
    "        resample = t.sample()\n",
    "        predicted_y = predict(resample, x, y, new_x)\n",
    "        predictions = np.append(predictions, predicted_y)\n",
    "\n",
    "    # Find the ends of the approximate 95% prediction interval\n",
    "    left = percentile(2.5, predictions)\n",
    "    right = percentile(97.5, predictions)\n",
    "    return make_array(left, right)\n",
    "\n",
    "interval_bounds = bootstrap_prediction(delhi_autumn, 'mean_temp', 'humidity', 19)\n",
    "interval_bounds"
   ]
  },
  {
   "cell_type": "markdown",
   "id": "0d6bcc85-2eb2-458e-8ee9-a75b9fa26450",
   "metadata": {},
   "source": [
    "**Question 3.** Use the full delhi data (from all seasons, not just autumn) to construct a multiple regression linear model (y = ax + bz + c) using using mean temperature and wind speed to predict humidity. You should do this by determining the coefficients for your model that minimze the root mean squared errors **using the methods from class**. Use this model to predict the average humidity for days with a mean temperature of 19 degrees Celsius and mean wind speed of 7.2 kilometers per hour. Assign this value to `mult_mod_prediction`. Note that you do *not* need to construct a prediction interval. "
   ]
  },
  {
   "cell_type": "code",
   "execution_count": 58,
   "id": "ac0ed453-4309-4649-a91b-74923c477190",
   "metadata": {
    "tags": []
   },
   "outputs": [
    {
     "data": {
      "text/plain": [
       "67.86445002903675"
      ]
     },
     "execution_count": 58,
     "metadata": {},
     "output_type": "execute_result"
    }
   ],
   "source": [
    "def multiple_regression_rmse(mean_temp_mult, wind_speed_mult, intercept):\n",
    "    \n",
    "    mean_temp = delhi.column('mean_temp')\n",
    "    wind_speed = delhi.column('wind_speed')\n",
    "    \n",
    "    y = delhi.column('humidity')\n",
    "    \n",
    "    prediction = sum([\n",
    "        mean_temp_mult * mean_temp,\n",
    "        wind_speed_mult * wind_speed,\n",
    "        intercept]\n",
    "    )\n",
    "    \n",
    "    mse = np.mean((y - prediction) ** 2)\n",
    "    return np.sqrt(mse)\n",
    "\n",
    "coeff = minimize(multiple_regression_rmse)\n",
    "\n",
    "mult_mod_prediction = coeff.item(0) * 19 + coeff.item(1) * 7.2 + coeff.item(2)\n",
    "mult_mod_prediction"
   ]
  },
  {
   "cell_type": "markdown",
   "id": "c58f805c-2c32-4645-a777-ca4169b95bb2",
   "metadata": {},
   "source": [
    "**Question 4.1** The [Delhi Tourism](https://www.delhitourism.gov.in/delhitourism/aboutus/seasons_of_delhi.jsp) webpage cites that the spring season in Delhi is from February through March and the winter season is from December through January. Assign `spring_wind_mean` and `winter_wind_mean` to the mean wind speeds for data from Delhi during the spring and winter seasons (respectively)"
   ]
  },
  {
   "cell_type": "code",
   "execution_count": 61,
   "id": "32806f24-7aab-4a73-8047-756b6bc8529a",
   "metadata": {
    "tags": []
   },
   "outputs": [
    {
     "data": {
      "text/plain": [
       "(7.1409935575441912, 4.7619637151252086)"
      ]
     },
     "execution_count": 61,
     "metadata": {},
     "output_type": "execute_result"
    }
   ],
   "source": [
    "spring_wind_mean = np.mean(delhi.where('month', are.between(2, 4)).column('wind_speed'))\n",
    "winter_wind_mean = np.mean(delhi.where('month', 1 and 12).column('wind_speed'))\n",
    "\n",
    "spring_wind_mean, winter_wind_mean"
   ]
  },
  {
   "cell_type": "markdown",
   "id": "258d40a8-3650-4dcc-a656-218e3ae015c2",
   "metadata": {},
   "source": [
    "**Question 4.2** Assign `spring_wind_sd` and `winter_wind_sd` to the standard deviation of the wind speed for data from Delhi during the spring and winter seasons (respectively)."
   ]
  },
  {
   "cell_type": "code",
   "execution_count": 62,
   "id": "eb0163fc-a0d1-48ca-9108-d0924e9a8c47",
   "metadata": {
    "tags": []
   },
   "outputs": [
    {
     "data": {
      "text/plain": [
       "(3.8789497954592309, 4.3398751259485202)"
      ]
     },
     "execution_count": 62,
     "metadata": {},
     "output_type": "execute_result"
    }
   ],
   "source": [
    "spring_wind_sd = np.std(delhi.where('month', are.between(2, 4)).column('wind_speed'))\n",
    "winter_wind_sd = np.std(delhi.where('month', 1 and 12).column('wind_speed'))\n",
    "\n",
    "spring_wind_sd, winter_wind_sd"
   ]
  },
  {
   "cell_type": "markdown",
   "id": "1a4350b0-1563-48e3-ab62-b4f4adef42d0",
   "metadata": {},
   "source": [
    "**Question 4.3** Assign `spring_wind_n` and `winter_wind_n` to the number of wind speed observations for data from Delhi during the spring and winter seasons (respectively)."
   ]
  },
  {
   "cell_type": "code",
   "execution_count": 63,
   "id": "0161e308-90d2-45c9-a1bb-8d01c7bd8d50",
   "metadata": {
    "tags": []
   },
   "outputs": [
    {
     "data": {
      "text/plain": [
       "(237, 124)"
      ]
     },
     "execution_count": 63,
     "metadata": {},
     "output_type": "execute_result"
    }
   ],
   "source": [
    "spring_wind_n = delhi.where('month', are.between(2, 4)).num_rows\n",
    "winter_wind_n = delhi.where('month', 1 and 12).num_rows\n",
    "\n",
    "spring_wind_n, winter_wind_n"
   ]
  },
  {
   "cell_type": "markdown",
   "id": "2923b076-6ae6-4bc0-b994-9c97457f025b",
   "metadata": {},
   "source": [
    "**Question 4.4** Perfom a hypothesis test using the hypotheses below:\n",
    "\n",
    "**Null Hypothesis:** Mean wind speeds during the winter season are equal to the mean wind speeds during the spring season\n",
    "\n",
    "**Alternative Hypothesis:** Mean wind speeds during the winter season are less than the mean winds speed during the spring season\n",
    "\n",
    "Rather than perform a simulation for this hypothesis test, you should use methods covered in lectures 24 through 27, using the normal or t distribution (whichever is appropriate for the situation), and using your answers to questions 4.1, 4.2, and 4.3. Assign the p-value for your hypothesis test to `p_value` and cite your conclusions to the hypothesis test.\n",
    "\n",
    "Zero points will be given for performing a simulation or using methods outside those covered in the course. You do *not* need to produce a plot."
   ]
  },
  {
   "cell_type": "code",
   "execution_count": 70,
   "id": "a822f97e-2462-491f-ba09-fa72e76c616e",
   "metadata": {
    "tags": []
   },
   "outputs": [],
   "source": [
    "obs_diff = spring_wind_mean - winter_wind_mean\n",
    "z_score = (obs_diff - 0) / winter_wind_sd"
   ]
  },
  {
   "cell_type": "code",
   "execution_count": 71,
   "id": "dfdcec1b-e2f9-4b43-89cf-0a5c9db65839",
   "metadata": {
    "tags": []
   },
   "outputs": [
    {
     "data": {
      "text/plain": [
       "0.70821561352714202"
      ]
     },
     "execution_count": 71,
     "metadata": {},
     "output_type": "execute_result"
    }
   ],
   "source": [
    "p_value = norm.cdf(obs_diff, 0, winter_wind_sd)\n",
    "p_value"
   ]
  },
  {
   "cell_type": "markdown",
   "id": "7e8cece2-46ce-4ada-b64a-2162294dbdf9",
   "metadata": {},
   "source": [
    "*The p-value is high, so we fail to reject the null hypothesis. Therefore, the mean wind speed are equal during the winter and spring seasons.*"
   ]
  },
  {
   "cell_type": "code",
   "execution_count": null,
   "id": "ab33948c-e554-4546-9b51-d84c105ae5f7",
   "metadata": {},
   "outputs": [],
   "source": []
  }
 ],
 "metadata": {
  "kernelspec": {
   "display_name": "Python 3",
   "language": "python",
   "name": "python3"
  },
  "language_info": {
   "codemirror_mode": {
    "name": "ipython",
    "version": 3
   },
   "file_extension": ".py",
   "mimetype": "text/x-python",
   "name": "python",
   "nbconvert_exporter": "python",
   "pygments_lexer": "ipython3",
   "version": "3.11.4"
  }
 },
 "nbformat": 4,
 "nbformat_minor": 5
}
