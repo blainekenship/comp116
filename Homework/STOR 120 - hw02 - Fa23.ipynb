{
 "cells": [
  {
   "cell_type": "markdown",
   "metadata": {},
   "source": [
    "# STOR 120 - Homework 2: Arrays and Tables"
   ]
  },
  {
   "cell_type": "markdown",
   "metadata": {},
   "source": [
    "**Recommended Reading**: \n",
    "* [Data Types](https://www.inferentialthinking.com/chapters/04/Data_Types.html) \n",
    "* [Sequences](https://www.inferentialthinking.com/chapters/05/Sequences.html)\n",
    "* [Tables](https://www.inferentialthinking.com/chapters/06/Tables.html)"
   ]
  },
  {
   "cell_type": "markdown",
   "metadata": {},
   "source": [
    "For all problems that you must write explanations and sentences for, you **must** provide your answer in the designated space. Moreover, throughout this homework and all future ones, please be sure to not re-assign variables throughout the notebook! For example, if you use `max_temperature` in your answer to one question, do not reassign it later on. \n",
    "\n",
    "Directly sharing answers is not okay, but discussing problems with the course staff or with other students is encouraged.\n",
    "\n",
    "You should start early so that you have time to get help if you're stuck. "
   ]
  },
  {
   "cell_type": "code",
   "execution_count": 46,
   "metadata": {
    "tags": []
   },
   "outputs": [],
   "source": [
    "# Don't change this cell; just run it.\n",
    "\n",
    "import numpy as np\n",
    "from datascience import *"
   ]
  },
  {
   "cell_type": "markdown",
   "metadata": {},
   "source": [
    "## 1. Creating Arrays\n"
   ]
  },
  {
   "cell_type": "markdown",
   "metadata": {},
   "source": [
    "**Question 1.1.** Make an array called `weird_numbers` containing the following numbers (in the given order):\n",
    "\n",
    "1. 6\n",
    "2. the square root of 72\n",
    "3. -21\n",
    "4. 3 to the power of 7.8\n",
    "\n",
    "*Note:* Python lists are different/behave differently than numpy arrays. In STOR 120, we use numpy arrays, so please make an **array**, not a python list if you know how to do so.\n",
    "\n",
    "<!--\n",
    "BEGIN QUESTION\n",
    "name: q1_1\n",
    "-->"
   ]
  },
  {
   "cell_type": "code",
   "execution_count": 2,
   "metadata": {
    "tags": []
   },
   "outputs": [
    {
     "data": {
      "text/plain": [
       "array([    6.        ,     8.48528137,   -21.        ,  5266.78738671])"
      ]
     },
     "execution_count": 2,
     "metadata": {},
     "output_type": "execute_result"
    }
   ],
   "source": [
    "weird_numbers = make_array(6, (72)**.5, -21, 3**7.8)\n",
    "weird_numbers"
   ]
  },
  {
   "cell_type": "markdown",
   "metadata": {},
   "source": [
    "**Question 1.2.** Make an array called `book_title_words` containing the following three strings: `Eats`, `Shoots`, and `and Leaves`.\n",
    "\n",
    "<!--\n",
    "BEGIN QUESTION\n",
    "name: q1_2\n",
    "-->"
   ]
  },
  {
   "cell_type": "code",
   "execution_count": 3,
   "metadata": {
    "tags": []
   },
   "outputs": [
    {
     "data": {
      "text/plain": [
       "array(['Eats', 'Shoots', 'and Leaves'],\n",
       "      dtype='<U10')"
      ]
     },
     "execution_count": 3,
     "metadata": {},
     "output_type": "execute_result"
    }
   ],
   "source": [
    "book_title_words = make_array('Eats', 'Shoots', 'and Leaves')\n",
    "book_title_words"
   ]
  },
  {
   "cell_type": "markdown",
   "metadata": {},
   "source": [
    "Strings have a method called `join`.  `join` takes one argument, an array of strings.  It returns a single string.  Specifically, the value of `a_string.join(an_array)` is a single string that's the [concatenation](https://en.wikipedia.org/wiki/Concatenation) (\"putting together\") of all the strings in `an_array`, **except** `a_string` is inserted in between each string.\n",
    "\n",
    "**Question 1.3.** Use the array `book_title_words` and the method `join` to make two strings:\n",
    "\n",
    "1. `Eats, Shoots, and Leaves` (call this one `with_commas`)\n",
    "2. `Eats Shoots and Leaves` (call this one `without_commas`)\n",
    "\n",
    "*Hint:* If you're not sure what `join` does, first try just calling, for example, `\"foo\".join(book_title_words)` .\n",
    "\n",
    "<!--\n",
    "BEGIN QUESTION\n",
    "name: q1_3\n",
    "-->"
   ]
  },
  {
   "cell_type": "code",
   "execution_count": 5,
   "metadata": {
    "tags": []
   },
   "outputs": [
    {
     "name": "stdout",
     "output_type": "stream",
     "text": [
      "with_commas: Eats, Shoots, and Leaves\n",
      "without_commas: Eats Shoots and Leaves\n"
     ]
    }
   ],
   "source": [
    "with_commas = \", \".join(book_title_words)\n",
    "without_commas = \" \".join(book_title_words)\n",
    "\n",
    "# These lines are provided just to print out your answers.\n",
    "print('with_commas:', with_commas)\n",
    "print('without_commas:', without_commas)"
   ]
  },
  {
   "cell_type": "markdown",
   "metadata": {},
   "source": [
    "## 2. Indexing Arrays\n"
   ]
  },
  {
   "cell_type": "markdown",
   "metadata": {},
   "source": [
    "These exercises give you practice accessing individual elements of arrays.  In Python (and in many programming languages), elements are accessed by *index*, so the first element is the element at index 0.\n",
    "\n",
    "*Note:* Please don't use bracket notation when indexing if you know how to (i.e. `arr[0]`), as this can yield different data type outputs than what we will be expecting."
   ]
  },
  {
   "cell_type": "markdown",
   "metadata": {},
   "source": [
    "**Question 2.1.** The cell below creates an array of some numbers.  Set `sixth_element` to the sixth element of `some_numbers`.\n",
    "\n",
    "<!--\n",
    "BEGIN QUESTION\n",
    "name: q2_1\n",
    "-->"
   ]
  },
  {
   "cell_type": "code",
   "execution_count": 6,
   "metadata": {
    "tags": []
   },
   "outputs": [
    {
     "data": {
      "text/plain": [
       "-19"
      ]
     },
     "execution_count": 6,
     "metadata": {},
     "output_type": "execute_result"
    }
   ],
   "source": [
    "some_numbers = make_array(-1, -3, -6, -10, -15, -19, -24, -30)\n",
    "\n",
    "sixth_element = some_numbers.item(5)\n",
    "sixth_element"
   ]
  },
  {
   "cell_type": "markdown",
   "metadata": {},
   "source": [
    "**Question 2.2.** The next cell creates a table that displays some information about the elements of `some_numbers` and their order.  Run the cell to see the partially-completed table, then fill in the missing information (the cells that say \"Ellipsis\") by assigning `blank_a`, `blank_b`, `blank_c`, and `blank_d` to the correct elements in the table.\n",
    "\n",
    "<!--\n",
    "BEGIN QUESTION\n",
    "name: q2_2\n",
    "-->"
   ]
  },
  {
   "cell_type": "code",
   "execution_count": 15,
   "metadata": {
    "for_assignment_type": "student",
    "tags": []
   },
   "outputs": [
    {
     "data": {
      "text/html": [
       "<table border=\"1\" class=\"dataframe\">\n",
       "    <thead>\n",
       "        <tr>\n",
       "            <th>English name for position</th> <th>Index</th> <th>Element</th>\n",
       "        </tr>\n",
       "    </thead>\n",
       "    <tbody>\n",
       "        <tr>\n",
       "            <td>first                    </td> <td>0    </td> <td>-1     </td>\n",
       "        </tr>\n",
       "        <tr>\n",
       "            <td>second                   </td> <td>1    </td> <td>-3     </td>\n",
       "        </tr>\n",
       "        <tr>\n",
       "            <td>third                    </td> <td>2    </td> <td>-6     </td>\n",
       "        </tr>\n",
       "        <tr>\n",
       "            <td>fourth                   </td> <td>3    </td> <td>-10    </td>\n",
       "        </tr>\n",
       "        <tr>\n",
       "            <td>fifth                    </td> <td>4    </td> <td>-15    </td>\n",
       "        </tr>\n",
       "        <tr>\n",
       "            <td>sixth                    </td> <td>5    </td> <td>-19    </td>\n",
       "        </tr>\n",
       "        <tr>\n",
       "            <td>seventh                  </td> <td>6    </td> <td>-24    </td>\n",
       "        </tr>\n",
       "        <tr>\n",
       "            <td>eighth                   </td> <td>7    </td> <td>-30    </td>\n",
       "        </tr>\n",
       "    </tbody>\n",
       "</table>"
      ],
      "text/plain": [
       "English name for position | Index | Element\n",
       "first                     | 0     | -1\n",
       "second                    | 1     | -3\n",
       "third                     | 2     | -6\n",
       "fourth                    | 3     | -10\n",
       "fifth                     | 4     | -15\n",
       "sixth                     | 5     | -19\n",
       "seventh                   | 6     | -24\n",
       "eighth                    | 7     | -30"
      ]
     },
     "execution_count": 15,
     "metadata": {},
     "output_type": "execute_result"
    }
   ],
   "source": [
    "blank_a = 'fourth'\n",
    "blank_b = 'sixth'\n",
    "blank_c = 0\n",
    "blank_d = 5\n",
    "elements_of_some_numbers = Table().with_columns(\n",
    "    \"English name for position\", make_array(\"first\", \"second\", \"third\", blank_a, \"fifth\", blank_b, \"seventh\", \"eighth\"),\n",
    "    \"Index\",                     make_array(blank_c, 1, 2, 3, 4, blank_d, 6, 7),\n",
    "    \"Element\",                   some_numbers)\n",
    "elements_of_some_numbers"
   ]
  },
  {
   "cell_type": "markdown",
   "metadata": {},
   "source": [
    "**Question 2.3.** You will sometimes want to find the *last* element of an array.  Suppose an array has 747 elements.  What is the index of its last element?\n",
    "\n",
    "<!--\n",
    "BEGIN QUESTION\n",
    "name: q2_3\n",
    "-->"
   ]
  },
  {
   "cell_type": "code",
   "execution_count": 16,
   "metadata": {
    "tags": []
   },
   "outputs": [],
   "source": [
    "index_of_last_element = -1"
   ]
  },
  {
   "cell_type": "markdown",
   "metadata": {},
   "source": [
    "More often, you don't know the number of elements in an array, its *length*.  (For example, it might be a large dataset you found on the Internet.)  The function `len` takes a single argument, an array, and returns the `len`gth of that array (an integer).\n",
    "\n",
    "**Question 2.4.** The cell below loads an array called `primary_total_votes`. This array has the votes for each candidate or ballot choice in every contest held in North Carolina in the May 8, 2018 elections.. Calling `.column(...)` on a table returns an array of the column specified, in this case the `sum_total_votes` column of the `primary_results` table. The third to last element in the array is the number of votes for Johnny Riddle in the election for the Yancey County Board of Commissioners. Assign this number of votes to `Riddle_votes`.\n",
    "<!--\n",
    "BEGIN QUESTION\n",
    "name: q2_4\n",
    "-->"
   ]
  },
  {
   "cell_type": "code",
   "execution_count": 17,
   "metadata": {
    "tags": []
   },
   "outputs": [
    {
     "data": {
      "text/plain": [
       "1005"
      ]
     },
     "execution_count": 17,
     "metadata": {},
     "output_type": "execute_result"
    }
   ],
   "source": [
    "primary_total_votes = Table.read_table(\"primary_results.csv\").column('sum_total_votes')\n",
    "\n",
    "Riddle_votes = primary_total_votes.item(-3)\n",
    "Riddle_votes"
   ]
  },
  {
   "cell_type": "markdown",
   "metadata": {},
   "source": [
    "**Question 2.5.** The 829th and 830th rows of the `primary_results` table show the contest, names, and votes for the two people who were running for the position of `ORANGE COUNTY CLERK OF SUPERIOR COURT` in 2018. Assign `sum_of_OC_votes` to the sum of votes for these two people using the `primary_total_votes` array.\n",
    "\n",
    "<!--\n",
    "BEGIN QUESTION\n",
    "name: q2_5\n",
    "-->"
   ]
  },
  {
   "cell_type": "code",
   "execution_count": 19,
   "metadata": {
    "tags": []
   },
   "outputs": [
    {
     "data": {
      "text/plain": [
       "18256"
      ]
     },
     "execution_count": 19,
     "metadata": {},
     "output_type": "execute_result"
    }
   ],
   "source": [
    "sum_of_OC_votes = primary_total_votes.item(828) + primary_total_votes.item(829)\n",
    "sum_of_OC_votes"
   ]
  },
  {
   "cell_type": "markdown",
   "metadata": {},
   "source": [
    "## 3. Basic Array Arithmetic\n"
   ]
  },
  {
   "cell_type": "markdown",
   "metadata": {},
   "source": [
    "**Question 3.1.** Multiply the numbers 12, 1212, 122122, and -120 by 585. Assign each variable below such that `first_product` is assigned to the result of $12 * 585$, `second_product` is assigned to the result of $1212 * 585$, and so on. \n",
    "\n",
    "For this question, **don't** use arrays.\n",
    "\n",
    "<!--\n",
    "BEGIN QUESTION\n",
    "name: q3_1\n",
    "-->"
   ]
  },
  {
   "cell_type": "code",
   "execution_count": 20,
   "metadata": {
    "tags": []
   },
   "outputs": [
    {
     "name": "stdout",
     "output_type": "stream",
     "text": [
      "7020 709020 71441370 -70200\n"
     ]
    }
   ],
   "source": [
    "first_product = 585 * 12\n",
    "second_product = 585 * 1212\n",
    "third_product = 585 * 122122\n",
    "fourth_product = 585 * -120\n",
    "print(first_product, second_product, third_product, fourth_product)"
   ]
  },
  {
   "cell_type": "markdown",
   "metadata": {},
   "source": [
    "**Question 3.2.** Now, do the same calculation, but using an array called `numbers` and only a single multiplication (`*`) operator.  Store the 4 results in an array named `products`.\n",
    "\n",
    "<!--\n",
    "BEGIN QUESTION\n",
    "name: q3_2\n",
    "-->"
   ]
  },
  {
   "cell_type": "code",
   "execution_count": 21,
   "metadata": {
    "tags": []
   },
   "outputs": [
    {
     "data": {
      "text/plain": [
       "array([    7020,   709020, 71441370,   -70200], dtype=int64)"
      ]
     },
     "execution_count": 21,
     "metadata": {},
     "output_type": "execute_result"
    }
   ],
   "source": [
    "numbers = make_array(12, 1212, 122122, -120)\n",
    "products = numbers * 585\n",
    "products"
   ]
  },
  {
   "cell_type": "markdown",
   "metadata": {},
   "source": [
    "**Question 3.3.** Oops, we made a typo!  Instead of 585, we wanted to multiply each number by 919.  Compute the correct products in the cell below using array arithmetic.  Notice that your job is really easy if you previously defined an array containing the 4 numbers.\n",
    "\n",
    "<!--\n",
    "BEGIN QUESTION\n",
    "name: q3_3\n",
    "-->"
   ]
  },
  {
   "cell_type": "code",
   "execution_count": 22,
   "metadata": {
    "tags": []
   },
   "outputs": [
    {
     "data": {
      "text/plain": [
       "array([    11028,   1113828, 112230118,   -110280], dtype=int64)"
      ]
     },
     "execution_count": 22,
     "metadata": {},
     "output_type": "execute_result"
    }
   ],
   "source": [
    "correct_products = numbers *919\n",
    "correct_products"
   ]
  },
  {
   "cell_type": "markdown",
   "metadata": {},
   "source": [
    "**Question 3.4.** We've loaded an array of temperatures in the next cell. This dataset contains air quality data collected using a PurpleAir Dual Laser Air Quality Sensor located at the Chapel Hill Public Library, as well as temperature in Fahrenheit. Convert the temperatures to [R&eacute;aumur](https://en.wikipedia.org/wiki/R%C3%A9aumur_scale) by first subtracting 32 from them, then multiplying the results by $\\frac{4}{9}$. Round the final result *after* converting to R&eacute;aumur to the nearest tenths place using the `np.round` function.\n",
    "\n",
    "<!--\n",
    "BEGIN QUESTION\n",
    "name: q3_4\n",
    "-->"
   ]
  },
  {
   "cell_type": "code",
   "execution_count": 23,
   "metadata": {
    "tags": []
   },
   "outputs": [
    {
     "data": {
      "text/plain": [
       "array([ 24.9,  24.9,  24. , ...,  16.9,  16.9,  18.7])"
      ]
     },
     "execution_count": 23,
     "metadata": {},
     "output_type": "execute_result"
    }
   ],
   "source": [
    "temperatures = Table.read_table(\"Local_Air_Quality.csv\").column(\"Temp_F\")\n",
    "\n",
    "reaumur_temperatures = np.round((temperatures - 32) * (4/9), 1)\n",
    "reaumur_temperatures"
   ]
  },
  {
   "cell_type": "markdown",
   "metadata": {},
   "source": [
    "## 4. North Carolina Population\n"
   ]
  },
  {
   "cell_type": "markdown",
   "metadata": {},
   "source": [
    "The cell below loads a table of estimates of the North Carolina population from 1900 to 2021. The estimates come from the [FRED Economic Data](https://fred.stlouisfed.org/series/NCPOP)."
   ]
  },
  {
   "cell_type": "code",
   "execution_count": 24,
   "metadata": {
    "tags": []
   },
   "outputs": [
    {
     "data": {
      "text/html": [
       "<table border=\"1\" class=\"dataframe\">\n",
       "    <thead>\n",
       "        <tr>\n",
       "            <th>Year</th> <th>NCPOP</th>\n",
       "        </tr>\n",
       "    </thead>\n",
       "    <tbody>\n",
       "        <tr>\n",
       "            <td>1900</td> <td>1897000</td>\n",
       "        </tr>\n",
       "        <tr>\n",
       "            <td>1901</td> <td>1926000</td>\n",
       "        </tr>\n",
       "        <tr>\n",
       "            <td>1902</td> <td>1956000</td>\n",
       "        </tr>\n",
       "        <tr>\n",
       "            <td>1903</td> <td>1986000</td>\n",
       "        </tr>\n",
       "    </tbody>\n",
       "</table>\n",
       "<p>... (118 rows omitted)</p>"
      ],
      "text/plain": [
       "<IPython.core.display.HTML object>"
      ]
     },
     "metadata": {},
     "output_type": "display_data"
    }
   ],
   "source": [
    "NCpop = Table.read_table(\"NCpop.csv\")\n",
    "NCpop.show(4)"
   ]
  },
  {
   "cell_type": "markdown",
   "metadata": {},
   "source": [
    "The name `population` is assigned to an array of population estimates."
   ]
  },
  {
   "cell_type": "code",
   "execution_count": 25,
   "metadata": {
    "tags": []
   },
   "outputs": [
    {
     "data": {
      "text/plain": [
       "array([ 1897000,  1926000,  1956000,  1986000,  2017000,  2051000,\n",
       "        2077000,  2105000,  2142000,  2174000,  2221000,  2276000,\n",
       "        2313000,  2362000,  2421000,  2473000,  2513000,  2546000,\n",
       "        2522000,  2535000,  2588000,  2651000,  2700000,  2761000,\n",
       "        2830000,  2895000,  2959000,  3027000,  3082000,  3133000,\n",
       "        3167000,  3184000,  3227000,  3268000,  3304000,  3323000,\n",
       "        3346000,  3385000,  3440000,  3514000,  3574000,  3589000,\n",
       "        3569000,  3654000,  3560000,  3533000,  3706000,  3769000,\n",
       "        3837000,  3911000,  4068000,  4120000,  4109000,  4120000,\n",
       "        4131000,  4242000,  4309000,  4368000,  4376000,  4458000,\n",
       "        4573000,  4663000,  4707000,  4742000,  4802000,  4863000,\n",
       "        4896000,  4952000,  5004000,  5031000,  5084411,  5203531,\n",
       "        5301150,  5389852,  5470911,  5547188,  5607964,  5685607,\n",
       "        5759492,  5823491,  5898980,  5956653,  6019101,  6077056,\n",
       "        6164006,  6253954,  6321578,  6403700,  6480594,  6565459,\n",
       "        6656987,  6748135,  6831850,  6947412,  7060959,  7185403,\n",
       "        7307658,  7428672,  7545828,  7650789,  8081614,  8210122,\n",
       "        8326201,  8422501,  8553152,  8705407,  8917270,  9118037,\n",
       "        9309449,  9449566,  9574586,  9658913,  9751810,  9846717,\n",
       "        9937295, 10037218, 10161802, 10275758, 10391358, 10501384,\n",
       "       10457177, 10551162])"
      ]
     },
     "execution_count": 25,
     "metadata": {},
     "output_type": "execute_result"
    }
   ],
   "source": [
    "population = NCpop.column(1)\n",
    "population"
   ]
  },
  {
   "cell_type": "markdown",
   "metadata": {},
   "source": [
    "In this question, you will apply some built-in Numpy functions to this array. Numpy is a module that is often used in Data Science!"
   ]
  },
  {
   "cell_type": "markdown",
   "metadata": {},
   "source": [
    "The difference function `np.diff` subtracts each element in an array from the element after it within the array. As a result, the length of the array `np.diff` returns will always be one less than the length of the input array."
   ]
  },
  {
   "cell_type": "markdown",
   "metadata": {},
   "source": [
    "The cumulative sum function `np.cumsum` outputs an array of partial sums. For example, the third element in the output array corresponds to the sum of the first, second, and third elements."
   ]
  },
  {
   "cell_type": "markdown",
   "metadata": {},
   "source": [
    "**Question 4.1.** Very often in data science, we are interested understanding how values change with time. Use `np.diff` (and other functions) to calculate the largest absolute change (positive or negative) in population between any two consecutive years.\n",
    "\n",
    "<!--\n",
    "BEGIN QUESTION\n",
    "name: q4_1\n",
    "-->"
   ]
  },
  {
   "cell_type": "code",
   "execution_count": 29,
   "metadata": {
    "tags": []
   },
   "outputs": [
    {
     "data": {
      "text/plain": [
       "430825"
      ]
     },
     "execution_count": 29,
     "metadata": {},
     "output_type": "execute_result"
    }
   ],
   "source": [
    "largest_change_NC_pop = np.max(abs(np.diff(population)))\n",
    "largest_change_NC_pop"
   ]
  },
  {
   "cell_type": "markdown",
   "metadata": {},
   "source": [
    "**Question 4.2.** What do the values in the resulting array represent (choose one)?"
   ]
  },
  {
   "cell_type": "code",
   "execution_count": 30,
   "metadata": {
    "tags": []
   },
   "outputs": [
    {
     "data": {
      "text/plain": [
       "array([  29000,   59000,   89000,  120000,  154000,  180000,  208000,\n",
       "        245000,  277000,  324000,  379000,  416000,  465000,  524000,\n",
       "        576000,  616000,  649000,  625000,  638000,  691000,  754000,\n",
       "        803000,  864000,  933000,  998000, 1062000, 1130000, 1185000,\n",
       "       1236000, 1270000, 1287000, 1330000, 1371000, 1407000, 1426000,\n",
       "       1449000, 1488000, 1543000, 1617000, 1677000, 1692000, 1672000,\n",
       "       1757000, 1663000, 1636000, 1809000, 1872000, 1940000, 2014000,\n",
       "       2171000, 2223000, 2212000, 2223000, 2234000, 2345000, 2412000,\n",
       "       2471000, 2479000, 2561000, 2676000, 2766000, 2810000, 2845000,\n",
       "       2905000, 2966000, 2999000, 3055000, 3107000, 3134000, 3187411,\n",
       "       3306531, 3404150, 3492852, 3573911, 3650188, 3710964, 3788607,\n",
       "       3862492, 3926491, 4001980, 4059653, 4122101, 4180056, 4267006,\n",
       "       4356954, 4424578, 4506700, 4583594, 4668459, 4759987, 4851135,\n",
       "       4934850, 5050412, 5163959, 5288403, 5410658, 5531672, 5648828,\n",
       "       5753789, 6184614, 6313122, 6429201, 6525501, 6656152, 6808407,\n",
       "       7020270, 7221037, 7412449, 7552566, 7677586, 7761913, 7854810,\n",
       "       7949717, 8040295, 8140218, 8264802, 8378758, 8494358, 8604384,\n",
       "       8560177, 8654162])"
      ]
     },
     "execution_count": 30,
     "metadata": {},
     "output_type": "execute_result"
    }
   ],
   "source": [
    "np.cumsum(np.diff(population))"
   ]
  },
  {
   "cell_type": "markdown",
   "metadata": {},
   "source": [
    "1) The total population change between consecutive years, starting at 1901.\n",
    "\n",
    "2) The total population change between 1900 and each later year, starting at 1901.\n",
    "\n",
    "3) The total population change between 1900 and each later year, starting inclusively at 1900.\n",
    "\n",
    "<!--\n",
    "BEGIN QUESTION\n",
    "name: q4_3\n",
    "-->"
   ]
  },
  {
   "cell_type": "code",
   "execution_count": 31,
   "metadata": {
    "tags": []
   },
   "outputs": [],
   "source": [
    "# Assign cumulative_sum_answer to 1, 2, or 3\n",
    "cumulative_sum_answer = 2"
   ]
  },
  {
   "cell_type": "markdown",
   "metadata": {},
   "source": [
    "**Question 4.3.** Assign the name `smallest` to the smallest absolute (positive or negative) change in population between any two consecutive years. Assign the name `average` to the average of the absolute changes in population between any two consecutive years.\n",
    "\n",
    "<!--\n",
    "BEGIN QUESTION\n",
    "name: q4_3\n",
    "-->"
   ]
  },
  {
   "cell_type": "code",
   "execution_count": 32,
   "metadata": {
    "tags": []
   },
   "outputs": [
    {
     "data": {
      "text/plain": [
       "(8000, 75162)"
      ]
     },
     "execution_count": 32,
     "metadata": {},
     "output_type": "execute_result"
    }
   ],
   "source": [
    "smallest = np.min(abs(np.diff(population)))\n",
    "average = np.mean(abs(np.diff(population)))\n",
    "\n",
    "\n",
    "smallest, round(average)"
   ]
  },
  {
   "cell_type": "markdown",
   "metadata": {},
   "source": [
    "**Question 4.4.** Suppose that you had assumed that the average of the *absolute* changes in population was equal to the average of the changes in population between any two consectutive years (i.e. you assumed that the population never decreased). Set `difference_from_expected` to an array with 121 elements, where the elements are the differences (in order by years) between the actual population change during each pair of consectutive years (which could be positive or negative) and the expected change (`average`). \n",
    "\n",
    "For example, since the North Carolina populations in 1900 and 1901 are 1897000 and 1926000, the first element of the `difference_from_expected` would be  $(1926000 - 1897000) - average$\n",
    "\n",
    "<!--\n",
    "BEGIN QUESTION\n",
    "name: q4_4\n",
    "-->"
   ]
  },
  {
   "cell_type": "code",
   "execution_count": 35,
   "metadata": {
    "tags": []
   },
   "outputs": [
    {
     "data": {
      "text/plain": [
       "array([ -4.61617851e+04,  -4.51617851e+04,  -4.51617851e+04,\n",
       "        -4.41617851e+04,  -4.11617851e+04,  -4.91617851e+04,\n",
       "        -4.71617851e+04,  -3.81617851e+04,  -4.31617851e+04,\n",
       "        -2.81617851e+04,  -2.01617851e+04,  -3.81617851e+04,\n",
       "        -2.61617851e+04,  -1.61617851e+04,  -2.31617851e+04,\n",
       "        -3.51617851e+04,  -4.21617851e+04,  -9.91617851e+04,\n",
       "        -6.21617851e+04,  -2.21617851e+04,  -1.21617851e+04,\n",
       "        -2.61617851e+04,  -1.41617851e+04,  -6.16178512e+03,\n",
       "        -1.01617851e+04,  -1.11617851e+04,  -7.16178512e+03,\n",
       "        -2.01617851e+04,  -2.41617851e+04,  -4.11617851e+04,\n",
       "        -5.81617851e+04,  -3.21617851e+04,  -3.41617851e+04,\n",
       "        -3.91617851e+04,  -5.61617851e+04,  -5.21617851e+04,\n",
       "        -3.61617851e+04,  -2.01617851e+04,  -1.16178512e+03,\n",
       "        -1.51617851e+04,  -6.01617851e+04,  -9.51617851e+04,\n",
       "         9.83821488e+03,  -1.69161785e+05,  -1.02161785e+05,\n",
       "         9.78382149e+04,  -1.21617851e+04,  -7.16178512e+03,\n",
       "        -1.16178512e+03,   8.18382149e+04,  -2.31617851e+04,\n",
       "        -8.61617851e+04,  -6.41617851e+04,  -6.41617851e+04,\n",
       "         3.58382149e+04,  -8.16178512e+03,  -1.61617851e+04,\n",
       "        -6.71617851e+04,   6.83821488e+03,   3.98382149e+04,\n",
       "         1.48382149e+04,  -3.11617851e+04,  -4.01617851e+04,\n",
       "        -1.51617851e+04,  -1.41617851e+04,  -4.21617851e+04,\n",
       "        -1.91617851e+04,  -2.31617851e+04,  -4.81617851e+04,\n",
       "        -2.17507851e+04,   4.39582149e+04,   2.24572149e+04,\n",
       "         1.35402149e+04,   5.89721488e+03,   1.11521488e+03,\n",
       "        -1.43857851e+04,   2.48121488e+03,  -1.27678512e+03,\n",
       "        -1.11627851e+04,   3.27214876e+02,  -1.74887851e+04,\n",
       "        -1.27137851e+04,  -1.72067851e+04,   1.17882149e+04,\n",
       "         1.47862149e+04,  -7.53778512e+03,   6.96021488e+03,\n",
       "         1.73221488e+03,   9.70321488e+03,   1.63662149e+04,\n",
       "         1.59862149e+04,   8.55321488e+03,   4.04002149e+04,\n",
       "         3.83852149e+04,   4.92822149e+04,   4.70932149e+04,\n",
       "         4.58522149e+04,   4.19942149e+04,   2.97992149e+04,\n",
       "         3.55663215e+05,   5.33462149e+04,   4.09172149e+04,\n",
       "         2.11382149e+04,   5.54892149e+04,   7.70932149e+04,\n",
       "         1.36701215e+05,   1.25605215e+05,   1.16250215e+05,\n",
       "         6.49552149e+04,   4.98582149e+04,   9.16521488e+03,\n",
       "         1.77352149e+04,   1.97452149e+04,   1.54162149e+04,\n",
       "         2.47612149e+04,   4.94222149e+04,   3.87942149e+04,\n",
       "         4.04382149e+04,   3.48642149e+04,  -1.19368785e+05,\n",
       "         1.88232149e+04])"
      ]
     },
     "execution_count": 35,
     "metadata": {},
     "output_type": "execute_result"
    }
   ],
   "source": [
    "difference_from_expected = np.diff(population) - average\n",
    "difference_from_expected"
   ]
  },
  {
   "cell_type": "markdown",
   "metadata": {},
   "source": [
    "**Question 4.5.** Using the `difference_from_expected` array from the previous problem, At the beginning of what year is the expected population change (assuming a linear increase in population by the average absolute change) the most similar (in magnitude - positive or negative) to the actual North Carolina population change over the prior year? \n",
    "\n",
    "<!--\n",
    "BEGIN QUESTION\n",
    "name: q5_4\n",
    "-->"
   ]
  },
  {
   "cell_type": "code",
   "execution_count": 57,
   "metadata": {
    "tags": []
   },
   "outputs": [
    {
     "data": {
      "text/plain": [
       "1980"
      ]
     },
     "execution_count": 57,
     "metadata": {},
     "output_type": "execute_result"
    }
   ],
   "source": [
    "most_similar = np.argmin(abs(difference_from_expected)) + 1901\n",
    "most_similar"
   ]
  },
  {
   "cell_type": "markdown",
   "metadata": {},
   "source": [
    "## 5. Tables\n"
   ]
  },
  {
   "cell_type": "markdown",
   "metadata": {},
   "source": [
    "**Question 5.1.** Suppose that [Brandwein's Bagels](https://www.brandweinsbagels.com/) have ready to sell 23 plain bagels, 17 everything bagels, 12 wheat everything bagels,  19 sesame bagels, and 7 onion bialy. Create a table that contains this information. It should have two columns: `menu item` and `count`.  Assign the new table to the variable `Brandweins`.\n",
    "\n",
    "<!--\n",
    "BEGIN QUESTION\n",
    "name: q5_1\n",
    "-->"
   ]
  },
  {
   "cell_type": "code",
   "execution_count": 60,
   "metadata": {
    "tags": []
   },
   "outputs": [
    {
     "data": {
      "text/html": [
       "<table border=\"1\" class=\"dataframe\">\n",
       "    <thead>\n",
       "        <tr>\n",
       "            <th>menu item</th> <th>count</th>\n",
       "        </tr>\n",
       "    </thead>\n",
       "    <tbody>\n",
       "        <tr>\n",
       "            <td>plain bagels           </td> <td>23   </td>\n",
       "        </tr>\n",
       "        <tr>\n",
       "            <td>everything bagels      </td> <td>17   </td>\n",
       "        </tr>\n",
       "        <tr>\n",
       "            <td>wheat everything bagels</td> <td>12   </td>\n",
       "        </tr>\n",
       "        <tr>\n",
       "            <td>sesame bagels          </td> <td>19   </td>\n",
       "        </tr>\n",
       "        <tr>\n",
       "            <td>onion bialy            </td> <td>7    </td>\n",
       "        </tr>\n",
       "    </tbody>\n",
       "</table>"
      ],
      "text/plain": [
       "menu item               | count\n",
       "plain bagels            | 23\n",
       "everything bagels       | 17\n",
       "wheat everything bagels | 12\n",
       "sesame bagels           | 19\n",
       "onion bialy             | 7"
      ]
     },
     "execution_count": 60,
     "metadata": {},
     "output_type": "execute_result"
    }
   ],
   "source": [
    "Brandweins = Table().with_column(\n",
    "    'menu item', make_array('plain bagels','everything bagels', 'wheat everything bagels', 'sesame bagels', 'onion bialy')).with_column(\n",
    "    'count', make_array(23, 17, 12, 19, 7))\n",
    "Brandweins"
   ]
  },
  {
   "cell_type": "markdown",
   "metadata": {},
   "source": [
    "**Question 5.2.** The file `Brandweins_sales.csv` contains the number of menu items sold over a brief period of time from each type of menu item in the `Brandweins` table. `Brandweins_sales.csv` has an extra column called \"price per menu item (\\$)\". Load these data into a table called `Brandweins_sales`.\n",
    "\n",
    "<!--\n",
    "BEGIN QUESTION\n",
    "name: q5_2\n",
    "-->"
   ]
  },
  {
   "cell_type": "code",
   "execution_count": 63,
   "metadata": {
    "tags": []
   },
   "outputs": [
    {
     "data": {
      "text/html": [
       "<table border=\"1\" class=\"dataframe\">\n",
       "    <thead>\n",
       "        <tr>\n",
       "            <th>menu item</th> <th>count</th> <th>price per menu item ($)</th>\n",
       "        </tr>\n",
       "    </thead>\n",
       "    <tbody>\n",
       "        <tr>\n",
       "            <td>plain bagel           </td> <td>9    </td> <td>2                      </td>\n",
       "        </tr>\n",
       "        <tr>\n",
       "            <td>everything bagel      </td> <td>14   </td> <td>2                      </td>\n",
       "        </tr>\n",
       "        <tr>\n",
       "            <td>wheat everything bagel</td> <td>6    </td> <td>2                      </td>\n",
       "        </tr>\n",
       "        <tr>\n",
       "            <td>sesame bagel          </td> <td>13   </td> <td>2                      </td>\n",
       "        </tr>\n",
       "        <tr>\n",
       "            <td>onion bialy           </td> <td>3    </td> <td>2.5                    </td>\n",
       "        </tr>\n",
       "    </tbody>\n",
       "</table>"
      ],
      "text/plain": [
       "menu item              | count | price per menu item ($)\n",
       "plain bagel            | 9     | 2\n",
       "everything bagel       | 14    | 2\n",
       "wheat everything bagel | 6     | 2\n",
       "sesame bagel           | 13    | 2\n",
       "onion bialy            | 3     | 2.5"
      ]
     },
     "execution_count": 63,
     "metadata": {},
     "output_type": "execute_result"
    }
   ],
   "source": [
    "Brandweins_sales = Table.read_table('Brandweins_sales.csv')\n",
    "Brandweins_sales"
   ]
  },
  {
   "cell_type": "markdown",
   "metadata": {},
   "source": [
    "**Question 5.3.** How many menu items were sold in the `Brandweins_sales` table? Assign this value to `total_items_sold`\n",
    "\n",
    "<!--\n",
    "BEGIN QUESTION\n",
    "name: q5_3\n",
    "-->"
   ]
  },
  {
   "cell_type": "code",
   "execution_count": 67,
   "metadata": {
    "tags": []
   },
   "outputs": [
    {
     "data": {
      "text/plain": [
       "45"
      ]
     },
     "execution_count": 67,
     "metadata": {},
     "output_type": "execute_result"
    }
   ],
   "source": [
    "total_items_sold = np.sum(Brandweins_sales.column('count'))\n",
    "total_items_sold"
   ]
  },
  {
   "cell_type": "markdown",
   "metadata": {},
   "source": [
    "**Question 5.4.** What was the total revenue (the total price of all menu items sold) in the `Brandweins_sales` table? Assign this value to `total_revenue`.\n",
    "\n",
    "<!--\n",
    "BEGIN QUESTION\n",
    "name: q5_4\n",
    "-->"
   ]
  },
  {
   "cell_type": "code",
   "execution_count": 69,
   "metadata": {
    "tags": []
   },
   "outputs": [
    {
     "data": {
      "text/plain": [
       "10.5"
      ]
     },
     "execution_count": 69,
     "metadata": {},
     "output_type": "execute_result"
    }
   ],
   "source": [
    "total_revenue = np.sum(Brandweins_sales.column('price per menu item ($)'))\n",
    "total_revenue"
   ]
  },
  {
   "cell_type": "markdown",
   "metadata": {},
   "source": [
    "**Question 5.5.** Make a new table called `remaining_inventory`.  It should have the same rows and columns as `Brandweins`, except that the amount of menu items sold for each menu item should be subtracted from that menu item's original count, so that the `count` is the amount of menu items remaining.\n",
    "\n",
    "<!--\n",
    "BEGIN QUESTION\n",
    "name: q5_5\n",
    "-->"
   ]
  },
  {
   "cell_type": "code",
   "execution_count": 72,
   "metadata": {
    "tags": []
   },
   "outputs": [
    {
     "data": {
      "text/html": [
       "<table border=\"1\" class=\"dataframe\">\n",
       "    <thead>\n",
       "        <tr>\n",
       "            <th>menu item</th> <th>count</th>\n",
       "        </tr>\n",
       "    </thead>\n",
       "    <tbody>\n",
       "        <tr>\n",
       "            <td>plain bagels           </td> <td>14   </td>\n",
       "        </tr>\n",
       "        <tr>\n",
       "            <td>everything bagels      </td> <td>3    </td>\n",
       "        </tr>\n",
       "        <tr>\n",
       "            <td>wheat everything bagels</td> <td>6    </td>\n",
       "        </tr>\n",
       "        <tr>\n",
       "            <td>sesame bagels          </td> <td>6    </td>\n",
       "        </tr>\n",
       "        <tr>\n",
       "            <td>onion bialy            </td> <td>4    </td>\n",
       "        </tr>\n",
       "    </tbody>\n",
       "</table>"
      ],
      "text/plain": [
       "menu item               | count\n",
       "plain bagels            | 14\n",
       "everything bagels       | 3\n",
       "wheat everything bagels | 6\n",
       "sesame bagels           | 6\n",
       "onion bialy             | 4"
      ]
     },
     "execution_count": 72,
     "metadata": {},
     "output_type": "execute_result"
    }
   ],
   "source": [
    "remaining_inventory = Table().with_column(\n",
    "    'menu item', make_array('plain bagels','everything bagels', 'wheat everything bagels', 'sesame bagels', 'onion bialy')).with_column(\n",
    "        'count', (Brandweins.column('count') - Brandweins_sales.column('count')))\n",
    "\n",
    "remaining_inventory"
   ]
  }
 ],
 "metadata": {
  "kernelspec": {
   "display_name": "Python 3",
   "language": "python",
   "name": "python3"
  },
  "language_info": {
   "codemirror_mode": {
    "name": "ipython",
    "version": 3
   },
   "file_extension": ".py",
   "mimetype": "text/x-python",
   "name": "python",
   "nbconvert_exporter": "python",
   "pygments_lexer": "ipython3",
   "version": "3.11.4"
  }
 },
 "nbformat": 4,
 "nbformat_minor": 4
}
