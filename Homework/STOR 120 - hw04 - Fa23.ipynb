{
 "cells": [
  {
   "cell_type": "markdown",
   "metadata": {},
   "source": [
    "# Homework 4: Applying Functions and Iteration"
   ]
  },
  {
   "cell_type": "markdown",
   "metadata": {},
   "source": [
    "Please complete this notebook by filling in the cells provided. Before you begin, execute the following cell. "
   ]
  },
  {
   "cell_type": "code",
   "execution_count": 2,
   "metadata": {
    "tags": []
   },
   "outputs": [],
   "source": [
    "# Don't change this cell; just run it. \n",
    "import numpy as np\n",
    "from datascience import *"
   ]
  },
  {
   "cell_type": "markdown",
   "metadata": {},
   "source": [
    "## 1. UNC Football\n"
   ]
  },
  {
   "cell_type": "markdown",
   "metadata": {},
   "source": [
    "You will analyze how well the UNC football team performed in the 2018-2022 seasons. A football game is divided into four quarters. If the game is tied after the 4th quarter, the game goes into overtime. The number of points that UNC scored in each quarter and overtime (multiple overtimes if needed), and the number of points that their opponent scored in each quarter and overtime (multiple overtimes if needed) are stored in a table called `UNC_fb23.csv`."
   ]
  },
  {
   "cell_type": "code",
   "execution_count": 2,
   "metadata": {
    "tags": []
   },
   "outputs": [
    {
     "data": {
      "text/html": [
       "<table border=\"1\" class=\"dataframe\">\n",
       "    <thead>\n",
       "        <tr>\n",
       "            <th>Year</th> <th>Opponent</th> <th>UNC 1Q</th> <th>UNC 2Q</th> <th>UNC 3Q</th> <th>UNC 4Q</th> <th>UNC OT</th> <th>Opp 1Q</th> <th>Opp 2Q</th> <th>Opp 3Q</th> <th>Opp 4Q</th> <th>Opp OT</th>\n",
       "        </tr>\n",
       "    </thead>\n",
       "    <tbody>\n",
       "        <tr>\n",
       "            <td>2018</td> <td>California   </td> <td>0     </td> <td>0     </td> <td>3     </td> <td>14    </td> <td>0     </td> <td>7     </td> <td>10    </td> <td>7     </td> <td>0     </td> <td>0     </td>\n",
       "        </tr>\n",
       "        <tr>\n",
       "            <td>2018</td> <td>East Carolina</td> <td>6     </td> <td>13    </td> <td>0     </td> <td>0     </td> <td>0     </td> <td>7     </td> <td>14    </td> <td>7     </td> <td>13    </td> <td>0     </td>\n",
       "        </tr>\n",
       "        <tr>\n",
       "            <td>2018</td> <td>Pittsburgh   </td> <td>7     </td> <td>14    </td> <td>17    </td> <td>0     </td> <td>0     </td> <td>7     </td> <td>21    </td> <td>0     </td> <td>7     </td> <td>0     </td>\n",
       "        </tr>\n",
       "        <tr>\n",
       "            <td>2018</td> <td>Miami FL     </td> <td>10    </td> <td>0     </td> <td>0     </td> <td>0     </td> <td>0     </td> <td>14    </td> <td>19    </td> <td>0     </td> <td>14    </td> <td>0     </td>\n",
       "        </tr>\n",
       "        <tr>\n",
       "            <td>2018</td> <td>Virginia Tech</td> <td>6     </td> <td>3     </td> <td>7     </td> <td>3     </td> <td>0     </td> <td>7     </td> <td>0     </td> <td>7     </td> <td>8     </td> <td>0     </td>\n",
       "        </tr>\n",
       "        <tr>\n",
       "            <td>2018</td> <td>Syracuse     </td> <td>7     </td> <td>0     </td> <td>17    </td> <td>3     </td> <td>10    </td> <td>0     </td> <td>13    </td> <td>7     </td> <td>7     </td> <td>13    </td>\n",
       "        </tr>\n",
       "        <tr>\n",
       "            <td>2018</td> <td>Virginia     </td> <td>7     </td> <td>7     </td> <td>0     </td> <td>7     </td> <td>0     </td> <td>14    </td> <td>3     </td> <td>7     </td> <td>7     </td> <td>0     </td>\n",
       "        </tr>\n",
       "        <tr>\n",
       "            <td>2018</td> <td>Georgia Tech </td> <td>7     </td> <td>3     </td> <td>10    </td> <td>8     </td> <td>0     </td> <td>7     </td> <td>14    </td> <td>7     </td> <td>10    </td> <td>0     </td>\n",
       "        </tr>\n",
       "        <tr>\n",
       "            <td>2018</td> <td>Duke         </td> <td>14    </td> <td>14    </td> <td>0     </td> <td>7     </td> <td>0     </td> <td>14    </td> <td>21    </td> <td>7     </td> <td>0     </td> <td>0     </td>\n",
       "        </tr>\n",
       "        <tr>\n",
       "            <td>2018</td> <td>WCU          </td> <td>14    </td> <td>21    </td> <td>14    </td> <td>0     </td> <td>0     </td> <td>7     </td> <td>9     </td> <td>3     </td> <td>7     </td> <td>0     </td>\n",
       "        </tr>\n",
       "    </tbody>\n",
       "</table>\n",
       "<p>... (53 rows omitted)</p>"
      ],
      "text/plain": [
       "Year | Opponent      | UNC 1Q | UNC 2Q | UNC 3Q | UNC 4Q | UNC OT | Opp 1Q | Opp 2Q | Opp 3Q | Opp 4Q | Opp OT\n",
       "2018 | California    | 0      | 0      | 3      | 14     | 0      | 7      | 10     | 7      | 0      | 0\n",
       "2018 | East Carolina | 6      | 13     | 0      | 0      | 0      | 7      | 14     | 7      | 13     | 0\n",
       "2018 | Pittsburgh    | 7      | 14     | 17     | 0      | 0      | 7      | 21     | 0      | 7      | 0\n",
       "2018 | Miami FL      | 10     | 0      | 0      | 0      | 0      | 14     | 19     | 0      | 14     | 0\n",
       "2018 | Virginia Tech | 6      | 3      | 7      | 3      | 0      | 7      | 0      | 7      | 8      | 0\n",
       "2018 | Syracuse      | 7      | 0      | 17     | 3      | 10     | 0      | 13     | 7      | 7      | 13\n",
       "2018 | Virginia      | 7      | 7      | 0      | 7      | 0      | 14     | 3      | 7      | 7      | 0\n",
       "2018 | Georgia Tech  | 7      | 3      | 10     | 8      | 0      | 7      | 14     | 7      | 10     | 0\n",
       "2018 | Duke          | 14     | 14     | 0      | 7      | 0      | 14     | 21     | 7      | 0      | 0\n",
       "2018 | WCU           | 14     | 21     | 14     | 0      | 0      | 7      | 9      | 3      | 7      | 0\n",
       "... (53 rows omitted)"
      ]
     },
     "execution_count": 2,
     "metadata": {},
     "output_type": "execute_result"
    }
   ],
   "source": [
    "# Just run this cell\n",
    "UNC_fb = Table().read_table(\"UNC_fb23.csv\")\n",
    "UNC_fb"
   ]
  },
  {
   "cell_type": "markdown",
   "metadata": {},
   "source": [
    "Let's start by finding the total points each team scored in a game.\n",
    "\n",
    "**Question 1.1.** Write a function called `Sum_Scores`.  It should take five arguments, where each argument is the team's score for that quarter or overtime. It should return the team's total score for that game.\n",
    "\n",
    "\n",
    "<!--\n",
    "BEGIN QUESTION\n",
    "name: q1_1\n",
    "manual: false\n",
    "-->"
   ]
  },
  {
   "cell_type": "code",
   "execution_count": 7,
   "metadata": {
    "tags": []
   },
   "outputs": [
    {
     "data": {
      "text/plain": [
       "24"
      ]
     },
     "execution_count": 7,
     "metadata": {},
     "output_type": "execute_result"
    }
   ],
   "source": [
    "def Sum_Scores(q_one, q_two, q_three, q_four, ot):\n",
    "    '''Returns the total score calculated by adding up the score of each quarter and overtime'''\n",
    "    scores = make_array(q_one, q_two, q_three, q_four, ot)\n",
    "    return sum(scores)\n",
    "\n",
    "Sum_Scores(14, 7, 3, 0, 0) #DO NOT CHANGE THIS LINE"
   ]
  },
  {
   "cell_type": "markdown",
   "metadata": {},
   "source": [
    "**Question 1.2.** Create a new table `Final_Scores` with four columns in this *specific* order: `Year`, `Opponent`, `UNC Score`, `Opponent Score`. Create the `UNC Scores` and `Opponent Scores` arrays used for the columns of this table using the function `Sum_Scores` that you defined in the previous question.\n",
    "\n",
    "*Hint:* If you want to apply a function that takes in multiple arguments, you can pass multiple column names as arguments in `tbl.apply()`. The column values will be passed into the corresponding arguments of the function.\n",
    "\n",
    "*Tip:* If you’re running into issues creating `Final_Scores`, check that `UNC_Scores` and `Opponent_Scores` arrays output what you want. \n",
    "\n",
    "\n",
    "<!--\n",
    "BEGIN QUESTION\n",
    "name: q1_2\n",
    "manual: false\n",
    "-->"
   ]
  },
  {
   "cell_type": "code",
   "execution_count": 13,
   "metadata": {
    "tags": []
   },
   "outputs": [
    {
     "data": {
      "text/html": [
       "<table border=\"1\" class=\"dataframe\">\n",
       "    <thead>\n",
       "        <tr>\n",
       "            <th>Year</th> <th>Opponent</th> <th>UNC Scores</th> <th>Opponent Scores</th>\n",
       "        </tr>\n",
       "    </thead>\n",
       "    <tbody>\n",
       "        <tr>\n",
       "            <td>2018</td> <td>California   </td> <td>17        </td> <td>24             </td>\n",
       "        </tr>\n",
       "        <tr>\n",
       "            <td>2018</td> <td>East Carolina</td> <td>19        </td> <td>41             </td>\n",
       "        </tr>\n",
       "        <tr>\n",
       "            <td>2018</td> <td>Pittsburgh   </td> <td>38        </td> <td>35             </td>\n",
       "        </tr>\n",
       "        <tr>\n",
       "            <td>2018</td> <td>Miami FL     </td> <td>10        </td> <td>47             </td>\n",
       "        </tr>\n",
       "        <tr>\n",
       "            <td>2018</td> <td>Virginia Tech</td> <td>19        </td> <td>22             </td>\n",
       "        </tr>\n",
       "        <tr>\n",
       "            <td>2018</td> <td>Syracuse     </td> <td>37        </td> <td>40             </td>\n",
       "        </tr>\n",
       "        <tr>\n",
       "            <td>2018</td> <td>Virginia     </td> <td>21        </td> <td>31             </td>\n",
       "        </tr>\n",
       "        <tr>\n",
       "            <td>2018</td> <td>Georgia Tech </td> <td>28        </td> <td>38             </td>\n",
       "        </tr>\n",
       "        <tr>\n",
       "            <td>2018</td> <td>Duke         </td> <td>35        </td> <td>42             </td>\n",
       "        </tr>\n",
       "        <tr>\n",
       "            <td>2018</td> <td>WCU          </td> <td>49        </td> <td>26             </td>\n",
       "        </tr>\n",
       "    </tbody>\n",
       "</table>\n",
       "<p>... (53 rows omitted)</p>"
      ],
      "text/plain": [
       "Year | Opponent      | UNC Scores | Opponent Scores\n",
       "2018 | California    | 17         | 24\n",
       "2018 | East Carolina | 19         | 41\n",
       "2018 | Pittsburgh    | 38         | 35\n",
       "2018 | Miami FL      | 10         | 47\n",
       "2018 | Virginia Tech | 19         | 22\n",
       "2018 | Syracuse      | 37         | 40\n",
       "2018 | Virginia      | 21         | 31\n",
       "2018 | Georgia Tech  | 28         | 38\n",
       "2018 | Duke          | 35         | 42\n",
       "2018 | WCU           | 49         | 26\n",
       "... (53 rows omitted)"
      ]
     },
     "execution_count": 13,
     "metadata": {},
     "output_type": "execute_result"
    }
   ],
   "source": [
    "UNC_Scores = UNC_fb.apply(Sum_Scores, 'UNC 1Q', 'UNC 2Q', 'UNC 3Q', 'UNC 4Q', 'UNC OT')\n",
    "Opponent_Scores = UNC_fb.apply(Sum_Scores, 'Opp 1Q', 'Opp 2Q', 'Opp 3Q', 'Opp 4Q', 'Opp OT')\n",
    "Final_Scores = UNC_fb.select('Year', 'Opponent').with_column(\n",
    "    'UNC Scores', UNC_Scores).with_column(\n",
    "    'Opponent Scores', Opponent_Scores)\n",
    "Final_Scores\n"
   ]
  },
  {
   "cell_type": "markdown",
   "metadata": {},
   "source": [
    "We can get specific row objects from a table. You can use `tbl.row(n)` to get the `n`th row of a table. `row.item(\"column_name\")` will allow you to select the element that corresponds to `column_name` in a particular row. Here's an example:"
   ]
  },
  {
   "cell_type": "code",
   "execution_count": 14,
   "metadata": {
    "tags": []
   },
   "outputs": [
    {
     "data": {
      "text/plain": [
       "Row(Year=2018, Opponent='NC State', UNC 1Q=0, UNC 2Q=6, UNC 3Q=15, UNC 4Q=7, UNC OT=0, Opp 1Q=7, Opp 2Q=0, Opp 3Q=14, Opp 4Q=7, Opp OT=6)"
      ]
     },
     "execution_count": 14,
     "metadata": {},
     "output_type": "execute_result"
    }
   ],
   "source": [
    "# Just run this cell\n",
    "UNC_fb.row(10)"
   ]
  },
  {
   "cell_type": "code",
   "execution_count": 15,
   "metadata": {
    "tags": []
   },
   "outputs": [
    {
     "data": {
      "text/plain": [
       "0"
      ]
     },
     "execution_count": 15,
     "metadata": {},
     "output_type": "execute_result"
    }
   ],
   "source": [
    "# Just run this cell\n",
    "UNC_fb.row(10).item(\"UNC 1Q\")"
   ]
  },
  {
   "cell_type": "markdown",
   "metadata": {},
   "source": [
    "**Question 1.3.** We want to see for a particular game whether or not UNC won. Write a function called `Did_UNC_Win`.  It should take one argument: a row object (*not* a row number) from the `Final_Scores` table. It should return either `True` (the boolean value and *not* a string) if UNC's score was greater than the Opponent's score, and `False` otherwise. \n",
    "\n",
    "\n",
    "<!--\n",
    "BEGIN QUESTION\n",
    "name: q1_3\n",
    "manual: false\n",
    "-->"
   ]
  },
  {
   "cell_type": "code",
   "execution_count": 23,
   "metadata": {
    "tags": []
   },
   "outputs": [
    {
     "data": {
      "text/plain": [
       "True"
      ]
     },
     "execution_count": 23,
     "metadata": {},
     "output_type": "execute_result"
    }
   ],
   "source": [
    "def Did_UNC_Win(row):\n",
    "    return row.item('UNC Scores') > row.item('Opponent Scores')\n",
    "        \n",
    "Did_UNC_Win(Final_Scores.row(2))"
   ]
  },
  {
   "cell_type": "markdown",
   "metadata": {},
   "source": [
    "**Question 1.4.** You want to see how UNC did against every opponent during the 2022 season. Using the `Final_Scores` table, assign `results` to an array of `True` and `False` values that correspond to whether or not UNC won during each game in the 2018 - 2022 seasons. Add the `results` array to the `Final_Scores` table, and assign this to `Final_Scores_With_Results`. Then, respectively assign the number of wins and losses UNC had in 2022 to `UNC_wins_2022` and `UNC_losses_2022`.\n",
    "\n",
    "*Hint*: When you only pass a function name and no column labels through `tbl.apply()`, the function gets applied to every row in `tbl`\n",
    "\n",
    "\n",
    "<!--\n",
    "BEGIN QUESTION\n",
    "name: q1_4\n",
    "manual: false\n",
    "-->"
   ]
  },
  {
   "cell_type": "code",
   "execution_count": 28,
   "metadata": {
    "tags": []
   },
   "outputs": [
    {
     "name": "stdout",
     "output_type": "stream",
     "text": [
      "In the 2022 season, UNC won 32 games and lost 31 games. Go Tar Heels!\n"
     ]
    }
   ],
   "source": [
    "results = Final_Scores.apply(Did_UNC_Win)\n",
    "Final_Scores_With_Results = Final_Scores.with_column('Results', results)\n",
    "UNC_wins_2022 = Final_Scores_With_Results.where('Results', True).num_rows\n",
    "UNC_losses_2022 = Final_Scores_With_Results.where('Results', False).num_rows\n",
    "\n",
    "# Don't delete or edit the following line:\n",
    "print(f\"In the 2022 season, UNC won {UNC_wins_2022} games and lost {UNC_losses_2022} games. Go Tar Heels!\")"
   ]
  },
  {
   "cell_type": "markdown",
   "metadata": {},
   "source": [
    "**Question 1.5.** When UNC was leading at the end of the 3rd quarter (for games across all years in the data), what proportion of these specific games did UNC go on to win? Assign this proportion to `UNC_Win_Prop_3QLead`. To answer this question you should use much of the same process used on the previous questions, but you will need to write new functions to do so. You can (should) do this over multiple steps.\n",
    "\n",
    "<!--\n",
    "BEGIN QUESTION\n",
    "name: q1_5\n",
    "manual: false\n",
    "-->"
   ]
  },
  {
   "cell_type": "code",
   "execution_count": 42,
   "metadata": {
    "tags": []
   },
   "outputs": [],
   "source": [
    "def Sum_Three_Scores(q_one, q_two, q_three):\n",
    "    '''Returns the total score calculated by adding up the score of the first three quarters'''\n",
    "    scores = make_array(q_one, q_two, q_three)\n",
    "    return sum(scores)\n",
    "\n",
    "UNC_Q3_Scores = UNC_fb.apply(Sum_Scores, 'UNC 1Q', 'UNC 2Q', 'UNC 3Q', 'UNC 4Q', 'UNC OT')\n",
    "Opponent_Q3_Scores = UNC_fb.apply(Sum_Scores, 'Opp 1Q', 'Opp 2Q', 'Opp 3Q', 'Opp 4Q', 'Opp OT')\n",
    "Q3_Scores = UNC_fb.select('Year', 'Opponent').with_column(\n",
    "    'UNC Q3 Total', UNC_Q3_Scores).with_column(\n",
    "    'Opponent Q3 Total', Opponent_Q3_Scores)\n",
    "\n",
    "def Is_UNC_Up(row):\n",
    "    return row.item('UNC Q3 Total') > row.item('Opponent Q3 Total')\n",
    "\n",
    "Q3_results = Q3_Scores.apply(Is_UNC_Up)\n",
    "Q3_Scores_results = Final_Scores_With_Results.with_column('UNC Up?', Q3_results)\n",
    "UNC_is_up = Q3_Scores_results.where('UNC Up?', True)\n",
    "UNC_stayed_up = Q3_Scores_results.where('UNC Up?', True).where('Results', True)\n"
   ]
  },
  {
   "cell_type": "code",
   "execution_count": 43,
   "metadata": {
    "tags": []
   },
   "outputs": [
    {
     "name": "stdout",
     "output_type": "stream",
     "text": [
      "When leading at the end of the 3rd quarter during the 2018-2022 seasons, UNC won 100% of the games\n"
     ]
    }
   ],
   "source": [
    "UNC_Win_Prop_3QLead  = UNC_stayed_up.num_rows / UNC_is_up.num_rows\n",
    "print(f\"When leading at the end of the 3rd quarter during the 2018-2022 seasons, UNC won {round(UNC_Win_Prop_3QLead*100)}% of the games\") "
   ]
  },
  {
   "cell_type": "markdown",
   "metadata": {},
   "source": [
    "## 2. Unrolling Loops"
   ]
  },
  {
   "cell_type": "markdown",
   "metadata": {},
   "source": [
    "\"Unrolling\" a `for` loop means to manually write out all the code that it executes.  The result is code that does the same thing as the loop, but without the structure of the loop.  For example, for the following loop:\n",
    "\n",
    "    for num in np.arange(3):\n",
    "        print(\"The number is\", num)\n",
    "\n",
    "The unrolled version would look like this:\n",
    "\n",
    "    print(\"The number is\", 0)\n",
    "    print(\"The number is\", 1)\n",
    "    print(\"The number is\", 2)\n",
    "\n",
    "\n",
    "Unrolling a `for` loop is a great way to understand what the loop is doing during each step. In this exercise, you'll practice unrolling `for` loops.\n",
    "\n",
    "\n",
    "In each question below, write code that does the same thing as the given code, but with any `for` loops unrolled.  It's a good idea to run both your answer and the original code to verify that they do the same thing.  (Of course, if the code does something random, you'll get a different random outcome than the original code!)\n",
    "\n",
    "First, run the cell below to load data that will be used in a few questions.  It's a table with 52 rows, one for each type of card in a deck of playing cards.  A playing card has a \"suit\" (\"♠︎\", \"♣︎\", \"♥︎\", or \"♦︎\") and a \"rank\" (2 through 10, J, Q, K, or A).  There are 4 suits and 13 ranks, so there are $4 \\times 13 = 52$ different cards."
   ]
  },
  {
   "cell_type": "code",
   "execution_count": 3,
   "metadata": {
    "tags": []
   },
   "outputs": [
    {
     "data": {
      "text/html": [
       "<table border=\"1\" class=\"dataframe\">\n",
       "    <thead>\n",
       "        <tr>\n",
       "            <th>Rank</th> <th>Suit</th>\n",
       "        </tr>\n",
       "    </thead>\n",
       "    <tbody>\n",
       "        <tr>\n",
       "            <td>2   </td> <td>♠︎  </td>\n",
       "        </tr>\n",
       "        <tr>\n",
       "            <td>2   </td> <td>♣︎  </td>\n",
       "        </tr>\n",
       "        <tr>\n",
       "            <td>2   </td> <td>♥︎  </td>\n",
       "        </tr>\n",
       "        <tr>\n",
       "            <td>2   </td> <td>♦︎  </td>\n",
       "        </tr>\n",
       "        <tr>\n",
       "            <td>3   </td> <td>♠︎  </td>\n",
       "        </tr>\n",
       "        <tr>\n",
       "            <td>3   </td> <td>♣︎  </td>\n",
       "        </tr>\n",
       "        <tr>\n",
       "            <td>3   </td> <td>♥︎  </td>\n",
       "        </tr>\n",
       "        <tr>\n",
       "            <td>3   </td> <td>♦︎  </td>\n",
       "        </tr>\n",
       "        <tr>\n",
       "            <td>4   </td> <td>♠︎  </td>\n",
       "        </tr>\n",
       "        <tr>\n",
       "            <td>4   </td> <td>♣︎  </td>\n",
       "        </tr>\n",
       "    </tbody>\n",
       "</table>\n",
       "<p>... (42 rows omitted)</p>"
      ],
      "text/plain": [
       "Rank | Suit\n",
       "2    | ♠︎\n",
       "2    | ♣︎\n",
       "2    | ♥︎\n",
       "2    | ♦︎\n",
       "3    | ♠︎\n",
       "3    | ♣︎\n",
       "3    | ♥︎\n",
       "3    | ♦︎\n",
       "4    | ♠︎\n",
       "4    | ♣︎\n",
       "... (42 rows omitted)"
      ]
     },
     "execution_count": 3,
     "metadata": {},
     "output_type": "execute_result"
    }
   ],
   "source": [
    "deck = Table.read_table(\"deck.csv\")\n",
    "deck"
   ]
  },
  {
   "cell_type": "markdown",
   "metadata": {},
   "source": [
    "**Question 2.1.** Unroll the code below.\n",
    "\n",
    "*Hint:* `np.random.randint` returns a random integer between 0 (inclusive) and the value that's passed in (exclusive).\n",
    "\n",
    "<!--\n",
    "BEGIN QUESTION\n",
    "name: q2_1\n",
    "manual: false\n",
    "-->"
   ]
  },
  {
   "cell_type": "code",
   "execution_count": 5,
   "metadata": {},
   "outputs": [
    {
     "data": {
      "text/html": [
       "<table border=\"1\" class=\"dataframe\">\n",
       "    <thead>\n",
       "        <tr>\n",
       "            <th>Rank</th> <th>Suit</th>\n",
       "        </tr>\n",
       "    </thead>\n",
       "    <tbody>\n",
       "        <tr>\n",
       "            <td>4   </td> <td>♥︎  </td>\n",
       "        </tr>\n",
       "        <tr>\n",
       "            <td>J   </td> <td>♠︎  </td>\n",
       "        </tr>\n",
       "        <tr>\n",
       "            <td>7   </td> <td>♣︎  </td>\n",
       "        </tr>\n",
       "        <tr>\n",
       "            <td>8   </td> <td>♦︎  </td>\n",
       "        </tr>\n",
       "        <tr>\n",
       "            <td>J   </td> <td>♣︎  </td>\n",
       "        </tr>\n",
       "    </tbody>\n",
       "</table>"
      ],
      "text/plain": [
       "Rank | Suit\n",
       "4    | ♥︎\n",
       "J    | ♠︎\n",
       "7    | ♣︎\n",
       "8    | ♦︎\n",
       "J    | ♣︎"
      ]
     },
     "execution_count": 5,
     "metadata": {},
     "output_type": "execute_result"
    }
   ],
   "source": [
    "# This table will hold the cards in a randomly-drawn hand of\n",
    "# 5 cards.  We simulate cards being drawn as follows: We draw\n",
    "# a card at random from the deck, make a copy of it, put the\n",
    "# copy in our hand, and put the card back in the deck.  That\n",
    "# means we might draw the same card multiple times, which is\n",
    "# different from a normal draw in most card games.\n",
    "hand = Table().with_columns(\"Rank\", make_array(), \"Suit\", make_array())\n",
    "for suit in np.arange(5):\n",
    "    card = deck.row(np.random.randint(deck.num_rows))\n",
    "    hand = hand.with_row(card)\n",
    "hand"
   ]
  },
  {
   "cell_type": "code",
   "execution_count": 7,
   "metadata": {
    "for_assignment_type": "solution"
   },
   "outputs": [
    {
     "data": {
      "text/html": [
       "<table border=\"1\" class=\"dataframe\">\n",
       "    <thead>\n",
       "        <tr>\n",
       "            <th>Rank</th> <th>Suit</th>\n",
       "        </tr>\n",
       "    </thead>\n",
       "    <tbody>\n",
       "        <tr>\n",
       "            <td>5   </td> <td>♦︎  </td>\n",
       "        </tr>\n",
       "        <tr>\n",
       "            <td>3   </td> <td>♦︎  </td>\n",
       "        </tr>\n",
       "        <tr>\n",
       "            <td>2   </td> <td>♦︎  </td>\n",
       "        </tr>\n",
       "        <tr>\n",
       "            <td>10  </td> <td>♣︎  </td>\n",
       "        </tr>\n",
       "        <tr>\n",
       "            <td>3   </td> <td>♠︎  </td>\n",
       "        </tr>\n",
       "    </tbody>\n",
       "</table>"
      ],
      "text/plain": [
       "Rank | Suit\n",
       "5    | ♦︎\n",
       "3    | ♦︎\n",
       "2    | ♦︎\n",
       "10   | ♣︎\n",
       "3    | ♠︎"
      ]
     },
     "execution_count": 7,
     "metadata": {},
     "output_type": "execute_result"
    }
   ],
   "source": [
    "hand = Table().with_columns(\"Rank\", make_array(), \"Suit\", make_array())\n",
    "card = deck.row(np.random.randint(deck.num_rows))\n",
    "hand = hand.with_row(card)\n",
    "card = deck.row(np.random.randint(deck.num_rows))\n",
    "hand = hand.with_row(card)\n",
    "card = deck.row(np.random.randint(deck.num_rows))\n",
    "hand = hand.with_row(card)\n",
    "card = deck.row(np.random.randint(deck.num_rows))\n",
    "hand = hand.with_row(card)\n",
    "card = deck.row(np.random.randint(deck.num_rows))\n",
    "hand = hand.with_row(card)\n",
    "\n",
    "hand"
   ]
  },
  {
   "cell_type": "markdown",
   "metadata": {},
   "source": [
    "**Question 2.2.** Unroll the code below.\n",
    "<!--\n",
    "BEGIN QUESTION\n",
    "name: q2_2\n",
    "manual: false\n",
    "-->"
   ]
  },
  {
   "cell_type": "code",
   "execution_count": 8,
   "metadata": {},
   "outputs": [
    {
     "name": "stdout",
     "output_type": "stream",
     "text": [
      "Knock, knock.\n",
      "Who's there?\n",
      "Banana.\n",
      "Banana who?\n",
      "Knock, knock.\n",
      "Who's there?\n",
      "Banana.\n",
      "Banana who?\n",
      "Knock, knock.\n",
      "Who's there?\n",
      "Banana.\n",
      "Banana who?\n",
      "Knock, knock.\n",
      "Who's there?\n",
      "Banana.\n",
      "Banana who?\n",
      "Knock, knock.\n",
      "Who's there?\n",
      "Orange.\n",
      "Orange who?\n",
      "Orange you glad I didn't say banana?\n"
     ]
    }
   ],
   "source": [
    "for joke_iteration in np.arange(4):\n",
    "    print(\"Knock, knock.\")\n",
    "    print(\"Who's there?\")\n",
    "    print(\"Banana.\")\n",
    "    print(\"Banana who?\")\n",
    "print(\"Knock, knock.\")\n",
    "print(\"Who's there?\")\n",
    "print(\"Orange.\")\n",
    "print(\"Orange who?\")\n",
    "print(\"Orange you glad I didn't say banana?\")"
   ]
  },
  {
   "cell_type": "code",
   "execution_count": 9,
   "metadata": {
    "for_assignment_type": "solution"
   },
   "outputs": [
    {
     "name": "stdout",
     "output_type": "stream",
     "text": [
      "Knock, knock.\n",
      "Who's there?\n",
      "Banana.\n",
      "Banana who?\n",
      "Knock, knock.\n",
      "Who's there?\n",
      "Banana.\n",
      "Banana who?\n",
      "Knock, knock.\n",
      "Who's there?\n",
      "Banana.\n",
      "Banana who?\n",
      "Knock, knock.\n",
      "Who's there?\n",
      "Banana.\n",
      "Banana who?\n",
      "Knock, knock.\n",
      "Who's there?\n",
      "Orange.\n",
      "Orange who?\n",
      "Orange you glad I didn't say banana?\n"
     ]
    }
   ],
   "source": [
    "print(\"Knock, knock.\")\n",
    "print(\"Who's there?\")\n",
    "print(\"Banana.\")\n",
    "print(\"Banana who?\")\n",
    "print(\"Knock, knock.\")\n",
    "print(\"Who's there?\")\n",
    "print(\"Banana.\")\n",
    "print(\"Banana who?\")\n",
    "print(\"Knock, knock.\")\n",
    "print(\"Who's there?\")\n",
    "print(\"Banana.\")\n",
    "print(\"Banana who?\")\n",
    "print(\"Knock, knock.\")\n",
    "print(\"Who's there?\")\n",
    "print(\"Banana.\")\n",
    "print(\"Banana who?\")\n",
    "print(\"Knock, knock.\")\n",
    "print(\"Who's there?\")\n",
    "print(\"Orange.\")\n",
    "print(\"Orange who?\")\n",
    "print(\"Orange you glad I didn't say banana?\")"
   ]
  },
  {
   "cell_type": "code",
   "execution_count": null,
   "metadata": {},
   "outputs": [],
   "source": []
  }
 ],
 "metadata": {
  "kernelspec": {
   "display_name": "Python 3",
   "language": "python",
   "name": "python3"
  },
  "language_info": {
   "codemirror_mode": {
    "name": "ipython",
    "version": 3
   },
   "file_extension": ".py",
   "mimetype": "text/x-python",
   "name": "python",
   "nbconvert_exporter": "python",
   "pygments_lexer": "ipython3",
   "version": "3.11.4"
  }
 },
 "nbformat": 4,
 "nbformat_minor": 4
}
