{
 "cells": [
  {
   "cell_type": "markdown",
   "metadata": {},
   "source": [
    "# STOR 120 - Homework 3: Table Manipulation, Visualization, Functions, & Grouping"
   ]
  },
  {
   "cell_type": "markdown",
   "metadata": {},
   "source": [
    "Please complete this notebook by filling in the cells provided. \n",
    "\n",
    "**Throughout this homework and all future ones, please be sure to not re-assign variables throughout the notebook!** For example, if you use `max_temperature` in your answer to one question, do not reassign it later on. Moreover, please be sure to only put your written answers in the provided cells. "
   ]
  },
  {
   "cell_type": "code",
   "execution_count": 1,
   "metadata": {
    "tags": []
   },
   "outputs": [],
   "source": [
    "# Don't change this cell; just run it. \n",
    "\n",
    "import numpy as np\n",
    "from datascience import *\n",
    "\n",
    "\n",
    "# These lines do some fancy plotting magic.\n",
    "import matplotlib\n",
    "%matplotlib inline\n",
    "import matplotlib.pyplot as plots\n",
    "plots.style.use('fivethirtyeight')"
   ]
  },
  {
   "cell_type": "markdown",
   "metadata": {},
   "source": [
    "## 1. Unemployment\n"
   ]
  },
  {
   "cell_type": "markdown",
   "metadata": {},
   "source": [
    "The Federal Reserve Bank of St. Louis publishes data about jobs in the US.  Below, we've loaded data on unemployment in the United States. There are many ways of defining unemployment, and our dataset includes two notions of the unemployment rate:\n",
    "\n",
    "1. Among people who are able to work and are looking for a full-time job, the percentage who can't find a job.  This is called the Non-Employment Index, or NEI.\n",
    "2. Among people who are able to work and are looking for a full-time job, the percentage who can't find any job *or* are only working at a part-time job.  The latter group is called \"Part-Time for Economic Reasons\", so the acronym for this index is NEI-PTER.  (Economists are great at marketing.)\n",
    "\n",
    "The source of the data is [here](https://fred.stlouisfed.org/categories/33509)."
   ]
  },
  {
   "cell_type": "markdown",
   "metadata": {},
   "source": [
    "**Question 1.1.** The data are in a CSV file called `unemployment2023.csv`.  Load that file into a table called `unemployment2023`.\n",
    "\n",
    "<!--\n",
    "BEGIN QUESTION\n",
    "name: q1_1\n",
    "-->"
   ]
  },
  {
   "cell_type": "code",
   "execution_count": 2,
   "metadata": {
    "tags": []
   },
   "outputs": [
    {
     "data": {
      "text/html": [
       "<table border=\"1\" class=\"dataframe\">\n",
       "    <thead>\n",
       "        <tr>\n",
       "            <th>DATE</th> <th>NEI</th> <th>NEI-PTER</th>\n",
       "        </tr>\n",
       "    </thead>\n",
       "    <tbody>\n",
       "        <tr>\n",
       "            <td>1/1/1994 </td> <td>10.0072</td> <td>11.0736 </td>\n",
       "        </tr>\n",
       "        <tr>\n",
       "            <td>2/1/1994 </td> <td>9.83318</td> <td>10.9887 </td>\n",
       "        </tr>\n",
       "        <tr>\n",
       "            <td>3/1/1994 </td> <td>9.72693</td> <td>10.9415 </td>\n",
       "        </tr>\n",
       "        <tr>\n",
       "            <td>4/1/1994 </td> <td>9.59373</td> <td>10.7789 </td>\n",
       "        </tr>\n",
       "        <tr>\n",
       "            <td>5/1/1994 </td> <td>9.38267</td> <td>10.6046 </td>\n",
       "        </tr>\n",
       "        <tr>\n",
       "            <td>6/1/1994 </td> <td>9.37588</td> <td>10.5891 </td>\n",
       "        </tr>\n",
       "        <tr>\n",
       "            <td>7/1/1994 </td> <td>9.31817</td> <td>10.4796 </td>\n",
       "        </tr>\n",
       "        <tr>\n",
       "            <td>8/1/1994 </td> <td>9.26762</td> <td>10.3866 </td>\n",
       "        </tr>\n",
       "        <tr>\n",
       "            <td>9/1/1994 </td> <td>9.17775</td> <td>10.2857 </td>\n",
       "        </tr>\n",
       "        <tr>\n",
       "            <td>10/1/1994</td> <td>9.10318</td> <td>10.2432 </td>\n",
       "        </tr>\n",
       "    </tbody>\n",
       "</table>\n",
       "<p>... (337 rows omitted)</p>"
      ],
      "text/plain": [
       "DATE      | NEI     | NEI-PTER\n",
       "1/1/1994  | 10.0072 | 11.0736\n",
       "2/1/1994  | 9.83318 | 10.9887\n",
       "3/1/1994  | 9.72693 | 10.9415\n",
       "4/1/1994  | 9.59373 | 10.7789\n",
       "5/1/1994  | 9.38267 | 10.6046\n",
       "6/1/1994  | 9.37588 | 10.5891\n",
       "7/1/1994  | 9.31817 | 10.4796\n",
       "8/1/1994  | 9.26762 | 10.3866\n",
       "9/1/1994  | 9.17775 | 10.2857\n",
       "10/1/1994 | 9.10318 | 10.2432\n",
       "... (337 rows omitted)"
      ]
     },
     "execution_count": 2,
     "metadata": {},
     "output_type": "execute_result"
    }
   ],
   "source": [
    "unemployment2023 = Table().read_table('unemployment2023.csv')\n",
    "unemployment2023"
   ]
  },
  {
   "cell_type": "markdown",
   "metadata": {},
   "source": [
    "**Question 1.2.** Sort the data in descending order by NEI, naming the sorted table `by_nei`.  Create another table called `by_nei_pter` that's sorted in descending order by NEI-PTER instead.\n",
    "\n",
    "<!--\n",
    "BEGIN QUESTION\n",
    "name: q1_2\n",
    "-->"
   ]
  },
  {
   "cell_type": "code",
   "execution_count": 3,
   "metadata": {
    "tags": []
   },
   "outputs": [],
   "source": [
    "by_nei = unemployment2023.sort('NEI', 1)\n",
    "by_nei_pter = unemployment2023.sort('NEI-PTER', 1)"
   ]
  },
  {
   "cell_type": "markdown",
   "metadata": {},
   "source": [
    "**Question 1.3.** Use `take` to make a table containing the data for the ten months when NEI was greatest.  Call that table `greatest_nei`.\n",
    "\n",
    "`greatest_nei` should be sorted in descending order of `NEI`. Note that each row of `unemployment2023` represents a month.\n",
    "\n",
    "<!--\n",
    "BEGIN QUESTION\n",
    "name: q1_3\n",
    "-->"
   ]
  },
  {
   "cell_type": "code",
   "execution_count": 4,
   "metadata": {
    "tags": []
   },
   "outputs": [
    {
     "data": {
      "text/html": [
       "<table border=\"1\" class=\"dataframe\">\n",
       "    <thead>\n",
       "        <tr>\n",
       "            <th>DATE</th> <th>NEI</th> <th>NEI-PTER</th>\n",
       "        </tr>\n",
       "    </thead>\n",
       "    <tbody>\n",
       "        <tr>\n",
       "            <td>4/1/2020 </td> <td>15.5369</td> <td>17.7689 </td>\n",
       "        </tr>\n",
       "        <tr>\n",
       "            <td>5/1/2020 </td> <td>14.3162</td> <td>16.4055 </td>\n",
       "        </tr>\n",
       "        <tr>\n",
       "            <td>6/1/2020 </td> <td>12.5514</td> <td>14.2887 </td>\n",
       "        </tr>\n",
       "        <tr>\n",
       "            <td>7/1/2020 </td> <td>11.9573</td> <td>13.5034 </td>\n",
       "        </tr>\n",
       "        <tr>\n",
       "            <td>10/1/2009</td> <td>10.9794</td> <td>12.8786 </td>\n",
       "        </tr>\n",
       "        <tr>\n",
       "            <td>6/1/2009 </td> <td>10.94  </td> <td>12.8702 </td>\n",
       "        </tr>\n",
       "        <tr>\n",
       "            <td>5/1/2009 </td> <td>10.8998</td> <td>12.8307 </td>\n",
       "        </tr>\n",
       "        <tr>\n",
       "            <td>12/1/2009</td> <td>10.8988</td> <td>12.8045 </td>\n",
       "        </tr>\n",
       "        <tr>\n",
       "            <td>9/1/2009 </td> <td>10.8657</td> <td>12.7255 </td>\n",
       "        </tr>\n",
       "        <tr>\n",
       "            <td>11/1/2009</td> <td>10.8352</td> <td>12.7394 </td>\n",
       "        </tr>\n",
       "    </tbody>\n",
       "</table>"
      ],
      "text/plain": [
       "DATE      | NEI     | NEI-PTER\n",
       "4/1/2020  | 15.5369 | 17.7689\n",
       "5/1/2020  | 14.3162 | 16.4055\n",
       "6/1/2020  | 12.5514 | 14.2887\n",
       "7/1/2020  | 11.9573 | 13.5034\n",
       "10/1/2009 | 10.9794 | 12.8786\n",
       "6/1/2009  | 10.94   | 12.8702\n",
       "5/1/2009  | 10.8998 | 12.8307\n",
       "12/1/2009 | 10.8988 | 12.8045\n",
       "9/1/2009  | 10.8657 | 12.7255\n",
       "11/1/2009 | 10.8352 | 12.7394"
      ]
     },
     "execution_count": 4,
     "metadata": {},
     "output_type": "execute_result"
    }
   ],
   "source": [
    "greatest_nei = by_nei.take(np.arange(10))\n",
    "greatest_nei"
   ]
  },
  {
   "cell_type": "markdown",
   "metadata": {},
   "source": [
    "**Question 1.4.** It's believed that many people became PTER (recall: \"Part-Time for Economic Reasons\") in the \"Great Recession\" of 2008-2009.  NEI-PTER is the percentage of people who are unemployed (and counted in the NEI) plus the percentage of people who are PTER.  Compute an array containing the percentage of people who were PTER in each month.  (The first element of the array should correspond to the first row of `unemployment2023`, and so on.)\n",
    "\n",
    "*Note:* Use the original `unemployment2023` table for this.\n",
    "\n",
    "<!--\n",
    "BEGIN QUESTION\n",
    "name: q1_4\n",
    "-->"
   ]
  },
  {
   "cell_type": "code",
   "execution_count": 5,
   "metadata": {
    "tags": []
   },
   "outputs": [
    {
     "data": {
      "text/plain": [
       "array([ 1.06640315,  1.1555059 ,  1.21461594,  1.18515659,  1.22193715,\n",
       "        1.21320817,  1.16137951,  1.11902353,  1.1079541 ,  1.14004119,\n",
       "        1.15059322,  1.11741765,  1.1936827 ,  1.08078857,  1.10352353,\n",
       "        1.09155621,  1.13529982,  1.12195201,  1.13580941,  1.14525877,\n",
       "        1.14948261,  1.12169917,  1.13600252,  1.10907887,  1.04289838,\n",
       "        1.08356044,  1.09588158,  1.08299487,  1.08105899,  1.0717145 ,\n",
       "        1.10687018,  1.09920007,  1.0839267 ,  1.08325863,  1.00770767,\n",
       "        1.08005243,  1.06455172,  1.03466896,  1.01147973,  1.04367644,\n",
       "        0.99792479,  0.98237632,  1.01387727,  0.99778134,  0.978638  ,\n",
       "        0.97798584,  0.97286781,  0.94288115,  0.97997807,  0.94143327,\n",
       "        0.93888594,  0.881706  ,  0.91740208,  0.92131223,  0.94838083,\n",
       "        0.86785843,  0.83938366,  0.83978036,  0.80584215,  0.82467541,\n",
       "        0.84454036,  0.8264696 ,  0.85579255,  0.79172804,  0.82975301,\n",
       "        0.81859262,  0.82625391,  0.80134907,  0.7919441 ,  0.76317086,\n",
       "        0.75900191,  0.78083415,  0.76010916,  0.74607223,  0.76048441,\n",
       "        0.72358383,  0.78675428,  0.74979052,  0.75506548,  0.77381701,\n",
       "        0.75977881,  0.75266686,  0.78956838,  0.74989087,  0.7787225 ,\n",
       "        0.76161342,  0.7635016 ,  0.74848282,  0.81396464,  0.88037394,\n",
       "        0.84163236,  0.81336829,  0.97929542,  1.02666379,  0.96842191,\n",
       "        1.00751866,  0.93748301,  0.9752304 ,  0.9447626 ,  0.95065922,\n",
       "        0.95424777,  0.93659981,  0.96784528,  1.02630197,  0.99174314,\n",
       "        0.99382056,  0.95945038,  0.97803865,  1.04429849,  1.07942115,\n",
       "        1.05864189,  1.07335548,  1.04658056,  1.04648868,  1.06395834,\n",
       "        1.0378326 ,  1.101763  ,  1.07454007,  1.06289456,  1.06760583,\n",
       "        1.0619468 ,  1.00920822,  1.06836521,  1.01074015,  1.03753733,\n",
       "        0.99957593,  1.00140508,  1.02914376,  1.00498038,  1.06537977,\n",
       "        0.99070999,  0.98887769,  0.97415245,  0.94330683,  0.9795618 ,\n",
       "        0.92737833,  0.96443871,  0.98476085,  0.9743199 ,  1.01369514,\n",
       "        1.03486611,  0.94151855,  0.90707344,  0.90188096,  0.90002571,\n",
       "        0.91826169,  0.87497647,  0.82804479,  0.90443028,  0.94141815,\n",
       "        0.93969677,  0.93738877,  0.91660242,  0.9511494 ,  0.89278154,\n",
       "        0.90595805,  0.91838654,  0.90792307,  0.92353144,  0.90410382,\n",
       "        0.96977959,  0.93140174,  0.9512193 ,  1.01089585,  0.99570948,\n",
       "        0.94147522,  0.95089987,  0.98155252,  1.03874282,  1.04319084,\n",
       "        1.0527271 ,  1.08564165,  1.13508813,  1.18547299,  1.28556288,\n",
       "        1.27179715,  1.32599188,  1.42912129,  1.53935626,  1.70068781,\n",
       "        1.72966704,  1.86049943,  1.93874953,  1.85587544,  1.93091028,\n",
       "        1.93026673,  1.93212073,  1.9197211 ,  1.85977427,  1.89921892,\n",
       "        1.90425286,  1.9056192 ,  1.80849463,  1.87744789,  1.93733572,\n",
       "        1.91897091,  1.8591179 ,  1.82530037,  1.83974776,  1.84469502,\n",
       "        1.89558643,  1.85847022,  1.83899641,  1.86201499,  1.77920675,\n",
       "        1.77266338,  1.81061712,  1.81196711,  1.8005121 ,  1.77963441,\n",
       "        1.76645796,  1.81182129,  1.84261561,  1.80520122,  1.74608459,\n",
       "        1.69724009,  1.70173619,  1.70851076,  1.61421677,  1.63756881,\n",
       "        1.68278228,  1.67771166,  1.67969167,  1.61807459,  1.71444154,\n",
       "        1.69761579,  1.66543125,  1.62910496,  1.62663333,  1.67462584,\n",
       "        1.57672832,  1.62896997,  1.61321099,  1.66107695,  1.64739969,\n",
       "        1.56852695,  1.57732956,  1.65290625,  1.56836819,  1.59146999,\n",
       "        1.44722252,  1.48468629,  1.50062231,  1.52087851,  1.45109466,\n",
       "        1.5122115 ,  1.49013786,  1.43614185,  1.40235971,  1.45647506,\n",
       "        1.38778375,  1.37787541,  1.33760598,  1.3404614 ,  1.32386903,\n",
       "        1.32221235,  1.30463307,  1.28312722,  1.24456855,  1.28092653,\n",
       "        1.18231116,  1.18808982,  1.22551095,  1.2078999 ,  1.16719006,\n",
       "        1.19242152,  1.20238385,  1.18888905,  1.26390903,  1.1385481 ,\n",
       "        1.16075862,  1.18823069,  1.14045876,  1.1923973 ,  1.12019881,\n",
       "        1.10478214,  1.13487622,  1.12000508,  1.08703066,  1.04263883,\n",
       "        1.01715844,  1.03520867,  1.02359634,  1.02202304,  0.97509403,\n",
       "        0.94842454,  0.92903264,  0.97649523,  0.99721858,  1.03277433,\n",
       "        0.99702985,  0.9766305 ,  0.95326268,  0.92569366,  0.87268709,\n",
       "        0.82415627,  0.84776691,  0.85563713,  0.88783009,  0.90471123,\n",
       "        1.04004039,  0.89516818,  0.92044335,  0.93518348,  0.83873444,\n",
       "        0.84884228,  0.73626957,  0.79940486,  0.76383685,  0.78962595,\n",
       "        0.77603273,  0.80495307,  0.88725764,  0.91422677,  1.17926317,\n",
       "        2.23201997,  2.08927311,  1.73730631,  1.54612917,  1.35879672,\n",
       "        1.11768118,  1.20826693,  1.20715923,  1.18228335,  1.21233474,\n",
       "        1.25657264,  1.20064533,  1.07389087,  1.0111608 ,  0.90652718,\n",
       "        0.81043643,  0.76445711,  0.75566368,  0.75952721,  0.74409685,\n",
       "        0.7620755 ,  0.80249663,  0.87868294,  0.87622435,  0.82567065,\n",
       "        0.81790809,  0.71588305,  0.71022911,  0.69323944,  0.62788554,\n",
       "        0.60735138,  0.62100908])"
      ]
     },
     "execution_count": 5,
     "metadata": {},
     "output_type": "execute_result"
    }
   ],
   "source": [
    "pter = unemployment2023.column('NEI-PTER') - unemployment2023.column('NEI')\n",
    "pter"
   ]
  },
  {
   "cell_type": "markdown",
   "metadata": {},
   "source": [
    "**Question 1.5.** Add `pter` as a column to `unemployment2023` (named \"PTER\") and sort the resulting table by that column in descending order.  Call the table `by_pter`.\n",
    "\n",
    "Try to do this with a single line of code, if you can.\n",
    "\n",
    "<!--\n",
    "BEGIN QUESTION\n",
    "name: q1_5\n",
    "-->"
   ]
  },
  {
   "cell_type": "code",
   "execution_count": 6,
   "metadata": {
    "tags": []
   },
   "outputs": [
    {
     "data": {
      "text/html": [
       "<table border=\"1\" class=\"dataframe\">\n",
       "    <thead>\n",
       "        <tr>\n",
       "            <th>DATE</th> <th>NEI</th> <th>NEI-PTER</th> <th>by_pter</th>\n",
       "        </tr>\n",
       "    </thead>\n",
       "    <tbody>\n",
       "        <tr>\n",
       "            <td>4/1/2020 </td> <td>15.5369</td> <td>17.7689 </td> <td>2.23202</td>\n",
       "        </tr>\n",
       "        <tr>\n",
       "            <td>5/1/2020 </td> <td>14.3162</td> <td>16.4055 </td> <td>2.08927</td>\n",
       "        </tr>\n",
       "        <tr>\n",
       "            <td>3/1/2009 </td> <td>10.6015</td> <td>12.5403 </td> <td>1.93875</td>\n",
       "        </tr>\n",
       "        <tr>\n",
       "            <td>3/1/2010 </td> <td>10.7956</td> <td>12.733  </td> <td>1.93734</td>\n",
       "        </tr>\n",
       "        <tr>\n",
       "            <td>7/1/2009 </td> <td>10.7791</td> <td>12.7112 </td> <td>1.93212</td>\n",
       "        </tr>\n",
       "        <tr>\n",
       "            <td>5/1/2009 </td> <td>10.8998</td> <td>12.8307 </td> <td>1.93091</td>\n",
       "        </tr>\n",
       "        <tr>\n",
       "            <td>6/1/2009 </td> <td>10.94  </td> <td>12.8702 </td> <td>1.93027</td>\n",
       "        </tr>\n",
       "        <tr>\n",
       "            <td>8/1/2009 </td> <td>10.7942</td> <td>12.7139 </td> <td>1.91972</td>\n",
       "        </tr>\n",
       "        <tr>\n",
       "            <td>4/1/2010 </td> <td>10.6456</td> <td>12.5646 </td> <td>1.91897</td>\n",
       "        </tr>\n",
       "        <tr>\n",
       "            <td>12/1/2009</td> <td>10.8988</td> <td>12.8045 </td> <td>1.90562</td>\n",
       "        </tr>\n",
       "    </tbody>\n",
       "</table>\n",
       "<p>... (337 rows omitted)</p>"
      ],
      "text/plain": [
       "DATE      | NEI     | NEI-PTER | by_pter\n",
       "4/1/2020  | 15.5369 | 17.7689  | 2.23202\n",
       "5/1/2020  | 14.3162 | 16.4055  | 2.08927\n",
       "3/1/2009  | 10.6015 | 12.5403  | 1.93875\n",
       "3/1/2010  | 10.7956 | 12.733   | 1.93734\n",
       "7/1/2009  | 10.7791 | 12.7112  | 1.93212\n",
       "5/1/2009  | 10.8998 | 12.8307  | 1.93091\n",
       "6/1/2009  | 10.94   | 12.8702  | 1.93027\n",
       "8/1/2009  | 10.7942 | 12.7139  | 1.91972\n",
       "4/1/2010  | 10.6456 | 12.5646  | 1.91897\n",
       "12/1/2009 | 10.8988 | 12.8045  | 1.90562\n",
       "... (337 rows omitted)"
      ]
     },
     "execution_count": 6,
     "metadata": {},
     "output_type": "execute_result"
    }
   ],
   "source": [
    "by_pter = unemployment2023.with_column('by_pter', pter).sort('by_pter', 1)\n",
    "by_pter"
   ]
  },
  {
   "cell_type": "markdown",
   "metadata": {},
   "source": [
    "**Question 1.6.** Create a line plot of the PTER over time. To do this, create a new table called `pter_over_time` that adds the `year` array and the `pter` array to the `unemployment2023` table. Label these columns `Year` and `PTER`. Then, generate a line plot using one of the table methods you've learned in class.\n",
    "\n",
    "<!--\n",
    "BEGIN QUESTION\n",
    "name: q1_6\n",
    "-->"
   ]
  },
  {
   "cell_type": "code",
   "execution_count": 7,
   "metadata": {
    "tags": []
   },
   "outputs": [
    {
     "data": {
      "image/png": "[encoded data removed]",
      "text/plain": [
       "<Figure size 600x600 with 1 Axes>"
      ]
     },
     "metadata": {},
     "output_type": "display_data"
    }
   ],
   "source": [
    "year = 1994 + np.arange(by_pter.num_rows)/12\n",
    "pter_over_time = unemployment2023.with_column('PTER', pter).with_column('Year', year)\n",
    "pter_over_time.plot('Year', 'PTER')"
   ]
  },
  {
   "cell_type": "markdown",
   "metadata": {},
   "source": [
    "**Question 1.7.** Were PTER rates high during the Great Recession (that is to say, were PTER rates particularly high in the years 2008 through 2009)? Assign highPTER to `True` if you think PTER rates were high in this period, and `False` if you think they weren't. \n",
    "\n",
    "<!--\n",
    "BEGIN QUESTION\n",
    "name: q1_7\n",
    "-->"
   ]
  },
  {
   "cell_type": "code",
   "execution_count": 8,
   "metadata": {},
   "outputs": [],
   "source": [
    "highPTER = True"
   ]
  },
  {
   "cell_type": "markdown",
   "metadata": {},
   "source": [
    "**Question 1.8.** During what other time period were PTER rates particularly high? Why would this have been the case?\n",
    "<!--\n",
    "BEGIN QUESTION\n",
    "name: q1_8\n",
    "-->"
   ]
  },
  {
   "cell_type": "markdown",
   "metadata": {},
   "source": [
    "*2020- 2021 ish. This was during Covid, when the economy was at a standstill.*"
   ]
  },
  {
   "cell_type": "markdown",
   "metadata": {},
   "source": [
    "## 2. Birth Rates\n"
   ]
  },
  {
   "cell_type": "markdown",
   "metadata": {},
   "source": [
    "The following table gives census-based population estimates for each state on both July 1, 2021 and July 1, 2022. The last four columns describe the components of the estimated change in population during this time interval. **For all questions below, assume that the word \"states\" refers to all 52 rows including Puerto Rico & the District of Columbia.**\n",
    "\n",
    "The data was taken from [here](https://www2.census.gov/programs-surveys/popest/datasets/2020-2022/state/totals/NST-EST2022-ALLDATA.csv).\n",
    "\n",
    "The raw data is a bit messy - run the cell below to clean the table and make it easier to work with."
   ]
  },
  {
   "cell_type": "code",
   "execution_count": 9,
   "metadata": {
    "tags": []
   },
   "outputs": [
    {
     "data": {
      "text/html": [
       "<table border=\"1\" class=\"dataframe\">\n",
       "    <thead>\n",
       "        <tr>\n",
       "            <th>REGION</th> <th>NAME</th> <th>2021</th> <th>2022</th> <th>BIRTHS</th> <th>DEATHS</th> <th>MIGRATION</th> <th>OTHER</th>\n",
       "        </tr>\n",
       "    </thead>\n",
       "    <tbody>\n",
       "        <tr>\n",
       "            <td>3     </td> <td>Alabama   </td> <td>5,049,846 </td> <td>5,074,296 </td> <td>57,112 </td> <td>69,056 </td> <td>29,509   </td> <td>919    </td>\n",
       "        </tr>\n",
       "        <tr>\n",
       "            <td>4     </td> <td>Alaska    </td> <td>734,182   </td> <td>733,583   </td> <td>9,461  </td> <td>5,364  </td> <td>-2,693   </td> <td>-145   </td>\n",
       "        </tr>\n",
       "        <tr>\n",
       "            <td>4     </td> <td>Arizona   </td> <td>7,264,877 </td> <td>7,359,197 </td> <td>75,384 </td> <td>80,430 </td> <td>89,830   </td> <td>150    </td>\n",
       "        </tr>\n",
       "        <tr>\n",
       "            <td>3     </td> <td>Arkansas  </td> <td>3,028,122 </td> <td>3,045,637 </td> <td>35,115 </td> <td>40,174 </td> <td>18,786   </td> <td>200    </td>\n",
       "        </tr>\n",
       "        <tr>\n",
       "            <td>4     </td> <td>California</td> <td>39,142,991</td> <td>39,029,342</td> <td>412,194</td> <td>345,550</td> <td>-414,830 </td> <td>-10,476</td>\n",
       "        </tr>\n",
       "    </tbody>\n",
       "</table>\n",
       "<p>... (47 rows omitted)</p>"
      ],
      "text/plain": [
       "<IPython.core.display.HTML object>"
      ]
     },
     "metadata": {},
     "output_type": "display_data"
    }
   ],
   "source": [
    "# Don't change this cell; just run it.\n",
    "pop = Table.read_table('NST-EST2022-ALLDATA.csv').where('SUMLEV', 40).select([1, 4, 7, 8, 13, 16, 28, 31])\n",
    "pop = pop.relabeled('POPESTIMATE2021', '2021').relabeled('POPESTIMATE2022', '2022')\n",
    "pop = pop.relabeled('BIRTHS2021', 'BIRTHS').relabeled('DEATHS2021', 'DEATHS')\n",
    "pop = pop.relabeled('NETMIG2021', 'MIGRATION').relabeled('RESIDUAL2021', 'OTHER')\n",
    "pop = pop.with_columns(\"REGION\", np.array([int(region) if region != \"X\" else 0 for region in pop.column(\"REGION\")]))\n",
    "pop.set_format([2, 3, 4, 5, 6, 7], NumberFormatter(decimals=0)).show(5)"
   ]
  },
  {
   "cell_type": "markdown",
   "metadata": {},
   "source": [
    "**Question 2.1.** Assign `us_birth_rate` to the total US annual birth rate during this time interval. The annual birth rate for a year-long period is the total number of births in that period as a proportion of the population size at the start of the time period.\n",
    "\n",
    "**Hint:** Which year corresponds to the start of the time period?\n",
    "\n",
    "<!--\n",
    "BEGIN QUESTION\n",
    "name: q2_1\n",
    "-->"
   ]
  },
  {
   "cell_type": "code",
   "execution_count": 10,
   "metadata": {
    "tags": []
   },
   "outputs": [
    {
     "data": {
      "text/plain": [
       "0.010740506382741485"
      ]
     },
     "execution_count": 10,
     "metadata": {},
     "output_type": "execute_result"
    }
   ],
   "source": [
    "us_birth_rate = sum(pop.column('BIRTHS')) / sum(pop.column('2021'))\n",
    "us_birth_rate"
   ]
  },
  {
   "cell_type": "markdown",
   "metadata": {},
   "source": [
    "**Question 2.2.** Assign `movers` to the number of states for which the **absolute value** of the **annual rate of migration** was higher than 1.0%. The annual rate of migration for a year-long period is the net number of migrations (in and out) as a proportion of the population size at the start of the period. The `MIGRATION` column contains estimated annual net migration counts by state.\n",
    "\n",
    "<!--\n",
    "BEGIN QUESTION\n",
    "name: q2_2\n",
    "-->"
   ]
  },
  {
   "cell_type": "code",
   "execution_count": 11,
   "metadata": {
    "tags": []
   },
   "outputs": [
    {
     "data": {
      "text/plain": [
       "9"
      ]
     },
     "execution_count": 11,
     "metadata": {},
     "output_type": "execute_result"
    }
   ],
   "source": [
    "migration_rates = pop.with_column('mig_rates', np.abs(pop.column('MIGRATION') / pop.column('2021')))\n",
    "movers = len(migration_rates.where('mig_rates', are.above(0.01)))\n",
    "movers"
   ]
  },
  {
   "cell_type": "markdown",
   "metadata": {},
   "source": [
    "**Question 2.3.** Assign `south_births` to the total number of births that occurred in region 3 (the Southern US). \n",
    "\n",
    "\n",
    "<!--\n",
    "BEGIN QUESTION\n",
    "name: q2_3\n",
    "-->"
   ]
  },
  {
   "cell_type": "code",
   "execution_count": 12,
   "metadata": {
    "tags": []
   },
   "outputs": [
    {
     "data": {
      "text/plain": [
       "1425940"
      ]
     },
     "execution_count": 12,
     "metadata": {},
     "output_type": "execute_result"
    }
   ],
   "source": [
    "south_births = np.sum(pop.where('REGION', 3).column('BIRTHS'))\n",
    "south_births"
   ]
  },
  {
   "cell_type": "markdown",
   "metadata": {},
   "source": [
    "**Question 2.4.** Assign `more_than_NC_births` to the number of states that had a total number of births that was larger than the *total number of births in North Carolina* during this time interval.\n",
    "\n",
    "<!--\n",
    "BEGIN QUESTION\n",
    "name: q2_4\n",
    "-->"
   ]
  },
  {
   "cell_type": "code",
   "execution_count": 13,
   "metadata": {
    "tags": []
   },
   "outputs": [
    {
     "data": {
      "text/plain": [
       "8"
      ]
     },
     "execution_count": 13,
     "metadata": {},
     "output_type": "execute_result"
    }
   ],
   "source": [
    "more_than_NC_births = len(pop.where('BIRTHS', are.above(pop.where('NAME', 'North Carolina').column('BIRTHS').item(0))))\n",
    "more_than_NC_births"
   ]
  },
  {
   "cell_type": "markdown",
   "metadata": {},
   "source": [
    "**Question 2.5.** In the next question, you will be creating a visualization to understand the relationship between birth and death rates. The annual death rate for a year-long period is the total number of deaths in that period as a proportion of the population size at the start of the time period.\n",
    "\n",
    "What visualization is most appropriate to see if there is an association between birth and death rates during a given time interval?\n",
    "\n",
    "1. Line Graph\n",
    "<br>\n",
    "2. Scatter Plot\n",
    "<br>\n",
    "3. Bar Chart\n",
    "\n",
    "Assign `visualization` below to the number corresponding to the correct visualization.\n",
    "\n",
    "<!--\n",
    "BEGIN QUESTION\n",
    "name: q2_5\n",
    "-->"
   ]
  },
  {
   "cell_type": "code",
   "execution_count": 14,
   "metadata": {
    "tags": []
   },
   "outputs": [],
   "source": [
    "visualization = 2"
   ]
  },
  {
   "cell_type": "markdown",
   "metadata": {},
   "source": [
    "**Question 2.6.** In the code cell below, create a visualization that will help us determine if there is an association between birth rate and death rate during this time interval. It may be helpful to create an intermediate table here.\n",
    "\n",
    "<!--\n",
    "BEGIN QUESTION\n",
    "name: q2_6\n",
    "manual: true\n",
    "-->\n",
    "<!-- EXPORT TO PDF -->"
   ]
  },
  {
   "cell_type": "code",
   "execution_count": 15,
   "metadata": {
    "export_pdf": true,
    "manual_problem_id": "birth_death_rates_graph",
    "tags": []
   },
   "outputs": [
    {
     "data": {
      "image/png": "[encoded data removed]",
      "text/plain": [
       "<Figure size 500x500 with 1 Axes>"
      ]
     },
     "metadata": {},
     "output_type": "display_data"
    }
   ],
   "source": [
    "# Generate your chart in this cell\n",
    "pop2 = pop.with_column('birth rate'\n",
    "                       , (pop.column('BIRTHS') / pop.column('2021'))).with_column('death rate',\n",
    "                                                                                  (pop.column('DEATHS') / pop.column('2021')))\n",
    "pop2.scatter('birth rate', 'death rate')"
   ]
  },
  {
   "cell_type": "markdown",
   "metadata": {},
   "source": [
    "**Question 2.7.** Is there an association between birth rate and death rate during this time interval? Describe the relationship shown in the chart. \n",
    " \n",
    "\n",
    "<!--\n",
    "BEGIN QUESTION\n",
    "name: q2_7\n",
    "-->"
   ]
  },
  {
   "cell_type": "markdown",
   "metadata": {},
   "source": [
    "*No, there's no relationship. The plots on the scatterplot are kind of all over the place, showing no correlation.*"
   ]
  },
  {
   "cell_type": "markdown",
   "metadata": {},
   "source": [
    "## 3. Marginal Histograms\n"
   ]
  },
  {
   "cell_type": "markdown",
   "metadata": {},
   "source": [
    "Consider the following scatter plot: \n",
    "\n",
    "![](hw03-scatter.png)\n",
    "\n",
    "The axes of the plot represent values of two variables: $x$ and $y$. "
   ]
  },
  {
   "cell_type": "markdown",
   "metadata": {},
   "source": [
    "Suppose we have a table called `t` that has two columns in it:\n",
    "\n",
    "- `x`: a column containing the x-values of the points in the scatter plot\n",
    "- `y`: a column containing the y-values of the points in the scatter plot"
   ]
  },
  {
   "cell_type": "markdown",
   "metadata": {},
   "source": [
    "Below, you are given two histograms, each of which corresponds to either column `x` or column `y`. "
   ]
  },
  {
   "cell_type": "markdown",
   "metadata": {},
   "source": [
    "**Histogram A:** \n",
    "![](hw03-var1.png)\n",
    "\n",
    "\n",
    "**Histogram B:** \n",
    "![](hw03-var2.png)"
   ]
  },
  {
   "cell_type": "markdown",
   "metadata": {},
   "source": [
    "**Question 3.1.** Suppose we run `t.hist('y')`. Which histogram does this code produce? Assign `histogram_column_y` to either 1 or 2.\n",
    "\n",
    "1. Histogram A\n",
    "2. Histogram B\n",
    "\n",
    "<!--\n",
    "BEGIN QUESTION\n",
    "name: q3_1\n",
    "manual: false\n",
    "-->"
   ]
  },
  {
   "cell_type": "code",
   "execution_count": 22,
   "metadata": {},
   "outputs": [],
   "source": [
    "histogram_column_y = 1"
   ]
  },
  {
   "cell_type": "markdown",
   "metadata": {},
   "source": [
    "**Question 3.2.** State at least one reason why you chose the histogram from Question 3.1. Make sure to indicate which histogram you selected (ex: \"I chose histogram A because ...\").\n",
    "\n",
    "<!--\n",
    "BEGIN QUESTION\n",
    "name: q3_2\n",
    "manual: true\n",
    "-->\n",
    "<!-- EXPORT TO PDF -->"
   ]
  },
  {
   "cell_type": "markdown",
   "metadata": {
    "export_pdf": true
   },
   "source": [
    "*I chose Histogram A because looking from the yaxis of the scatterplot, there is a gap in plot points surrounding zero. Hist A does not show data surrounding zero as well.*"
   ]
  },
  {
   "cell_type": "markdown",
   "metadata": {},
   "source": [
    "**Question 3.3.** Suppose we run `t.hist('x')`. Which histogram does this code produce? `Assign histogram_column_x` to either 1 or 2.\n",
    "\n",
    "1. Histogram A\n",
    "2. Histogram B\n",
    "\n",
    "<!--\n",
    "BEGIN QUESTION\n",
    "name: q3_3\n",
    "manual: false\n",
    "-->"
   ]
  },
  {
   "cell_type": "code",
   "execution_count": 17,
   "metadata": {},
   "outputs": [],
   "source": [
    "histogram_column_x = 2"
   ]
  },
  {
   "cell_type": "markdown",
   "metadata": {},
   "source": [
    "**Question 3.4.** State at least one reason why you chose the histogram from Question 3.3.  Make sure to indicate which histogram you selected (ex: \"I chose histogram A because ...\").\n",
    "\n",
    "<!--\n",
    "BEGIN QUESTION\n",
    "name: q3_4\n",
    "manual: true\n",
    "-->\n",
    "<!-- EXPORT TO PDF -->"
   ]
  },
  {
   "cell_type": "markdown",
   "metadata": {
    "export_pdf": true
   },
   "source": [
    "*I chose Histogram B because the distribution looks similar to the scatterplot from the viewpoint of the xaxis.*"
   ]
  },
  {
   "cell_type": "markdown",
   "metadata": {},
   "source": [
    "## 4. Uber\n"
   ]
  },
  {
   "cell_type": "markdown",
   "metadata": {},
   "source": [
    "Below we load tables each containing over 100,000 weekday Uber rides in the Atlanta and Los Angeles metropolitan areas from the [Uber Movement](https://movement.uber.com) project. The `sourceid` and `dstid` columns contain codes corresponding to start and end locations of each ride. The `hod` column contains codes corresponding to the hour of the day the ride took place. The `ride time` column contains the length of the ride, in minutes."
   ]
  },
  {
   "cell_type": "code",
   "execution_count": 25,
   "metadata": {
    "for_question_type": "solution",
    "scrolled": true
   },
   "outputs": [
    {
     "name": "stdout",
     "output_type": "stream",
     "text": [
      "Atlanta Table\n"
     ]
    },
    {
     "data": {
      "text/html": [
       "<table border=\"1\" class=\"dataframe\">\n",
       "    <thead>\n",
       "        <tr>\n",
       "            <th>sourceid</th> <th>dstid</th> <th>hod</th> <th>ride time</th>\n",
       "        </tr>\n",
       "    </thead>\n",
       "    <tbody>\n",
       "        <tr>\n",
       "            <td>754     </td> <td>10   </td> <td>16  </td> <td>13.7982  </td>\n",
       "        </tr>\n",
       "        <tr>\n",
       "            <td>776     </td> <td>418  </td> <td>22  </td> <td>12.5705  </td>\n",
       "        </tr>\n",
       "        <tr>\n",
       "            <td>772     </td> <td>458  </td> <td>22  </td> <td>24.5393  </td>\n",
       "        </tr>\n",
       "        <tr>\n",
       "            <td>764     </td> <td>538  </td> <td>22  </td> <td>23.1782  </td>\n",
       "        </tr>\n",
       "    </tbody>\n",
       "</table>\n",
       "<p>... (1048571 rows omitted)</p>"
      ],
      "text/plain": [
       "<IPython.core.display.HTML object>"
      ]
     },
     "metadata": {},
     "output_type": "display_data"
    },
    {
     "name": "stdout",
     "output_type": "stream",
     "text": [
      "Los Angeles Table\n"
     ]
    },
    {
     "data": {
      "text/html": [
       "<table border=\"1\" class=\"dataframe\">\n",
       "    <thead>\n",
       "        <tr>\n",
       "            <th>sourceid</th> <th>dstid</th> <th>hod</th> <th>ride time</th>\n",
       "        </tr>\n",
       "    </thead>\n",
       "    <tbody>\n",
       "        <tr>\n",
       "            <td>506     </td> <td>478  </td> <td>2   </td> <td>5.78333  </td>\n",
       "        </tr>\n",
       "        <tr>\n",
       "            <td>458     </td> <td>59   </td> <td>19  </td> <td>3.23133  </td>\n",
       "        </tr>\n",
       "        <tr>\n",
       "            <td>454     </td> <td>99   </td> <td>19  </td> <td>22.4833  </td>\n",
       "        </tr>\n",
       "        <tr>\n",
       "            <td>519     </td> <td>348  </td> <td>2   </td> <td>6.5735   </td>\n",
       "        </tr>\n",
       "    </tbody>\n",
       "</table>\n",
       "<p>... (1048571 rows omitted)</p>"
      ],
      "text/plain": [
       "<IPython.core.display.HTML object>"
      ]
     },
     "metadata": {},
     "output_type": "display_data"
    }
   ],
   "source": [
    "atlanta = Table.read_table(\"atlanta.csv\")\n",
    "los_angeles = Table.read_table(\"los_angeles.csv\")\n",
    "print(\"Atlanta Table\")\n",
    "atlanta.show(4)\n",
    "print(\"Los Angeles Table\")\n",
    "los_angeles.show(4)"
   ]
  },
  {
   "cell_type": "markdown",
   "metadata": {},
   "source": [
    "**Question 4.1.** Produce a histogram of all ride times in Atlanta using the given bins. \n",
    "\n",
    "<!--\n",
    "BEGIN QUESTION\n",
    "name: q4_1\n",
    "manual: true\n",
    "-->"
   ]
  },
  {
   "cell_type": "code",
   "execution_count": 27,
   "metadata": {
    "export_pdf": true,
    "manual_problem_id": "uber_1",
    "scrolled": true
   },
   "outputs": [
    {
     "data": {
      "image/png": "[encoded data removed]",
      "text/plain": [
       "<Figure size 600x400 with 1 Axes>"
      ]
     },
     "metadata": {},
     "output_type": "display_data"
    }
   ],
   "source": [
    "equal_bins = np.arange(0, 81, 2.5)\n",
    "atlanta.hist('ride time', bins = equal_bins)\n",
    "\n",
    "# Don't delete the following line!\n",
    "plots.ylim(0, 0.046);"
   ]
  },
  {
   "cell_type": "markdown",
   "metadata": {},
   "source": [
    "**Question 4.2.** Produce a histogram of all ride times in Los Angeles using the given bins.\n",
    "\n",
    "<!--\n",
    "BEGIN QUESTION\n",
    "name: q4_2\n",
    "manual: true\n",
    "-->"
   ]
  },
  {
   "cell_type": "code",
   "execution_count": 29,
   "metadata": {
    "export_pdf": true
   },
   "outputs": [
    {
     "data": {
      "image/png": "[encoded data removed]",
      "text/plain": [
       "<Figure size 600x400 with 1 Axes>"
      ]
     },
     "metadata": {},
     "output_type": "display_data"
    }
   ],
   "source": [
    "los_angeles.hist('ride time', bins = equal_bins)\n",
    "\n",
    "# Don't delete the following line!\n",
    "plots.ylim(0, 0.046);"
   ]
  },
  {
   "cell_type": "markdown",
   "metadata": {},
   "source": [
    "**Question 4.3.** Assign `atlanta_10to15` and `los_angeles_10to15` to the percentage of rides that are 10-15 minutes long (including 10 but not including 15) in the respective metropolitan areas. Use the height variables provided below in order to compute the percentages. Your solution should only use height variables (heights of the bars of the histograms), numbers, and mathematical operations. You should not access the tables atlanta and los_angeles in any way.\n",
    "<!--\n",
    "BEGIN QUESTION\n",
    "name: q4_3\n",
    "manual: false\n",
    "-->"
   ]
  },
  {
   "cell_type": "code",
   "execution_count": 30,
   "metadata": {
    "manual_problem_id": "uber_2"
   },
   "outputs": [
    {
     "data": {
      "text/plain": [
       "(0.06, 0.08)"
      ]
     },
     "execution_count": 30,
     "metadata": {},
     "output_type": "execute_result"
    }
   ],
   "source": [
    "atlanta_10to12_half_height = 0.02642\n",
    "los_angeles_10to12_half_height = 0.03772\n",
    "atlanta_12_half_to_15_height = 0.03393\n",
    "los_angeles_12_half_to_15_height = 0.04160\n",
    "\n",
    "atlanta_10to15 = atlanta_10to12_half_height + atlanta_12_half_to_15_height\n",
    "los_angeles_10to15 = los_angeles_10to12_half_height + los_angeles_12_half_to_15_height\n",
    "\n",
    "round(atlanta_10to15, 2), round(los_angeles_10to15, 2)"
   ]
  },
  {
   "cell_type": "markdown",
   "metadata": {},
   "source": [
    "**Question 4.4.** What are difference betweens the two histograms. What might be causing this?\n",
    "\n",
    "**Hint:** Try thinking about external factors that may be causing the difference!"
   ]
  },
  {
   "cell_type": "markdown",
   "metadata": {
    "export_pdf": true
   },
   "source": [
    "*LA people might use Uber only to go further distances because the public transit is more reliable than in Atlanta. Or the area of the city is larger.*"
   ]
  },
  {
   "cell_type": "markdown",
   "metadata": {},
   "source": [
    "## 5. Bicycle Crashes in Chapel Hill"
   ]
  },
  {
   "cell_type": "markdown",
   "metadata": {},
   "source": [
    "Dr. McLean lives not far from campus and is considering commuting from home to Hanes Hall on his bicycle. First he decides that he needs to investigate if it's safe to ride in Chapel Hill. Chapel Hill Open data provides a data set of all bicycle crashes reported in North Carolina (12,173 of them!) that occurred between 2007 and 2019. Begin by importing the dataset in the cell below."
   ]
  },
  {
   "cell_type": "code",
   "execution_count": 31,
   "metadata": {},
   "outputs": [
    {
     "data": {
      "text/html": [
       "<table border=\"1\" class=\"dataframe\">\n",
       "    <thead>\n",
       "        <tr>\n",
       "            <th>X</th> <th>Y</th> <th>OBJECTID_1</th> <th>AmbulanceR</th> <th>BikeAge</th> <th>BikeAgeGrp</th> <th>BikeAlcDrg</th> <th>BikeAlcFlg</th> <th>BikeDir</th> <th>BikeInjury</th> <th>BikePos</th> <th>BikeRace</th> <th>BikeSex</th> <th>City</th> <th>County</th> <th>CrashAlcoh</th> <th>CrashDay</th> <th>CrashGrp</th> <th>CrashHour</th> <th>CrashID</th> <th>CrashLoc</th> <th>CrashMonth</th> <th>CrashSevr</th> <th>CrashType</th> <th>CrashYear</th> <th>Developmen</th> <th>DrvrAge</th> <th>DrvrAgeGrp</th> <th>DrvrAlcDrg</th> <th>DrvrAlcFlg</th> <th>DrvrInjury</th> <th>DrvrRace</th> <th>DrvrSex</th> <th>DrvrVehTyp</th> <th>HitRun</th> <th>Latitude</th> <th>LightCond</th> <th>Locality</th> <th>Longitude</th> <th>NumBicsAin</th> <th>NumBicsBin</th> <th>NumBicsCin</th> <th>NumBicsKil</th> <th>NumBicsNoi</th> <th>NumBicsTot</th> <th>NumBicsUin</th> <th>NumLanes</th> <th>NumUnits</th> <th>RdCharacte</th> <th>RdClass</th> <th>RdConditio</th> <th>RdConfig</th> <th>RdDefects</th> <th>RdFeature</th> <th>RdSurface</th> <th>Region</th> <th>RuralUrban</th> <th>SpeedLimit</th> <th>TraffCntrl</th> <th>Weather</th> <th>Workzone</th> <th>OBJECTID</th>\n",
       "        </tr>\n",
       "    </thead>\n",
       "    <tbody>\n",
       "        <tr>\n",
       "            <td>-78.8839</td> <td>36.0395</td> <td>1         </td> <td>Yes       </td> <td>11     </td> <td>11-15     </td> <td>.         </td> <td>No        </td> <td>With Traffic  </td> <td>B: Suspected Minor Injury</td> <td>Sidewalk / Crosswalk / Driveway Crossing</td> <td>Black   </td> <td>Male   </td> <td>Durham      </td> <td>Durham    </td> <td>No        </td> <td>Tuesday </td> <td>Parallel Paths - Other Circumstances              </td> <td>16       </td> <td>101878313</td> <td>Non-Intersection</td> <td>January   </td> <td>B: Suspected Minor Injury</td> <td>Bicyclist Ride Out - Parallel Path     </td> <td>2007     </td> <td>Residential</td> <td>35     </td> <td>30-39     </td> <td>.         </td> <td>No        </td> <td>O: No Injury  </td> <td>White          </td> <td>Male   </td> <td>Passenger Car</td> <td>No    </td> <td>36.0395 </td> <td>Daylight </td> <td>Urban (>70% Developed)</td> <td>-78.8839 </td> <td>.         </td> <td>.         </td> <td>.         </td> <td>.         </td> <td>.         </td> <td>.         </td> <td>.         </td> <td>1 lane  </td> <td>2       </td> <td>Straight - Level</td> <td>Local Street         </td> <td>Dry       </td> <td>Two-Way, Divided, Unprotected Median</td> <td>None     </td> <td>No Special Feature   </td> <td>Smooth Asphalt</td> <td>Piedmont</td> <td>Urban     </td> <td>30 - 35  MPH</td> <td>No Control Present                 </td> <td>Clear  </td> <td>No      </td> <td>1       </td>\n",
       "        </tr>\n",
       "        <tr>\n",
       "            <td>-78.7828</td> <td>35.7511</td> <td>2         </td> <td>Yes       </td> <td>20     </td> <td>20-24     </td> <td>.         </td> <td>No        </td> <td>Facing Traffic</td> <td>C: Possible Injury       </td> <td>Sidewalk / Crosswalk / Driveway Crossing</td> <td>Hispanic</td> <td>Male   </td> <td>Cary        </td> <td>Wake      </td> <td>No        </td> <td>Friday  </td> <td>Motorist Failed to Yield - Signalized Intersection</td> <td>9        </td> <td>101885911</td> <td>Intersection    </td> <td>January   </td> <td>C: Possible Injury       </td> <td>Motorist Drive Out - Right Turn on Red </td> <td>2007     </td> <td>Residential</td> <td>64     </td> <td>60-69     </td> <td>.         </td> <td>No        </td> <td>O: No Injury  </td> <td>White          </td> <td>Male   </td> <td>Passenger Car</td> <td>No    </td> <td>35.7511 </td> <td>Daylight </td> <td>Urban (>70% Developed)</td> <td>-78.7828 </td> <td>.         </td> <td>.         </td> <td>.         </td> <td>.         </td> <td>.         </td> <td>.         </td> <td>.         </td> <td>3 lanes </td> <td>2       </td> <td>Straight - Grade</td> <td>Local Street         </td> <td>Dry       </td> <td>Two-Way, Divided, Unprotected Median</td> <td>None     </td> <td>Four-Way Intersection</td> <td>Smooth Asphalt</td> <td>Piedmont</td> <td>Urban     </td> <td>30 - 35  MPH</td> <td>Stop And Go Signal                 </td> <td>Clear  </td> <td>No      </td> <td>2       </td>\n",
       "        </tr>\n",
       "        <tr>\n",
       "            <td>-80.6978</td> <td>35.0847</td> <td>3         </td> <td>Yes       </td> <td>37     </td> <td>30-39     </td> <td>.         </td> <td>No        </td> <td>Unknown       </td> <td>B: Suspected Minor Injury</td> <td>Non-Roadway                             </td> <td>Black   </td> <td>Male   </td> <td>Stallings   </td> <td>Union     </td> <td>No        </td> <td>Monday  </td> <td>Non-Roadway                                       </td> <td>17       </td> <td>101886055</td> <td>Non-Roadway     </td> <td>January   </td> <td>B: Suspected Minor Injury</td> <td>Non-Roadway                            </td> <td>2007     </td> <td>Commercial </td> <td>39     </td> <td>30-39     </td> <td>.         </td> <td>No        </td> <td>O: No Injury  </td> <td>White          </td> <td>Female </td> <td>Passenger Car</td> <td>No    </td> <td>35.0847 </td> <td>Dusk     </td> <td>Urban (>70% Developed)</td> <td>-80.6978 </td> <td>.         </td> <td>.         </td> <td>.         </td> <td>.         </td> <td>.         </td> <td>.         </td> <td>.         </td> <td>2 lanes </td> <td>2       </td> <td>Straight - Level</td> <td>Public Vehicular Area</td> <td>Dry       </td> <td>Two-Way, Not Divided                </td> <td>None     </td> <td>No Special Feature   </td> <td>Smooth Asphalt</td> <td>Piedmont</td> <td>Urban     </td> <td>20 - 25  MPH</td> <td>No Control Present                 </td> <td>Cloudy </td> <td>No      </td> <td>3       </td>\n",
       "        </tr>\n",
       "        <tr>\n",
       "            <td>-80.4793</td> <td>35.6844</td> <td>4         </td> <td>Yes       </td> <td>30     </td> <td>30-39     </td> <td>.         </td> <td>No        </td> <td>With Traffic  </td> <td>C: Possible Injury       </td> <td>Travel Lane                             </td> <td>White   </td> <td>Male   </td> <td>Salisbury   </td> <td>Rowan     </td> <td>No        </td> <td>Friday  </td> <td>Motorist Left Turn / Merge                        </td> <td>17       </td> <td>101890155</td> <td>Intersection    </td> <td>January   </td> <td>C: Possible Injury       </td> <td>Motorist Left Turn - Opposite Direction</td> <td>2007     </td> <td>Commercial </td> <td>999    </td> <td>Unknown   </td> <td>.         </td> <td>No        </td> <td>Unknown Injury</td> <td>Unknown/Missing</td> <td>Unknown</td> <td>Sport Utility</td> <td>Yes   </td> <td>35.6844 </td> <td>Daylight </td> <td>Urban (>70% Developed)</td> <td>-80.4793 </td> <td>.         </td> <td>.         </td> <td>.         </td> <td>.         </td> <td>.         </td> <td>.         </td> <td>.         </td> <td>2 lanes </td> <td>2       </td> <td>Straight - Grade</td> <td>Local Street         </td> <td>Dry       </td> <td>Two-Way, Not Divided                </td> <td>None     </td> <td>Four-Way Intersection</td> <td>Smooth Asphalt</td> <td>Piedmont</td> <td>Urban     </td> <td>30 - 35  MPH</td> <td>No Control Present                 </td> <td>Cloudy </td> <td>No      </td> <td>4       </td>\n",
       "        </tr>\n",
       "        <tr>\n",
       "            <td>-78.9045</td> <td>34.9994</td> <td>5         </td> <td>Yes       </td> <td>45     </td> <td>40-49     </td> <td>.         </td> <td>No        </td> <td>With Traffic  </td> <td>B: Suspected Minor Injury</td> <td>Travel Lane                             </td> <td>Black   </td> <td>Male   </td> <td>Fayetteville</td> <td>Cumberland</td> <td>No        </td> <td>Friday  </td> <td>Motorist Overtaking Bicyclist                     </td> <td>12       </td> <td>101899756</td> <td>Non-Intersection</td> <td>January   </td> <td>B: Suspected Minor Injury</td> <td>Motorist Overtaking - Bicyclist Swerved</td> <td>2007     </td> <td>Commercial </td> <td>51     </td> <td>50-59     </td> <td>.         </td> <td>No        </td> <td>O: No Injury  </td> <td>Black          </td> <td>Female </td> <td>Van          </td> <td>No    </td> <td>34.9994 </td> <td>Daylight </td> <td>Urban (>70% Developed)</td> <td>-78.9044 </td> <td>.         </td> <td>.         </td> <td>.         </td> <td>.         </td> <td>.         </td> <td>.         </td> <td>.         </td> <td>2 lanes </td> <td>2       </td> <td>Straight - Level</td> <td>Local Street         </td> <td>Dry       </td> <td>Two-Way, Not Divided                </td> <td>None     </td> <td>No Special Feature   </td> <td>Coarse Asphalt</td> <td>Coastal </td> <td>Urban     </td> <td>30 - 35  MPH</td> <td>Double Yellow Line, No Passing Zone</td> <td>Clear  </td> <td>No      </td> <td>5       </td>\n",
       "        </tr>\n",
       "    </tbody>\n",
       "</table>\n",
       "<p>... (12168 rows omitted)</p>"
      ],
      "text/plain": [
       "<IPython.core.display.HTML object>"
      ]
     },
     "metadata": {},
     "output_type": "display_data"
    }
   ],
   "source": [
    "Bike = Table.read_table('NCDOT_BikePedCrash.csv')\n",
    "Bike.show(5)"
   ]
  },
  {
   "cell_type": "markdown",
   "metadata": {},
   "source": [
    "**Question 5.1** Construct a new table `Bike_CH` that contains only the crashes that occurred in `Chapel Hill`. "
   ]
  },
  {
   "cell_type": "code",
   "execution_count": 32,
   "metadata": {
    "collapsed": true,
    "jupyter": {
     "outputs_hidden": true
    },
    "tags": []
   },
   "outputs": [
    {
     "data": {
      "text/html": [
       "<table border=\"1\" class=\"dataframe\">\n",
       "    <thead>\n",
       "        <tr>\n",
       "            <th>X</th> <th>Y</th> <th>OBJECTID_1</th> <th>AmbulanceR</th> <th>BikeAge</th> <th>BikeAgeGrp</th> <th>BikeAlcDrg</th> <th>BikeAlcFlg</th> <th>BikeDir</th> <th>BikeInjury</th> <th>BikePos</th> <th>BikeRace</th> <th>BikeSex</th> <th>City</th> <th>County</th> <th>CrashAlcoh</th> <th>CrashDay</th> <th>CrashGrp</th> <th>CrashHour</th> <th>CrashID</th> <th>CrashLoc</th> <th>CrashMonth</th> <th>CrashSevr</th> <th>CrashType</th> <th>CrashYear</th> <th>Developmen</th> <th>DrvrAge</th> <th>DrvrAgeGrp</th> <th>DrvrAlcDrg</th> <th>DrvrAlcFlg</th> <th>DrvrInjury</th> <th>DrvrRace</th> <th>DrvrSex</th> <th>DrvrVehTyp</th> <th>HitRun</th> <th>Latitude</th> <th>LightCond</th> <th>Locality</th> <th>Longitude</th> <th>NumBicsAin</th> <th>NumBicsBin</th> <th>NumBicsCin</th> <th>NumBicsKil</th> <th>NumBicsNoi</th> <th>NumBicsTot</th> <th>NumBicsUin</th> <th>NumLanes</th> <th>NumUnits</th> <th>RdCharacte</th> <th>RdClass</th> <th>RdConditio</th> <th>RdConfig</th> <th>RdDefects</th> <th>RdFeature</th> <th>RdSurface</th> <th>Region</th> <th>RuralUrban</th> <th>SpeedLimit</th> <th>TraffCntrl</th> <th>Weather</th> <th>Workzone</th> <th>OBJECTID</th>\n",
       "        </tr>\n",
       "    </thead>\n",
       "    <tbody>\n",
       "        <tr>\n",
       "            <td>-79.059 </td> <td>35.9183</td> <td>284       </td> <td>Yes       </td> <td>12     </td> <td>11-15     </td> <td>.         </td> <td>No        </td> <td>Unknown       </td> <td>B: Suspected Minor Injury  </td> <td>Travel Lane                             </td> <td>Black          </td> <td>Male   </td> <td>Chapel Hill</td> <td>Orange</td> <td>No        </td> <td>Saturday </td> <td>Bicyclist Failed to Yield - Sign-Controlled Intersection</td> <td>16       </td> <td>102031450</td> <td>Intersection    </td> <td>May       </td> <td>B: Suspected Minor Injury  </td> <td>Bicyclist Ride Through - Sign-Controlled Intersection</td> <td>2007     </td> <td>Residential  </td> <td>22     </td> <td>20-24     </td> <td>.         </td> <td>No        </td> <td>O: No Injury</td> <td>White   </td> <td>Male   </td> <td>Passenger Car</td> <td>No    </td> <td>35.9183 </td> <td>Daylight                  </td> <td>Urban (>70% Developed)</td> <td>-79.059  </td> <td>.         </td> <td>.         </td> <td>.         </td> <td>.         </td> <td>.         </td> <td>.         </td> <td>.         </td> <td>2 lanes        </td> <td>2       </td> <td>Straight - Grade </td> <td>Local Street         </td> <td>Dry       </td> <td>Two-Way, Not Divided</td> <td>None     </td> <td>T-Intersection       </td> <td>Smooth Asphalt</td> <td>Piedmont</td> <td>Urban     </td> <td>20 - 25  MPH</td> <td>Stop Sign         </td> <td>Cloudy </td> <td>No      </td> <td>284     </td>\n",
       "        </tr>\n",
       "        <tr>\n",
       "            <td>-79.048 </td> <td>35.916 </td> <td>372       </td> <td>No        </td> <td>22     </td> <td>20-24     </td> <td>.         </td> <td>Yes       </td> <td>With Traffic  </td> <td>C: Possible Injury         </td> <td>Travel Lane                             </td> <td>Unknown/Missing</td> <td>Male   </td> <td>Chapel Hill</td> <td>Orange</td> <td>Yes       </td> <td>Thursday </td> <td>Motorist Failed to Yield - Sign-Controlled Intersection </td> <td>23       </td> <td>102054187</td> <td>Intersection    </td> <td>May       </td> <td>C: Possible Injury         </td> <td>Motorist Drive Out - Sign-Controlled Intersection    </td> <td>2007     </td> <td>Residential  </td> <td>48     </td> <td>40-49     </td> <td>.         </td> <td>No        </td> <td>O: No Injury</td> <td>Black   </td> <td>Male   </td> <td>Sport Utility</td> <td>No    </td> <td>35.916  </td> <td>Dark - Roadway Not Lighted</td> <td>Urban (>70% Developed)</td> <td>-79.048  </td> <td>.         </td> <td>.         </td> <td>.         </td> <td>.         </td> <td>.         </td> <td>.         </td> <td>.         </td> <td>4 lanes        </td> <td>2       </td> <td>Straight - Level </td> <td>Local Street         </td> <td>Dry       </td> <td>Two-Way, Not Divided</td> <td>None     </td> <td>No Special Feature   </td> <td>Smooth Asphalt</td> <td>Piedmont</td> <td>Urban     </td> <td>20 - 25  MPH</td> <td>Stop Sign         </td> <td>Clear  </td> <td>No      </td> <td>372     </td>\n",
       "        </tr>\n",
       "        <tr>\n",
       "            <td>-79.0551</td> <td>35.9052</td> <td>519       </td> <td>Yes       </td> <td>34     </td> <td>30-39     </td> <td>.         </td> <td>No        </td> <td>Facing Traffic</td> <td>C: Possible Injury         </td> <td>Travel Lane                             </td> <td>Asian          </td> <td>Male   </td> <td>Chapel Hill</td> <td>Orange</td> <td>No        </td> <td>Tuesday  </td> <td>Loss of Control / Turning Error                         </td> <td>17       </td> <td>102085660</td> <td>Intersection    </td> <td>July      </td> <td>C: Possible Injury         </td> <td>Bicyclist Turning Error - Left Turn                  </td> <td>2007     </td> <td>Residential  </td> <td>39     </td> <td>30-39     </td> <td>.         </td> <td>No        </td> <td>O: No Injury</td> <td>White   </td> <td>Male   </td> <td>Passenger Car</td> <td>No    </td> <td>35.9052 </td> <td>Daylight                  </td> <td>Urban (>70% Developed)</td> <td>-79.0551 </td> <td>.         </td> <td>.         </td> <td>.         </td> <td>.         </td> <td>.         </td> <td>.         </td> <td>.         </td> <td>2 lanes        </td> <td>2       </td> <td>Straight - Level </td> <td>Local Street         </td> <td>Wet       </td> <td>Two-Way, Not Divided</td> <td>None     </td> <td>T-Intersection       </td> <td>Smooth Asphalt</td> <td>Piedmont</td> <td>Urban     </td> <td>20 - 25  MPH</td> <td>Stop Sign         </td> <td>Rain   </td> <td>No      </td> <td>519     </td>\n",
       "        </tr>\n",
       "        <tr>\n",
       "            <td>-79.0562</td> <td>35.9099</td> <td>763       </td> <td>No        </td> <td>53     </td> <td>50-59     </td> <td>.         </td> <td>No        </td> <td>With Traffic  </td> <td>C: Possible Injury         </td> <td>Unknown                                 </td> <td>White          </td> <td>Male   </td> <td>Chapel Hill</td> <td>Orange</td> <td>No        </td> <td>Wednesday</td> <td>Motorist Left Turn / Merge                              </td> <td>8        </td> <td>102136520</td> <td>Non-Intersection</td> <td>September </td> <td>C: Possible Injury         </td> <td>Motorist Left Turn - Opposite Direction              </td> <td>2007     </td> <td>Residential  </td> <td>34     </td> <td>30-39     </td> <td>.         </td> <td>No        </td> <td>O: No Injury</td> <td>White   </td> <td>Male   </td> <td>Passenger Car</td> <td>No    </td> <td>35.9099 </td> <td>Daylight                  </td> <td>Urban (>70% Developed)</td> <td>-79.0562 </td> <td>.         </td> <td>.         </td> <td>.         </td> <td>.         </td> <td>.         </td> <td>.         </td> <td>.         </td> <td>2 lanes        </td> <td>2       </td> <td>Straight - Level </td> <td>Local Street         </td> <td>Dry       </td> <td>Two-Way, Not Divided</td> <td>None     </td> <td>No Special Feature   </td> <td>Smooth Asphalt</td> <td>Piedmont</td> <td>Urban     </td> <td>20 - 25  MPH</td> <td>No Control Present</td> <td>Clear  </td> <td>No      </td> <td>763     </td>\n",
       "        </tr>\n",
       "        <tr>\n",
       "            <td>-79.0342</td> <td>35.9292</td> <td>824       </td> <td>Yes       </td> <td>18     </td> <td>16-19     </td> <td>.         </td> <td>No        </td> <td>With Traffic  </td> <td>B: Suspected Minor Injury  </td> <td>Unknown                                 </td> <td>White          </td> <td>Male   </td> <td>Chapel Hill</td> <td>Orange</td> <td>No        </td> <td>Saturday </td> <td>Bicyclist Failed to Yield - Signalized Intersection     </td> <td>14       </td> <td>102152366</td> <td>Intersection    </td> <td>September </td> <td>B: Suspected Minor Injury  </td> <td>Bicyclist Ride Out - Signalized  Intersection        </td> <td>2007     </td> <td>Commercial   </td> <td>68     </td> <td>60-69     </td> <td>.         </td> <td>No        </td> <td>O: No Injury</td> <td>White   </td> <td>Female </td> <td>Passenger Car</td> <td>No    </td> <td>35.9293 </td> <td>Daylight                  </td> <td>Urban (>70% Developed)</td> <td>-79.0342 </td> <td>.         </td> <td>.         </td> <td>.         </td> <td>.         </td> <td>.         </td> <td>.         </td> <td>.         </td> <td>9 or more lanes</td> <td>2       </td> <td>Straight - Level </td> <td>Local Street         </td> <td>Dry       </td> <td>Two-Way, Not Divided</td> <td>None     </td> <td>Four-Way Intersection</td> <td>Smooth Asphalt</td> <td>Piedmont</td> <td>Urban     </td> <td>30 - 35  MPH</td> <td>Stop And Go Signal</td> <td>Clear  </td> <td>No      </td> <td>824     </td>\n",
       "        </tr>\n",
       "        <tr>\n",
       "            <td>-79.048 </td> <td>35.905 </td> <td>980       </td> <td>Yes       </td> <td>21     </td> <td>20-24     </td> <td>.         </td> <td>No        </td> <td>Unknown       </td> <td>B: Suspected Minor Injury  </td> <td>Multi-use Path                          </td> <td>White          </td> <td>Male   </td> <td>Chapel Hill</td> <td>Orange</td> <td>No        </td> <td>Tuesday  </td> <td>Non-Roadway                                             </td> <td>18       </td> <td>102208751</td> <td>Non-Roadway     </td> <td>December  </td> <td>B: Suspected Minor Injury  </td> <td>Non-Roadway                                          </td> <td>2007     </td> <td>Institutional</td> <td>38     </td> <td>30-39     </td> <td>.         </td> <td>No        </td> <td>O: No Injury</td> <td>Asian   </td> <td>Male   </td> <td>Passenger Car</td> <td>No    </td> <td>35.9051 </td> <td>Dark - Lighted Roadway    </td> <td>Urban (>70% Developed)</td> <td>-79.048  </td> <td>.         </td> <td>.         </td> <td>.         </td> <td>.         </td> <td>.         </td> <td>.         </td> <td>.         </td> <td>1 lane         </td> <td>2       </td> <td>Straight - Grade </td> <td>Public Vehicular Area</td> <td>Dry       </td> <td>One-Way, Not Divided</td> <td>None     </td> <td>No Special Feature   </td> <td>Coarse Asphalt</td> <td>Piedmont</td> <td>Urban     </td> <td>5 - 15 MPH  </td> <td>No Control Present</td> <td>Clear  </td> <td>No      </td> <td>980     </td>\n",
       "        </tr>\n",
       "        <tr>\n",
       "            <td>-79.0644</td> <td>35.8916</td> <td>1085      </td> <td>No        </td> <td>43     </td> <td>40-49     </td> <td>.         </td> <td>No        </td> <td>With Traffic  </td> <td>B: Suspected Minor Injury  </td> <td>Travel Lane                             </td> <td>White          </td> <td>Male   </td> <td>Chapel Hill</td> <td>Orange</td> <td>No        </td> <td>Monday   </td> <td>Motorist Right Turn / Merge                             </td> <td>13       </td> <td>102255276</td> <td>Intersection    </td> <td>February  </td> <td>B: Suspected Minor Injury  </td> <td>Motorist Right Turn - Same Direction                 </td> <td>2008     </td> <td>Residential  </td> <td>19     </td> <td>0-19      </td> <td>.         </td> <td>No        </td> <td>O: No Injury</td> <td>White   </td> <td>Male   </td> <td>Passenger Car</td> <td>No    </td> <td>35.8916 </td> <td>Daylight                  </td> <td>Urban (>70% Developed)</td> <td>-79.0644 </td> <td>.         </td> <td>.         </td> <td>.         </td> <td>.         </td> <td>.         </td> <td>.         </td> <td>.         </td> <td>2 lanes        </td> <td>2       </td> <td>Curve - Grade    </td> <td>Local Street         </td> <td>Dry       </td> <td>Two-Way, Not Divided</td> <td>None     </td> <td>T-Intersection       </td> <td>Smooth Asphalt</td> <td>Piedmont</td> <td>Urban     </td> <td>30 - 35  MPH</td> <td>Stop Sign         </td> <td>Clear  </td> <td>No      </td> <td>1085    </td>\n",
       "        </tr>\n",
       "        <tr>\n",
       "            <td>-79.0566</td> <td>35.9376</td> <td>1149      </td> <td>Yes       </td> <td>65     </td> <td>60-69     </td> <td>.         </td> <td>No        </td> <td>With Traffic  </td> <td>A: Suspected Serious Injury</td> <td>Travel Lane                             </td> <td>White          </td> <td>Male   </td> <td>Chapel Hill</td> <td>Orange</td> <td>No        </td> <td>Thursday </td> <td>Bicyclist Left Turn / Merge                             </td> <td>17       </td> <td>102277235</td> <td>Non-Intersection</td> <td>March     </td> <td>A: Suspected Serious Injury</td> <td>Bicyclist Left Turn - Same Direction                 </td> <td>2008     </td> <td>Residential  </td> <td>65     </td> <td>60-69     </td> <td>.         </td> <td>No        </td> <td>O: No Injury</td> <td>White   </td> <td>Female </td> <td>Passenger Car</td> <td>No    </td> <td>35.9376 </td> <td>Daylight                  </td> <td>Urban (>70% Developed)</td> <td>-79.0566 </td> <td>.         </td> <td>.         </td> <td>.         </td> <td>.         </td> <td>.         </td> <td>.         </td> <td>.         </td> <td>5 lanes        </td> <td>2       </td> <td>Straight - Level </td> <td>Local Street         </td> <td>Dry       </td> <td>Two-Way, Not Divided</td> <td>None     </td> <td>No Special Feature   </td> <td>Smooth Asphalt</td> <td>Piedmont</td> <td>Urban     </td> <td>30 - 35  MPH</td> <td>No Control Present</td> <td>Clear  </td> <td>No      </td> <td>1149    </td>\n",
       "        </tr>\n",
       "        <tr>\n",
       "            <td>-79.0355</td> <td>35.9361</td> <td>1158      </td> <td>Yes       </td> <td>12     </td> <td>11-15     </td> <td>.         </td> <td>No        </td> <td>Facing Traffic</td> <td>B: Suspected Minor Injury  </td> <td>Sidewalk / Crosswalk / Driveway Crossing</td> <td>White          </td> <td>Male   </td> <td>Chapel Hill</td> <td>Orange</td> <td>No        </td> <td>Tuesday  </td> <td>Motorist Failed to Yield - Sign-Controlled Intersection </td> <td>15       </td> <td>102280798</td> <td>Intersection    </td> <td>March     </td> <td>B: Suspected Minor Injury  </td> <td>Motorist Drive Out - Sign-Controlled Intersection    </td> <td>2008     </td> <td>Residential  </td> <td>49     </td> <td>40-49     </td> <td>.         </td> <td>No        </td> <td>O: No Injury</td> <td>White   </td> <td>Male   </td> <td>Passenger Car</td> <td>No    </td> <td>35.9361 </td> <td>Daylight                  </td> <td>Urban (>70% Developed)</td> <td>-79.0355 </td> <td>.         </td> <td>.         </td> <td>.         </td> <td>.         </td> <td>.         </td> <td>.         </td> <td>.         </td> <td>2 lanes        </td> <td>2       </td> <td>Straight - Bottom</td> <td>Local Street         </td> <td>Dry       </td> <td>Two-Way, Not Divided</td> <td>None     </td> <td>T-Intersection       </td> <td>Smooth Asphalt</td> <td>Piedmont</td> <td>Urban     </td> <td>20 - 25  MPH</td> <td>Stop Sign         </td> <td>Clear  </td> <td>No      </td> <td>1158    </td>\n",
       "        </tr>\n",
       "        <tr>\n",
       "            <td>-79.0113</td> <td>35.9327</td> <td>1171      </td> <td>Yes       </td> <td>48     </td> <td>40-49     </td> <td>.         </td> <td>No        </td> <td>With Traffic  </td> <td>C: Possible Injury         </td> <td>Travel Lane                             </td> <td>White          </td> <td>Female </td> <td>Chapel Hill</td> <td>Orange</td> <td>No        </td> <td>Sunday   </td> <td>Motorist Left Turn / Merge                              </td> <td>18       </td> <td>102284410</td> <td>Intersection    </td> <td>March     </td> <td>C: Possible Injury         </td> <td>Motorist Left Turn - Opposite Direction              </td> <td>2008     </td> <td>Residential  </td> <td>70+    </td> <td>70+       </td> <td>.         </td> <td>No        </td> <td>O: No Injury</td> <td>White   </td> <td>Female </td> <td>Passenger Car</td> <td>No    </td> <td>35.9327 </td> <td>Daylight                  </td> <td>Urban (>70% Developed)</td> <td>-79.0113 </td> <td>.         </td> <td>.         </td> <td>.         </td> <td>.         </td> <td>.         </td> <td>.         </td> <td>.         </td> <td>2 lanes        </td> <td>2       </td> <td>Straight - Level </td> <td>Local Street         </td> <td>Dry       </td> <td>Two-Way, Not Divided</td> <td>None     </td> <td>Four-Way Intersection</td> <td>Smooth Asphalt</td> <td>Piedmont</td> <td>Urban     </td> <td>30 - 35  MPH</td> <td>No Control Present</td> <td>Clear  </td> <td>No      </td> <td>1171    </td>\n",
       "        </tr>\n",
       "    </tbody>\n",
       "</table>\n",
       "<p>... (145 rows omitted)</p>"
      ],
      "text/plain": [
       "X        | Y       | OBJECTID_1 | AmbulanceR | BikeAge | BikeAgeGrp | BikeAlcDrg | BikeAlcFlg | BikeDir        | BikeInjury                  | BikePos                                  | BikeRace        | BikeSex | City        | County | CrashAlcoh | CrashDay  | CrashGrp                                                 | CrashHour | CrashID   | CrashLoc         | CrashMonth | CrashSevr                   | CrashType                                             | CrashYear | Developmen    | DrvrAge | DrvrAgeGrp | DrvrAlcDrg | DrvrAlcFlg | DrvrInjury   | DrvrRace | DrvrSex | DrvrVehTyp    | HitRun | Latitude | LightCond                  | Locality               | Longitude | NumBicsAin | NumBicsBin | NumBicsCin | NumBicsKil | NumBicsNoi | NumBicsTot | NumBicsUin | NumLanes        | NumUnits | RdCharacte        | RdClass               | RdConditio | RdConfig             | RdDefects | RdFeature             | RdSurface      | Region   | RuralUrban | SpeedLimit   | TraffCntrl         | Weather | Workzone | OBJECTID\n",
       "-79.059  | 35.9183 | 284        | Yes        | 12      | 11-15      | .          | No         | Unknown        | B: Suspected Minor Injury   | Travel Lane                              | Black           | Male    | Chapel Hill | Orange | No         | Saturday  | Bicyclist Failed to Yield - Sign-Controlled Intersection | 16        | 102031450 | Intersection     | May        | B: Suspected Minor Injury   | Bicyclist Ride Through - Sign-Controlled Intersection | 2007      | Residential   | 22      | 20-24      | .          | No         | O: No Injury | White    | Male    | Passenger Car | No     | 35.9183  | Daylight                   | Urban (>70% Developed) | -79.059   | .          | .          | .          | .          | .          | .          | .          | 2 lanes         | 2        | Straight - Grade  | Local Street          | Dry        | Two-Way, Not Divided | None      | T-Intersection        | Smooth Asphalt | Piedmont | Urban      | 20 - 25  MPH | Stop Sign          | Cloudy  | No       | 284\n",
       "-79.048  | 35.916  | 372        | No         | 22      | 20-24      | .          | Yes        | With Traffic   | C: Possible Injury          | Travel Lane                              | Unknown/Missing | Male    | Chapel Hill | Orange | Yes        | Thursday  | Motorist Failed to Yield - Sign-Controlled Intersection  | 23        | 102054187 | Intersection     | May        | C: Possible Injury          | Motorist Drive Out - Sign-Controlled Intersection     | 2007      | Residential   | 48      | 40-49      | .          | No         | O: No Injury | Black    | Male    | Sport Utility | No     | 35.916   | Dark - Roadway Not Lighted | Urban (>70% Developed) | -79.048   | .          | .          | .          | .          | .          | .          | .          | 4 lanes         | 2        | Straight - Level  | Local Street          | Dry        | Two-Way, Not Divided | None      | No Special Feature    | Smooth Asphalt | Piedmont | Urban      | 20 - 25  MPH | Stop Sign          | Clear   | No       | 372\n",
       "-79.0551 | 35.9052 | 519        | Yes        | 34      | 30-39      | .          | No         | Facing Traffic | C: Possible Injury          | Travel Lane                              | Asian           | Male    | Chapel Hill | Orange | No         | Tuesday   | Loss of Control / Turning Error                          | 17        | 102085660 | Intersection     | July       | C: Possible Injury          | Bicyclist Turning Error - Left Turn                   | 2007      | Residential   | 39      | 30-39      | .          | No         | O: No Injury | White    | Male    | Passenger Car | No     | 35.9052  | Daylight                   | Urban (>70% Developed) | -79.0551  | .          | .          | .          | .          | .          | .          | .          | 2 lanes         | 2        | Straight - Level  | Local Street          | Wet        | Two-Way, Not Divided | None      | T-Intersection        | Smooth Asphalt | Piedmont | Urban      | 20 - 25  MPH | Stop Sign          | Rain    | No       | 519\n",
       "-79.0562 | 35.9099 | 763        | No         | 53      | 50-59      | .          | No         | With Traffic   | C: Possible Injury          | Unknown                                  | White           | Male    | Chapel Hill | Orange | No         | Wednesday | Motorist Left Turn / Merge                               | 8         | 102136520 | Non-Intersection | September  | C: Possible Injury          | Motorist Left Turn - Opposite Direction               | 2007      | Residential   | 34      | 30-39      | .          | No         | O: No Injury | White    | Male    | Passenger Car | No     | 35.9099  | Daylight                   | Urban (>70% Developed) | -79.0562  | .          | .          | .          | .          | .          | .          | .          | 2 lanes         | 2        | Straight - Level  | Local Street          | Dry        | Two-Way, Not Divided | None      | No Special Feature    | Smooth Asphalt | Piedmont | Urban      | 20 - 25  MPH | No Control Present | Clear   | No       | 763\n",
       "-79.0342 | 35.9292 | 824        | Yes        | 18      | 16-19      | .          | No         | With Traffic   | B: Suspected Minor Injury   | Unknown                                  | White           | Male    | Chapel Hill | Orange | No         | Saturday  | Bicyclist Failed to Yield - Signalized Intersection      | 14        | 102152366 | Intersection     | September  | B: Suspected Minor Injury   | Bicyclist Ride Out - Signalized  Intersection         | 2007      | Commercial    | 68      | 60-69      | .          | No         | O: No Injury | White    | Female  | Passenger Car | No     | 35.9293  | Daylight                   | Urban (>70% Developed) | -79.0342  | .          | .          | .          | .          | .          | .          | .          | 9 or more lanes | 2        | Straight - Level  | Local Street          | Dry        | Two-Way, Not Divided | None      | Four-Way Intersection | Smooth Asphalt | Piedmont | Urban      | 30 - 35  MPH | Stop And Go Signal | Clear   | No       | 824\n",
       "-79.048  | 35.905  | 980        | Yes        | 21      | 20-24      | .          | No         | Unknown        | B: Suspected Minor Injury   | Multi-use Path                           | White           | Male    | Chapel Hill | Orange | No         | Tuesday   | Non-Roadway                                              | 18        | 102208751 | Non-Roadway      | December   | B: Suspected Minor Injury   | Non-Roadway                                           | 2007      | Institutional | 38      | 30-39      | .          | No         | O: No Injury | Asian    | Male    | Passenger Car | No     | 35.9051  | Dark - Lighted Roadway     | Urban (>70% Developed) | -79.048   | .          | .          | .          | .          | .          | .          | .          | 1 lane          | 2        | Straight - Grade  | Public Vehicular Area | Dry        | One-Way, Not Divided | None      | No Special Feature    | Coarse Asphalt | Piedmont | Urban      | 5 - 15 MPH   | No Control Present | Clear   | No       | 980\n",
       "-79.0644 | 35.8916 | 1085       | No         | 43      | 40-49      | .          | No         | With Traffic   | B: Suspected Minor Injury   | Travel Lane                              | White           | Male    | Chapel Hill | Orange | No         | Monday    | Motorist Right Turn / Merge                              | 13        | 102255276 | Intersection     | February   | B: Suspected Minor Injury   | Motorist Right Turn - Same Direction                  | 2008      | Residential   | 19      | 0-19       | .          | No         | O: No Injury | White    | Male    | Passenger Car | No     | 35.8916  | Daylight                   | Urban (>70% Developed) | -79.0644  | .          | .          | .          | .          | .          | .          | .          | 2 lanes         | 2        | Curve - Grade     | Local Street          | Dry        | Two-Way, Not Divided | None      | T-Intersection        | Smooth Asphalt | Piedmont | Urban      | 30 - 35  MPH | Stop Sign          | Clear   | No       | 1085\n",
       "-79.0566 | 35.9376 | 1149       | Yes        | 65      | 60-69      | .          | No         | With Traffic   | A: Suspected Serious Injury | Travel Lane                              | White           | Male    | Chapel Hill | Orange | No         | Thursday  | Bicyclist Left Turn / Merge                              | 17        | 102277235 | Non-Intersection | March      | A: Suspected Serious Injury | Bicyclist Left Turn - Same Direction                  | 2008      | Residential   | 65      | 60-69      | .          | No         | O: No Injury | White    | Female  | Passenger Car | No     | 35.9376  | Daylight                   | Urban (>70% Developed) | -79.0566  | .          | .          | .          | .          | .          | .          | .          | 5 lanes         | 2        | Straight - Level  | Local Street          | Dry        | Two-Way, Not Divided | None      | No Special Feature    | Smooth Asphalt | Piedmont | Urban      | 30 - 35  MPH | No Control Present | Clear   | No       | 1149\n",
       "-79.0355 | 35.9361 | 1158       | Yes        | 12      | 11-15      | .          | No         | Facing Traffic | B: Suspected Minor Injury   | Sidewalk / Crosswalk / Driveway Crossing | White           | Male    | Chapel Hill | Orange | No         | Tuesday   | Motorist Failed to Yield - Sign-Controlled Intersection  | 15        | 102280798 | Intersection     | March      | B: Suspected Minor Injury   | Motorist Drive Out - Sign-Controlled Intersection     | 2008      | Residential   | 49      | 40-49      | .          | No         | O: No Injury | White    | Male    | Passenger Car | No     | 35.9361  | Daylight                   | Urban (>70% Developed) | -79.0355  | .          | .          | .          | .          | .          | .          | .          | 2 lanes         | 2        | Straight - Bottom | Local Street          | Dry        | Two-Way, Not Divided | None      | T-Intersection        | Smooth Asphalt | Piedmont | Urban      | 20 - 25  MPH | Stop Sign          | Clear   | No       | 1158\n",
       "-79.0113 | 35.9327 | 1171       | Yes        | 48      | 40-49      | .          | No         | With Traffic   | C: Possible Injury          | Travel Lane                              | White           | Female  | Chapel Hill | Orange | No         | Sunday    | Motorist Left Turn / Merge                               | 18        | 102284410 | Intersection     | March      | C: Possible Injury          | Motorist Left Turn - Opposite Direction               | 2008      | Residential   | 70+     | 70+        | .          | No         | O: No Injury | White    | Female  | Passenger Car | No     | 35.9327  | Daylight                   | Urban (>70% Developed) | -79.0113  | .          | .          | .          | .          | .          | .          | .          | 2 lanes         | 2        | Straight - Level  | Local Street          | Dry        | Two-Way, Not Divided | None      | Four-Way Intersection | Smooth Asphalt | Piedmont | Urban      | 30 - 35  MPH | No Control Present | Clear   | No       | 1171\n",
       "... (145 rows omitted)"
      ]
     },
     "execution_count": 32,
     "metadata": {},
     "output_type": "execute_result"
    }
   ],
   "source": [
    "Bike_CH = Bike.where('City', 'Chapel Hill')\n",
    "Bike_CH"
   ]
  },
  {
   "cell_type": "markdown",
   "metadata": {},
   "source": [
    "**Question 5.2** Use the `Bike_CH` table to determine the average number of reported bicycle crashes per year in Chapel Hill and assign this value to `ave_per_year`."
   ]
  },
  {
   "cell_type": "code",
   "execution_count": 35,
   "metadata": {},
   "outputs": [
    {
     "data": {
      "text/plain": [
       "11.923076923076923"
      ]
     },
     "execution_count": 35,
     "metadata": {},
     "output_type": "execute_result"
    }
   ],
   "source": [
    "ave_per_year = np.average(Bike_CH.group('CrashYear').column('count'))\n",
    "ave_per_year"
   ]
  },
  {
   "cell_type": "markdown",
   "metadata": {},
   "source": [
    "Of the reported bicycle crashes that occurred in Chapel Hill, which of them occurred within 1.5 miles of Dr. McLean's office in Hanes Hall? Answering this question will take a few steps. Since the longitude (`X`) and latitude (`Y`) of each bicycle crash is listed in the table, we can use those to determine a distance from Hanes Hall. Googlemaps reports that the longitude and lattide of Hanes Hall is (-79.0513, 35.9107). To convert the differences in these latitudes and longitudes from Hanes Hall, we'll need to use Haversine's Formula."
   ]
  },
  {
   "cell_type": "markdown",
   "metadata": {},
   "source": [
    "### 5.1 Haversine Formula\n",
    "\n",
    "It might seem straightforward to pull out a map and measure the distance between two distant points, however, the larger the distance the bigger the distortion caused by traveling on the curved surface of the Earth as opposed to flat 2D space. So while the distance you measure to your neighbouring town won't be too bad, if you're measuring between London and Rio the curvature of the Earth will make a big difference to the distance that you'll travel. To help figure out the correct distance there's the haversine formula.\n",
    "\n",
    "The haversine formula allows you to calculate the shortest distance between two points on a sphere using their latitudes and longitudes — this will be the arc between them on the great circle that includes both points. A great circle is a circle on a sphere with the same center as the sphere, like the Equator. The haversine formula isn't perfect in practice, as Earth isn't a perfect sphere\n",
    "\n",
    "https://sketchplanations.com/the-haversine-formula\n",
    "\n",
    "<img src=\"haversine.png\"/>"
   ]
  },
  {
   "cell_type": "markdown",
   "metadata": {},
   "source": [
    "The formula itself is a bit complicated, so it's written for you in the cell below. The arguments are the latitude and longitudes of two points on earth, with the function returning the distance between them in kilometers. Run the cell below."
   ]
  },
  {
   "cell_type": "code",
   "execution_count": 36,
   "metadata": {},
   "outputs": [],
   "source": [
    "from math import radians, cos, sin, asin, sqrt\n",
    "def haversine(lon1, lat1, lon2, lat2):\n",
    "    \"\"\"\n",
    "    Calculate the great circle distance between two points \n",
    "    on the earth (specified in decimal degrees)\n",
    "    \"\"\"\n",
    "    # convert decimal degrees to radians \n",
    "    lon1, lat1, lon2, lat2 = map(radians, [lon1, lat1, lon2, lat2])\n",
    "    # haversine formula \n",
    "    dlon = lon2 - lon1 \n",
    "    dlat = lat2 - lat1 \n",
    "    a = sin(dlat/2)**2 + cos(lat1) * cos(lat2) * sin(dlon/2)**2\n",
    "    c = 2 * asin(sqrt(a)) \n",
    "    km = 6367 * c\n",
    "    return km"
   ]
  },
  {
   "cell_type": "markdown",
   "metadata": {},
   "source": [
    "**Question 5.1.1.** Use the haversine formula to determine the distance in kilometers for the first bicycle crash in the `Bike_CH` table and Hanes Hall. Assign this value to `First_Crash_Distance`. \n",
    "\n",
    "Do we really need to consider the curvature of the Earth when traveling locally in Chapel Hill? **Absolutely not** ... but we're going to do it anyways!"
   ]
  },
  {
   "cell_type": "code",
   "execution_count": 38,
   "metadata": {},
   "outputs": [
    {
     "data": {
      "text/plain": [
       "1.0871866784104223"
      ]
     },
     "execution_count": 38,
     "metadata": {},
     "output_type": "execute_result"
    }
   ],
   "source": [
    "First_Crash_Distance = haversine(Bike_CH.column('X').item(0), Bike_CH.column('Y').item(0), -79.0513, 35.9107)\n",
    "First_Crash_Distance"
   ]
  },
  {
   "cell_type": "markdown",
   "metadata": {},
   "source": [
    "**Question 5.1.2.** Next you will determine the distance of each bicycle crash in the `Bike_CH` table from Hanes Hall. Begin by creating a table `Bike_CH_with_Hanes` that contains the same rows and columns as `Bike_CH`, and adds two new columns: `X Hanes` and `Y Hanes`. These columns will have the values for the longitude of Hanes Hall (`X Hanes`) and latitude of Hanes Hall (`Y Hanes`) repeated for each row of the column. To do this, you can use the *np.repeat*() function from numpy. This function takes in two arguments, first the value that you want to repeat, and then how many times you want to repeat it. For instance in the cell below an array is created by repeating 0 20 times."
   ]
  },
  {
   "cell_type": "code",
   "execution_count": 61,
   "metadata": {},
   "outputs": [
    {
     "data": {
      "text/plain": [
       "array([0, 0, 0, 0, 0, 0, 0, 0, 0, 0, 0, 0, 0, 0, 0, 0, 0, 0, 0, 0])"
      ]
     },
     "execution_count": 61,
     "metadata": {},
     "output_type": "execute_result"
    }
   ],
   "source": [
    "np.repeat(0,20)"
   ]
  },
  {
   "cell_type": "code",
   "execution_count": 58,
   "metadata": {
    "collapsed": true,
    "jupyter": {
     "outputs_hidden": true
    },
    "tags": []
   },
   "outputs": [
    {
     "data": {
      "text/html": [
       "<table border=\"1\" class=\"dataframe\">\n",
       "    <thead>\n",
       "        <tr>\n",
       "            <th>X</th> <th>Y</th> <th>OBJECTID_1</th> <th>AmbulanceR</th> <th>BikeAge</th> <th>BikeAgeGrp</th> <th>BikeAlcDrg</th> <th>BikeAlcFlg</th> <th>BikeDir</th> <th>BikeInjury</th> <th>BikePos</th> <th>BikeRace</th> <th>BikeSex</th> <th>City</th> <th>County</th> <th>CrashAlcoh</th> <th>CrashDay</th> <th>CrashGrp</th> <th>CrashHour</th> <th>CrashID</th> <th>CrashLoc</th> <th>CrashMonth</th> <th>CrashSevr</th> <th>CrashType</th> <th>CrashYear</th> <th>Developmen</th> <th>DrvrAge</th> <th>DrvrAgeGrp</th> <th>DrvrAlcDrg</th> <th>DrvrAlcFlg</th> <th>DrvrInjury</th> <th>DrvrRace</th> <th>DrvrSex</th> <th>DrvrVehTyp</th> <th>HitRun</th> <th>Latitude</th> <th>LightCond</th> <th>Locality</th> <th>Longitude</th> <th>NumBicsAin</th> <th>NumBicsBin</th> <th>NumBicsCin</th> <th>NumBicsKil</th> <th>NumBicsNoi</th> <th>NumBicsTot</th> <th>NumBicsUin</th> <th>NumLanes</th> <th>NumUnits</th> <th>RdCharacte</th> <th>RdClass</th> <th>RdConditio</th> <th>RdConfig</th> <th>RdDefects</th> <th>RdFeature</th> <th>RdSurface</th> <th>Region</th> <th>RuralUrban</th> <th>SpeedLimit</th> <th>TraffCntrl</th> <th>Weather</th> <th>Workzone</th> <th>OBJECTID</th> <th>X Hanes</th> <th>Y Hanes</th>\n",
       "        </tr>\n",
       "    </thead>\n",
       "    <tbody>\n",
       "        <tr>\n",
       "            <td>-79.059 </td> <td>35.9183</td> <td>284       </td> <td>Yes       </td> <td>12     </td> <td>11-15     </td> <td>.         </td> <td>No        </td> <td>Unknown       </td> <td>B: Suspected Minor Injury  </td> <td>Travel Lane                             </td> <td>Black          </td> <td>Male   </td> <td>Chapel Hill</td> <td>Orange</td> <td>No        </td> <td>Saturday </td> <td>Bicyclist Failed to Yield - Sign-Controlled Intersection</td> <td>16       </td> <td>102031450</td> <td>Intersection    </td> <td>May       </td> <td>B: Suspected Minor Injury  </td> <td>Bicyclist Ride Through - Sign-Controlled Intersection</td> <td>2007     </td> <td>Residential  </td> <td>22     </td> <td>20-24     </td> <td>.         </td> <td>No        </td> <td>O: No Injury</td> <td>White   </td> <td>Male   </td> <td>Passenger Car</td> <td>No    </td> <td>35.9183 </td> <td>Daylight                  </td> <td>Urban (>70% Developed)</td> <td>-79.059  </td> <td>.         </td> <td>.         </td> <td>.         </td> <td>.         </td> <td>.         </td> <td>.         </td> <td>.         </td> <td>2 lanes        </td> <td>2       </td> <td>Straight - Grade </td> <td>Local Street         </td> <td>Dry       </td> <td>Two-Way, Not Divided</td> <td>None     </td> <td>T-Intersection       </td> <td>Smooth Asphalt</td> <td>Piedmont</td> <td>Urban     </td> <td>20 - 25  MPH</td> <td>Stop Sign         </td> <td>Cloudy </td> <td>No      </td> <td>284     </td> <td>-79.0513</td> <td>35.9107</td>\n",
       "        </tr>\n",
       "        <tr>\n",
       "            <td>-79.048 </td> <td>35.916 </td> <td>372       </td> <td>No        </td> <td>22     </td> <td>20-24     </td> <td>.         </td> <td>Yes       </td> <td>With Traffic  </td> <td>C: Possible Injury         </td> <td>Travel Lane                             </td> <td>Unknown/Missing</td> <td>Male   </td> <td>Chapel Hill</td> <td>Orange</td> <td>Yes       </td> <td>Thursday </td> <td>Motorist Failed to Yield - Sign-Controlled Intersection </td> <td>23       </td> <td>102054187</td> <td>Intersection    </td> <td>May       </td> <td>C: Possible Injury         </td> <td>Motorist Drive Out - Sign-Controlled Intersection    </td> <td>2007     </td> <td>Residential  </td> <td>48     </td> <td>40-49     </td> <td>.         </td> <td>No        </td> <td>O: No Injury</td> <td>Black   </td> <td>Male   </td> <td>Sport Utility</td> <td>No    </td> <td>35.916  </td> <td>Dark - Roadway Not Lighted</td> <td>Urban (>70% Developed)</td> <td>-79.048  </td> <td>.         </td> <td>.         </td> <td>.         </td> <td>.         </td> <td>.         </td> <td>.         </td> <td>.         </td> <td>4 lanes        </td> <td>2       </td> <td>Straight - Level </td> <td>Local Street         </td> <td>Dry       </td> <td>Two-Way, Not Divided</td> <td>None     </td> <td>No Special Feature   </td> <td>Smooth Asphalt</td> <td>Piedmont</td> <td>Urban     </td> <td>20 - 25  MPH</td> <td>Stop Sign         </td> <td>Clear  </td> <td>No      </td> <td>372     </td> <td>-79.0513</td> <td>35.9107</td>\n",
       "        </tr>\n",
       "        <tr>\n",
       "            <td>-79.0551</td> <td>35.9052</td> <td>519       </td> <td>Yes       </td> <td>34     </td> <td>30-39     </td> <td>.         </td> <td>No        </td> <td>Facing Traffic</td> <td>C: Possible Injury         </td> <td>Travel Lane                             </td> <td>Asian          </td> <td>Male   </td> <td>Chapel Hill</td> <td>Orange</td> <td>No        </td> <td>Tuesday  </td> <td>Loss of Control / Turning Error                         </td> <td>17       </td> <td>102085660</td> <td>Intersection    </td> <td>July      </td> <td>C: Possible Injury         </td> <td>Bicyclist Turning Error - Left Turn                  </td> <td>2007     </td> <td>Residential  </td> <td>39     </td> <td>30-39     </td> <td>.         </td> <td>No        </td> <td>O: No Injury</td> <td>White   </td> <td>Male   </td> <td>Passenger Car</td> <td>No    </td> <td>35.9052 </td> <td>Daylight                  </td> <td>Urban (>70% Developed)</td> <td>-79.0551 </td> <td>.         </td> <td>.         </td> <td>.         </td> <td>.         </td> <td>.         </td> <td>.         </td> <td>.         </td> <td>2 lanes        </td> <td>2       </td> <td>Straight - Level </td> <td>Local Street         </td> <td>Wet       </td> <td>Two-Way, Not Divided</td> <td>None     </td> <td>T-Intersection       </td> <td>Smooth Asphalt</td> <td>Piedmont</td> <td>Urban     </td> <td>20 - 25  MPH</td> <td>Stop Sign         </td> <td>Rain   </td> <td>No      </td> <td>519     </td> <td>-79.0513</td> <td>35.9107</td>\n",
       "        </tr>\n",
       "        <tr>\n",
       "            <td>-79.0562</td> <td>35.9099</td> <td>763       </td> <td>No        </td> <td>53     </td> <td>50-59     </td> <td>.         </td> <td>No        </td> <td>With Traffic  </td> <td>C: Possible Injury         </td> <td>Unknown                                 </td> <td>White          </td> <td>Male   </td> <td>Chapel Hill</td> <td>Orange</td> <td>No        </td> <td>Wednesday</td> <td>Motorist Left Turn / Merge                              </td> <td>8        </td> <td>102136520</td> <td>Non-Intersection</td> <td>September </td> <td>C: Possible Injury         </td> <td>Motorist Left Turn - Opposite Direction              </td> <td>2007     </td> <td>Residential  </td> <td>34     </td> <td>30-39     </td> <td>.         </td> <td>No        </td> <td>O: No Injury</td> <td>White   </td> <td>Male   </td> <td>Passenger Car</td> <td>No    </td> <td>35.9099 </td> <td>Daylight                  </td> <td>Urban (>70% Developed)</td> <td>-79.0562 </td> <td>.         </td> <td>.         </td> <td>.         </td> <td>.         </td> <td>.         </td> <td>.         </td> <td>.         </td> <td>2 lanes        </td> <td>2       </td> <td>Straight - Level </td> <td>Local Street         </td> <td>Dry       </td> <td>Two-Way, Not Divided</td> <td>None     </td> <td>No Special Feature   </td> <td>Smooth Asphalt</td> <td>Piedmont</td> <td>Urban     </td> <td>20 - 25  MPH</td> <td>No Control Present</td> <td>Clear  </td> <td>No      </td> <td>763     </td> <td>-79.0513</td> <td>35.9107</td>\n",
       "        </tr>\n",
       "        <tr>\n",
       "            <td>-79.0342</td> <td>35.9292</td> <td>824       </td> <td>Yes       </td> <td>18     </td> <td>16-19     </td> <td>.         </td> <td>No        </td> <td>With Traffic  </td> <td>B: Suspected Minor Injury  </td> <td>Unknown                                 </td> <td>White          </td> <td>Male   </td> <td>Chapel Hill</td> <td>Orange</td> <td>No        </td> <td>Saturday </td> <td>Bicyclist Failed to Yield - Signalized Intersection     </td> <td>14       </td> <td>102152366</td> <td>Intersection    </td> <td>September </td> <td>B: Suspected Minor Injury  </td> <td>Bicyclist Ride Out - Signalized  Intersection        </td> <td>2007     </td> <td>Commercial   </td> <td>68     </td> <td>60-69     </td> <td>.         </td> <td>No        </td> <td>O: No Injury</td> <td>White   </td> <td>Female </td> <td>Passenger Car</td> <td>No    </td> <td>35.9293 </td> <td>Daylight                  </td> <td>Urban (>70% Developed)</td> <td>-79.0342 </td> <td>.         </td> <td>.         </td> <td>.         </td> <td>.         </td> <td>.         </td> <td>.         </td> <td>.         </td> <td>9 or more lanes</td> <td>2       </td> <td>Straight - Level </td> <td>Local Street         </td> <td>Dry       </td> <td>Two-Way, Not Divided</td> <td>None     </td> <td>Four-Way Intersection</td> <td>Smooth Asphalt</td> <td>Piedmont</td> <td>Urban     </td> <td>30 - 35  MPH</td> <td>Stop And Go Signal</td> <td>Clear  </td> <td>No      </td> <td>824     </td> <td>-79.0513</td> <td>35.9107</td>\n",
       "        </tr>\n",
       "        <tr>\n",
       "            <td>-79.048 </td> <td>35.905 </td> <td>980       </td> <td>Yes       </td> <td>21     </td> <td>20-24     </td> <td>.         </td> <td>No        </td> <td>Unknown       </td> <td>B: Suspected Minor Injury  </td> <td>Multi-use Path                          </td> <td>White          </td> <td>Male   </td> <td>Chapel Hill</td> <td>Orange</td> <td>No        </td> <td>Tuesday  </td> <td>Non-Roadway                                             </td> <td>18       </td> <td>102208751</td> <td>Non-Roadway     </td> <td>December  </td> <td>B: Suspected Minor Injury  </td> <td>Non-Roadway                                          </td> <td>2007     </td> <td>Institutional</td> <td>38     </td> <td>30-39     </td> <td>.         </td> <td>No        </td> <td>O: No Injury</td> <td>Asian   </td> <td>Male   </td> <td>Passenger Car</td> <td>No    </td> <td>35.9051 </td> <td>Dark - Lighted Roadway    </td> <td>Urban (>70% Developed)</td> <td>-79.048  </td> <td>.         </td> <td>.         </td> <td>.         </td> <td>.         </td> <td>.         </td> <td>.         </td> <td>.         </td> <td>1 lane         </td> <td>2       </td> <td>Straight - Grade </td> <td>Public Vehicular Area</td> <td>Dry       </td> <td>One-Way, Not Divided</td> <td>None     </td> <td>No Special Feature   </td> <td>Coarse Asphalt</td> <td>Piedmont</td> <td>Urban     </td> <td>5 - 15 MPH  </td> <td>No Control Present</td> <td>Clear  </td> <td>No      </td> <td>980     </td> <td>-79.0513</td> <td>35.9107</td>\n",
       "        </tr>\n",
       "        <tr>\n",
       "            <td>-79.0644</td> <td>35.8916</td> <td>1085      </td> <td>No        </td> <td>43     </td> <td>40-49     </td> <td>.         </td> <td>No        </td> <td>With Traffic  </td> <td>B: Suspected Minor Injury  </td> <td>Travel Lane                             </td> <td>White          </td> <td>Male   </td> <td>Chapel Hill</td> <td>Orange</td> <td>No        </td> <td>Monday   </td> <td>Motorist Right Turn / Merge                             </td> <td>13       </td> <td>102255276</td> <td>Intersection    </td> <td>February  </td> <td>B: Suspected Minor Injury  </td> <td>Motorist Right Turn - Same Direction                 </td> <td>2008     </td> <td>Residential  </td> <td>19     </td> <td>0-19      </td> <td>.         </td> <td>No        </td> <td>O: No Injury</td> <td>White   </td> <td>Male   </td> <td>Passenger Car</td> <td>No    </td> <td>35.8916 </td> <td>Daylight                  </td> <td>Urban (>70% Developed)</td> <td>-79.0644 </td> <td>.         </td> <td>.         </td> <td>.         </td> <td>.         </td> <td>.         </td> <td>.         </td> <td>.         </td> <td>2 lanes        </td> <td>2       </td> <td>Curve - Grade    </td> <td>Local Street         </td> <td>Dry       </td> <td>Two-Way, Not Divided</td> <td>None     </td> <td>T-Intersection       </td> <td>Smooth Asphalt</td> <td>Piedmont</td> <td>Urban     </td> <td>30 - 35  MPH</td> <td>Stop Sign         </td> <td>Clear  </td> <td>No      </td> <td>1085    </td> <td>-79.0513</td> <td>35.9107</td>\n",
       "        </tr>\n",
       "        <tr>\n",
       "            <td>-79.0566</td> <td>35.9376</td> <td>1149      </td> <td>Yes       </td> <td>65     </td> <td>60-69     </td> <td>.         </td> <td>No        </td> <td>With Traffic  </td> <td>A: Suspected Serious Injury</td> <td>Travel Lane                             </td> <td>White          </td> <td>Male   </td> <td>Chapel Hill</td> <td>Orange</td> <td>No        </td> <td>Thursday </td> <td>Bicyclist Left Turn / Merge                             </td> <td>17       </td> <td>102277235</td> <td>Non-Intersection</td> <td>March     </td> <td>A: Suspected Serious Injury</td> <td>Bicyclist Left Turn - Same Direction                 </td> <td>2008     </td> <td>Residential  </td> <td>65     </td> <td>60-69     </td> <td>.         </td> <td>No        </td> <td>O: No Injury</td> <td>White   </td> <td>Female </td> <td>Passenger Car</td> <td>No    </td> <td>35.9376 </td> <td>Daylight                  </td> <td>Urban (>70% Developed)</td> <td>-79.0566 </td> <td>.         </td> <td>.         </td> <td>.         </td> <td>.         </td> <td>.         </td> <td>.         </td> <td>.         </td> <td>5 lanes        </td> <td>2       </td> <td>Straight - Level </td> <td>Local Street         </td> <td>Dry       </td> <td>Two-Way, Not Divided</td> <td>None     </td> <td>No Special Feature   </td> <td>Smooth Asphalt</td> <td>Piedmont</td> <td>Urban     </td> <td>30 - 35  MPH</td> <td>No Control Present</td> <td>Clear  </td> <td>No      </td> <td>1149    </td> <td>-79.0513</td> <td>35.9107</td>\n",
       "        </tr>\n",
       "        <tr>\n",
       "            <td>-79.0355</td> <td>35.9361</td> <td>1158      </td> <td>Yes       </td> <td>12     </td> <td>11-15     </td> <td>.         </td> <td>No        </td> <td>Facing Traffic</td> <td>B: Suspected Minor Injury  </td> <td>Sidewalk / Crosswalk / Driveway Crossing</td> <td>White          </td> <td>Male   </td> <td>Chapel Hill</td> <td>Orange</td> <td>No        </td> <td>Tuesday  </td> <td>Motorist Failed to Yield - Sign-Controlled Intersection </td> <td>15       </td> <td>102280798</td> <td>Intersection    </td> <td>March     </td> <td>B: Suspected Minor Injury  </td> <td>Motorist Drive Out - Sign-Controlled Intersection    </td> <td>2008     </td> <td>Residential  </td> <td>49     </td> <td>40-49     </td> <td>.         </td> <td>No        </td> <td>O: No Injury</td> <td>White   </td> <td>Male   </td> <td>Passenger Car</td> <td>No    </td> <td>35.9361 </td> <td>Daylight                  </td> <td>Urban (>70% Developed)</td> <td>-79.0355 </td> <td>.         </td> <td>.         </td> <td>.         </td> <td>.         </td> <td>.         </td> <td>.         </td> <td>.         </td> <td>2 lanes        </td> <td>2       </td> <td>Straight - Bottom</td> <td>Local Street         </td> <td>Dry       </td> <td>Two-Way, Not Divided</td> <td>None     </td> <td>T-Intersection       </td> <td>Smooth Asphalt</td> <td>Piedmont</td> <td>Urban     </td> <td>20 - 25  MPH</td> <td>Stop Sign         </td> <td>Clear  </td> <td>No      </td> <td>1158    </td> <td>-79.0513</td> <td>35.9107</td>\n",
       "        </tr>\n",
       "        <tr>\n",
       "            <td>-79.0113</td> <td>35.9327</td> <td>1171      </td> <td>Yes       </td> <td>48     </td> <td>40-49     </td> <td>.         </td> <td>No        </td> <td>With Traffic  </td> <td>C: Possible Injury         </td> <td>Travel Lane                             </td> <td>White          </td> <td>Female </td> <td>Chapel Hill</td> <td>Orange</td> <td>No        </td> <td>Sunday   </td> <td>Motorist Left Turn / Merge                              </td> <td>18       </td> <td>102284410</td> <td>Intersection    </td> <td>March     </td> <td>C: Possible Injury         </td> <td>Motorist Left Turn - Opposite Direction              </td> <td>2008     </td> <td>Residential  </td> <td>70+    </td> <td>70+       </td> <td>.         </td> <td>No        </td> <td>O: No Injury</td> <td>White   </td> <td>Female </td> <td>Passenger Car</td> <td>No    </td> <td>35.9327 </td> <td>Daylight                  </td> <td>Urban (>70% Developed)</td> <td>-79.0113 </td> <td>.         </td> <td>.         </td> <td>.         </td> <td>.         </td> <td>.         </td> <td>.         </td> <td>.         </td> <td>2 lanes        </td> <td>2       </td> <td>Straight - Level </td> <td>Local Street         </td> <td>Dry       </td> <td>Two-Way, Not Divided</td> <td>None     </td> <td>Four-Way Intersection</td> <td>Smooth Asphalt</td> <td>Piedmont</td> <td>Urban     </td> <td>30 - 35  MPH</td> <td>No Control Present</td> <td>Clear  </td> <td>No      </td> <td>1171    </td> <td>-79.0513</td> <td>35.9107</td>\n",
       "        </tr>\n",
       "    </tbody>\n",
       "</table>\n",
       "<p>... (145 rows omitted)</p>"
      ],
      "text/plain": [
       "X        | Y       | OBJECTID_1 | AmbulanceR | BikeAge | BikeAgeGrp | BikeAlcDrg | BikeAlcFlg | BikeDir        | BikeInjury                  | BikePos                                  | BikeRace        | BikeSex | City        | County | CrashAlcoh | CrashDay  | CrashGrp                                                 | CrashHour | CrashID   | CrashLoc         | CrashMonth | CrashSevr                   | CrashType                                             | CrashYear | Developmen    | DrvrAge | DrvrAgeGrp | DrvrAlcDrg | DrvrAlcFlg | DrvrInjury   | DrvrRace | DrvrSex | DrvrVehTyp    | HitRun | Latitude | LightCond                  | Locality               | Longitude | NumBicsAin | NumBicsBin | NumBicsCin | NumBicsKil | NumBicsNoi | NumBicsTot | NumBicsUin | NumLanes        | NumUnits | RdCharacte        | RdClass               | RdConditio | RdConfig             | RdDefects | RdFeature             | RdSurface      | Region   | RuralUrban | SpeedLimit   | TraffCntrl         | Weather | Workzone | OBJECTID | X Hanes  | Y Hanes\n",
       "-79.059  | 35.9183 | 284        | Yes        | 12      | 11-15      | .          | No         | Unknown        | B: Suspected Minor Injury   | Travel Lane                              | Black           | Male    | Chapel Hill | Orange | No         | Saturday  | Bicyclist Failed to Yield - Sign-Controlled Intersection | 16        | 102031450 | Intersection     | May        | B: Suspected Minor Injury   | Bicyclist Ride Through - Sign-Controlled Intersection | 2007      | Residential   | 22      | 20-24      | .          | No         | O: No Injury | White    | Male    | Passenger Car | No     | 35.9183  | Daylight                   | Urban (>70% Developed) | -79.059   | .          | .          | .          | .          | .          | .          | .          | 2 lanes         | 2        | Straight - Grade  | Local Street          | Dry        | Two-Way, Not Divided | None      | T-Intersection        | Smooth Asphalt | Piedmont | Urban      | 20 - 25  MPH | Stop Sign          | Cloudy  | No       | 284      | -79.0513 | 35.9107\n",
       "-79.048  | 35.916  | 372        | No         | 22      | 20-24      | .          | Yes        | With Traffic   | C: Possible Injury          | Travel Lane                              | Unknown/Missing | Male    | Chapel Hill | Orange | Yes        | Thursday  | Motorist Failed to Yield - Sign-Controlled Intersection  | 23        | 102054187 | Intersection     | May        | C: Possible Injury          | Motorist Drive Out - Sign-Controlled Intersection     | 2007      | Residential   | 48      | 40-49      | .          | No         | O: No Injury | Black    | Male    | Sport Utility | No     | 35.916   | Dark - Roadway Not Lighted | Urban (>70% Developed) | -79.048   | .          | .          | .          | .          | .          | .          | .          | 4 lanes         | 2        | Straight - Level  | Local Street          | Dry        | Two-Way, Not Divided | None      | No Special Feature    | Smooth Asphalt | Piedmont | Urban      | 20 - 25  MPH | Stop Sign          | Clear   | No       | 372      | -79.0513 | 35.9107\n",
       "-79.0551 | 35.9052 | 519        | Yes        | 34      | 30-39      | .          | No         | Facing Traffic | C: Possible Injury          | Travel Lane                              | Asian           | Male    | Chapel Hill | Orange | No         | Tuesday   | Loss of Control / Turning Error                          | 17        | 102085660 | Intersection     | July       | C: Possible Injury          | Bicyclist Turning Error - Left Turn                   | 2007      | Residential   | 39      | 30-39      | .          | No         | O: No Injury | White    | Male    | Passenger Car | No     | 35.9052  | Daylight                   | Urban (>70% Developed) | -79.0551  | .          | .          | .          | .          | .          | .          | .          | 2 lanes         | 2        | Straight - Level  | Local Street          | Wet        | Two-Way, Not Divided | None      | T-Intersection        | Smooth Asphalt | Piedmont | Urban      | 20 - 25  MPH | Stop Sign          | Rain    | No       | 519      | -79.0513 | 35.9107\n",
       "-79.0562 | 35.9099 | 763        | No         | 53      | 50-59      | .          | No         | With Traffic   | C: Possible Injury          | Unknown                                  | White           | Male    | Chapel Hill | Orange | No         | Wednesday | Motorist Left Turn / Merge                               | 8         | 102136520 | Non-Intersection | September  | C: Possible Injury          | Motorist Left Turn - Opposite Direction               | 2007      | Residential   | 34      | 30-39      | .          | No         | O: No Injury | White    | Male    | Passenger Car | No     | 35.9099  | Daylight                   | Urban (>70% Developed) | -79.0562  | .          | .          | .          | .          | .          | .          | .          | 2 lanes         | 2        | Straight - Level  | Local Street          | Dry        | Two-Way, Not Divided | None      | No Special Feature    | Smooth Asphalt | Piedmont | Urban      | 20 - 25  MPH | No Control Present | Clear   | No       | 763      | -79.0513 | 35.9107\n",
       "-79.0342 | 35.9292 | 824        | Yes        | 18      | 16-19      | .          | No         | With Traffic   | B: Suspected Minor Injury   | Unknown                                  | White           | Male    | Chapel Hill | Orange | No         | Saturday  | Bicyclist Failed to Yield - Signalized Intersection      | 14        | 102152366 | Intersection     | September  | B: Suspected Minor Injury   | Bicyclist Ride Out - Signalized  Intersection         | 2007      | Commercial    | 68      | 60-69      | .          | No         | O: No Injury | White    | Female  | Passenger Car | No     | 35.9293  | Daylight                   | Urban (>70% Developed) | -79.0342  | .          | .          | .          | .          | .          | .          | .          | 9 or more lanes | 2        | Straight - Level  | Local Street          | Dry        | Two-Way, Not Divided | None      | Four-Way Intersection | Smooth Asphalt | Piedmont | Urban      | 30 - 35  MPH | Stop And Go Signal | Clear   | No       | 824      | -79.0513 | 35.9107\n",
       "-79.048  | 35.905  | 980        | Yes        | 21      | 20-24      | .          | No         | Unknown        | B: Suspected Minor Injury   | Multi-use Path                           | White           | Male    | Chapel Hill | Orange | No         | Tuesday   | Non-Roadway                                              | 18        | 102208751 | Non-Roadway      | December   | B: Suspected Minor Injury   | Non-Roadway                                           | 2007      | Institutional | 38      | 30-39      | .          | No         | O: No Injury | Asian    | Male    | Passenger Car | No     | 35.9051  | Dark - Lighted Roadway     | Urban (>70% Developed) | -79.048   | .          | .          | .          | .          | .          | .          | .          | 1 lane          | 2        | Straight - Grade  | Public Vehicular Area | Dry        | One-Way, Not Divided | None      | No Special Feature    | Coarse Asphalt | Piedmont | Urban      | 5 - 15 MPH   | No Control Present | Clear   | No       | 980      | -79.0513 | 35.9107\n",
       "-79.0644 | 35.8916 | 1085       | No         | 43      | 40-49      | .          | No         | With Traffic   | B: Suspected Minor Injury   | Travel Lane                              | White           | Male    | Chapel Hill | Orange | No         | Monday    | Motorist Right Turn / Merge                              | 13        | 102255276 | Intersection     | February   | B: Suspected Minor Injury   | Motorist Right Turn - Same Direction                  | 2008      | Residential   | 19      | 0-19       | .          | No         | O: No Injury | White    | Male    | Passenger Car | No     | 35.8916  | Daylight                   | Urban (>70% Developed) | -79.0644  | .          | .          | .          | .          | .          | .          | .          | 2 lanes         | 2        | Curve - Grade     | Local Street          | Dry        | Two-Way, Not Divided | None      | T-Intersection        | Smooth Asphalt | Piedmont | Urban      | 30 - 35  MPH | Stop Sign          | Clear   | No       | 1085     | -79.0513 | 35.9107\n",
       "-79.0566 | 35.9376 | 1149       | Yes        | 65      | 60-69      | .          | No         | With Traffic   | A: Suspected Serious Injury | Travel Lane                              | White           | Male    | Chapel Hill | Orange | No         | Thursday  | Bicyclist Left Turn / Merge                              | 17        | 102277235 | Non-Intersection | March      | A: Suspected Serious Injury | Bicyclist Left Turn - Same Direction                  | 2008      | Residential   | 65      | 60-69      | .          | No         | O: No Injury | White    | Female  | Passenger Car | No     | 35.9376  | Daylight                   | Urban (>70% Developed) | -79.0566  | .          | .          | .          | .          | .          | .          | .          | 5 lanes         | 2        | Straight - Level  | Local Street          | Dry        | Two-Way, Not Divided | None      | No Special Feature    | Smooth Asphalt | Piedmont | Urban      | 30 - 35  MPH | No Control Present | Clear   | No       | 1149     | -79.0513 | 35.9107\n",
       "-79.0355 | 35.9361 | 1158       | Yes        | 12      | 11-15      | .          | No         | Facing Traffic | B: Suspected Minor Injury   | Sidewalk / Crosswalk / Driveway Crossing | White           | Male    | Chapel Hill | Orange | No         | Tuesday   | Motorist Failed to Yield - Sign-Controlled Intersection  | 15        | 102280798 | Intersection     | March      | B: Suspected Minor Injury   | Motorist Drive Out - Sign-Controlled Intersection     | 2008      | Residential   | 49      | 40-49      | .          | No         | O: No Injury | White    | Male    | Passenger Car | No     | 35.9361  | Daylight                   | Urban (>70% Developed) | -79.0355  | .          | .          | .          | .          | .          | .          | .          | 2 lanes         | 2        | Straight - Bottom | Local Street          | Dry        | Two-Way, Not Divided | None      | T-Intersection        | Smooth Asphalt | Piedmont | Urban      | 20 - 25  MPH | Stop Sign          | Clear   | No       | 1158     | -79.0513 | 35.9107\n",
       "-79.0113 | 35.9327 | 1171       | Yes        | 48      | 40-49      | .          | No         | With Traffic   | C: Possible Injury          | Travel Lane                              | White           | Female  | Chapel Hill | Orange | No         | Sunday    | Motorist Left Turn / Merge                               | 18        | 102284410 | Intersection     | March      | C: Possible Injury          | Motorist Left Turn - Opposite Direction               | 2008      | Residential   | 70+     | 70+        | .          | No         | O: No Injury | White    | Female  | Passenger Car | No     | 35.9327  | Daylight                   | Urban (>70% Developed) | -79.0113  | .          | .          | .          | .          | .          | .          | .          | 2 lanes         | 2        | Straight - Level  | Local Street          | Dry        | Two-Way, Not Divided | None      | Four-Way Intersection | Smooth Asphalt | Piedmont | Urban      | 30 - 35  MPH | No Control Present | Clear   | No       | 1171     | -79.0513 | 35.9107\n",
       "... (145 rows omitted)"
      ]
     },
     "execution_count": 58,
     "metadata": {},
     "output_type": "execute_result"
    }
   ],
   "source": [
    "Bike_CH_with_Hanes = Bike_CH.with_column('X Hanes', np.repeat(-79.0513, len(Bike_CH.column('X')))).with_column('Y Hanes', np.repeat(35.9107, len(Bike_CH.column('X'))))\n",
    "Bike_CH_with_Hanes"
   ]
  },
  {
   "cell_type": "markdown",
   "metadata": {},
   "source": [
    "**Question 5.1.3.** Next you will use the `apply` function to determine the distances of each bicycle crash from Hanes Hall. Create a new table `Bike_CH_Dist_From_Hanes` which contains the same columns and rows as `Bike_CH_with_Hanes` as well as a new column `Distance From Hanes` which contains the values in kilometers for the distance from each bicycle accident from Hanes Hall. "
   ]
  },
  {
   "cell_type": "code",
   "execution_count": 64,
   "metadata": {},
   "outputs": [
    {
     "data": {
      "text/html": [
       "<table border=\"1\" class=\"dataframe\">\n",
       "    <thead>\n",
       "        <tr>\n",
       "            <th>X</th> <th>Y</th> <th>OBJECTID_1</th> <th>AmbulanceR</th> <th>BikeAge</th> <th>BikeAgeGrp</th> <th>BikeAlcDrg</th> <th>BikeAlcFlg</th> <th>BikeDir</th> <th>BikeInjury</th> <th>BikePos</th> <th>BikeRace</th> <th>BikeSex</th> <th>City</th> <th>County</th> <th>CrashAlcoh</th> <th>CrashDay</th> <th>CrashGrp</th> <th>CrashHour</th> <th>CrashID</th> <th>CrashLoc</th> <th>CrashMonth</th> <th>CrashSevr</th> <th>CrashType</th> <th>CrashYear</th> <th>Developmen</th> <th>DrvrAge</th> <th>DrvrAgeGrp</th> <th>DrvrAlcDrg</th> <th>DrvrAlcFlg</th> <th>DrvrInjury</th> <th>DrvrRace</th> <th>DrvrSex</th> <th>DrvrVehTyp</th> <th>HitRun</th> <th>Latitude</th> <th>LightCond</th> <th>Locality</th> <th>Longitude</th> <th>NumBicsAin</th> <th>NumBicsBin</th> <th>NumBicsCin</th> <th>NumBicsKil</th> <th>NumBicsNoi</th> <th>NumBicsTot</th> <th>NumBicsUin</th> <th>NumLanes</th> <th>NumUnits</th> <th>RdCharacte</th> <th>RdClass</th> <th>RdConditio</th> <th>RdConfig</th> <th>RdDefects</th> <th>RdFeature</th> <th>RdSurface</th> <th>Region</th> <th>RuralUrban</th> <th>SpeedLimit</th> <th>TraffCntrl</th> <th>Weather</th> <th>Workzone</th> <th>OBJECTID</th> <th>X Hanes</th> <th>Y Hanes</th> <th>Distance From Hanes</th>\n",
       "        </tr>\n",
       "    </thead>\n",
       "    <tbody>\n",
       "        <tr>\n",
       "            <td>-79.059 </td> <td>35.9183</td> <td>284       </td> <td>Yes       </td> <td>12     </td> <td>11-15     </td> <td>.         </td> <td>No        </td> <td>Unknown       </td> <td>B: Suspected Minor Injury  </td> <td>Travel Lane                             </td> <td>Black          </td> <td>Male   </td> <td>Chapel Hill</td> <td>Orange</td> <td>No        </td> <td>Saturday </td> <td>Bicyclist Failed to Yield - Sign-Controlled Intersection</td> <td>16       </td> <td>102031450</td> <td>Intersection    </td> <td>May       </td> <td>B: Suspected Minor Injury  </td> <td>Bicyclist Ride Through - Sign-Controlled Intersection</td> <td>2007     </td> <td>Residential  </td> <td>22     </td> <td>20-24     </td> <td>.         </td> <td>No        </td> <td>O: No Injury</td> <td>White   </td> <td>Male   </td> <td>Passenger Car</td> <td>No    </td> <td>35.9183 </td> <td>Daylight                  </td> <td>Urban (>70% Developed)</td> <td>-79.059  </td> <td>.         </td> <td>.         </td> <td>.         </td> <td>.         </td> <td>.         </td> <td>.         </td> <td>.         </td> <td>2 lanes        </td> <td>2       </td> <td>Straight - Grade </td> <td>Local Street         </td> <td>Dry       </td> <td>Two-Way, Not Divided</td> <td>None     </td> <td>T-Intersection       </td> <td>Smooth Asphalt</td> <td>Piedmont</td> <td>Urban     </td> <td>20 - 25  MPH</td> <td>Stop Sign         </td> <td>Cloudy </td> <td>No      </td> <td>284     </td> <td>-79.0513</td> <td>35.9107</td> <td>1.08719            </td>\n",
       "        </tr>\n",
       "        <tr>\n",
       "            <td>-79.048 </td> <td>35.916 </td> <td>372       </td> <td>No        </td> <td>22     </td> <td>20-24     </td> <td>.         </td> <td>Yes       </td> <td>With Traffic  </td> <td>C: Possible Injury         </td> <td>Travel Lane                             </td> <td>Unknown/Missing</td> <td>Male   </td> <td>Chapel Hill</td> <td>Orange</td> <td>Yes       </td> <td>Thursday </td> <td>Motorist Failed to Yield - Sign-Controlled Intersection </td> <td>23       </td> <td>102054187</td> <td>Intersection    </td> <td>May       </td> <td>C: Possible Injury         </td> <td>Motorist Drive Out - Sign-Controlled Intersection    </td> <td>2007     </td> <td>Residential  </td> <td>48     </td> <td>40-49     </td> <td>.         </td> <td>No        </td> <td>O: No Injury</td> <td>Black   </td> <td>Male   </td> <td>Sport Utility</td> <td>No    </td> <td>35.916  </td> <td>Dark - Roadway Not Lighted</td> <td>Urban (>70% Developed)</td> <td>-79.048  </td> <td>.         </td> <td>.         </td> <td>.         </td> <td>.         </td> <td>.         </td> <td>.         </td> <td>.         </td> <td>4 lanes        </td> <td>2       </td> <td>Straight - Level </td> <td>Local Street         </td> <td>Dry       </td> <td>Two-Way, Not Divided</td> <td>None     </td> <td>No Special Feature   </td> <td>Smooth Asphalt</td> <td>Piedmont</td> <td>Urban     </td> <td>20 - 25  MPH</td> <td>Stop Sign         </td> <td>Clear  </td> <td>No      </td> <td>372     </td> <td>-79.0513</td> <td>35.9107</td> <td>0.664417           </td>\n",
       "        </tr>\n",
       "        <tr>\n",
       "            <td>-79.0551</td> <td>35.9052</td> <td>519       </td> <td>Yes       </td> <td>34     </td> <td>30-39     </td> <td>.         </td> <td>No        </td> <td>Facing Traffic</td> <td>C: Possible Injury         </td> <td>Travel Lane                             </td> <td>Asian          </td> <td>Male   </td> <td>Chapel Hill</td> <td>Orange</td> <td>No        </td> <td>Tuesday  </td> <td>Loss of Control / Turning Error                         </td> <td>17       </td> <td>102085660</td> <td>Intersection    </td> <td>July      </td> <td>C: Possible Injury         </td> <td>Bicyclist Turning Error - Left Turn                  </td> <td>2007     </td> <td>Residential  </td> <td>39     </td> <td>30-39     </td> <td>.         </td> <td>No        </td> <td>O: No Injury</td> <td>White   </td> <td>Male   </td> <td>Passenger Car</td> <td>No    </td> <td>35.9052 </td> <td>Daylight                  </td> <td>Urban (>70% Developed)</td> <td>-79.0551 </td> <td>.         </td> <td>.         </td> <td>.         </td> <td>.         </td> <td>.         </td> <td>.         </td> <td>.         </td> <td>2 lanes        </td> <td>2       </td> <td>Straight - Level </td> <td>Local Street         </td> <td>Wet       </td> <td>Two-Way, Not Divided</td> <td>None     </td> <td>T-Intersection       </td> <td>Smooth Asphalt</td> <td>Piedmont</td> <td>Urban     </td> <td>20 - 25  MPH</td> <td>Stop Sign         </td> <td>Rain   </td> <td>No      </td> <td>519     </td> <td>-79.0513</td> <td>35.9107</td> <td>0.701111           </td>\n",
       "        </tr>\n",
       "        <tr>\n",
       "            <td>-79.0562</td> <td>35.9099</td> <td>763       </td> <td>No        </td> <td>53     </td> <td>50-59     </td> <td>.         </td> <td>No        </td> <td>With Traffic  </td> <td>C: Possible Injury         </td> <td>Unknown                                 </td> <td>White          </td> <td>Male   </td> <td>Chapel Hill</td> <td>Orange</td> <td>No        </td> <td>Wednesday</td> <td>Motorist Left Turn / Merge                              </td> <td>8        </td> <td>102136520</td> <td>Non-Intersection</td> <td>September </td> <td>C: Possible Injury         </td> <td>Motorist Left Turn - Opposite Direction              </td> <td>2007     </td> <td>Residential  </td> <td>34     </td> <td>30-39     </td> <td>.         </td> <td>No        </td> <td>O: No Injury</td> <td>White   </td> <td>Male   </td> <td>Passenger Car</td> <td>No    </td> <td>35.9099 </td> <td>Daylight                  </td> <td>Urban (>70% Developed)</td> <td>-79.0562 </td> <td>.         </td> <td>.         </td> <td>.         </td> <td>.         </td> <td>.         </td> <td>.         </td> <td>.         </td> <td>2 lanes        </td> <td>2       </td> <td>Straight - Level </td> <td>Local Street         </td> <td>Dry       </td> <td>Two-Way, Not Divided</td> <td>None     </td> <td>No Special Feature   </td> <td>Smooth Asphalt</td> <td>Piedmont</td> <td>Urban     </td> <td>20 - 25  MPH</td> <td>No Control Present</td> <td>Clear  </td> <td>No      </td> <td>763     </td> <td>-79.0513</td> <td>35.9107</td> <td>0.450427           </td>\n",
       "        </tr>\n",
       "        <tr>\n",
       "            <td>-79.0342</td> <td>35.9292</td> <td>824       </td> <td>Yes       </td> <td>18     </td> <td>16-19     </td> <td>.         </td> <td>No        </td> <td>With Traffic  </td> <td>B: Suspected Minor Injury  </td> <td>Unknown                                 </td> <td>White          </td> <td>Male   </td> <td>Chapel Hill</td> <td>Orange</td> <td>No        </td> <td>Saturday </td> <td>Bicyclist Failed to Yield - Signalized Intersection     </td> <td>14       </td> <td>102152366</td> <td>Intersection    </td> <td>September </td> <td>B: Suspected Minor Injury  </td> <td>Bicyclist Ride Out - Signalized  Intersection        </td> <td>2007     </td> <td>Commercial   </td> <td>68     </td> <td>60-69     </td> <td>.         </td> <td>No        </td> <td>O: No Injury</td> <td>White   </td> <td>Female </td> <td>Passenger Car</td> <td>No    </td> <td>35.9293 </td> <td>Daylight                  </td> <td>Urban (>70% Developed)</td> <td>-79.0342 </td> <td>.         </td> <td>.         </td> <td>.         </td> <td>.         </td> <td>.         </td> <td>.         </td> <td>.         </td> <td>9 or more lanes</td> <td>2       </td> <td>Straight - Level </td> <td>Local Street         </td> <td>Dry       </td> <td>Two-Way, Not Divided</td> <td>None     </td> <td>Four-Way Intersection</td> <td>Smooth Asphalt</td> <td>Piedmont</td> <td>Urban     </td> <td>30 - 35  MPH</td> <td>Stop And Go Signal</td> <td>Clear  </td> <td>No      </td> <td>824     </td> <td>-79.0513</td> <td>35.9107</td> <td>2.57405            </td>\n",
       "        </tr>\n",
       "        <tr>\n",
       "            <td>-79.048 </td> <td>35.905 </td> <td>980       </td> <td>Yes       </td> <td>21     </td> <td>20-24     </td> <td>.         </td> <td>No        </td> <td>Unknown       </td> <td>B: Suspected Minor Injury  </td> <td>Multi-use Path                          </td> <td>White          </td> <td>Male   </td> <td>Chapel Hill</td> <td>Orange</td> <td>No        </td> <td>Tuesday  </td> <td>Non-Roadway                                             </td> <td>18       </td> <td>102208751</td> <td>Non-Roadway     </td> <td>December  </td> <td>B: Suspected Minor Injury  </td> <td>Non-Roadway                                          </td> <td>2007     </td> <td>Institutional</td> <td>38     </td> <td>30-39     </td> <td>.         </td> <td>No        </td> <td>O: No Injury</td> <td>Asian   </td> <td>Male   </td> <td>Passenger Car</td> <td>No    </td> <td>35.9051 </td> <td>Dark - Lighted Roadway    </td> <td>Urban (>70% Developed)</td> <td>-79.048  </td> <td>.         </td> <td>.         </td> <td>.         </td> <td>.         </td> <td>.         </td> <td>.         </td> <td>.         </td> <td>1 lane         </td> <td>2       </td> <td>Straight - Grade </td> <td>Public Vehicular Area</td> <td>Dry       </td> <td>One-Way, Not Divided</td> <td>None     </td> <td>No Special Feature   </td> <td>Coarse Asphalt</td> <td>Piedmont</td> <td>Urban     </td> <td>5 - 15 MPH  </td> <td>No Control Present</td> <td>Clear  </td> <td>No      </td> <td>980     </td> <td>-79.0513</td> <td>35.9107</td> <td>0.694416           </td>\n",
       "        </tr>\n",
       "        <tr>\n",
       "            <td>-79.0644</td> <td>35.8916</td> <td>1085      </td> <td>No        </td> <td>43     </td> <td>40-49     </td> <td>.         </td> <td>No        </td> <td>With Traffic  </td> <td>B: Suspected Minor Injury  </td> <td>Travel Lane                             </td> <td>White          </td> <td>Male   </td> <td>Chapel Hill</td> <td>Orange</td> <td>No        </td> <td>Monday   </td> <td>Motorist Right Turn / Merge                             </td> <td>13       </td> <td>102255276</td> <td>Intersection    </td> <td>February  </td> <td>B: Suspected Minor Injury  </td> <td>Motorist Right Turn - Same Direction                 </td> <td>2008     </td> <td>Residential  </td> <td>19     </td> <td>0-19      </td> <td>.         </td> <td>No        </td> <td>O: No Injury</td> <td>White   </td> <td>Male   </td> <td>Passenger Car</td> <td>No    </td> <td>35.8916 </td> <td>Daylight                  </td> <td>Urban (>70% Developed)</td> <td>-79.0644 </td> <td>.         </td> <td>.         </td> <td>.         </td> <td>.         </td> <td>.         </td> <td>.         </td> <td>.         </td> <td>2 lanes        </td> <td>2       </td> <td>Curve - Grade    </td> <td>Local Street         </td> <td>Dry       </td> <td>Two-Way, Not Divided</td> <td>None     </td> <td>T-Intersection       </td> <td>Smooth Asphalt</td> <td>Piedmont</td> <td>Urban     </td> <td>30 - 35  MPH</td> <td>Stop Sign         </td> <td>Clear  </td> <td>No      </td> <td>1085    </td> <td>-79.0513</td> <td>35.9107</td> <td>2.43078            </td>\n",
       "        </tr>\n",
       "        <tr>\n",
       "            <td>-79.0566</td> <td>35.9376</td> <td>1149      </td> <td>Yes       </td> <td>65     </td> <td>60-69     </td> <td>.         </td> <td>No        </td> <td>With Traffic  </td> <td>A: Suspected Serious Injury</td> <td>Travel Lane                             </td> <td>White          </td> <td>Male   </td> <td>Chapel Hill</td> <td>Orange</td> <td>No        </td> <td>Thursday </td> <td>Bicyclist Left Turn / Merge                             </td> <td>17       </td> <td>102277235</td> <td>Non-Intersection</td> <td>March     </td> <td>A: Suspected Serious Injury</td> <td>Bicyclist Left Turn - Same Direction                 </td> <td>2008     </td> <td>Residential  </td> <td>65     </td> <td>60-69     </td> <td>.         </td> <td>No        </td> <td>O: No Injury</td> <td>White   </td> <td>Female </td> <td>Passenger Car</td> <td>No    </td> <td>35.9376 </td> <td>Daylight                  </td> <td>Urban (>70% Developed)</td> <td>-79.0566 </td> <td>.         </td> <td>.         </td> <td>.         </td> <td>.         </td> <td>.         </td> <td>.         </td> <td>.         </td> <td>5 lanes        </td> <td>2       </td> <td>Straight - Level </td> <td>Local Street         </td> <td>Dry       </td> <td>Two-Way, Not Divided</td> <td>None     </td> <td>No Special Feature   </td> <td>Smooth Asphalt</td> <td>Piedmont</td> <td>Urban     </td> <td>30 - 35  MPH</td> <td>No Control Present</td> <td>Clear  </td> <td>No      </td> <td>1149    </td> <td>-79.0513</td> <td>35.9107</td> <td>3.02679            </td>\n",
       "        </tr>\n",
       "        <tr>\n",
       "            <td>-79.0355</td> <td>35.9361</td> <td>1158      </td> <td>Yes       </td> <td>12     </td> <td>11-15     </td> <td>.         </td> <td>No        </td> <td>Facing Traffic</td> <td>B: Suspected Minor Injury  </td> <td>Sidewalk / Crosswalk / Driveway Crossing</td> <td>White          </td> <td>Male   </td> <td>Chapel Hill</td> <td>Orange</td> <td>No        </td> <td>Tuesday  </td> <td>Motorist Failed to Yield - Sign-Controlled Intersection </td> <td>15       </td> <td>102280798</td> <td>Intersection    </td> <td>March     </td> <td>B: Suspected Minor Injury  </td> <td>Motorist Drive Out - Sign-Controlled Intersection    </td> <td>2008     </td> <td>Residential  </td> <td>49     </td> <td>40-49     </td> <td>.         </td> <td>No        </td> <td>O: No Injury</td> <td>White   </td> <td>Male   </td> <td>Passenger Car</td> <td>No    </td> <td>35.9361 </td> <td>Daylight                  </td> <td>Urban (>70% Developed)</td> <td>-79.0355 </td> <td>.         </td> <td>.         </td> <td>.         </td> <td>.         </td> <td>.         </td> <td>.         </td> <td>.         </td> <td>2 lanes        </td> <td>2       </td> <td>Straight - Bottom</td> <td>Local Street         </td> <td>Dry       </td> <td>Two-Way, Not Divided</td> <td>None     </td> <td>T-Intersection       </td> <td>Smooth Asphalt</td> <td>Piedmont</td> <td>Urban     </td> <td>20 - 25  MPH</td> <td>Stop Sign         </td> <td>Clear  </td> <td>No      </td> <td>1158    </td> <td>-79.0513</td> <td>35.9107</td> <td>3.16183            </td>\n",
       "        </tr>\n",
       "        <tr>\n",
       "            <td>-79.0113</td> <td>35.9327</td> <td>1171      </td> <td>Yes       </td> <td>48     </td> <td>40-49     </td> <td>.         </td> <td>No        </td> <td>With Traffic  </td> <td>C: Possible Injury         </td> <td>Travel Lane                             </td> <td>White          </td> <td>Female </td> <td>Chapel Hill</td> <td>Orange</td> <td>No        </td> <td>Sunday   </td> <td>Motorist Left Turn / Merge                              </td> <td>18       </td> <td>102284410</td> <td>Intersection    </td> <td>March     </td> <td>C: Possible Injury         </td> <td>Motorist Left Turn - Opposite Direction              </td> <td>2008     </td> <td>Residential  </td> <td>70+    </td> <td>70+       </td> <td>.         </td> <td>No        </td> <td>O: No Injury</td> <td>White   </td> <td>Female </td> <td>Passenger Car</td> <td>No    </td> <td>35.9327 </td> <td>Daylight                  </td> <td>Urban (>70% Developed)</td> <td>-79.0113 </td> <td>.         </td> <td>.         </td> <td>.         </td> <td>.         </td> <td>.         </td> <td>.         </td> <td>.         </td> <td>2 lanes        </td> <td>2       </td> <td>Straight - Level </td> <td>Local Street         </td> <td>Dry       </td> <td>Two-Way, Not Divided</td> <td>None     </td> <td>Four-Way Intersection</td> <td>Smooth Asphalt</td> <td>Piedmont</td> <td>Urban     </td> <td>30 - 35  MPH</td> <td>No Control Present</td> <td>Clear  </td> <td>No      </td> <td>1171    </td> <td>-79.0513</td> <td>35.9107</td> <td>4.35302            </td>\n",
       "        </tr>\n",
       "    </tbody>\n",
       "</table>\n",
       "<p>... (145 rows omitted)</p>"
      ],
      "text/plain": [
       "X        | Y       | OBJECTID_1 | AmbulanceR | BikeAge | BikeAgeGrp | BikeAlcDrg | BikeAlcFlg | BikeDir        | BikeInjury                  | BikePos                                  | BikeRace        | BikeSex | City        | County | CrashAlcoh | CrashDay  | CrashGrp                                                 | CrashHour | CrashID   | CrashLoc         | CrashMonth | CrashSevr                   | CrashType                                             | CrashYear | Developmen    | DrvrAge | DrvrAgeGrp | DrvrAlcDrg | DrvrAlcFlg | DrvrInjury   | DrvrRace | DrvrSex | DrvrVehTyp    | HitRun | Latitude | LightCond                  | Locality               | Longitude | NumBicsAin | NumBicsBin | NumBicsCin | NumBicsKil | NumBicsNoi | NumBicsTot | NumBicsUin | NumLanes        | NumUnits | RdCharacte        | RdClass               | RdConditio | RdConfig             | RdDefects | RdFeature             | RdSurface      | Region   | RuralUrban | SpeedLimit   | TraffCntrl         | Weather | Workzone | OBJECTID | X Hanes  | Y Hanes | Distance From Hanes\n",
       "-79.059  | 35.9183 | 284        | Yes        | 12      | 11-15      | .          | No         | Unknown        | B: Suspected Minor Injury   | Travel Lane                              | Black           | Male    | Chapel Hill | Orange | No         | Saturday  | Bicyclist Failed to Yield - Sign-Controlled Intersection | 16        | 102031450 | Intersection     | May        | B: Suspected Minor Injury   | Bicyclist Ride Through - Sign-Controlled Intersection | 2007      | Residential   | 22      | 20-24      | .          | No         | O: No Injury | White    | Male    | Passenger Car | No     | 35.9183  | Daylight                   | Urban (>70% Developed) | -79.059   | .          | .          | .          | .          | .          | .          | .          | 2 lanes         | 2        | Straight - Grade  | Local Street          | Dry        | Two-Way, Not Divided | None      | T-Intersection        | Smooth Asphalt | Piedmont | Urban      | 20 - 25  MPH | Stop Sign          | Cloudy  | No       | 284      | -79.0513 | 35.9107 | 1.08719\n",
       "-79.048  | 35.916  | 372        | No         | 22      | 20-24      | .          | Yes        | With Traffic   | C: Possible Injury          | Travel Lane                              | Unknown/Missing | Male    | Chapel Hill | Orange | Yes        | Thursday  | Motorist Failed to Yield - Sign-Controlled Intersection  | 23        | 102054187 | Intersection     | May        | C: Possible Injury          | Motorist Drive Out - Sign-Controlled Intersection     | 2007      | Residential   | 48      | 40-49      | .          | No         | O: No Injury | Black    | Male    | Sport Utility | No     | 35.916   | Dark - Roadway Not Lighted | Urban (>70% Developed) | -79.048   | .          | .          | .          | .          | .          | .          | .          | 4 lanes         | 2        | Straight - Level  | Local Street          | Dry        | Two-Way, Not Divided | None      | No Special Feature    | Smooth Asphalt | Piedmont | Urban      | 20 - 25  MPH | Stop Sign          | Clear   | No       | 372      | -79.0513 | 35.9107 | 0.664417\n",
       "-79.0551 | 35.9052 | 519        | Yes        | 34      | 30-39      | .          | No         | Facing Traffic | C: Possible Injury          | Travel Lane                              | Asian           | Male    | Chapel Hill | Orange | No         | Tuesday   | Loss of Control / Turning Error                          | 17        | 102085660 | Intersection     | July       | C: Possible Injury          | Bicyclist Turning Error - Left Turn                   | 2007      | Residential   | 39      | 30-39      | .          | No         | O: No Injury | White    | Male    | Passenger Car | No     | 35.9052  | Daylight                   | Urban (>70% Developed) | -79.0551  | .          | .          | .          | .          | .          | .          | .          | 2 lanes         | 2        | Straight - Level  | Local Street          | Wet        | Two-Way, Not Divided | None      | T-Intersection        | Smooth Asphalt | Piedmont | Urban      | 20 - 25  MPH | Stop Sign          | Rain    | No       | 519      | -79.0513 | 35.9107 | 0.701111\n",
       "-79.0562 | 35.9099 | 763        | No         | 53      | 50-59      | .          | No         | With Traffic   | C: Possible Injury          | Unknown                                  | White           | Male    | Chapel Hill | Orange | No         | Wednesday | Motorist Left Turn / Merge                               | 8         | 102136520 | Non-Intersection | September  | C: Possible Injury          | Motorist Left Turn - Opposite Direction               | 2007      | Residential   | 34      | 30-39      | .          | No         | O: No Injury | White    | Male    | Passenger Car | No     | 35.9099  | Daylight                   | Urban (>70% Developed) | -79.0562  | .          | .          | .          | .          | .          | .          | .          | 2 lanes         | 2        | Straight - Level  | Local Street          | Dry        | Two-Way, Not Divided | None      | No Special Feature    | Smooth Asphalt | Piedmont | Urban      | 20 - 25  MPH | No Control Present | Clear   | No       | 763      | -79.0513 | 35.9107 | 0.450427\n",
       "-79.0342 | 35.9292 | 824        | Yes        | 18      | 16-19      | .          | No         | With Traffic   | B: Suspected Minor Injury   | Unknown                                  | White           | Male    | Chapel Hill | Orange | No         | Saturday  | Bicyclist Failed to Yield - Signalized Intersection      | 14        | 102152366 | Intersection     | September  | B: Suspected Minor Injury   | Bicyclist Ride Out - Signalized  Intersection         | 2007      | Commercial    | 68      | 60-69      | .          | No         | O: No Injury | White    | Female  | Passenger Car | No     | 35.9293  | Daylight                   | Urban (>70% Developed) | -79.0342  | .          | .          | .          | .          | .          | .          | .          | 9 or more lanes | 2        | Straight - Level  | Local Street          | Dry        | Two-Way, Not Divided | None      | Four-Way Intersection | Smooth Asphalt | Piedmont | Urban      | 30 - 35  MPH | Stop And Go Signal | Clear   | No       | 824      | -79.0513 | 35.9107 | 2.57405\n",
       "-79.048  | 35.905  | 980        | Yes        | 21      | 20-24      | .          | No         | Unknown        | B: Suspected Minor Injury   | Multi-use Path                           | White           | Male    | Chapel Hill | Orange | No         | Tuesday   | Non-Roadway                                              | 18        | 102208751 | Non-Roadway      | December   | B: Suspected Minor Injury   | Non-Roadway                                           | 2007      | Institutional | 38      | 30-39      | .          | No         | O: No Injury | Asian    | Male    | Passenger Car | No     | 35.9051  | Dark - Lighted Roadway     | Urban (>70% Developed) | -79.048   | .          | .          | .          | .          | .          | .          | .          | 1 lane          | 2        | Straight - Grade  | Public Vehicular Area | Dry        | One-Way, Not Divided | None      | No Special Feature    | Coarse Asphalt | Piedmont | Urban      | 5 - 15 MPH   | No Control Present | Clear   | No       | 980      | -79.0513 | 35.9107 | 0.694416\n",
       "-79.0644 | 35.8916 | 1085       | No         | 43      | 40-49      | .          | No         | With Traffic   | B: Suspected Minor Injury   | Travel Lane                              | White           | Male    | Chapel Hill | Orange | No         | Monday    | Motorist Right Turn / Merge                              | 13        | 102255276 | Intersection     | February   | B: Suspected Minor Injury   | Motorist Right Turn - Same Direction                  | 2008      | Residential   | 19      | 0-19       | .          | No         | O: No Injury | White    | Male    | Passenger Car | No     | 35.8916  | Daylight                   | Urban (>70% Developed) | -79.0644  | .          | .          | .          | .          | .          | .          | .          | 2 lanes         | 2        | Curve - Grade     | Local Street          | Dry        | Two-Way, Not Divided | None      | T-Intersection        | Smooth Asphalt | Piedmont | Urban      | 30 - 35  MPH | Stop Sign          | Clear   | No       | 1085     | -79.0513 | 35.9107 | 2.43078\n",
       "-79.0566 | 35.9376 | 1149       | Yes        | 65      | 60-69      | .          | No         | With Traffic   | A: Suspected Serious Injury | Travel Lane                              | White           | Male    | Chapel Hill | Orange | No         | Thursday  | Bicyclist Left Turn / Merge                              | 17        | 102277235 | Non-Intersection | March      | A: Suspected Serious Injury | Bicyclist Left Turn - Same Direction                  | 2008      | Residential   | 65      | 60-69      | .          | No         | O: No Injury | White    | Female  | Passenger Car | No     | 35.9376  | Daylight                   | Urban (>70% Developed) | -79.0566  | .          | .          | .          | .          | .          | .          | .          | 5 lanes         | 2        | Straight - Level  | Local Street          | Dry        | Two-Way, Not Divided | None      | No Special Feature    | Smooth Asphalt | Piedmont | Urban      | 30 - 35  MPH | No Control Present | Clear   | No       | 1149     | -79.0513 | 35.9107 | 3.02679\n",
       "-79.0355 | 35.9361 | 1158       | Yes        | 12      | 11-15      | .          | No         | Facing Traffic | B: Suspected Minor Injury   | Sidewalk / Crosswalk / Driveway Crossing | White           | Male    | Chapel Hill | Orange | No         | Tuesday   | Motorist Failed to Yield - Sign-Controlled Intersection  | 15        | 102280798 | Intersection     | March      | B: Suspected Minor Injury   | Motorist Drive Out - Sign-Controlled Intersection     | 2008      | Residential   | 49      | 40-49      | .          | No         | O: No Injury | White    | Male    | Passenger Car | No     | 35.9361  | Daylight                   | Urban (>70% Developed) | -79.0355  | .          | .          | .          | .          | .          | .          | .          | 2 lanes         | 2        | Straight - Bottom | Local Street          | Dry        | Two-Way, Not Divided | None      | T-Intersection        | Smooth Asphalt | Piedmont | Urban      | 20 - 25  MPH | Stop Sign          | Clear   | No       | 1158     | -79.0513 | 35.9107 | 3.16183\n",
       "-79.0113 | 35.9327 | 1171       | Yes        | 48      | 40-49      | .          | No         | With Traffic   | C: Possible Injury          | Travel Lane                              | White           | Female  | Chapel Hill | Orange | No         | Sunday    | Motorist Left Turn / Merge                               | 18        | 102284410 | Intersection     | March      | C: Possible Injury          | Motorist Left Turn - Opposite Direction               | 2008      | Residential   | 70+     | 70+        | .          | No         | O: No Injury | White    | Female  | Passenger Car | No     | 35.9327  | Daylight                   | Urban (>70% Developed) | -79.0113  | .          | .          | .          | .          | .          | .          | .          | 2 lanes         | 2        | Straight - Level  | Local Street          | Dry        | Two-Way, Not Divided | None      | Four-Way Intersection | Smooth Asphalt | Piedmont | Urban      | 30 - 35  MPH | No Control Present | Clear   | No       | 1171     | -79.0513 | 35.9107 | 4.35302\n",
       "... (145 rows omitted)"
      ]
     },
     "execution_count": 64,
     "metadata": {},
     "output_type": "execute_result"
    }
   ],
   "source": [
    "Bike_CH_Dist_From_Hanes = Bike_CH_with_Hanes.with_column(\n",
    "    'Distance From Hanes',\n",
    "    Bike_CH_with_Hanes.apply(haversine, 'X', 'Y', 'X Hanes', 'Y Hanes')\n",
    ")\n",
    "Bike_CH_Dist_From_Hanes"
   ]
  },
  {
   "cell_type": "markdown",
   "metadata": {},
   "source": [
    "**Question 5.1.4** For the accidents in the `Bike_CH_with_Hanes` table that are within 1.5 miles of Hanes Hall, what proportion of them required an ambulance (`AmbulanceR`, `Yes`/`No`)? Note that the Haversine function calculates the distance in kilometers. One mile is approximately 1.60934 kilometers. Assign this value to `Prop_close_with_ambulance`."
   ]
  },
  {
   "cell_type": "code",
   "execution_count": 65,
   "metadata": {},
   "outputs": [
    {
     "data": {
      "text/plain": [
       "1.0"
      ]
     },
     "execution_count": 65,
     "metadata": {},
     "output_type": "execute_result"
    }
   ],
   "source": [
    "Prop_close_with_ambulance = len(Bike_CH_Dist_From_Hanes.where(\n",
    "    'Distance From Hanes',\n",
    "    are.below(2.41)).where(\n",
    "    'AmbulanceR',\n",
    "    are.equal_to('Yes'))) / len(Bike_CH_Dist_From_Hanes.where(\n",
    "    'Distance From Hanes',\n",
    "    are.below(2.41)))\n",
    "Prop_close_with_ambulance"
   ]
  },
  {
   "cell_type": "markdown",
   "metadata": {},
   "source": [
    "Congratulations, you're done with homework 3!"
   ]
  }
 ],
 "metadata": {
  "kernelspec": {
   "display_name": "Python 3",
   "language": "python",
   "name": "python3"
  },
  "language_info": {
   "codemirror_mode": {
    "name": "ipython",
    "version": 3
   },
   "file_extension": ".py",
   "mimetype": "text/x-python",
   "name": "python",
   "nbconvert_exporter": "python",
   "pygments_lexer": "ipython3",
   "version": "3.11.4"
  }
 },
 "nbformat": 4,
 "nbformat_minor": 4
}
