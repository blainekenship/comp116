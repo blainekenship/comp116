{
 "cells": [
  {
   "cell_type": "markdown",
   "metadata": {},
   "source": [
    "# STOR 120 -  Lab 3: Arrays, Tables, Visualizations, & Functions\n",
    "\n",
    "Welcome to Lab 3!\n",
    "\n",
    "First run the cell below."
   ]
  },
  {
   "cell_type": "code",
   "execution_count": 1,
   "metadata": {
    "tags": []
   },
   "outputs": [],
   "source": [
    "# Just run this cell\n",
    "\n",
    "import numpy as np\n",
    "from datascience import *\n",
    "\n",
    "# These lines do some fancy plotting magic\n",
    "import matplotlib\n",
    "%matplotlib inline\n",
    "import matplotlib.pyplot as plots\n",
    "plots.style.use('fivethirtyeight')"
   ]
  },
  {
   "cell_type": "markdown",
   "metadata": {},
   "source": [
    "# 1. Arrays\n",
    "\n",
    "Computers are most useful when you can use a small amount of code to *do the same action* to *many different things*.\n",
    "\n",
    "For example, in the time it takes you to calculate the 18% tip on a restaurant bill, a laptop can calculate 18% tips for every restaurant bill paid by every human on Earth that day (That's if you're pretty fast at doing arithmetic in your head!).\n",
    "\n",
    "**Arrays** are how we put many values in one place so that we can operate on them as a group. For example, if `billions_of_numbers` is an array of numbers, the expression\n",
    "\n",
    "    .18 * billions_of_numbers\n",
    "\n",
    "gives a new array of numbers that contains the result of multiplying each number in `billions_of_numbers` by .18.  Arrays are not limited to numbers; we can also put all the words in a book into an array of strings.\n",
    "\n",
    "Concretely, an array is a **collection of values of the same type**. "
   ]
  },
  {
   "cell_type": "markdown",
   "metadata": {},
   "source": [
    "## 1.1. Making arrays\n",
    "\n",
    "First, let's learn how to manually input values into an array. This typically isn't how programs work. Normally, we create arrays by loading them from an external source, like a data file.\n",
    "\n",
    "To create an array by hand, call the function `make_array`.  Each argument you pass to `make_array` will be in the array it returns.  Run this cell to see an example:"
   ]
  },
  {
   "cell_type": "code",
   "execution_count": 2,
   "metadata": {
    "scrolled": true,
    "tags": []
   },
   "outputs": [
    {
     "data": {
      "text/plain": [
       "array([ 0.125,  4.75 , -1.3  ])"
      ]
     },
     "execution_count": 2,
     "metadata": {},
     "output_type": "execute_result"
    }
   ],
   "source": [
    "make_array(0.125, 4.75, -1.3)"
   ]
  },
  {
   "cell_type": "markdown",
   "metadata": {},
   "source": [
    "Each value in an array (in the above case, the numbers 0.125, 4.75, and -1.3) is called an *element* of that array.\n",
    "\n",
    "Arrays themselves are also values, just like numbers and strings.  That means you can assign them to names or use them as arguments to functions. For example, `len(<some_array>)` returns the number of elements in `some_array`."
   ]
  },
  {
   "cell_type": "markdown",
   "metadata": {},
   "source": [
    "**Question 1.1.1.** Make an array containing the numbers $\\pi$, 1, -1, 0, and $e$, in that order.  Name it `interesting_numbers`.  \n",
    "\n",
    "*Hint:* How have you found the values $\\pi$ and $e$ earlier in this course?\n",
    "\n",
    "<!--\n",
    "BEGIN QUESTION\n",
    "name: q111\n",
    "-->"
   ]
  },
  {
   "cell_type": "code",
   "execution_count": 3,
   "metadata": {
    "tags": []
   },
   "outputs": [
    {
     "data": {
      "text/plain": [
       "array([ 3.14159265,  1.        , -1.        ,  0.        ,  2.71828183])"
      ]
     },
     "execution_count": 3,
     "metadata": {},
     "output_type": "execute_result"
    }
   ],
   "source": [
    "import math \n",
    "\n",
    "interesting_numbers = make_array(math.pi, 1, -1, 0, math.e)\n",
    "interesting_numbers"
   ]
  },
  {
   "cell_type": "markdown",
   "metadata": {},
   "source": [
    "**Question 1.1.2.** Make an array containing the five strings `\"Hello\"`, `\",\"`, `\" \"`, `\"world\"`, and `\"!\"`.  (The third one is a single space inside quotes.)  Name it `hello_world_components`.\n",
    "\n",
    "*Note:* If you evaluate `hello_world_components`, you'll notice some extra information in addition to its contents: `dtype='<U5'`.  That's just NumPy's extremely cryptic way of saying that the data types in the array are strings.\n",
    "\n",
    "<!--\n",
    "BEGIN QUESTION\n",
    "name: q112\n",
    "-->"
   ]
  },
  {
   "cell_type": "code",
   "execution_count": 4,
   "metadata": {
    "tags": []
   },
   "outputs": [
    {
     "data": {
      "text/plain": [
       "array(['Helle', ',', ' ', 'world', '!'],\n",
       "      dtype='<U5')"
      ]
     },
     "execution_count": 4,
     "metadata": {},
     "output_type": "execute_result"
    }
   ],
   "source": [
    "hello_world_components = make_array(\"Helle\", \",\", \" \", \"world\", \"!\")\n",
    "hello_world_components"
   ]
  },
  {
   "cell_type": "markdown",
   "metadata": {
    "tags": []
   },
   "source": [
    "###  `np.arange`\n",
    "Arrays are provided by a package called [NumPy](http://www.numpy.org/) (pronounced \"NUM-pie\"). The package is called `numpy`, but it's standard to rename it `np` for brevity.  You can do that with:\n",
    "\n",
    "    import numpy as np\n",
    "\n",
    "Very often in data science, we want to work with many numbers that are evenly spaced within some range.  NumPy provides a special function for this called `arange`.  The line of code `np.arange(start, stop, step)` evaluates to an array with all the numbers starting at `start` and counting up by `step`, stopping **before** `stop` is reached.\n",
    "\n",
    "Run the following cells to see some examples!"
   ]
  },
  {
   "cell_type": "code",
   "execution_count": 5,
   "metadata": {
    "tags": []
   },
   "outputs": [
    {
     "data": {
      "text/plain": [
       "array([1, 3, 5])"
      ]
     },
     "execution_count": 5,
     "metadata": {},
     "output_type": "execute_result"
    }
   ],
   "source": [
    "# This array starts at 1 and counts up by 2\n",
    "# and then stops before 6\n",
    "np.arange(1, 6, 2)"
   ]
  },
  {
   "cell_type": "code",
   "execution_count": 6,
   "metadata": {
    "tags": []
   },
   "outputs": [
    {
     "data": {
      "text/plain": [
       "array([4, 5, 6, 7, 8])"
      ]
     },
     "execution_count": 6,
     "metadata": {},
     "output_type": "execute_result"
    }
   ],
   "source": [
    "# This array doesn't contain 9\n",
    "# because np.arange stops *before* the stop value is reached\n",
    "np.arange(4, 9, 1)"
   ]
  },
  {
   "cell_type": "markdown",
   "metadata": {},
   "source": [
    "**Question 1.1.3.** Create an array with the multiples of 34 from 0 up to (**and including**) 3434. Its elements should be 0, 34, 68, 102, etc.\n",
    "\n",
    "<!--\n",
    "BEGIN QUESTION\n",
    "name: q113\n",
    "-->"
   ]
  },
  {
   "cell_type": "code",
   "execution_count": 7,
   "metadata": {
    "tags": []
   },
   "outputs": [
    {
     "data": {
      "text/plain": [
       "array([   0,   34,   68,  102,  136,  170,  204,  238,  272,  306,  340,\n",
       "        374,  408,  442,  476,  510,  544,  578,  612,  646,  680,  714,\n",
       "        748,  782,  816,  850,  884,  918,  952,  986, 1020, 1054, 1088,\n",
       "       1122, 1156, 1190, 1224, 1258, 1292, 1326, 1360, 1394, 1428, 1462,\n",
       "       1496, 1530, 1564, 1598, 1632, 1666, 1700, 1734, 1768, 1802, 1836,\n",
       "       1870, 1904, 1938, 1972, 2006, 2040, 2074, 2108, 2142, 2176, 2210,\n",
       "       2244, 2278, 2312, 2346, 2380, 2414, 2448, 2482, 2516, 2550, 2584,\n",
       "       2618, 2652, 2686, 2720, 2754, 2788, 2822, 2856, 2890, 2924, 2958,\n",
       "       2992, 3026, 3060, 3094, 3128, 3162, 3196, 3230, 3264, 3298, 3332,\n",
       "       3366, 3400, 3434])"
      ]
     },
     "execution_count": 7,
     "metadata": {},
     "output_type": "execute_result"
    }
   ],
   "source": [
    "multiples_of_34 = np.arange(0, 3435, 34)\n",
    "multiples_of_34"
   ]
  },
  {
   "cell_type": "markdown",
   "metadata": {},
   "source": [
    "##### Temperature readings\n",
    "NOAA (the US National Oceanic and Atmospheric Administration) operates weather stations that measure surface temperatures at different sites around the United States.  The hourly readings are [publicly available](http://www.ncdc.noaa.gov/qclcd/QCLCD?prior=N).\n",
    "\n",
    "Suppose we download all the hourly data from the Raleigh-Durham International Airport site for last semester, from August 15, 2022 to December 9, 2022.  To analyze the data, we want to know when each reading was taken, but we find that the data do not include the timestamps of the readings (the time at which each one was taken).\n",
    "\n",
    "However, we know the first reading was taken at the first instant of August 15th 2022 (midnight on August 15th) and each subsequent reading was taken exactly 1 hour after the last.\n",
    "\n",
    "**Question 1.1.4.** Create an array of the *time, in seconds, since the start of August 15th, and ending before the start of December 10th* at which each hourly reading was taken.  Name it `collection_times`.\n",
    "\n",
    "*Hint 1:* How many days are in each month? There are 30 days in September, which is equivalent to ($30 \\times 24$) hours or ($30 \\times 24 \\times 60 \\times 60$) seconds.\n",
    "\n",
    "<!--\n",
    "BEGIN QUESTION\n",
    "name: q114\n",
    "-->"
   ]
  },
  {
   "cell_type": "code",
   "execution_count": 8,
   "metadata": {
    "tags": []
   },
   "outputs": [
    {
     "data": {
      "text/plain": [
       "array([       0,     3600,     7200, ..., 10098000, 10101600, 10105200])"
      ]
     },
     "execution_count": 8,
     "metadata": {},
     "output_type": "execute_result"
    }
   ],
   "source": [
    "collection_times = np.arange(0, (17+91+9)*24*60*60, 60*60)\n",
    "collection_times"
   ]
  },
  {
   "cell_type": "markdown",
   "metadata": {},
   "source": [
    "## 1.2. Working with single elements of arrays (\"indexing\")\n",
    "The next cell creates an array called `NCpop` that includes estimated North Carolina populations in every year from 1900 to roughly the present. The estimates come from the [FRED Economic Data](https://fred.stlouisfed.org/series/NCPOP).\n"
   ]
  },
  {
   "cell_type": "code",
   "execution_count": 9,
   "metadata": {
    "tags": []
   },
   "outputs": [
    {
     "data": {
      "text/plain": [
       "array([ 1897000,  1926000,  1956000,  1986000,  2017000,  2051000,\n",
       "        2077000,  2105000,  2142000,  2174000,  2221000,  2276000,\n",
       "        2313000,  2362000,  2421000,  2473000,  2513000,  2546000,\n",
       "        2522000,  2535000,  2588000,  2651000,  2700000,  2761000,\n",
       "        2830000,  2895000,  2959000,  3027000,  3082000,  3133000,\n",
       "        3167000,  3184000,  3227000,  3268000,  3304000,  3323000,\n",
       "        3346000,  3385000,  3440000,  3514000,  3574000,  3589000,\n",
       "        3569000,  3654000,  3560000,  3533000,  3706000,  3769000,\n",
       "        3837000,  3911000,  4068000,  4120000,  4109000,  4120000,\n",
       "        4131000,  4242000,  4309000,  4368000,  4376000,  4458000,\n",
       "        4573000,  4663000,  4707000,  4742000,  4802000,  4863000,\n",
       "        4896000,  4952000,  5004000,  5031000,  5084411,  5203531,\n",
       "        5301150,  5389852,  5470911,  5547188,  5607964,  5685607,\n",
       "        5759492,  5823491,  5898980,  5956653,  6019101,  6077056,\n",
       "        6164006,  6253954,  6321578,  6403700,  6480594,  6565459,\n",
       "        6656987,  6748135,  6831850,  6947412,  7060959,  7185403,\n",
       "        7307658,  7428672,  7545828,  7650789,  8081614,  8210122,\n",
       "        8326201,  8422501,  8553152,  8705407,  8917270,  9118037,\n",
       "        9309449,  9449566,  9574586,  9658913,  9751810,  9846717,\n",
       "        9937295, 10037218, 10161802, 10275758, 10391358, 10501384,\n",
       "       10457177, 10551162])"
      ]
     },
     "execution_count": 9,
     "metadata": {},
     "output_type": "execute_result"
    }
   ],
   "source": [
    "NCpop = Table.read_table(\"NCpop.csv\").column(\"NCPOP\")\n",
    "NCpop"
   ]
  },
  {
   "cell_type": "markdown",
   "metadata": {},
   "source": [
    "Here's how we get the first element of `NCpop`, which is the world population in the first year in the dataset, 1900."
   ]
  },
  {
   "cell_type": "code",
   "execution_count": 10,
   "metadata": {
    "tags": []
   },
   "outputs": [
    {
     "data": {
      "text/plain": [
       "1897000"
      ]
     },
     "execution_count": 10,
     "metadata": {},
     "output_type": "execute_result"
    }
   ],
   "source": [
    "NCpop.item(0)"
   ]
  },
  {
   "cell_type": "markdown",
   "metadata": {},
   "source": [
    "The value of that expression is the number 1897000 (almost 2 million), because that's the first thing in the array `NCpop`.\n",
    "\n",
    "Notice that we wrote `.item(0)`, not `.item(1)`, to get the first element.  This is a weird convention in computer science.  0 is called the *index* of the first item.  It's the number of elements that appear *before* that item.  So 3 is the index of the 4th item.\n",
    "\n",
    "Here are some more examples.  In the examples, we've given names to the things we get out of `NCpop`.  Read and run each cell."
   ]
  },
  {
   "cell_type": "code",
   "execution_count": 11,
   "metadata": {
    "tags": []
   },
   "outputs": [
    {
     "data": {
      "text/plain": [
       "2313000"
      ]
     },
     "execution_count": 11,
     "metadata": {},
     "output_type": "execute_result"
    }
   ],
   "source": [
    "# The 13th element in the array is the population\n",
    "# in 1912 (which is 1900 + 12).\n",
    "nc_pop_1912 = NCpop.item(12)\n",
    "nc_pop_1912"
   ]
  },
  {
   "cell_type": "code",
   "execution_count": 12,
   "metadata": {
    "tags": []
   },
   "outputs": [
    {
     "data": {
      "text/plain": [
       "4863000"
      ]
     },
     "execution_count": 12,
     "metadata": {},
     "output_type": "execute_result"
    }
   ],
   "source": [
    "# The 66th element is the population in 1965.\n",
    "nc_pop_1965 = NCpop.item(65)\n",
    "nc_pop_1965"
   ]
  },
  {
   "cell_type": "code",
   "execution_count": 13,
   "metadata": {
    "tags": []
   },
   "outputs": [
    {
     "ename": "IndexError",
     "evalue": "index 122 is out of bounds for axis 0 with size 122",
     "output_type": "error",
     "traceback": [
      "\u001b[1;31m---------------------------------------------------------------------------\u001b[0m",
      "\u001b[1;31mIndexError\u001b[0m                                Traceback (most recent call last)",
      "Cell \u001b[1;32mIn[13], line 3\u001b[0m\n\u001b[0;32m      1\u001b[0m \u001b[38;5;66;03m# The array has only 122 elements, so this doesn't work.\u001b[39;00m\n\u001b[0;32m      2\u001b[0m \u001b[38;5;66;03m# (There's no element with 122 other elements before it.)\u001b[39;00m\n\u001b[1;32m----> 3\u001b[0m nc_pop_2022 \u001b[38;5;241m=\u001b[39m NCpop\u001b[38;5;241m.\u001b[39mitem(\u001b[38;5;241m122\u001b[39m)\n\u001b[0;32m      4\u001b[0m population_2022\n",
      "\u001b[1;31mIndexError\u001b[0m: index 122 is out of bounds for axis 0 with size 122"
     ]
    }
   ],
   "source": [
    "# The array has only 122 elements, so this doesn't work.\n",
    "# (There's no element with 122 other elements before it.)\n",
    "nc_pop_2022 = NCpop.item(122)\n",
    "population_2022"
   ]
  },
  {
   "cell_type": "markdown",
   "metadata": {},
   "source": [
    "Since `make_array` returns an array, we can call `.item(3)` on its output to get its 4th element, just like we \"chained\" together calls to the method `replace` earlier."
   ]
  },
  {
   "cell_type": "code",
   "execution_count": null,
   "metadata": {
    "tags": []
   },
   "outputs": [],
   "source": [
    "make_array(-1, -3, 4, -2).item(3)"
   ]
  },
  {
   "cell_type": "markdown",
   "metadata": {},
   "source": [
    "**Question 1.2.1.** Set `population_1979` to the North Carolina population in 1979, by getting the appropriate element from `NCpop` using `item`.\n",
    "\n",
    "<!--\n",
    "BEGIN QUESTION\n",
    "name: q121\n",
    "-->"
   ]
  },
  {
   "cell_type": "code",
   "execution_count": 14,
   "metadata": {
    "tags": []
   },
   "outputs": [
    {
     "data": {
      "text/plain": [
       "5823491"
      ]
     },
     "execution_count": 14,
     "metadata": {},
     "output_type": "execute_result"
    }
   ],
   "source": [
    "population_1979 = NCpop.item(79)\n",
    "population_1979"
   ]
  },
  {
   "cell_type": "markdown",
   "metadata": {},
   "source": [
    "## 1.3. Doing something to every element of an array\n",
    "Arrays are primarily useful for doing the same operation many times, so we don't often have to use `.item` and work with single elements.\n",
    "\n",
    "##### Logarithms\n",
    "Here is one simple question we might ask about world population:\n",
    "\n",
    "> How big was the population in *orders of magnitude* in each year?\n",
    "\n",
    "Orders of magnitude quantify how big a number is by representing it as the power of another number (for example, representing 104 as $10^{2.017033}$). One way to do this is by using the logarithm function. The logarithm (base 10) of a number increases by 1 every time we multiply the number by 10. It's like a measure of how many decimal digits the number has, or how big it is in orders of magnitude.\n",
    "\n",
    "We could try to answer our question like this, using the `log10` function from the `math` module and the `item` method you just saw:"
   ]
  },
  {
   "cell_type": "code",
   "execution_count": 15,
   "metadata": {
    "scrolled": true,
    "tags": []
   },
   "outputs": [
    {
     "data": {
      "text/plain": [
       "Ellipsis"
      ]
     },
     "execution_count": 15,
     "metadata": {},
     "output_type": "execute_result"
    }
   ],
   "source": [
    "nc_pop_1900_magnitude = math.log10(NCpop.item(0))\n",
    "nc_pop_1901_magnitude = math.log10(NCpop.item(1))\n",
    "nc_pop_1902_magnitude = math.log10(NCpop.item(2))\n",
    "nc_pop_1903_magnitude = math.log10(NCpop.item(3))\n",
    "..."
   ]
  },
  {
   "cell_type": "markdown",
   "metadata": {},
   "source": [
    "But this is tedious and doesn't really take advantage of the fact that we are using a computer.\n",
    "\n",
    "Instead, NumPy provides its own version of `log10` that takes the logarithm of each element of an array.  It takes a single array of numbers as its argument.  It returns an array of the same length, where the first element of the result is the logarithm of the first element of the argument, and so on.\n",
    "\n",
    "**Question 1.3.1.** Use `np.log10` to compute the logarithms of the North Carolina population in every year.  Give the result (an array of 122 numbers) the name `NCpop_magnitudes`.  Your code should be very short.\n",
    "\n",
    "<!--\n",
    "BEGIN QUESTION\n",
    "name: q131\n",
    "-->"
   ]
  },
  {
   "cell_type": "code",
   "execution_count": 16,
   "metadata": {
    "tags": []
   },
   "outputs": [
    {
     "data": {
      "text/plain": [
       "array([ 6.27806733,  6.28465628,  6.29136885,  6.29797924,  6.3047059 ,\n",
       "        6.31196566,  6.3174365 ,  6.3232521 ,  6.33081947,  6.33725954,\n",
       "        6.34654856,  6.35717226,  6.36417563,  6.37327989,  6.38399479,\n",
       "        6.39322412,  6.40019249,  6.4058584 ,  6.40174508,  6.40397796,\n",
       "        6.41296427,  6.42340973,  6.43136376,  6.44106641,  6.45178644,\n",
       "        6.46164857,  6.47114497,  6.48101242,  6.48883263,  6.49596039,\n",
       "        6.50064806,  6.50297306,  6.50879897,  6.51428205,  6.51904004,\n",
       "        6.52153034,  6.52452594,  6.52955867,  6.53655844,  6.54580176,\n",
       "        6.55315455,  6.55497346,  6.55254655,  6.56276854,  6.55145   ,\n",
       "        6.54814364,  6.56890541,  6.57622614,  6.5839918 ,  6.59228782,\n",
       "        6.60938094,  6.61489722,  6.61373614,  6.61489722,  6.61605519,\n",
       "        6.62757066,  6.63437649,  6.64028263,  6.64107731,  6.64914006,\n",
       "        6.6602012 ,  6.66866542,  6.6727442 ,  6.67596155,  6.68142216,\n",
       "        6.68690427,  6.68984141,  6.69478064,  6.6993173 ,  6.70165432,\n",
       "        6.70624065,  6.71629815,  6.72437009,  6.73157684,  6.73805965,\n",
       "        6.74407288,  6.74880522,  6.75477684,  6.76038418,  6.76518341,\n",
       "        6.77077692,  6.7750023 ,  6.77953163,  6.78369324,  6.78986305,\n",
       "        6.79615468,  6.8008255 ,  6.80643098,  6.81161481,  6.81726509,\n",
       "        6.82327771,  6.82918376,  6.83453832,  6.84182305,  6.84886369,\n",
       "        6.85645113,  6.86377821,  6.87091118,  6.8777069 ,  6.88370622,\n",
       "        6.9074981 ,  6.91434961,  6.92044689,  6.92544107,  6.93212619,\n",
       "        6.93978908,  6.95023192,  6.95990135,  6.96892398,  6.97541186,\n",
       "        6.98112   ,  6.98492825,  6.98908523,  6.99329146,  6.99726818,\n",
       "        7.00161336,  7.00697073,  7.01181387,  7.01667231,  7.02124654,\n",
       "        7.01941446,  7.02330029])"
      ]
     },
     "execution_count": 16,
     "metadata": {},
     "output_type": "execute_result"
    }
   ],
   "source": [
    "NCpop_magnitudes = np.log10(NCpop)\n",
    "NCpop_magnitudes"
   ]
  },
  {
   "cell_type": "markdown",
   "metadata": {},
   "source": [
    "What you just did is called *elementwise* application of `np.log10`, since `np.log10` operates separately on each element of the array that it's called on. Here's a picture of what's going on:"
   ]
  },
  {
   "cell_type": "markdown",
   "metadata": {},
   "source": [
    "<img src=\"lab03-array_logarithm.jpg\">\n",
    "\n",
    "\n",
    "The textbook's [section](https://www.inferentialthinking.com/chapters/05/1/Arrays)  on arrays has a useful list of NumPy functions that are designed to work elementwise, like `np.log10`."
   ]
  },
  {
   "cell_type": "markdown",
   "metadata": {},
   "source": [
    "##### Arithmetic\n",
    "Arithmetic also works elementwise on arrays, meaning that if you perform an arithmetic operation (like subtraction, division, etc) on an array, Python will do the operation to every element of the array individually and return an array of all of the results. For example, you can divide all the population numbers by 1 million to get numbers in millions:"
   ]
  },
  {
   "cell_type": "code",
   "execution_count": 17,
   "metadata": {
    "tags": []
   },
   "outputs": [
    {
     "data": {
      "text/plain": [
       "array([  1.897   ,   1.926   ,   1.956   ,   1.986   ,   2.017   ,\n",
       "         2.051   ,   2.077   ,   2.105   ,   2.142   ,   2.174   ,\n",
       "         2.221   ,   2.276   ,   2.313   ,   2.362   ,   2.421   ,\n",
       "         2.473   ,   2.513   ,   2.546   ,   2.522   ,   2.535   ,\n",
       "         2.588   ,   2.651   ,   2.7     ,   2.761   ,   2.83    ,\n",
       "         2.895   ,   2.959   ,   3.027   ,   3.082   ,   3.133   ,\n",
       "         3.167   ,   3.184   ,   3.227   ,   3.268   ,   3.304   ,\n",
       "         3.323   ,   3.346   ,   3.385   ,   3.44    ,   3.514   ,\n",
       "         3.574   ,   3.589   ,   3.569   ,   3.654   ,   3.56    ,\n",
       "         3.533   ,   3.706   ,   3.769   ,   3.837   ,   3.911   ,\n",
       "         4.068   ,   4.12    ,   4.109   ,   4.12    ,   4.131   ,\n",
       "         4.242   ,   4.309   ,   4.368   ,   4.376   ,   4.458   ,\n",
       "         4.573   ,   4.663   ,   4.707   ,   4.742   ,   4.802   ,\n",
       "         4.863   ,   4.896   ,   4.952   ,   5.004   ,   5.031   ,\n",
       "         5.084411,   5.203531,   5.30115 ,   5.389852,   5.470911,\n",
       "         5.547188,   5.607964,   5.685607,   5.759492,   5.823491,\n",
       "         5.89898 ,   5.956653,   6.019101,   6.077056,   6.164006,\n",
       "         6.253954,   6.321578,   6.4037  ,   6.480594,   6.565459,\n",
       "         6.656987,   6.748135,   6.83185 ,   6.947412,   7.060959,\n",
       "         7.185403,   7.307658,   7.428672,   7.545828,   7.650789,\n",
       "         8.081614,   8.210122,   8.326201,   8.422501,   8.553152,\n",
       "         8.705407,   8.91727 ,   9.118037,   9.309449,   9.449566,\n",
       "         9.574586,   9.658913,   9.75181 ,   9.846717,   9.937295,\n",
       "        10.037218,  10.161802,  10.275758,  10.391358,  10.501384,\n",
       "        10.457177,  10.551162])"
      ]
     },
     "execution_count": 17,
     "metadata": {},
     "output_type": "execute_result"
    }
   ],
   "source": [
    "NCpop_in_millions = NCpop / 1000000\n",
    "NCpop_in_millions"
   ]
  },
  {
   "cell_type": "markdown",
   "metadata": {},
   "source": [
    "You can do the same with addition, subtraction, multiplication, and exponentiation (`**`). For example, you can calculate a tip on several restaurant bills at once (in this case just 3):"
   ]
  },
  {
   "cell_type": "code",
   "execution_count": 18,
   "metadata": {
    "tags": []
   },
   "outputs": [
    {
     "name": "stdout",
     "output_type": "stream",
     "text": [
      "Restaurant bills:\t [ 20.12  39.9   31.01]\n",
      "Tips:\t\t\t [ 4.024  7.98   6.202]\n"
     ]
    }
   ],
   "source": [
    "restaurant_bills = make_array(20.12, 39.90, 31.01)\n",
    "print(\"Restaurant bills:\\t\", restaurant_bills)\n",
    "\n",
    "# Array multiplication\n",
    "tips = .2 * restaurant_bills\n",
    "print(\"Tips:\\t\\t\\t\", tips)"
   ]
  },
  {
   "cell_type": "markdown",
   "metadata": {},
   "source": [
    "<img src=\"lab03-array_multiplication.jpg\">\n",
    "\n",
    "**Question 1.3.2.** Suppose the total charge at a restaurant is the original bill plus the tip. If the tip is 20%, that means we can multiply the original bill by 1.2 to get the total charge.  Compute the total charge for each bill in `restaurant_bills`, and assign the resulting array to `total_charges`.\n",
    "\n",
    "<!--\n",
    "BEGIN QUESTION\n",
    "name: q532\n",
    "-->"
   ]
  },
  {
   "cell_type": "code",
   "execution_count": 19,
   "metadata": {
    "tags": []
   },
   "outputs": [
    {
     "data": {
      "text/plain": [
       "array([ 24.144,  47.88 ,  37.212])"
      ]
     },
     "execution_count": 19,
     "metadata": {},
     "output_type": "execute_result"
    }
   ],
   "source": [
    "total_charges = restaurant_bills * 1.2\n",
    "total_charges"
   ]
  },
  {
   "cell_type": "markdown",
   "metadata": {},
   "source": [
    "**Question 1.3.3.** The array `more_restaurant_bills_array` contains 100,000 bills!  Compute the total charge for each one.  How is your code different?\n",
    "\n",
    "<!--\n",
    "BEGIN QUESTION\n",
    "name: q133\n",
    "-->"
   ]
  },
  {
   "cell_type": "code",
   "execution_count": 20,
   "metadata": {
    "tags": []
   },
   "outputs": [
    {
     "data": {
      "text/plain": [
       "array([ 20.244,  20.892,  12.216, ...,  19.308,  18.336,  35.664])"
      ]
     },
     "execution_count": 20,
     "metadata": {},
     "output_type": "execute_result"
    }
   ],
   "source": [
    "more_restaurant_bills_array = Table.read_table(\"more_restaurant_bills.csv\").column(\"Bill\")\n",
    "more_total_charges = more_restaurant_bills_array * 1.2\n",
    "more_total_charges"
   ]
  },
  {
   "cell_type": "markdown",
   "metadata": {},
   "source": [
    "The function `sum` takes a single array of numbers as its argument.  It returns the sum of all the numbers in that array (so it returns a single number, not an array).\n",
    "\n",
    "**Question 1.3.4.** What was the sum of all the bills in `more_restaurant_bills_array`, *including tips*? Round your answer to the nearest cent.\n",
    "\n",
    "<!--\n",
    "BEGIN QUESTION\n",
    "name: q134\n",
    "-->"
   ]
  },
  {
   "cell_type": "code",
   "execution_count": 21,
   "metadata": {
    "tags": []
   },
   "outputs": [
    {
     "data": {
      "text/plain": [
       "1795730.06"
      ]
     },
     "execution_count": 21,
     "metadata": {},
     "output_type": "execute_result"
    }
   ],
   "source": [
    "sum_of_bills = float(round(sum(more_total_charges), 2))\n",
    "sum_of_bills"
   ]
  },
  {
   "cell_type": "markdown",
   "metadata": {},
   "source": [
    "## 2. Creating Tables\n",
    "\n",
    "An array is useful for describing a single attribute of each element in a collection. For example, let's say our collection is all US States. Then an array could describe the land area of each state. \n",
    "\n",
    "Tables extend this idea by containing multiple arrays, each one describing a different attribute for every element of a collection. In this way, tables allow us to not only store data about many entities but to also contain several kinds of data about each entity.\n",
    "\n",
    "For example, in the cell below we have two arrays. The first one, `NCpop`, was defined above in section 1.2 and contains the North Carolina population in each year. The second array, `years`, contains the years themselves. These elements are in order, so the year and the North Carolina population for that year have the same index in their corresponding arrays."
   ]
  },
  {
   "cell_type": "code",
   "execution_count": 22,
   "metadata": {
    "tags": []
   },
   "outputs": [
    {
     "name": "stdout",
     "output_type": "stream",
     "text": [
      "Population column: [ 1897000  1926000  1956000  1986000  2017000  2051000  2077000  2105000\n",
      "  2142000  2174000  2221000  2276000  2313000  2362000  2421000  2473000\n",
      "  2513000  2546000  2522000  2535000  2588000  2651000  2700000  2761000\n",
      "  2830000  2895000  2959000  3027000  3082000  3133000  3167000  3184000\n",
      "  3227000  3268000  3304000  3323000  3346000  3385000  3440000  3514000\n",
      "  3574000  3589000  3569000  3654000  3560000  3533000  3706000  3769000\n",
      "  3837000  3911000  4068000  4120000  4109000  4120000  4131000  4242000\n",
      "  4309000  4368000  4376000  4458000  4573000  4663000  4707000  4742000\n",
      "  4802000  4863000  4896000  4952000  5004000  5031000  5084411  5203531\n",
      "  5301150  5389852  5470911  5547188  5607964  5685607  5759492  5823491\n",
      "  5898980  5956653  6019101  6077056  6164006  6253954  6321578  6403700\n",
      "  6480594  6565459  6656987  6748135  6831850  6947412  7060959  7185403\n",
      "  7307658  7428672  7545828  7650789  8081614  8210122  8326201  8422501\n",
      "  8553152  8705407  8917270  9118037  9309449  9449566  9574586  9658913\n",
      "  9751810  9846717  9937295 10037218 10161802 10275758 10391358 10501384\n",
      " 10457177 10551162]\n",
      "Years column: [1900 1901 1902 1903 1904 1905 1906 1907 1908 1909 1910 1911 1912 1913 1914\n",
      " 1915 1916 1917 1918 1919 1920 1921 1922 1923 1924 1925 1926 1927 1928 1929\n",
      " 1930 1931 1932 1933 1934 1935 1936 1937 1938 1939 1940 1941 1942 1943 1944\n",
      " 1945 1946 1947 1948 1949 1950 1951 1952 1953 1954 1955 1956 1957 1958 1959\n",
      " 1960 1961 1962 1963 1964 1965 1966 1967 1968 1969 1970 1971 1972 1973 1974\n",
      " 1975 1976 1977 1978 1979 1980 1981 1982 1983 1984 1985 1986 1987 1988 1989\n",
      " 1990 1991 1992 1993 1994 1995 1996 1997 1998 1999 2000 2001 2002 2003 2004\n",
      " 2005 2006 2007 2008 2009 2010 2011 2012 2013 2014 2015 2016 2017 2018 2019\n",
      " 2020 2021]\n"
     ]
    }
   ],
   "source": [
    "# Just run this cell\n",
    "\n",
    "years = np.arange(1900, 2021+1)\n",
    "print(\"Population column:\", NCpop)\n",
    "print(\"Years column:\", years)"
   ]
  },
  {
   "cell_type": "markdown",
   "metadata": {},
   "source": [
    "Suppose we want to answer this question:\n",
    "\n",
    "> In which year did the North Carolina's population cross 7 million?\n",
    "\n",
    "You could technically answer this question by importing and viewing the full NCpop table that includes the years, or just from staring at the arrays and counting the position where the population first crossed 7 million. We won't do that since we want how to learn to do these things when those methods may not be available. \n",
    "\n",
    "The expression below:\n",
    "\n",
    "- creates an empty table using the expression `Table()`,\n",
    "- adds two columns by calling `with_columns` with four arguments,\n",
    "- assigns the result to the name `population`, and finally\n",
    "- evaluates `population` so that we can see the table.\n",
    "\n",
    "The strings `\"Year\"` and `\"Population\"` are column labels that we have chosen. The names `NCpop` and `years` were assigned above to two arrays of the **same length**. The function `with_columns` takes in alternating strings (to represent column labels) and arrays (representing the data in those columns). The strings and arrays are separated by commas."
   ]
  },
  {
   "cell_type": "code",
   "execution_count": 23,
   "metadata": {
    "tags": []
   },
   "outputs": [
    {
     "data": {
      "text/html": [
       "<table border=\"1\" class=\"dataframe\">\n",
       "    <thead>\n",
       "        <tr>\n",
       "            <th>Population</th> <th>Year</th>\n",
       "        </tr>\n",
       "    </thead>\n",
       "    <tbody>\n",
       "        <tr>\n",
       "            <td>1897000   </td> <td>1900</td>\n",
       "        </tr>\n",
       "        <tr>\n",
       "            <td>1926000   </td> <td>1901</td>\n",
       "        </tr>\n",
       "        <tr>\n",
       "            <td>1956000   </td> <td>1902</td>\n",
       "        </tr>\n",
       "        <tr>\n",
       "            <td>1986000   </td> <td>1903</td>\n",
       "        </tr>\n",
       "        <tr>\n",
       "            <td>2017000   </td> <td>1904</td>\n",
       "        </tr>\n",
       "        <tr>\n",
       "            <td>2051000   </td> <td>1905</td>\n",
       "        </tr>\n",
       "        <tr>\n",
       "            <td>2077000   </td> <td>1906</td>\n",
       "        </tr>\n",
       "        <tr>\n",
       "            <td>2105000   </td> <td>1907</td>\n",
       "        </tr>\n",
       "        <tr>\n",
       "            <td>2142000   </td> <td>1908</td>\n",
       "        </tr>\n",
       "        <tr>\n",
       "            <td>2174000   </td> <td>1909</td>\n",
       "        </tr>\n",
       "    </tbody>\n",
       "</table>\n",
       "<p>... (112 rows omitted)</p>"
      ],
      "text/plain": [
       "Population | Year\n",
       "1897000    | 1900\n",
       "1926000    | 1901\n",
       "1956000    | 1902\n",
       "1986000    | 1903\n",
       "2017000    | 1904\n",
       "2051000    | 1905\n",
       "2077000    | 1906\n",
       "2105000    | 1907\n",
       "2142000    | 1908\n",
       "2174000    | 1909\n",
       "... (112 rows omitted)"
      ]
     },
     "execution_count": 23,
     "metadata": {},
     "output_type": "execute_result"
    }
   ],
   "source": [
    "population = Table().with_columns(\n",
    "    \"Population\", NCpop,\n",
    "    \"Year\", years\n",
    ")\n",
    "population"
   ]
  },
  {
   "cell_type": "markdown",
   "metadata": {},
   "source": [
    "Now the data is combined into a single table! It's much easier to parse this data. If you need to know what the population was in 1959, for example, you can tell from a single glance."
   ]
  },
  {
   "cell_type": "markdown",
   "metadata": {
    "tags": []
   },
   "source": [
    "## 3. More Table Operations!\n",
    "\n",
    "Now that you've worked with arrays, let's add a few more methods to the list of table operations that you saw in Lab 2. Run the cell below"
   ]
  },
  {
   "cell_type": "code",
   "execution_count": 24,
   "metadata": {
    "tags": []
   },
   "outputs": [
    {
     "data": {
      "text/html": [
       "<table border=\"1\" class=\"dataframe\">\n",
       "    <thead>\n",
       "        <tr>\n",
       "            <th>Bill</th>\n",
       "        </tr>\n",
       "    </thead>\n",
       "    <tbody>\n",
       "        <tr>\n",
       "            <td>16.87</td>\n",
       "        </tr>\n",
       "        <tr>\n",
       "            <td>17.41</td>\n",
       "        </tr>\n",
       "        <tr>\n",
       "            <td>10.18</td>\n",
       "        </tr>\n",
       "        <tr>\n",
       "            <td>9.84 </td>\n",
       "        </tr>\n",
       "        <tr>\n",
       "            <td>18.44</td>\n",
       "        </tr>\n",
       "        <tr>\n",
       "            <td>8.99 </td>\n",
       "        </tr>\n",
       "        <tr>\n",
       "            <td>39.72</td>\n",
       "        </tr>\n",
       "        <tr>\n",
       "            <td>3.55 </td>\n",
       "        </tr>\n",
       "        <tr>\n",
       "            <td>4.65 </td>\n",
       "        </tr>\n",
       "        <tr>\n",
       "            <td>5.61 </td>\n",
       "        </tr>\n",
       "    </tbody>\n",
       "</table>\n",
       "<p>... (99990 rows omitted)</p>"
      ],
      "text/plain": [
       "Bill\n",
       "16.87\n",
       "17.41\n",
       "10.18\n",
       "9.84\n",
       "18.44\n",
       "8.99\n",
       "39.72\n",
       "3.55\n",
       "4.65\n",
       "5.61\n",
       "... (99990 rows omitted)"
      ]
     },
     "execution_count": 24,
     "metadata": {},
     "output_type": "execute_result"
    }
   ],
   "source": [
    "# Returns a table of the amount of restaurant bills\n",
    "more_restaurant_bills = Table.read_table(\"more_restaurant_bills.csv\")\n",
    "more_restaurant_bills"
   ]
  },
  {
   "cell_type": "markdown",
   "metadata": {},
   "source": [
    "### `column`\n",
    "\n",
    "`column` takes the column name of a table (in string format) as its argument and returns the values in that column as an **array**.  Run the cell below."
   ]
  },
  {
   "cell_type": "code",
   "execution_count": 25,
   "metadata": {
    "scrolled": true,
    "tags": []
   },
   "outputs": [
    {
     "data": {
      "text/plain": [
       "array([ 16.87,  17.41,  10.18, ...,  16.09,  15.28,  29.72])"
      ]
     },
     "execution_count": 25,
     "metadata": {},
     "output_type": "execute_result"
    }
   ],
   "source": [
    "# Returns an array of the amount of restaurant bills\n",
    "more_restaurant_bills.column('Bill')"
   ]
  },
  {
   "cell_type": "markdown",
   "metadata": {},
   "source": [
    "Note that both the array above and the table `more_restaurant_bills` only have data for one variable, but their structures are different. Many functions that we will use expect the data to be in either an array format or a table format, but can not handle both."
   ]
  },
  {
   "cell_type": "markdown",
   "metadata": {},
   "source": [
    "### `take`\n",
    "The table method `take` takes as its argument an array of numbers.  Each number should be the index of a row in the table.  It returns a **new table** with only those rows. \n",
    "\n",
    "You'll usually want to use `take` in conjunction with `np.arange` to take the first few rows of a table."
   ]
  },
  {
   "cell_type": "code",
   "execution_count": 26,
   "metadata": {
    "scrolled": true,
    "tags": []
   },
   "outputs": [
    {
     "data": {
      "text/html": [
       "<table border=\"1\" class=\"dataframe\">\n",
       "    <thead>\n",
       "        <tr>\n",
       "            <th>Bill</th>\n",
       "        </tr>\n",
       "    </thead>\n",
       "    <tbody>\n",
       "        <tr>\n",
       "            <td>16.87</td>\n",
       "        </tr>\n",
       "        <tr>\n",
       "            <td>17.41</td>\n",
       "        </tr>\n",
       "        <tr>\n",
       "            <td>10.18</td>\n",
       "        </tr>\n",
       "        <tr>\n",
       "            <td>9.84 </td>\n",
       "        </tr>\n",
       "        <tr>\n",
       "            <td>18.44</td>\n",
       "        </tr>\n",
       "        <tr>\n",
       "            <td>8.99 </td>\n",
       "        </tr>\n",
       "        <tr>\n",
       "            <td>39.72</td>\n",
       "        </tr>\n",
       "        <tr>\n",
       "            <td>3.55 </td>\n",
       "        </tr>\n",
       "        <tr>\n",
       "            <td>4.65 </td>\n",
       "        </tr>\n",
       "        <tr>\n",
       "            <td>5.61 </td>\n",
       "        </tr>\n",
       "    </tbody>\n",
       "</table>\n",
       "<p>... (90 rows omitted)</p>"
      ],
      "text/plain": [
       "Bill\n",
       "16.87\n",
       "17.41\n",
       "10.18\n",
       "9.84\n",
       "18.44\n",
       "8.99\n",
       "39.72\n",
       "3.55\n",
       "4.65\n",
       "5.61\n",
       "... (90 rows omitted)"
      ]
     },
     "execution_count": 26,
     "metadata": {},
     "output_type": "execute_result"
    }
   ],
   "source": [
    "# Take first 100 amounts of restaurant bills\n",
    "more_restaurant_bills.take(np.arange(0, 100, 1))"
   ]
  },
  {
   "cell_type": "markdown",
   "metadata": {},
   "source": [
    "The next questions will give you practice with combining the operations you've learned in this lab and the previous one to answer questions about the `population` table. First, check out the `population` table from section 2."
   ]
  },
  {
   "cell_type": "code",
   "execution_count": 27,
   "metadata": {
    "tags": []
   },
   "outputs": [
    {
     "data": {
      "text/html": [
       "<table border=\"1\" class=\"dataframe\">\n",
       "    <thead>\n",
       "        <tr>\n",
       "            <th>Population</th> <th>Year</th>\n",
       "        </tr>\n",
       "    </thead>\n",
       "    <tbody>\n",
       "        <tr>\n",
       "            <td>1897000   </td> <td>1900</td>\n",
       "        </tr>\n",
       "        <tr>\n",
       "            <td>1926000   </td> <td>1901</td>\n",
       "        </tr>\n",
       "        <tr>\n",
       "            <td>1956000   </td> <td>1902</td>\n",
       "        </tr>\n",
       "        <tr>\n",
       "            <td>1986000   </td> <td>1903</td>\n",
       "        </tr>\n",
       "        <tr>\n",
       "            <td>2017000   </td> <td>1904</td>\n",
       "        </tr>\n",
       "        <tr>\n",
       "            <td>2051000   </td> <td>1905</td>\n",
       "        </tr>\n",
       "        <tr>\n",
       "            <td>2077000   </td> <td>1906</td>\n",
       "        </tr>\n",
       "        <tr>\n",
       "            <td>2105000   </td> <td>1907</td>\n",
       "        </tr>\n",
       "        <tr>\n",
       "            <td>2142000   </td> <td>1908</td>\n",
       "        </tr>\n",
       "        <tr>\n",
       "            <td>2174000   </td> <td>1909</td>\n",
       "        </tr>\n",
       "    </tbody>\n",
       "</table>\n",
       "<p>... (112 rows omitted)</p>"
      ],
      "text/plain": [
       "Population | Year\n",
       "1897000    | 1900\n",
       "1926000    | 1901\n",
       "1956000    | 1902\n",
       "1986000    | 1903\n",
       "2017000    | 1904\n",
       "2051000    | 1905\n",
       "2077000    | 1906\n",
       "2105000    | 1907\n",
       "2142000    | 1908\n",
       "2174000    | 1909\n",
       "... (112 rows omitted)"
      ]
     },
     "execution_count": 27,
     "metadata": {},
     "output_type": "execute_result"
    }
   ],
   "source": [
    "# Run this cell to display the population table.\n",
    "population"
   ]
  },
  {
   "cell_type": "markdown",
   "metadata": {},
   "source": [
    "**Question 3.1.** Compute the year when the North Carolina population first went above 7 million. Assign the year to `year_NCpop_crossed_7_million`. \n",
    "<!--\n",
    "BEGIN QUESTION\n",
    "name: q31\n",
    "-->"
   ]
  },
  {
   "cell_type": "code",
   "execution_count": 28,
   "metadata": {
    "tags": []
   },
   "outputs": [
    {
     "data": {
      "text/plain": [
       "1994"
      ]
     },
     "execution_count": 28,
     "metadata": {},
     "output_type": "execute_result"
    }
   ],
   "source": [
    "year_NCpop_crossed_7_million = population.where(\n",
    "    'Population', are.above(7000000)).column(\n",
    "    'Year').item(0)\n",
    "year_NCpop_crossed_7_million"
   ]
  },
  {
   "cell_type": "markdown",
   "metadata": {},
   "source": [
    "**Question 3.2.** Find the average yearly change in North Carolina's population during the Baby Boomers generation (years from 1946 and 1965 (inclusive)) and the average yearly change in North Carolina population for the Millennials generation (years from 1981 and 1997 (inclusive)). You should round to the nearest whole number. Note that birth years for baby boomers actually end in 1964 and for millenials in 1996. We are using the one year later for the end years in the population data so that we can look at the population growth from 1964-1965 and 1996-1997 as well.\n",
    "\n",
    "*Hint*: Think of the steps you need to do and try to put them in an order that makes sense.\n",
    "\n",
    "*Hint*: In a previous assignment you used a function that calculated the differences between adjacent values in an array\n",
    "\n",
    "<!--\n",
    "BEGIN QUESTION\n",
    "name: q42\n",
    "-->"
   ]
  },
  {
   "cell_type": "code",
   "execution_count": 29,
   "metadata": {
    "tags": []
   },
   "outputs": [
    {
     "name": "stdout",
     "output_type": "stream",
     "text": [
      "Average yearly change in North Carolina's population for the Baby Boomers generation: 60895\n",
      "Average yearly change in North Carolina's population for the Millennials generation 92001\n"
     ]
    }
   ],
   "source": [
    "Boomers = round(np.mean(np.diff(\n",
    "    population.where(\n",
    "        'Year', are.between_or_equal_to(\n",
    "            1946, 1965)).column('Population'))))\n",
    "Millennials = round(np.mean(np.diff(\n",
    "    population.where(\n",
    "        'Year', are.between_or_equal_to(\n",
    "            1981, 1997)).column('Population'))))\n",
    "print(\"Average yearly change in North Carolina's population for the Baby Boomers generation:\", Boomers)\n",
    "print(\"Average yearly change in North Carolina's population for the Millennials generation\", Millennials)"
   ]
  },
  {
   "cell_type": "markdown",
   "metadata": {},
   "source": [
    "## 4. Visualizations\n",
    "\n",
    "Tables are a powerful way of organizing and visualizing data. However, large tables of numbers can be difficult to interpret, no matter how organized they are. Sometimes it is much easier to interpret graphs than numbers. Next you will use some fundamental graphical methods of data analysis to view the data from tables in a different way."
   ]
  },
  {
   "cell_type": "markdown",
   "metadata": {},
   "source": [
    "### `plot`\n",
    "\n",
    "Line plots, sometimes known as line graphs, are among the most common visualizations. They are often used to study chronological trends and patterns. `plot` is a table function that will construct a line plot for a `table` when we specify the column labels and the variables that we want on the horizontal axis, `column_label_x`, and the vertical axis, `column_label_y`.\n",
    "\n",
    "`table.plot(column_label_x, column_label_y)`"
   ]
  },
  {
   "cell_type": "markdown",
   "metadata": {},
   "source": [
    "**Question 4.1.** Construct a line plot using the `population` table to plot the North Carolina population over time. Plot `Year` on the horizontal axis and `Population` on the vertical axis."
   ]
  },
  {
   "cell_type": "code",
   "execution_count": 30,
   "metadata": {
    "tags": []
   },
   "outputs": [
    {
     "data": {
      "image/png": "[encoded data removed]",
      "text/plain": [
       "<Figure size 600x600 with 1 Axes>"
      ]
     },
     "metadata": {},
     "output_type": "display_data"
    }
   ],
   "source": [
    "population.plot('Year', 'Population')"
   ]
  },
  {
   "cell_type": "markdown",
   "metadata": {},
   "source": [
    "Run the cell below to load the table `primary_results`. This table has the votes for each candidate or ballot choice in every contest held in North Carolina in the May 8, 2018 elections."
   ]
  },
  {
   "cell_type": "code",
   "execution_count": 31,
   "metadata": {
    "tags": []
   },
   "outputs": [
    {
     "data": {
      "text/html": [
       "<table border=\"1\" class=\"dataframe\">\n",
       "    <thead>\n",
       "        <tr>\n",
       "            <th>contest_name</th> <th>choice</th> <th>sum_total_votes</th>\n",
       "        </tr>\n",
       "    </thead>\n",
       "    <tbody>\n",
       "        <tr>\n",
       "            <td>ALAMANCE COUNTY BOARD OF COMMISSIONERS (DEM)</td> <td>Harold Dean Bowling </td> <td>1073           </td>\n",
       "        </tr>\n",
       "        <tr>\n",
       "            <td>ALAMANCE COUNTY BOARD OF COMMISSIONERS (DEM)</td> <td>Kristen Powers      </td> <td>4159           </td>\n",
       "        </tr>\n",
       "        <tr>\n",
       "            <td>ALAMANCE COUNTY BOARD OF COMMISSIONERS (DEM)</td> <td>Robert E. (Bob) Byrd</td> <td>3842           </td>\n",
       "        </tr>\n",
       "        <tr>\n",
       "            <td>ALAMANCE COUNTY BOARD OF COMMISSIONERS (REP)</td> <td>Amy Scott Galey     </td> <td>5272           </td>\n",
       "        </tr>\n",
       "        <tr>\n",
       "            <td>ALAMANCE COUNTY BOARD OF COMMISSIONERS (REP)</td> <td>Robert L. Simpson   </td> <td>3756           </td>\n",
       "        </tr>\n",
       "    </tbody>\n",
       "</table>\n",
       "<p>... (1199 rows omitted)</p>"
      ],
      "text/plain": [
       "<IPython.core.display.HTML object>"
      ]
     },
     "metadata": {},
     "output_type": "display_data"
    }
   ],
   "source": [
    "primary_results = Table.read_table('primary_results.csv')\n",
    "primary_results.show(5)"
   ]
  },
  {
   "cell_type": "markdown",
   "metadata": {},
   "source": [
    "**Question 4.2.** Construct a table `OCBOE` containing only the rows for the `contest_name` of `ORANGE COUNTY BOARD OF EDUCATION` and containing only the columns of `choice` and `sum_total_votes`. The table should be sorted in decreasing order by `sum_total_votes`."
   ]
  },
  {
   "cell_type": "code",
   "execution_count": 32,
   "metadata": {
    "tags": []
   },
   "outputs": [
    {
     "data": {
      "text/html": [
       "<table border=\"1\" class=\"dataframe\">\n",
       "    <thead>\n",
       "        <tr>\n",
       "            <th>choice</th> <th>sum_total_votes</th>\n",
       "        </tr>\n",
       "    </thead>\n",
       "    <tbody>\n",
       "        <tr>\n",
       "            <td>Brenda Stephens         </td> <td>6114           </td>\n",
       "        </tr>\n",
       "        <tr>\n",
       "            <td>Sarah Smylie            </td> <td>5439           </td>\n",
       "        </tr>\n",
       "        <tr>\n",
       "            <td>Hillary MacKenzie       </td> <td>5163           </td>\n",
       "        </tr>\n",
       "        <tr>\n",
       "            <td>Will Atherton           </td> <td>4810           </td>\n",
       "        </tr>\n",
       "        <tr>\n",
       "            <td>Jessica Aguilar         </td> <td>1653           </td>\n",
       "        </tr>\n",
       "        <tr>\n",
       "            <td>Mike O'Hagerty          </td> <td>966            </td>\n",
       "        </tr>\n",
       "        <tr>\n",
       "            <td>James Needham           </td> <td>935            </td>\n",
       "        </tr>\n",
       "        <tr>\n",
       "            <td>Hawkeye Aguilar         </td> <td>796            </td>\n",
       "        </tr>\n",
       "        <tr>\n",
       "            <td>Write-In (Miscellaneous)</td> <td>109            </td>\n",
       "        </tr>\n",
       "        <tr>\n",
       "            <td>Lisa Knapp (Write-In)   </td> <td>13             </td>\n",
       "        </tr>\n",
       "    </tbody>\n",
       "</table>\n",
       "<p>... (1 rows omitted)</p>"
      ],
      "text/plain": [
       "choice                   | sum_total_votes\n",
       "Brenda Stephens          | 6114\n",
       "Sarah Smylie             | 5439\n",
       "Hillary MacKenzie        | 5163\n",
       "Will Atherton            | 4810\n",
       "Jessica Aguilar          | 1653\n",
       "Mike O'Hagerty           | 966\n",
       "James Needham            | 935\n",
       "Hawkeye Aguilar          | 796\n",
       "Write-In (Miscellaneous) | 109\n",
       "Lisa Knapp (Write-In)    | 13\n",
       "... (1 rows omitted)"
      ]
     },
     "execution_count": 32,
     "metadata": {},
     "output_type": "execute_result"
    }
   ],
   "source": [
    "OCBOE = primary_results.where('contest_name', 'ORANGE COUNTY BOARD OF EDUCATION').select(\n",
    "    'choice', 'sum_total_votes').sort('sum_total_votes', descending = 1)\n",
    "OCBOE"
   ]
  },
  {
   "cell_type": "markdown",
   "metadata": {},
   "source": [
    "### `barh`\n",
    "\n",
    "The bar chart is a familiar way of visualizing categorical distributions. It displays a bar for each category. The bars are equally spaced and equally wide. The length of each bar is proportional to the frequency of the corresponding category. `barh` is a table function that will construct a horizontal bar chart for a table when we specify the column label of the categorical variable that we are counting, `cat_variable`, and the column label for the counts of that variable, `counts`.\n",
    "\n",
    "`table.barh(cat_variable, counts)`"
   ]
  },
  {
   "cell_type": "markdown",
   "metadata": {},
   "source": [
    "**Question 4.3.** Construct a bar chart for the number of votes for each of the candidates in the `OCBOE` table."
   ]
  },
  {
   "cell_type": "code",
   "execution_count": 33,
   "metadata": {
    "tags": []
   },
   "outputs": [
    {
     "data": {
      "image/png": "[encoded data removed]",
      "text/plain": [
       "<Figure size 600x550 with 1 Axes>"
      ]
     },
     "metadata": {},
     "output_type": "display_data"
    }
   ],
   "source": [
    "OCBOE.barh('choice', 'sum_total_votes')"
   ]
  },
  {
   "cell_type": "markdown",
   "metadata": {},
   "source": [
    "Run the cell below to load the `Local_Air_Quality` table. This dataset contains air quality data collected using a PurpleAir Dual Laser Air Quality Sensor located at the Chapel Hill Public Library, as well as data on other variables such as temperature in Fahrenheit."
   ]
  },
  {
   "cell_type": "code",
   "execution_count": 34,
   "metadata": {
    "tags": []
   },
   "outputs": [
    {
     "data": {
      "text/html": [
       "<table border=\"1\" class=\"dataframe\">\n",
       "    <thead>\n",
       "        <tr>\n",
       "            <th>X</th> <th>Y</th> <th>Last_Check</th> <th>Current_Particulate_Matter_2_5</th> <th>PM_2_5_10_Minute_Avg</th> <th>PM_2_5_30_Minute_Avg</th> <th>PM_2_5_1_Hour_Avg</th> <th>PM_2_5_6_Hour_Avg</th> <th>PM_2_5_24_Hour_Avg</th> <th>PM_2_5_One_Week_Avg</th> <th>Temp_F</th> <th>Humidity</th> <th>Pressure__mbar</th> <th>Site_Label</th> <th>Inside_Outside</th> <th>Latitude</th> <th>Longitude</th> <th>Uptime_Seconds</th> <th>RSSI_WiFi_signal_strength_dBm</th> <th>Hardware_Issues</th> <th>Age_of_Data_at_Check_minutes</th> <th>ObjectId</th>\n",
       "        </tr>\n",
       "    </thead>\n",
       "    <tbody>\n",
       "        <tr>\n",
       "            <td>-79.0357</td> <td>35.9325</td> <td>2018/09/27 19:48:03+00</td> <td>22.48                         </td> <td>22.05               </td> <td>18.33               </td> <td>15.5             </td> <td>10.25            </td> <td>11.44             </td> <td>13.81              </td> <td>88    </td> <td>59      </td> <td>1002.78       </td> <td>Chapel Hill Public Library</td> <td>outside       </td> <td>35.9325 </td> <td>-79.0357 </td> <td>3060          </td> <td>-84                          </td> <td>nan            </td> <td>1                           </td> <td>1       </td>\n",
       "        </tr>\n",
       "        <tr>\n",
       "            <td>-79.0357</td> <td>35.9325</td> <td>2018/09/27 19:59:52+00</td> <td>23                            </td> <td>22.47               </td> <td>19.2                </td> <td>16.24            </td> <td>10.46            </td> <td>11.49             </td> <td>13.82              </td> <td>88    </td> <td>58      </td> <td>1003.02       </td> <td>Chapel Hill Public Library</td> <td>outside       </td> <td>35.9325 </td> <td>-79.0357 </td> <td>3770          </td> <td>-84                          </td> <td>nan            </td> <td>0                           </td> <td>2       </td>\n",
       "        </tr>\n",
       "        <tr>\n",
       "            <td>-79.0357</td> <td>35.9325</td> <td>2018/10/02 14:43:38+00</td> <td>9.32                          </td> <td>10.53               </td> <td>13.64               </td> <td>15.65            </td> <td>18.14            </td> <td>14.53             </td> <td>12.89              </td> <td>86    </td> <td>55      </td> <td>1011.93       </td> <td>Chapel Hill Public Library</td> <td>outside       </td> <td>35.9325 </td> <td>-79.0357 </td> <td>7123          </td> <td>-92                          </td> <td>nan            </td> <td>0                           </td> <td>3       </td>\n",
       "        </tr>\n",
       "        <tr>\n",
       "            <td>-79.0357</td> <td>35.9325</td> <td>2018/10/02 14:43:38+00</td> <td>9.32                          </td> <td>10.53               </td> <td>13.64               </td> <td>15.65            </td> <td>18.14            </td> <td>14.53             </td> <td>12.89              </td> <td>86    </td> <td>55      </td> <td>1011.93       </td> <td>Chapel Hill Public Library</td> <td>outside       </td> <td>35.9325 </td> <td>-79.0357 </td> <td>7123          </td> <td>-92                          </td> <td>nan            </td> <td>0                           </td> <td>4       </td>\n",
       "        </tr>\n",
       "        <tr>\n",
       "            <td>-79.0357</td> <td>35.9325</td> <td>2018/10/02 14:59:23+00</td> <td>8                             </td> <td>9.25                </td> <td>12.58               </td> <td>14.91            </td> <td>17.97            </td> <td>14.51             </td> <td>12.89              </td> <td>86    </td> <td>54      </td> <td>1011.81       </td> <td>Chapel Hill Public Library</td> <td>outside       </td> <td>35.9325 </td> <td>-79.0357 </td> <td>100           </td> <td>-86                          </td> <td>nan            </td> <td>0                           </td> <td>5       </td>\n",
       "        </tr>\n",
       "    </tbody>\n",
       "</table>\n",
       "<p>... (12484 rows omitted)</p>"
      ],
      "text/plain": [
       "<IPython.core.display.HTML object>"
      ]
     },
     "metadata": {},
     "output_type": "display_data"
    }
   ],
   "source": [
    "Local_Air_Quality = Table.read_table(\"Local_Air_Quality.csv\")\n",
    "Local_Air_Quality.show(5)"
   ]
  },
  {
   "cell_type": "markdown",
   "metadata": {},
   "source": [
    "### `scatter`\n",
    "\n",
    "A scatter plot displays the relation between two numerical variables. `scatter` is a table function that draws a scatter plot consisting of one point for each row of the table. Its first argument is the label of the column to be plotted on the horizontal axis, `x_label`, and its second argument is the label of the column on the vertical axis, `y_label`.\n",
    "\n",
    "`table.scatter(x_label, y_label)`"
   ]
  },
  {
   "cell_type": "markdown",
   "metadata": {},
   "source": [
    "**Question 4.4.** Construct a scatterplot with the variable `Humidity` on the horizontal axis and `Pressure__mbar` on the vertical axis. Note that there are two underscores in the name `Pressure__mbar`"
   ]
  },
  {
   "cell_type": "code",
   "execution_count": 35,
   "metadata": {
    "tags": []
   },
   "outputs": [
    {
     "data": {
      "image/png": "[encoded data removed]",
      "text/plain": [
       "<Figure size 500x500 with 1 Axes>"
      ]
     },
     "metadata": {},
     "output_type": "display_data"
    }
   ],
   "source": [
    "Local_Air_Quality.scatter('Humidity', 'Pressure__mbar')"
   ]
  },
  {
   "cell_type": "markdown",
   "metadata": {},
   "source": [
    "**Question 4.5.** Comment on the relationship between `Humidity` and `Pressure__mbar` shown in the plot from the previous question."
   ]
  },
  {
   "cell_type": "markdown",
   "metadata": {},
   "source": [
    "*There is a slight negative correlation, but it's not very strong at all*"
   ]
  },
  {
   "cell_type": "markdown",
   "metadata": {
    "tags": []
   },
   "source": [
    "## 5. Defining functions\n",
    "\n",
    "Let's write a very simple function that converts a proportion to a percentage by multiplying it by 100.  For example, the value of `to_percentage(.5)` should be the number 50 (no percent sign).\n",
    "\n",
    "A function definition has a few parts.\n",
    "\n",
    "##### `def`\n",
    "It always starts with `def` (short for **def**ine):\n",
    "\n",
    "    def\n",
    "\n",
    "##### Name\n",
    "Next comes the name of the function.  Like other names we've defined, it can't start with a number or contain spaces. Let's call our function `to_percentage`:\n",
    "    \n",
    "    def to_percentage\n",
    "\n",
    "##### Signature\n",
    "Next comes something called the *signature* of the function.  This tells Python how many arguments your function should have, and what names you'll use to refer to those arguments in the function's code.  A function can have any number of arguments (including 0!). \n",
    "\n",
    "`to_percentage` should take one argument, and we'll call that argument `proportion` since it should be a proportion.\n",
    "\n",
    "    def to_percentage(proportion)\n",
    "    \n",
    "If we want our function to take more than one argument, we add a comma between each argument name. Note that if we had zero arguments, we'd still place the parentheses () after than name. \n",
    "\n",
    "We put a colon after the signature to tell Python it's over. If you're getting a syntax error after defining a function, check to make sure you remembered the colon!\n",
    "\n",
    "    def to_percentage(proportion):\n",
    "\n",
    "##### Documentation\n",
    "Functions can do complicated things, so you should write an explanation of what your function does.  For small functions, this is less important, but it's a good habit to learn from the start.  Conventionally, Python functions are documented by writing an **indented** triple-quoted string:\n",
    "\n",
    "    def to_percentage(proportion):\n",
    "        \"\"\"Converts a proportion to a percentage.\"\"\"\n",
    "    \n",
    "    \n",
    "##### Body\n",
    "Now we start writing code that runs when the function is called.  This is called the *body* of the function and every line **must be indented with a tab**.  Any lines that are *not* indented and left-aligned with the def statement is considered outside the function. \n",
    "\n",
    "Some notes about the body of the function:\n",
    "- We can write code that we would write anywhere else.  \n",
    "- We use the arguments defined in the function signature. We can do this because we assume that when we call the function, values are already assigned to those arguments.\n",
    "- We generally avoid referencing variables defined *outside* the function. If you would like to reference variables outside of the function, pass them through as arguments!\n",
    "\n",
    "\n",
    "Now, let's give a name to the number we multiply a proportion by to get a percentage:\n",
    "\n",
    "    def to_percentage(proportion):\n",
    "        \"\"\"Converts a proportion to a percentage.\"\"\"\n",
    "        factor = 100\n",
    "\n",
    "##### `return`\n",
    "The special instruction `return` is part of the function's body and tells Python to make the value of the function call equal to whatever comes right after `return`.  We want the value of `to_percentage(.5)` to be the proportion .5 times the factor 100, so we write:\n",
    "\n",
    "    def to_percentage(proportion):\n",
    "        \"\"\"Converts a proportion to a percentage.\"\"\"\n",
    "        factor = 100\n",
    "        return proportion * factor\n",
    "        \n",
    "`return` only makes sense in the context of a function, and **can never be used outside of a function**. `return` is always the last line of the function because Python stops executing the body of a function once it hits a `return` statement.\n",
    "\n",
    "*Note:*  `return` inside a function tells Python what value the function evaluates to. However, there are other functions, like `print`, that have no `return` value. For example, `print` simply prints a certain value out to the console. \n",
    "\n",
    "`return` and `print` are **very** different. "
   ]
  },
  {
   "cell_type": "markdown",
   "metadata": {},
   "source": [
    "**Question 5.1.** Define `to_percentage` in the cell below.  Call your function to convert the proportion .6 to a percentage.  Name that percentage `sixty_percent`.\n",
    "\n",
    "<!--\n",
    "BEGIN QUESTION\n",
    "name: q51\n",
    "-->"
   ]
  },
  {
   "cell_type": "code",
   "execution_count": 36,
   "metadata": {
    "tags": []
   },
   "outputs": [
    {
     "data": {
      "text/plain": [
       "60.0"
      ]
     },
     "execution_count": 36,
     "metadata": {},
     "output_type": "execute_result"
    }
   ],
   "source": [
    "def to_percentage(proportion):\n",
    "    \"\"\" Converts a proportion to a percentage \"\"\"\n",
    "    factor = 100\n",
    "    return proportion * factor\n",
    "\n",
    "sixty_percent = to_percentage(.6)\n",
    "sixty_percent"
   ]
  },
  {
   "cell_type": "markdown",
   "metadata": {},
   "source": [
    "Like you’ve done with built-in functions in previous labs (max, abs, etc.), you can pass in named values as arguments to your function.\n",
    "\n",
    "**Question 5.2.** Use `to_percentage` again to convert the proportion named `a_proportion` (defined below) to a percentage called `a_percentage`.\n",
    "\n",
    "*Note:* You don't need to define `to_percentage` again!  Like other named values, functions stick around after you define them.\n",
    "\n",
    "<!--\n",
    "BEGIN QUESTION\n",
    "name: q52\n",
    "-->"
   ]
  },
  {
   "cell_type": "code",
   "execution_count": 37,
   "metadata": {
    "tags": []
   },
   "outputs": [
    {
     "data": {
      "text/plain": [
       "70.71067811865476"
      ]
     },
     "execution_count": 37,
     "metadata": {},
     "output_type": "execute_result"
    }
   ],
   "source": [
    "a_proportion = 2**(.5) / 2\n",
    "a_percentage = to_percentage(a_proportion)\n",
    "a_percentage"
   ]
  },
  {
   "cell_type": "markdown",
   "metadata": {},
   "source": [
    "Here's something important about functions: the names assigned *within* a function body are only accessible within the function body. Once the function has returned, those names are gone.  So even if you created a variable called `factor` and defined `factor = 100` inside of the body of the `to_percentage` function and then called `to_percentage`, `factor` would not have a value assigned to it outside of the body of `to_percentage`:"
   ]
  },
  {
   "cell_type": "code",
   "execution_count": 38,
   "metadata": {
    "tags": []
   },
   "outputs": [
    {
     "ename": "NameError",
     "evalue": "name 'factor' is not defined",
     "output_type": "error",
     "traceback": [
      "\u001b[1;31m---------------------------------------------------------------------------\u001b[0m",
      "\u001b[1;31mNameError\u001b[0m                                 Traceback (most recent call last)",
      "Cell \u001b[1;32mIn[38], line 3\u001b[0m\n\u001b[0;32m      1\u001b[0m \u001b[38;5;66;03m# You should see an error when you run this.  (If you don't, you might\u001b[39;00m\n\u001b[0;32m      2\u001b[0m \u001b[38;5;66;03m# have defined factor somewhere above.)\u001b[39;00m\n\u001b[1;32m----> 3\u001b[0m factor\n",
      "\u001b[1;31mNameError\u001b[0m: name 'factor' is not defined"
     ]
    }
   ],
   "source": [
    "# You should see an error when you run this.  (If you don't, you might\n",
    "# have defined factor somewhere above.)\n",
    "factor"
   ]
  },
  {
   "cell_type": "markdown",
   "metadata": {},
   "source": [
    "As we've seen with built-in functions, functions can also take strings (or arrays, or tables) as arguments, and they can return those things, too.\n",
    "\n",
    "**Question 5.3.** Define a function called `disemvowel`.  It should take a single string as its argument.  (You can call that argument whatever you want.)  It should return a copy of that string, but with all the characters that are vowels removed.  (In English, the vowels are the characters \"a\", \"e\", \"i\", \"o\", and \"u\".) You can use as many lines inside of the function to do this as you’d like.\n",
    "\n",
    "*Hint:* To remove all the \"a\"s from a string, you can use `that_string.replace(\"a\", \"\")`.  The `.replace` method for strings returns a new string, so you can call `replace` multiple times, one after the other. \n",
    "\n",
    "<!--\n",
    "BEGIN QUESTION\n",
    "name: q53\n",
    "-->"
   ]
  },
  {
   "cell_type": "code",
   "execution_count": 39,
   "metadata": {
    "tags": []
   },
   "outputs": [
    {
     "data": {
      "text/plain": [
       "'Cn y rd ths wtht vwls?'"
      ]
     },
     "execution_count": 39,
     "metadata": {},
     "output_type": "execute_result"
    }
   ],
   "source": [
    "def disemvowel(a_string):\n",
    "    \"\"\"Removes vowels from strings\"\"\"\n",
    "    new = a_string.replace('a', '').replace('e', '').replace('i', '').replace('o', '').replace('u', '')\n",
    "    \n",
    "    return new\n",
    "\n",
    "# An example call to your function.  (It's often helpful to run\n",
    "# an example call from time to time while you're writing a function,\n",
    "# to see how it currently works.)\n",
    "disemvowel(\"Can you read this without vowels?\")"
   ]
  },
  {
   "cell_type": "markdown",
   "metadata": {},
   "source": [
    "##### Calls on calls on calls\n",
    "Just as you write a series of lines to build up a complex computation, it's useful to define a series of small functions that build on each other.  Since you can write any code inside a function's body, you can call other functions you've written.\n",
    "\n",
    "If a function is a like a recipe, defining a function in terms of other functions is like having a recipe for cake telling you to follow another recipe to make the frosting, and another to make the jam filling.  This makes the cake recipe shorter and clearer, and it avoids having a bunch of duplicated frosting recipes.  It's a foundation of productive programming.\n",
    "\n",
    "For example, suppose you want to count the number of characters *that aren't vowels* in a piece of text.  One way to do that is this to remove all the vowels and count the size of the remaining string.\n",
    "\n",
    "**Question 5.4.** Write a function called `num_non_vowels`.  It should take a string as its argument and return a number.  That number should be the number of characters in the argument string that aren't vowels. You should use the `disemvowel` function you wrote above inside of the `num_non_vowels` function.\n",
    "\n",
    "*Hint:* The function `len` takes a string as its argument and returns the number of characters in it.\n",
    "\n",
    "<!--\n",
    "BEGIN QUESTION\n",
    "name: q54\n",
    "-->"
   ]
  },
  {
   "cell_type": "code",
   "execution_count": 40,
   "metadata": {
    "tags": []
   },
   "outputs": [
    {
     "name": "stdout",
     "output_type": "stream",
     "text": [
      "11\n"
     ]
    }
   ],
   "source": [
    "def num_non_vowels(a_string):\n",
    "    \"\"\"The number of characters in a string, minus the vowels.\"\"\"\n",
    "    return len(disemvowel(a_string))\n",
    "\n",
    "# Try calling your function yourself to make sure the output is what you expect.\n",
    "print(num_non_vowels('Panera is expensive'))"
   ]
  },
  {
   "cell_type": "markdown",
   "metadata": {},
   "source": [
    "Functions can also encapsulate code that *displays output* instead of computing a value. For example, if you call `print` inside a function, and then call that function, something will get printed.\n",
    "\n",
    "The `Bachelors` dataset contains information from 2019 on the number of people from the United States with bachelor's degrees in various fields of study broken down by age group, sex, and state. The original source of the data is the US Census Bureau, but this dataset was found on [Kaggle.com](https://www.kaggle.com/tjkyner/bachelor-degree-majors-by-age-sex-and-state). Suppose you'd like to display the state with the 3rd-highest number of bachelor's degrees for females 25 and older, and that state's number of females with bachelor's degrees, printed in a human-readable way. You might do this:"
   ]
  },
  {
   "cell_type": "code",
   "execution_count": 41,
   "metadata": {
    "tags": []
   },
   "outputs": [
    {
     "name": "stdout",
     "output_type": "stream",
     "text": [
      "New York has a rank of 3 among the states with the highest number of bachelor's degrees for females 25 years and older with 2791891 people with bachelor's degrees\n"
     ]
    }
   ],
   "source": [
    "Bachelors = Table.read_table(\"Bachelors.csv\")\n",
    "rank = 3\n",
    "\n",
    "bach_state_25_older_f_sorted = Bachelors.where(\n",
    "    'Age Group', '25 and older').where(\n",
    "    'Sex', 'Female').sort(\n",
    "    \"Bachelor's Degree Holders\", descending=True)\n",
    "\n",
    "state_rank_3 = bach_state_25_older_f_sorted.column('State').item(rank-1)\n",
    "num_bach_rank_3 = bach_state_25_older_f_sorted.column(\"Bachelor's Degree Holders\").item(rank-1)\n",
    "\n",
    "print(state_rank_3, \n",
    "      \"has a rank of\", \n",
    "      rank, \n",
    "      \"among the states with the highest number of bachelor's degrees for females 25 years and older with\",\n",
    "      num_bach_rank_3,\n",
    "      \"people with bachelor's degrees\"\n",
    "     )\n"
   ]
  },
  {
   "cell_type": "markdown",
   "metadata": {},
   "source": [
    "After writing this, you realize you also wanted to print out the states and their number of people with bachelor's degrees for the 1st and 2nd-highest states as well.  Instead of copying your code, you decide to put it in a function.  Since the rank varies, you make that an argument to your function.\n",
    "\n",
    "**Question 5.5.** Write a function called `print_kth_top_bach_f_state`.  It should take a single argument, the rank of the state (like 1, 2, or 3 in the above examples).  It should print out a message like the one above.  \n",
    "\n",
    "*Note:* Your function shouldn't have a `return` statement.\n",
    "\n",
    "<!--\n",
    "BEGIN QUESTION\n",
    "name: q45\n",
    "-->"
   ]
  },
  {
   "cell_type": "code",
   "execution_count": 42,
   "metadata": {},
   "outputs": [
    {
     "name": "stdout",
     "output_type": "stream",
     "text": [
      "California has a rank of 1 among the states with the highest number of bachelor's degrees for females 25 years and older with 4868520 people with bachelor's degrees\n",
      "Texas has a rank of 2 among the states with the highest number of bachelor's degrees for females 25 years and older with 2991987 people with bachelor's degrees\n"
     ]
    }
   ],
   "source": [
    "def print_kth_top_bach_f_state(k):\n",
    "    state = bach_state_25_older_f_sorted.column('State').item(k-1)\n",
    "    num_bach = bach_state_25_older_f_sorted.column(\"Bachelor's Degree Holders\").item(k-1)\n",
    "    print(state, 'has a rank of', k,\n",
    "         'among the states with the highest number of bachelor\\'s degrees for females 25 years and older with',\n",
    "         num_bach, 'people with bachelor\\'s degrees')\n",
    "\n",
    "# Example calls to your function:\n",
    "print_kth_top_bach_f_state(1)\n",
    "print_kth_top_bach_f_state(2)"
   ]
  },
  {
   "cell_type": "markdown",
   "metadata": {},
   "source": [
    "### `print` is not the same as `return`\n",
    "The `print_kth_top_bach_state` function prints the state and the total number of people with bachelor's degrees for the rank that was provided. However, since we did not return any value in this function, we can not use it after we call it. Let's look at an example of another function that prints a value but does not return it."
   ]
  },
  {
   "cell_type": "code",
   "execution_count": 43,
   "metadata": {},
   "outputs": [],
   "source": [
    "def print_number_five():\n",
    "    print(5)"
   ]
  },
  {
   "cell_type": "code",
   "execution_count": 44,
   "metadata": {},
   "outputs": [
    {
     "name": "stdout",
     "output_type": "stream",
     "text": [
      "5\n"
     ]
    }
   ],
   "source": [
    "print_number_five()"
   ]
  },
  {
   "cell_type": "markdown",
   "metadata": {},
   "source": [
    "However, if we try to use the output of `print_number_five()`, we see that the value `5` is printed but we get a TypeError when we try to add the number 2 to it!"
   ]
  },
  {
   "cell_type": "code",
   "execution_count": 45,
   "metadata": {},
   "outputs": [
    {
     "name": "stdout",
     "output_type": "stream",
     "text": [
      "5\n"
     ]
    },
    {
     "ename": "TypeError",
     "evalue": "unsupported operand type(s) for +: 'NoneType' and 'int'",
     "output_type": "error",
     "traceback": [
      "\u001b[1;31m---------------------------------------------------------------------------\u001b[0m",
      "\u001b[1;31mTypeError\u001b[0m                                 Traceback (most recent call last)",
      "Cell \u001b[1;32mIn[45], line 2\u001b[0m\n\u001b[0;32m      1\u001b[0m print_number_five_output \u001b[38;5;241m=\u001b[39m print_number_five()\n\u001b[1;32m----> 2\u001b[0m print_number_five_output \u001b[38;5;241m+\u001b[39m \u001b[38;5;241m2\u001b[39m\n",
      "\u001b[1;31mTypeError\u001b[0m: unsupported operand type(s) for +: 'NoneType' and 'int'"
     ]
    }
   ],
   "source": [
    "print_number_five_output = print_number_five()\n",
    "print_number_five_output + 2"
   ]
  },
  {
   "cell_type": "markdown",
   "metadata": {},
   "source": [
    "It may seem that `print_number_five()` is returning a value, 5. In reality, it just displays the number 5 to you without giving you the actual value! If your function prints out a value without returning it and you try to use that value, you will run into errors, so be careful!\n",
    "\n",
    "Explain to your neighbor how you might add a line of code to the `print_number_five` function (after `print(5)`) so that the code `print_number_five_output + 5` would result in the value `10`, rather than an error."
   ]
  },
  {
   "cell_type": "markdown",
   "metadata": {
    "tags": []
   },
   "source": [
    "## 6. Functions and Vice Chancellor Incomes\n",
    "\n",
    "In this question, we'll look at the `vc_compensation2023` dataset, containing the 2023 compensation for those with 'Vice Chancellor' in their primary working title across North Carolina public universities. This data, and much else about state employees, is publicly available. "
   ]
  },
  {
   "cell_type": "code",
   "execution_count": 46,
   "metadata": {},
   "outputs": [
    {
     "data": {
      "text/html": [
       "<table border=\"1\" class=\"dataframe\">\n",
       "    <thead>\n",
       "        <tr>\n",
       "            <th>INSTITUTION NAME</th> <th>LAST NAME</th> <th>FIRST NAME</th> <th>INITIAL HIRE DATE</th> <th>JOB CATEGORY</th> <th>EMPLOYEE ANNUAL BASE SALARY</th> <th>EMPLOYEE HOME DEPARTMENT</th> <th>PRIMARY WORKING TITLE</th>\n",
       "        </tr>\n",
       "    </thead>\n",
       "    <tbody>\n",
       "        <tr>\n",
       "            <td>FSU             </td> <td>Robinson </td> <td>Terrance  </td> <td>10-Apr-00        </td> <td>Chief Business Affairs Officer, College/Division            </td> <td>$108675                    </td> <td>Legal, Audit, Risk and Compliance</td> <td>Assistant Vice Chancellor for Legal, Risk, Audit and Com ...</td>\n",
       "        </tr>\n",
       "        <tr>\n",
       "            <td>ECSU            </td> <td>Aponte   </td> <td>Ariel     </td> <td>1-Sep-22         </td> <td>Government Relations Professional, Federal Relations Dir ...</td> <td>$ 109000                   </td> <td>Student Affairs                  </td> <td>Associate Vice Chancellor for Military, State, & Federal ...</td>\n",
       "        </tr>\n",
       "        <tr>\n",
       "            <td>NCCU            </td> <td>Clemm    </td> <td>William   </td> <td>1-Jul-19         </td> <td>Director, Subdivision/Unit/Program AD                       </td> <td>$ 109270                   </td> <td>Office of AVC Student Engagement </td> <td>Assistant Vice Chancellor Student Affairs                   </td>\n",
       "        </tr>\n",
       "        <tr>\n",
       "            <td>ECSU            </td> <td>Wade     </td> <td>Kevin     </td> <td>22-Jun-07        </td> <td>Associate Vice Chancellor, Student Affairs                  </td> <td>$ 109801                   </td> <td>Student Affairs                  </td> <td>Associate Vice Chancellor for Student Affairs               </td>\n",
       "        </tr>\n",
       "        <tr>\n",
       "            <td>NCA&T           </td> <td>Bostick  </td> <td>Keyona    </td> <td>18-Nov-22        </td> <td>Chief Campus HR Information Systems Administrator           </td> <td>$ 110000                   </td> <td>Human Resources                  </td> <td>Assistant Vice Chancellor for HR Operations                 </td>\n",
       "        </tr>\n",
       "        <tr>\n",
       "            <td>NCA&T           </td> <td>Chisholm </td> <td>Allison   </td> <td>29-Jun-15        </td> <td>Deputy Chief HR Officer                                     </td> <td>$ 110000                   </td> <td>Human Resources                  </td> <td>Assistant Vice Chancellor for Talent Management             </td>\n",
       "        </tr>\n",
       "        <tr>\n",
       "            <td>UNCA            </td> <td>Barnwell </td> <td>Vollie    </td> <td>18-Oct-99        </td> <td>Assistant Vice Chancellor, Student Affairs                  </td> <td>$ 110000                   </td> <td>Housing Operations               </td> <td>Assistant Vice Chancellor for Student Affairs               </td>\n",
       "        </tr>\n",
       "        <tr>\n",
       "            <td>UNCSA           </td> <td>Mahoney  </td> <td>Angela    </td> <td>11-May-98        </td> <td>Chief Human Resources Officer                               </td> <td>$ 111392                   </td> <td>Human Resources                  </td> <td>Associate Vice Chancellor of Human Resources                </td>\n",
       "        </tr>\n",
       "        <tr>\n",
       "            <td>WSSU            </td> <td>Gingles  </td> <td>Haley     </td> <td>1-Mar-20         </td> <td>Chief Communications /Public Relations Officer              </td> <td>$ 112737.38                </td> <td>Marketing & Communications       </td> <td>Vice Chancellor of Communication/Chief Marketing            </td>\n",
       "        </tr>\n",
       "        <tr>\n",
       "            <td>ECSU            </td> <td>Lane     </td> <td>Shamica   </td> <td>1-Sep-20         </td> <td>Chief Human Resources Officer                               </td> <td>$ 115270                   </td> <td>Human Resources                  </td> <td>Asst Vice Chancellor/CHRO                                   </td>\n",
       "        </tr>\n",
       "    </tbody>\n",
       "</table>\n",
       "<p>... (159 rows omitted)</p>"
      ],
      "text/plain": [
       "INSTITUTION NAME | LAST NAME | FIRST NAME | INITIAL HIRE DATE | JOB CATEGORY                                                 | EMPLOYEE ANNUAL BASE SALARY | EMPLOYEE HOME DEPARTMENT          | PRIMARY WORKING TITLE\n",
       "FSU              | Robinson  | Terrance   | 10-Apr-00         | Chief Business Affairs Officer, College/Division             | $108675                     | Legal, Audit, Risk and Compliance | Assistant Vice Chancellor for Legal, Risk, Audit and Com ...\n",
       "ECSU             | Aponte    | Ariel      | 1-Sep-22          | Government Relations Professional, Federal Relations Dir ... | $ 109000                    | Student Affairs                   | Associate Vice Chancellor for Military, State, & Federal ...\n",
       "NCCU             | Clemm     | William    | 1-Jul-19          | Director, Subdivision/Unit/Program AD                        | $ 109270                    | Office of AVC Student Engagement  | Assistant Vice Chancellor Student Affairs\n",
       "ECSU             | Wade      | Kevin      | 22-Jun-07         | Associate Vice Chancellor, Student Affairs                   | $ 109801                    | Student Affairs                   | Associate Vice Chancellor for Student Affairs\n",
       "NCA&T            | Bostick   | Keyona     | 18-Nov-22         | Chief Campus HR Information Systems Administrator            | $ 110000                    | Human Resources                   | Assistant Vice Chancellor for HR Operations\n",
       "NCA&T            | Chisholm  | Allison    | 29-Jun-15         | Deputy Chief HR Officer                                      | $ 110000                    | Human Resources                   | Assistant Vice Chancellor for Talent Management\n",
       "UNCA             | Barnwell  | Vollie     | 18-Oct-99         | Assistant Vice Chancellor, Student Affairs                   | $ 110000                    | Housing Operations                | Assistant Vice Chancellor for Student Affairs\n",
       "UNCSA            | Mahoney   | Angela     | 11-May-98         | Chief Human Resources Officer                                | $ 111392                    | Human Resources                   | Associate Vice Chancellor of Human Resources\n",
       "WSSU             | Gingles   | Haley      | 1-Mar-20          | Chief Communications /Public Relations Officer               | $ 112737.38                 | Marketing & Communications        | Vice Chancellor of Communication/Chief Marketing\n",
       "ECSU             | Lane      | Shamica    | 1-Sep-20          | Chief Human Resources Officer                                | $ 115270                    | Human Resources                   | Asst Vice Chancellor/CHRO\n",
       "... (159 rows omitted)"
      ]
     },
     "execution_count": 46,
     "metadata": {},
     "output_type": "execute_result"
    }
   ],
   "source": [
    "vc_compensation2023 = Table.read_table('vc_compensation2023.csv')\n",
    "vc_compensation2023"
   ]
  },
  {
   "cell_type": "markdown",
   "metadata": {},
   "source": [
    "We want to compute the average of the Vice Chancellors' pay. Try running the cell below."
   ]
  },
  {
   "cell_type": "code",
   "execution_count": 47,
   "metadata": {},
   "outputs": [
    {
     "ename": "UFuncTypeError",
     "evalue": "ufunc 'add' did not contain a loop with signature matching types (dtype('<U11'), dtype('<U11')) -> None",
     "output_type": "error",
     "traceback": [
      "\u001b[1;31m---------------------------------------------------------------------------\u001b[0m",
      "\u001b[1;31mUFuncTypeError\u001b[0m                            Traceback (most recent call last)",
      "Cell \u001b[1;32mIn[47], line 1\u001b[0m\n\u001b[1;32m----> 1\u001b[0m np\u001b[38;5;241m.\u001b[39maverage(vc_compensation2023\u001b[38;5;241m.\u001b[39mcolumn(\u001b[38;5;124m\"\u001b[39m\u001b[38;5;124mEMPLOYEE ANNUAL BASE SALARY\u001b[39m\u001b[38;5;124m\"\u001b[39m))\n",
      "File \u001b[1;32m<__array_function__ internals>:200\u001b[0m, in \u001b[0;36maverage\u001b[1;34m(*args, **kwargs)\u001b[0m\n",
      "File \u001b[1;32m~\\anaconda3\\Lib\\site-packages\\numpy\\lib\\function_base.py:518\u001b[0m, in \u001b[0;36maverage\u001b[1;34m(a, axis, weights, returned, keepdims)\u001b[0m\n\u001b[0;32m    515\u001b[0m     keepdims_kw \u001b[38;5;241m=\u001b[39m {\u001b[38;5;124m'\u001b[39m\u001b[38;5;124mkeepdims\u001b[39m\u001b[38;5;124m'\u001b[39m: keepdims}\n\u001b[0;32m    517\u001b[0m \u001b[38;5;28;01mif\u001b[39;00m weights \u001b[38;5;129;01mis\u001b[39;00m \u001b[38;5;28;01mNone\u001b[39;00m:\n\u001b[1;32m--> 518\u001b[0m     avg \u001b[38;5;241m=\u001b[39m a\u001b[38;5;241m.\u001b[39mmean(axis, \u001b[38;5;241m*\u001b[39m\u001b[38;5;241m*\u001b[39mkeepdims_kw)\n\u001b[0;32m    519\u001b[0m     avg_as_array \u001b[38;5;241m=\u001b[39m np\u001b[38;5;241m.\u001b[39masanyarray(avg)\n\u001b[0;32m    520\u001b[0m     scl \u001b[38;5;241m=\u001b[39m avg_as_array\u001b[38;5;241m.\u001b[39mdtype\u001b[38;5;241m.\u001b[39mtype(a\u001b[38;5;241m.\u001b[39msize\u001b[38;5;241m/\u001b[39mavg_as_array\u001b[38;5;241m.\u001b[39msize)\n",
      "File \u001b[1;32m~\\anaconda3\\Lib\\site-packages\\numpy\\core\\_methods.py:181\u001b[0m, in \u001b[0;36m_mean\u001b[1;34m(a, axis, dtype, out, keepdims, where)\u001b[0m\n\u001b[0;32m    178\u001b[0m         dtype \u001b[38;5;241m=\u001b[39m mu\u001b[38;5;241m.\u001b[39mdtype(\u001b[38;5;124m'\u001b[39m\u001b[38;5;124mf4\u001b[39m\u001b[38;5;124m'\u001b[39m)\n\u001b[0;32m    179\u001b[0m         is_float16_result \u001b[38;5;241m=\u001b[39m \u001b[38;5;28;01mTrue\u001b[39;00m\n\u001b[1;32m--> 181\u001b[0m ret \u001b[38;5;241m=\u001b[39m umr_sum(arr, axis, dtype, out, keepdims, where\u001b[38;5;241m=\u001b[39mwhere)\n\u001b[0;32m    182\u001b[0m \u001b[38;5;28;01mif\u001b[39;00m \u001b[38;5;28misinstance\u001b[39m(ret, mu\u001b[38;5;241m.\u001b[39mndarray):\n\u001b[0;32m    183\u001b[0m     \u001b[38;5;28;01mwith\u001b[39;00m _no_nep50_warning():\n",
      "\u001b[1;31mUFuncTypeError\u001b[0m: ufunc 'add' did not contain a loop with signature matching types (dtype('<U11'), dtype('<U11')) -> None"
     ]
    }
   ],
   "source": [
    "np.average(vc_compensation2023.column(\"EMPLOYEE ANNUAL BASE SALARY\"))"
   ]
  },
  {
   "cell_type": "markdown",
   "metadata": {},
   "source": [
    "You should see a TypeError. Let's examine why this error occurred by looking at the values in the `EMPLOYEE ANNUAL BASE SALARY` column. \n",
    "\n",
    "**Question 6.1.** Use the `type` function and set `base_salary_type` to the type of the first value in the `EMPLOYEE ANNUAL BASE SALARY` column.\n",
    "\n",
    "<!--\n",
    "BEGIN QUESTION\n",
    "name: q51\n",
    "-->"
   ]
  },
  {
   "cell_type": "code",
   "execution_count": 62,
   "metadata": {},
   "outputs": [
    {
     "data": {
      "text/plain": [
       "str"
      ]
     },
     "execution_count": 62,
     "metadata": {},
     "output_type": "execute_result"
    }
   ],
   "source": [
    "base_salary_type = type(vc_compensation2023.column(\"EMPLOYEE ANNUAL BASE SALARY\").item(0))\n",
    "base_salary_type"
   ]
  },
  {
   "cell_type": "markdown",
   "metadata": {},
   "source": [
    "**Question 6.2.** You should have found that the values in the `EMPLOYEE ANNUAL BASE SALARY` column are strings. It doesn't make sense to take the average of string values, so we need to convert them to numbers if we want to do this. Extract the first value in `EMPLOYEE ANNUAL BASE SALARY` and assign it to `fsu_vc_string`\n",
    "\n",
    "<!--\n",
    "BEGIN QUESTION\n",
    "name: q52\n",
    "-->"
   ]
  },
  {
   "cell_type": "code",
   "execution_count": 63,
   "metadata": {},
   "outputs": [
    {
     "data": {
      "text/plain": [
       "'$108675'"
      ]
     },
     "execution_count": 63,
     "metadata": {},
     "output_type": "execute_result"
    }
   ],
   "source": [
    "fsu_vc_string = vc_compensation2023.column(\"EMPLOYEE ANNUAL BASE SALARY\").item(0)\n",
    "fsu_vc_string"
   ]
  },
  {
   "cell_type": "markdown",
   "metadata": {},
   "source": [
    "**Question 6.3.** Convert `fsu_vc_string` to a number of *dollars* and assign this to `fsu_vc_pay`. \n",
    "\n",
    "Some hints, as this question requires multiple steps:\n",
    "- The string method `strip` will be useful for removing the dollar sign; it removes a specified character from the start or end of a string.  For example, the value of `\"100%\".strip(\"%\")` is the string `\"100\"`.  \n",
    "- You'll also need the function `float`, which converts a string that looks like a number to an actual number.  \n",
    "\n",
    "<!--\n",
    "BEGIN QUESTION\n",
    "name: q53\n",
    "-->"
   ]
  },
  {
   "cell_type": "code",
   "execution_count": 64,
   "metadata": {},
   "outputs": [
    {
     "data": {
      "text/plain": [
       "108675.0"
      ]
     },
     "execution_count": 64,
     "metadata": {},
     "output_type": "execute_result"
    }
   ],
   "source": [
    "fsu_vc_pay = float(fsu_vc_string.strip('$'))\n",
    "fsu_vc_pay"
   ]
  },
  {
   "cell_type": "markdown",
   "metadata": {},
   "source": [
    "To compute the average pay, we need to do this for every Vice Chancellor. But that looks like it would involve copying this code 169 times.\n",
    "\n",
    "This is where functions come in.  First, we'll define a new function, giving a name to the expression that converts \"EMPLOYEE ANNUAL BASE SALARY\" strings to numeric values.  Later in this lab, we'll see the payoff: we can call that function on every salary string in the dataset at once.\n",
    "\n",
    "**Question 6.4.** Copy the expression you used to compute `fsu_vc_pay`, and use it as the return expression of the function below. But make sure you replace the specific `fsu_vc_string` with the generic `base_salary_string` name specified in the first line in the `def` statement.\n",
    "\n",
    "*Hint*: When dealing with functions, you should generally not be referencing any variable outside of the function. Usually, you want to be working with the arguments that are passed into it, such as `base_salary_string` for this function. If you're using `fsu_vc_pay` within your function, you're referencing an outside variable!\n",
    "\n",
    "<!--\n",
    "BEGIN QUESTION\n",
    "name: q54\n",
    "-->"
   ]
  },
  {
   "cell_type": "code",
   "execution_count": 65,
   "metadata": {},
   "outputs": [],
   "source": [
    "def convert_base_salary_string_to_number(base_salary_string):\n",
    "    \"\"\"Converts a base salary string like '$100000' to a number of dollars.\"\"\"\n",
    "    \n",
    "    return float(base_salary_string.strip('$'))"
   ]
  },
  {
   "cell_type": "markdown",
   "metadata": {},
   "source": [
    "Running that cell doesn't convert any particular base salary string. Instead, it creates a function called `convert_base_salary_string_to_number` that can convert *any* string with the right format to a number representing dollars.\n",
    "\n",
    "We can call our function just like we call the built-in functions we've seen. It takes one argument -- a string -- and it returns a float."
   ]
  },
  {
   "cell_type": "code",
   "execution_count": 66,
   "metadata": {},
   "outputs": [
    {
     "data": {
      "text/plain": [
       "42.0"
      ]
     },
     "execution_count": 66,
     "metadata": {},
     "output_type": "execute_result"
    }
   ],
   "source": [
    "convert_base_salary_string_to_number('$42')"
   ]
  },
  {
   "cell_type": "code",
   "execution_count": 67,
   "metadata": {},
   "outputs": [
    {
     "data": {
      "text/plain": [
       "108675.0"
      ]
     },
     "execution_count": 67,
     "metadata": {},
     "output_type": "execute_result"
    }
   ],
   "source": [
    "convert_base_salary_string_to_number(fsu_vc_string)"
   ]
  },
  {
   "cell_type": "code",
   "execution_count": 68,
   "metadata": {},
   "outputs": [
    {
     "data": {
      "text/plain": [
       "358239.0"
      ]
     },
     "execution_count": 68,
     "metadata": {},
     "output_type": "execute_result"
    }
   ],
   "source": [
    "# We can also compute UNC-CH's Chief Information / IT Officer in the same way:\n",
    "convert_base_salary_string_to_number(vc_compensation2023.where(\n",
    "    \"INSTITUTION NAME\", 'UNC-CH').where(\n",
    "    'JOB CATEGORY', 'Chief Information / IT Officer').column(\n",
    "    \"EMPLOYEE ANNUAL BASE SALARY\").item(0))"
   ]
  },
  {
   "cell_type": "markdown",
   "metadata": {},
   "source": [
    "So, what have we gained by defining the `convert_base_salary_string_to_number` function? \n",
    "Well, without it, we'd have to copy the code `float(some_pay_string.strip(\"$\"))` each time we wanted to convert a pay string. Now we just call a function whose name says exactly what it's doing."
   ]
  },
  {
   "cell_type": "markdown",
   "metadata": {},
   "source": [
    "## 7. `apply`ing functions\n",
    "\n",
    "Defining a function is a lot like giving a name to a value with `=`.  In fact, a function is a value just like the number 1 or the text \"data\"!\n",
    "\n",
    "For example, we can make a new name for the built-in function `max` if we want:"
   ]
  },
  {
   "cell_type": "code",
   "execution_count": 69,
   "metadata": {},
   "outputs": [
    {
     "data": {
      "text/plain": [
       "6"
      ]
     },
     "execution_count": 69,
     "metadata": {},
     "output_type": "execute_result"
    }
   ],
   "source": [
    "our_name_for_max = max\n",
    "our_name_for_max(2, 6)"
   ]
  },
  {
   "cell_type": "markdown",
   "metadata": {},
   "source": [
    "The old name for `max` is still around:"
   ]
  },
  {
   "cell_type": "code",
   "execution_count": 70,
   "metadata": {},
   "outputs": [
    {
     "data": {
      "text/plain": [
       "6"
      ]
     },
     "execution_count": 70,
     "metadata": {},
     "output_type": "execute_result"
    }
   ],
   "source": [
    "max(2, 6)"
   ]
  },
  {
   "cell_type": "markdown",
   "metadata": {},
   "source": [
    "Try just writing `max` or `our_name_for_max` (or the name of any other function) in a cell, and run that cell.  Python will print out a (very brief) description of the function."
   ]
  },
  {
   "cell_type": "code",
   "execution_count": 71,
   "metadata": {},
   "outputs": [
    {
     "data": {
      "text/plain": [
       "<function max>"
      ]
     },
     "execution_count": 71,
     "metadata": {},
     "output_type": "execute_result"
    }
   ],
   "source": [
    "max"
   ]
  },
  {
   "cell_type": "markdown",
   "metadata": {},
   "source": [
    "Now try writing `?max` or `?our_name_for_max` (or the name of any other function) in a cell, and run that cell.  An information box should show up at the bottom of your screen a longer description of the function\n",
    "\n",
    "*Note: You can also press Shift+Tab after clicking on a name to see similar information!*"
   ]
  },
  {
   "cell_type": "code",
   "execution_count": 72,
   "metadata": {},
   "outputs": [
    {
     "data": {
      "text/plain": [
       "\u001b[1;31mDocstring:\u001b[0m\n",
       "max(iterable, *[, default=obj, key=func]) -> value\n",
       "max(arg1, arg2, *args, *[, key=func]) -> value\n",
       "\n",
       "With a single iterable argument, return its biggest item. The\n",
       "default keyword-only argument specifies an object to return if\n",
       "the provided iterable is empty.\n",
       "With two or more arguments, return the largest argument.\n",
       "\u001b[1;31mType:\u001b[0m      builtin_function_or_method"
      ]
     },
     "metadata": {},
     "output_type": "display_data"
    }
   ],
   "source": [
    "?our_name_for_max"
   ]
  },
  {
   "cell_type": "markdown",
   "metadata": {},
   "source": [
    "Let's look at what happens when we set `max`to a non-function value. You'll notice that a TypeError will occur when you try calling `max`. Things like integers and strings are not callable. Look out for any functions that might have been renamed when you encounter this type of error"
   ]
  },
  {
   "cell_type": "code",
   "execution_count": 73,
   "metadata": {},
   "outputs": [
    {
     "ename": "TypeError",
     "evalue": "'int' object is not callable",
     "output_type": "error",
     "traceback": [
      "\u001b[1;31m---------------------------------------------------------------------------\u001b[0m",
      "\u001b[1;31mTypeError\u001b[0m                                 Traceback (most recent call last)",
      "Cell \u001b[1;32mIn[73], line 2\u001b[0m\n\u001b[0;32m      1\u001b[0m \u001b[38;5;28mmax\u001b[39m \u001b[38;5;241m=\u001b[39m \u001b[38;5;241m6\u001b[39m\n\u001b[1;32m----> 2\u001b[0m \u001b[38;5;28mmax\u001b[39m(\u001b[38;5;241m2\u001b[39m, \u001b[38;5;241m6\u001b[39m)\n",
      "\u001b[1;31mTypeError\u001b[0m: 'int' object is not callable"
     ]
    }
   ],
   "source": [
    "max = 6\n",
    "max(2, 6)"
   ]
  },
  {
   "cell_type": "code",
   "execution_count": 74,
   "metadata": {},
   "outputs": [],
   "source": [
    "# This cell resets max to the built-in function. Just run this cell, don't change its contents\n",
    "import builtins\n",
    "max = builtins.max"
   ]
  },
  {
   "cell_type": "markdown",
   "metadata": {},
   "source": [
    "Why is this useful?  Since functions are just values, it's possible to pass them as arguments to other functions.  Here's a simple but not-so-practical example: we can make an array of functions."
   ]
  },
  {
   "cell_type": "code",
   "execution_count": 75,
   "metadata": {},
   "outputs": [
    {
     "data": {
      "text/plain": [
       "array([<built-in function max>, <function average at 0x000001C6BE91F4C0>,\n",
       "       <function are.equal_to at 0x000001C6C2DE5C60>], dtype=object)"
      ]
     },
     "execution_count": 75,
     "metadata": {},
     "output_type": "execute_result"
    }
   ],
   "source": [
    "make_array(max, np.average, are.equal_to)"
   ]
  },
  {
   "cell_type": "markdown",
   "metadata": {},
   "source": [
    "**Question 7.1.** Make an array containing any 3 other functions you've seen.  Call it `some_functions`.\n",
    "\n",
    "<!--\n",
    "BEGIN QUESTION\n",
    "name: q71\n",
    "-->"
   ]
  },
  {
   "cell_type": "code",
   "execution_count": 76,
   "metadata": {},
   "outputs": [
    {
     "data": {
      "text/plain": [
       "array([<function mean at 0x000001C6BE801300>, <built-in function min>,\n",
       "       <function diff at 0x000001C6BE91FEC0>], dtype=object)"
      ]
     },
     "execution_count": 76,
     "metadata": {},
     "output_type": "execute_result"
    }
   ],
   "source": [
    "some_functions = make_array( np.mean, min, np.diff)\n",
    "some_functions"
   ]
  },
  {
   "cell_type": "markdown",
   "metadata": {},
   "source": [
    "Working with functions as values can lead to some funny-looking code. For example, see if you can figure out why the following code works."
   ]
  },
  {
   "cell_type": "code",
   "execution_count": 77,
   "metadata": {},
   "outputs": [
    {
     "data": {
      "text/plain": [
       "7"
      ]
     },
     "execution_count": 77,
     "metadata": {},
     "output_type": "execute_result"
    }
   ],
   "source": [
    "make_array(max, np.average, are.equal_to).item(0)(4, -2, 7)"
   ]
  },
  {
   "cell_type": "markdown",
   "metadata": {},
   "source": [
    "A more useful example of passing functions to other functions as arguments is the table method `apply`.\n",
    "\n",
    "`apply` calls a function many times, once on *each* element in a column of a table.  It produces an *array* of the results.  Here we use `apply` to convert every Vice Chancellor's pay to a number, using the function you defined:"
   ]
  },
  {
   "cell_type": "code",
   "execution_count": 78,
   "metadata": {
    "collapsed": true,
    "jupyter": {
     "outputs_hidden": true
    },
    "tags": []
   },
   "outputs": [
    {
     "data": {
      "text/plain": [
       "array([ 108675.  ,  109000.  ,  109270.  ,  109801.  ,  110000.  ,\n",
       "        110000.  ,  110000.  ,  111392.  ,  112737.38,  115270.  ,\n",
       "        115347.  ,  119025.  ,  120000.  ,  120000.  ,  122425.  ,\n",
       "        123062.  ,  124387.  ,  124653.  ,  125000.  ,  125000.  ,\n",
       "        125353.  ,  127305.  ,  129375.  ,  129418.  ,  131549.  ,\n",
       "        131917.  ,  132609.  ,  133394.  ,  133548.  ,  133808.69,\n",
       "        137655.  ,  137810.  ,  137914.  ,  137914.  ,  139000.  ,\n",
       "        139725.  ,  139813.  ,  140000.  ,  141361.  ,  142313.  ,\n",
       "        143218.  ,  148523.  ,  149583.  ,  150768.  ,  151000.  ,\n",
       "        151000.  ,  151705.  ,  153827.  ,  155000.  ,  155000.  ,\n",
       "        157320.  ,  157589.  ,  157832.  ,  158000.  ,  159131.  ,\n",
       "        159131.  ,  159131.  ,  160192.  ,  163628.  ,  163670.  ,\n",
       "        164306.  ,  164436.  ,  164818.  ,  170000.  ,  170884.  ,\n",
       "        173454.  ,  173581.  ,  175000.  ,  175000.  ,  175000.  ,\n",
       "        175044.  ,  175950.  ,  176488.87,  179819.  ,  180000.  ,\n",
       "        180244.  ,  180870.  ,  181125.  ,  181809.  ,  186303.  ,\n",
       "        189646.  ,  190000.  ,  190958.  ,  191475.  ,  194140.  ,\n",
       "        196650.  ,  196650.  ,  199238.  ,  201256.  ,  203000.  ,\n",
       "        203688.  ,  204590.  ,  206748.  ,  206871.  ,  207000.  ,\n",
       "        208144.  ,  208621.  ,  210146.  ,  210797.  ,  211549.  ,\n",
       "        212175.  ,  212175.  ,  212936.  ,  213334.  ,  213494.  ,\n",
       "        213598.  ,  215177.  ,  215765.  ,  216848.  ,  217292.  ,\n",
       "        217479.  ,  220210.  ,  222784.  ,  222784.  ,  226000.  ,\n",
       "        226962.  ,  227700.  ,  227700.  ,  227700.  ,  229766.  ,\n",
       "        233393.  ,  243354.  ,  244720.  ,  245167.  ,  246330.  ,\n",
       "        246330.  ,  250947.  ,  254860.  ,  259262.  ,  261830.  ,\n",
       "        265219.  ,  268203.  ,  269100.  ,  271747.  ,  275569.  ,\n",
       "        280000.  ,  281132.  ,  284119.  ,  284191.  ,  284547.  ,\n",
       "        294332.  ,  294975.  ,  297045.  ,  304456.  ,  323416.  ,\n",
       "        330000.  ,  333788.  ,  334176.  ,  338897.  ,  339221.  ,\n",
       "        339480.  ,  347109.  ,  352144.  ,  354715.  ,  358239.  ,\n",
       "        360000.  ,  361164.  ,  362431.  ,  375005.  ,  381527.  ,\n",
       "        403909.  ,  436770.  ,  487110.  ,  492576.  ,  494537.  ,\n",
       "         87396.  ,   91500.  ,   93000.  ,   93750.  ])"
      ]
     },
     "execution_count": 78,
     "metadata": {},
     "output_type": "execute_result"
    }
   ],
   "source": [
    "vc_compensation2023.apply(convert_base_salary_string_to_number, \"EMPLOYEE ANNUAL BASE SALARY\")"
   ]
  },
  {
   "cell_type": "markdown",
   "metadata": {},
   "source": [
    "Note that we didn’t write `vc_compensation2023.apply(convert_base_salary_string_to_number(), “EMPLOYEE ANNUAL BASE SALARY”)` or `vc_compensation2023.apply(convert_base_salary_string_to_number(“EMPLOYEE ANNUAL BASE SALARY”))`. We just passed the name of the function, with no parentheses, to `apply`, because all we want to do is let `apply` know the name of the function we’d like to use and the name of the column we’d like to use it on. `apply` will then call the function `convert_base_salary_string_to_number` on each value in the column for us!\n",
    "\n",
    "**Question 7.2.** Using `apply`, make a table that's a copy of `vc_compensation2023` with one additional column called `Base Salary ($)`.  That column should contain the result of applying `convert_base_salary_string_to_number` to the `EMPLOYEE ANNUAL BASE SALARY` column (as we did above).  Call the new table `compensation`.\n",
    "\n",
    "<!--\n",
    "BEGIN QUESTION\n",
    "name: q72\n",
    "-->"
   ]
  },
  {
   "cell_type": "code",
   "execution_count": 80,
   "metadata": {},
   "outputs": [
    {
     "data": {
      "text/html": [
       "<table border=\"1\" class=\"dataframe\">\n",
       "    <thead>\n",
       "        <tr>\n",
       "            <th>INSTITUTION NAME</th> <th>LAST NAME</th> <th>FIRST NAME</th> <th>INITIAL HIRE DATE</th> <th>JOB CATEGORY</th> <th>EMPLOYEE ANNUAL BASE SALARY</th> <th>EMPLOYEE HOME DEPARTMENT</th> <th>PRIMARY WORKING TITLE</th> <th>Base Salary ($)</th>\n",
       "        </tr>\n",
       "    </thead>\n",
       "    <tbody>\n",
       "        <tr>\n",
       "            <td>FSU             </td> <td>Robinson </td> <td>Terrance  </td> <td>10-Apr-00        </td> <td>Chief Business Affairs Officer, College/Division            </td> <td>$108675                    </td> <td>Legal, Audit, Risk and Compliance</td> <td>Assistant Vice Chancellor for Legal, Risk, Audit and Com ...</td> <td>108675         </td>\n",
       "        </tr>\n",
       "        <tr>\n",
       "            <td>ECSU            </td> <td>Aponte   </td> <td>Ariel     </td> <td>1-Sep-22         </td> <td>Government Relations Professional, Federal Relations Dir ...</td> <td>$ 109000                   </td> <td>Student Affairs                  </td> <td>Associate Vice Chancellor for Military, State, & Federal ...</td> <td>109000         </td>\n",
       "        </tr>\n",
       "        <tr>\n",
       "            <td>NCCU            </td> <td>Clemm    </td> <td>William   </td> <td>1-Jul-19         </td> <td>Director, Subdivision/Unit/Program AD                       </td> <td>$ 109270                   </td> <td>Office of AVC Student Engagement </td> <td>Assistant Vice Chancellor Student Affairs                   </td> <td>109270         </td>\n",
       "        </tr>\n",
       "        <tr>\n",
       "            <td>ECSU            </td> <td>Wade     </td> <td>Kevin     </td> <td>22-Jun-07        </td> <td>Associate Vice Chancellor, Student Affairs                  </td> <td>$ 109801                   </td> <td>Student Affairs                  </td> <td>Associate Vice Chancellor for Student Affairs               </td> <td>109801         </td>\n",
       "        </tr>\n",
       "        <tr>\n",
       "            <td>NCA&T           </td> <td>Bostick  </td> <td>Keyona    </td> <td>18-Nov-22        </td> <td>Chief Campus HR Information Systems Administrator           </td> <td>$ 110000                   </td> <td>Human Resources                  </td> <td>Assistant Vice Chancellor for HR Operations                 </td> <td>110000         </td>\n",
       "        </tr>\n",
       "        <tr>\n",
       "            <td>NCA&T           </td> <td>Chisholm </td> <td>Allison   </td> <td>29-Jun-15        </td> <td>Deputy Chief HR Officer                                     </td> <td>$ 110000                   </td> <td>Human Resources                  </td> <td>Assistant Vice Chancellor for Talent Management             </td> <td>110000         </td>\n",
       "        </tr>\n",
       "        <tr>\n",
       "            <td>UNCA            </td> <td>Barnwell </td> <td>Vollie    </td> <td>18-Oct-99        </td> <td>Assistant Vice Chancellor, Student Affairs                  </td> <td>$ 110000                   </td> <td>Housing Operations               </td> <td>Assistant Vice Chancellor for Student Affairs               </td> <td>110000         </td>\n",
       "        </tr>\n",
       "        <tr>\n",
       "            <td>UNCSA           </td> <td>Mahoney  </td> <td>Angela    </td> <td>11-May-98        </td> <td>Chief Human Resources Officer                               </td> <td>$ 111392                   </td> <td>Human Resources                  </td> <td>Associate Vice Chancellor of Human Resources                </td> <td>111392         </td>\n",
       "        </tr>\n",
       "        <tr>\n",
       "            <td>WSSU            </td> <td>Gingles  </td> <td>Haley     </td> <td>1-Mar-20         </td> <td>Chief Communications /Public Relations Officer              </td> <td>$ 112737.38                </td> <td>Marketing & Communications       </td> <td>Vice Chancellor of Communication/Chief Marketing            </td> <td>112737         </td>\n",
       "        </tr>\n",
       "        <tr>\n",
       "            <td>ECSU            </td> <td>Lane     </td> <td>Shamica   </td> <td>1-Sep-20         </td> <td>Chief Human Resources Officer                               </td> <td>$ 115270                   </td> <td>Human Resources                  </td> <td>Asst Vice Chancellor/CHRO                                   </td> <td>115270         </td>\n",
       "        </tr>\n",
       "    </tbody>\n",
       "</table>\n",
       "<p>... (159 rows omitted)</p>"
      ],
      "text/plain": [
       "INSTITUTION NAME | LAST NAME | FIRST NAME | INITIAL HIRE DATE | JOB CATEGORY                                                 | EMPLOYEE ANNUAL BASE SALARY | EMPLOYEE HOME DEPARTMENT          | PRIMARY WORKING TITLE                                        | Base Salary ($)\n",
       "FSU              | Robinson  | Terrance   | 10-Apr-00         | Chief Business Affairs Officer, College/Division             | $108675                     | Legal, Audit, Risk and Compliance | Assistant Vice Chancellor for Legal, Risk, Audit and Com ... | 108675\n",
       "ECSU             | Aponte    | Ariel      | 1-Sep-22          | Government Relations Professional, Federal Relations Dir ... | $ 109000                    | Student Affairs                   | Associate Vice Chancellor for Military, State, & Federal ... | 109000\n",
       "NCCU             | Clemm     | William    | 1-Jul-19          | Director, Subdivision/Unit/Program AD                        | $ 109270                    | Office of AVC Student Engagement  | Assistant Vice Chancellor Student Affairs                    | 109270\n",
       "ECSU             | Wade      | Kevin      | 22-Jun-07         | Associate Vice Chancellor, Student Affairs                   | $ 109801                    | Student Affairs                   | Associate Vice Chancellor for Student Affairs                | 109801\n",
       "NCA&T            | Bostick   | Keyona     | 18-Nov-22         | Chief Campus HR Information Systems Administrator            | $ 110000                    | Human Resources                   | Assistant Vice Chancellor for HR Operations                  | 110000\n",
       "NCA&T            | Chisholm  | Allison    | 29-Jun-15         | Deputy Chief HR Officer                                      | $ 110000                    | Human Resources                   | Assistant Vice Chancellor for Talent Management              | 110000\n",
       "UNCA             | Barnwell  | Vollie     | 18-Oct-99         | Assistant Vice Chancellor, Student Affairs                   | $ 110000                    | Housing Operations                | Assistant Vice Chancellor for Student Affairs                | 110000\n",
       "UNCSA            | Mahoney   | Angela     | 11-May-98         | Chief Human Resources Officer                                | $ 111392                    | Human Resources                   | Associate Vice Chancellor of Human Resources                 | 111392\n",
       "WSSU             | Gingles   | Haley      | 1-Mar-20          | Chief Communications /Public Relations Officer               | $ 112737.38                 | Marketing & Communications        | Vice Chancellor of Communication/Chief Marketing             | 112737\n",
       "ECSU             | Lane      | Shamica    | 1-Sep-20          | Chief Human Resources Officer                                | $ 115270                    | Human Resources                   | Asst Vice Chancellor/CHRO                                    | 115270\n",
       "... (159 rows omitted)"
      ]
     },
     "execution_count": 80,
     "metadata": {},
     "output_type": "execute_result"
    }
   ],
   "source": [
    "compensation = vc_compensation2023.with_column(\n",
    "    \"Base Salary ($)\",\n",
    "    vc_compensation2023.apply(convert_base_salary_string_to_number, 'EMPLOYEE ANNUAL BASE SALARY')\n",
    "    )\n",
    "compensation"
   ]
  },
  {
   "cell_type": "markdown",
   "metadata": {},
   "source": [
    "Now that we have all the pays as numbers, we can learn more about them through computation.\n",
    "\n",
    "**Question 7.3.** Compute the average base salary of the Vice Chancellors in the dataset (assume that everyone in the data is a Vice Chancellor).\n",
    "\n",
    "<!--\n",
    "BEGIN QUESTION\n",
    "name: q73\n",
    "-->"
   ]
  },
  {
   "cell_type": "code",
   "execution_count": 82,
   "metadata": {},
   "outputs": [
    {
     "data": {
      "text/plain": [
       "205751.12390532542"
      ]
     },
     "execution_count": 82,
     "metadata": {},
     "output_type": "execute_result"
    }
   ],
   "source": [
    "average_base_salary = np.average(compensation.column(\"Base Salary ($)\"))\n",
    "average_base_salary"
   ]
  },
  {
   "cell_type": "markdown",
   "metadata": {
    "for_assignment_type": "solution"
   },
   "source": [
    "**Why is `apply` useful?**\n",
    "\n",
    "For operations like arithmetic, or the functions in the NumPy library, you don't need to use `apply`, because they automatically work on each element of an array.  But there are many things that don't.  The string manipulation we did in today's lab is one example.  Since you can write any code you want in a function, `apply` gives you total control over how you operate on data."
   ]
  },
  {
   "cell_type": "markdown",
   "metadata": {},
   "source": [
    "## 8. Histograms\n",
    "Earlier, we computed the average pay among the 169 Vice Chancellors in our dataset.  The average doesn't tell us everything about the amounts Vice Chancellors are paid, though.  Maybe just a few Vice Chancellors make the bulk of the money.\n",
    "\n",
    "We can use a *histogram* method to display the *distribution* of a set of numbers.  The table method `hist` takes a single argument, the name of a column of numbers.  It produces a histogram of the numbers in that column.\n",
    "\n",
    "**Question 8.1.** Make a histogram of the base salary of the Vice Chancellors in `compensation`. Check with your neighbor or a staff member to make sure you have the right plot. Construct the bins of your histogram to begin at \\\\$75,000, have bin widths of \\\\$25,000, and include all salaries.\n",
    "\n",
    "*Note:* When you answer this question, you may encounter a red box appearing below your code cell that says something like `FixedFormatter should only be used together with FixedLocator`. Don't worry too much about the message. Warnings are raised by Python when it encounters an unusual condition in your code, but the condition is not severe enough to warrant throwing an error. "
   ]
  },
  {
   "cell_type": "code",
   "execution_count": 87,
   "metadata": {},
   "outputs": [
    {
     "data": {
      "image/png": "[encoded data removed]",
      "text/plain": [
       "<Figure size 600x400 with 1 Axes>"
      ]
     },
     "metadata": {},
     "output_type": "display_data"
    }
   ],
   "source": [
    "compensation.hist(\"Base Salary ($)\", bins = np.arange(75000, 500000, 25000))"
   ]
  },
  {
   "cell_type": "markdown",
   "metadata": {},
   "source": [
    "**Question 8.2.** How many Vice Chancellors made $250,000 or more in base salary? First find the value using code\n",
    "\n",
    "*Hint:* Use the table method `where` and the property `num_rows`.\n",
    "\n",
    "<!--\n",
    "BEGIN QUESTION\n",
    "name: q72\n",
    "-->"
   ]
  },
  {
   "cell_type": "code",
   "execution_count": 92,
   "metadata": {},
   "outputs": [
    {
     "data": {
      "text/plain": [
       "169"
      ]
     },
     "execution_count": 92,
     "metadata": {},
     "output_type": "execute_result"
    }
   ],
   "source": [
    "num_vcs_250k_or_more = compensation.where(\"Base Salary ($)\", are.above_or_equal_to(25000)).num_rows\n",
    "num_vcs_250k_or_more"
   ]
  },
  {
   "cell_type": "markdown",
   "metadata": {},
   "source": [
    "**Question 8.3.** How could you use the histogram to determine (maybe not so accurately) how many Vice Chancellors $250,000 or more in base salary?\n",
    "\n",
    "<!--\n",
    "BEGIN QUESTION\n",
    "name: q73\n",
    "-->"
   ]
  },
  {
   "cell_type": "markdown",
   "metadata": {},
   "source": [
    "*You could determine the percent of Vice Chancellors making that much by adding up the heights of the bins from $250,000 on. Then you'd have to apply that percent to the total number of VCs.*"
   ]
  },
  {
   "cell_type": "markdown",
   "metadata": {},
   "source": [
    "# You're done with Lab 3! \n",
    "Save the Jupyter Notebook and submit it to Gradescope."
   ]
  }
 ],
 "metadata": {
  "kernelspec": {
   "display_name": "Python 3",
   "language": "python",
   "name": "python3"
  },
  "language_info": {
   "codemirror_mode": {
    "name": "ipython",
    "version": 3
   },
   "file_extension": ".py",
   "mimetype": "text/x-python",
   "name": "python",
   "nbconvert_exporter": "python",
   "pygments_lexer": "ipython3",
   "version": "3.11.4"
  }
 },
 "nbformat": 4,
 "nbformat_minor": 4
}
