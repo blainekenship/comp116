{
 "cells": [
  {
   "cell_type": "markdown",
   "metadata": {},
   "source": [
    "# Lab 0: Getting Started\n",
    "\n",
    "Welcome to STOR 120: *Foundations of Statistics and Data Science*!  Most weeks you will complete a lab assignment. You can't learn technical subjects without hands-on practice, so labs are an important part of the course.\n",
    "\n",
    "Collaborating on labs is more than okay -- it's encouraged! You should rarely remain stuck for more than a few minutes on questions in labs, so ask a classmate or an instructor for help. (Explaining things is beneficial, too -- the best way to solidify your knowledge of a subject is to explain it.) Please don't just share answers, though.\n",
    "\n",
    "#### Today's lab\n",
    "\n",
    "In this lab you will:\n",
    "\n",
    "1. Install the JupyterLab software needed for the course;\n",
    "2. open your first Jupyter notebook (like this one);\n",
    "3. run one *cell* to install a needed package (which may already be installed);\n",
    "4. change one *cell* of the notebook;\n",
    "5. save your notebook; and\n",
    "6. submit your notebook to Gradescope."
   ]
  },
  {
   "cell_type": "markdown",
   "metadata": {},
   "source": [
    "**Question 1.** Run the *cell* below to install the needed package"
   ]
  },
  {
   "cell_type": "code",
   "execution_count": 4,
   "metadata": {
    "tags": []
   },
   "outputs": [
    {
     "name": "stdout",
     "output_type": "stream",
     "text": [
      "Requirement already satisfied: datascience in c:\\users\\blaine\\anaconda3\\lib\\site-packages (0.17.6)\n",
      "Requirement already satisfied: folium>=0.9.1 in c:\\users\\blaine\\anaconda3\\lib\\site-packages (from datascience) (0.14.0)\n",
      "Requirement already satisfied: setuptools in c:\\users\\blaine\\anaconda3\\lib\\site-packages (from datascience) (68.0.0)\n",
      "Requirement already satisfied: matplotlib>=3.0.0 in c:\\users\\blaine\\anaconda3\\lib\\site-packages (from datascience) (3.7.1)\n",
      "Requirement already satisfied: pandas in c:\\users\\blaine\\anaconda3\\lib\\site-packages (from datascience) (1.5.3)\n",
      "Requirement already satisfied: scipy in c:\\users\\blaine\\anaconda3\\lib\\site-packages (from datascience) (1.10.1)\n",
      "Requirement already satisfied: numpy in c:\\users\\blaine\\anaconda3\\lib\\site-packages (from datascience) (1.24.3)\n",
      "Requirement already satisfied: ipython in c:\\users\\blaine\\anaconda3\\lib\\site-packages (from datascience) (8.12.0)\n",
      "Requirement already satisfied: plotly in c:\\users\\blaine\\anaconda3\\lib\\site-packages (from datascience) (5.9.0)\n",
      "Requirement already satisfied: branca in c:\\users\\blaine\\anaconda3\\lib\\site-packages (from datascience) (0.6.0)\n",
      "Requirement already satisfied: jinja2>=2.9 in c:\\users\\blaine\\anaconda3\\lib\\site-packages (from folium>=0.9.1->datascience) (3.1.2)\n",
      "Requirement already satisfied: requests in c:\\users\\blaine\\anaconda3\\lib\\site-packages (from folium>=0.9.1->datascience) (2.31.0)\n",
      "Requirement already satisfied: contourpy>=1.0.1 in c:\\users\\blaine\\anaconda3\\lib\\site-packages (from matplotlib>=3.0.0->datascience) (1.0.5)\n",
      "Requirement already satisfied: cycler>=0.10 in c:\\users\\blaine\\anaconda3\\lib\\site-packages (from matplotlib>=3.0.0->datascience) (0.11.0)\n",
      "Requirement already satisfied: fonttools>=4.22.0 in c:\\users\\blaine\\anaconda3\\lib\\site-packages (from matplotlib>=3.0.0->datascience) (4.25.0)\n",
      "Requirement already satisfied: kiwisolver>=1.0.1 in c:\\users\\blaine\\anaconda3\\lib\\site-packages (from matplotlib>=3.0.0->datascience) (1.4.4)\n",
      "Requirement already satisfied: packaging>=20.0 in c:\\users\\blaine\\anaconda3\\lib\\site-packages (from matplotlib>=3.0.0->datascience) (23.0)\n",
      "Requirement already satisfied: pillow>=6.2.0 in c:\\users\\blaine\\anaconda3\\lib\\site-packages (from matplotlib>=3.0.0->datascience) (9.4.0)\n",
      "Requirement already satisfied: pyparsing>=2.3.1 in c:\\users\\blaine\\anaconda3\\lib\\site-packages (from matplotlib>=3.0.0->datascience) (3.0.9)\n",
      "Requirement already satisfied: python-dateutil>=2.7 in c:\\users\\blaine\\anaconda3\\lib\\site-packages (from matplotlib>=3.0.0->datascience) (2.8.2)\n",
      "Requirement already satisfied: backcall in c:\\users\\blaine\\anaconda3\\lib\\site-packages (from ipython->datascience) (0.2.0)\n",
      "Requirement already satisfied: decorator in c:\\users\\blaine\\anaconda3\\lib\\site-packages (from ipython->datascience) (5.1.1)\n",
      "Requirement already satisfied: jedi>=0.16 in c:\\users\\blaine\\anaconda3\\lib\\site-packages (from ipython->datascience) (0.18.1)\n",
      "Requirement already satisfied: matplotlib-inline in c:\\users\\blaine\\anaconda3\\lib\\site-packages (from ipython->datascience) (0.1.6)\n",
      "Requirement already satisfied: pickleshare in c:\\users\\blaine\\anaconda3\\lib\\site-packages (from ipython->datascience) (0.7.5)\n",
      "Requirement already satisfied: prompt-toolkit!=3.0.37,<3.1.0,>=3.0.30 in c:\\users\\blaine\\anaconda3\\lib\\site-packages (from ipython->datascience) (3.0.36)\n",
      "Requirement already satisfied: pygments>=2.4.0 in c:\\users\\blaine\\anaconda3\\lib\\site-packages (from ipython->datascience) (2.15.1)\n",
      "Requirement already satisfied: stack-data in c:\\users\\blaine\\anaconda3\\lib\\site-packages (from ipython->datascience) (0.2.0)\n",
      "Requirement already satisfied: traitlets>=5 in c:\\users\\blaine\\anaconda3\\lib\\site-packages (from ipython->datascience) (5.7.1)\n",
      "Requirement already satisfied: colorama in c:\\users\\blaine\\anaconda3\\lib\\site-packages (from ipython->datascience) (0.4.6)\n",
      "Requirement already satisfied: pytz>=2020.1 in c:\\users\\blaine\\anaconda3\\lib\\site-packages (from pandas->datascience) (2022.7)\n",
      "Requirement already satisfied: tenacity>=6.2.0 in c:\\users\\blaine\\anaconda3\\lib\\site-packages (from plotly->datascience) (8.2.2)\n",
      "Requirement already satisfied: parso<0.9.0,>=0.8.0 in c:\\users\\blaine\\anaconda3\\lib\\site-packages (from jedi>=0.16->ipython->datascience) (0.8.3)\n",
      "Requirement already satisfied: MarkupSafe>=2.0 in c:\\users\\blaine\\anaconda3\\lib\\site-packages (from jinja2>=2.9->folium>=0.9.1->datascience) (2.1.1)\n",
      "Requirement already satisfied: wcwidth in c:\\users\\blaine\\anaconda3\\lib\\site-packages (from prompt-toolkit!=3.0.37,<3.1.0,>=3.0.30->ipython->datascience) (0.2.5)\n",
      "Requirement already satisfied: six>=1.5 in c:\\users\\blaine\\anaconda3\\lib\\site-packages (from python-dateutil>=2.7->matplotlib>=3.0.0->datascience) (1.16.0)\n",
      "Requirement already satisfied: charset-normalizer<4,>=2 in c:\\users\\blaine\\anaconda3\\lib\\site-packages (from requests->folium>=0.9.1->datascience) (2.0.4)\n",
      "Requirement already satisfied: idna<4,>=2.5 in c:\\users\\blaine\\anaconda3\\lib\\site-packages (from requests->folium>=0.9.1->datascience) (3.4)\n",
      "Requirement already satisfied: urllib3<3,>=1.21.1 in c:\\users\\blaine\\anaconda3\\lib\\site-packages (from requests->folium>=0.9.1->datascience) (1.26.16)\n",
      "Requirement already satisfied: certifi>=2017.4.17 in c:\\users\\blaine\\anaconda3\\lib\\site-packages (from requests->folium>=0.9.1->datascience) (2023.7.22)\n",
      "Requirement already satisfied: executing in c:\\users\\blaine\\anaconda3\\lib\\site-packages (from stack-data->ipython->datascience) (0.8.3)\n",
      "Requirement already satisfied: asttokens in c:\\users\\blaine\\anaconda3\\lib\\site-packages (from stack-data->ipython->datascience) (2.0.5)\n",
      "Requirement already satisfied: pure-eval in c:\\users\\blaine\\anaconda3\\lib\\site-packages (from stack-data->ipython->datascience) (0.2.2)\n",
      "Note: you may need to restart the kernel to use updated packages.\n"
     ]
    }
   ],
   "source": [
    "pip install datascience"
   ]
  },
  {
   "cell_type": "markdown",
   "metadata": {},
   "source": [
    "**Question 2.** In the *cell* below type your preferred name and pronouns."
   ]
  },
  {
   "cell_type": "markdown",
   "metadata": {},
   "source": [
    "Blaine Jenkins (she/her)"
   ]
  },
  {
   "cell_type": "markdown",
   "metadata": {},
   "source": [
    "You're done with Lab 0! \n",
    "\n",
    "**Make sure to save your Notebook** and submit the .ipynb file to Gradescope. If you have trouble installing the software and completing the lab, you can ask your lab instructor for help during the first lab session."
   ]
  },
  {
   "cell_type": "code",
   "execution_count": null,
   "metadata": {},
   "outputs": [],
   "source": []
  }
 ],
 "metadata": {
  "kernelspec": {
   "display_name": "Python 3",
   "language": "python",
   "name": "python3"
  },
  "language_info": {
   "codemirror_mode": {
    "name": "ipython",
    "version": 3
   },
   "file_extension": ".py",
   "mimetype": "text/x-python",
   "name": "python",
   "nbconvert_exporter": "python",
   "pygments_lexer": "ipython3",
   "version": "3.11.4"
  }
 },
 "nbformat": 4,
 "nbformat_minor": 4
}
